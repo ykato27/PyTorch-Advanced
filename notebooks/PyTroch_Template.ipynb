{
 "cells": [
  {
   "cell_type": "markdown",
   "id": "1087fe8a",
   "metadata": {},
   "source": [
    "## PyTroch Template\n",
    "PyTorchのテンプレートnotebook"
   ]
  },
  {
   "cell_type": "markdown",
   "id": "f9dfd8a3",
   "metadata": {},
   "source": [
    "### 1. ライブラリインポートと初期設定"
   ]
  },
  {
   "cell_type": "code",
   "execution_count": null,
   "id": "96663e52",
   "metadata": {},
   "outputs": [],
   "source": [
    "import torch\n",
    "import torch.nn as nn\n",
    "import torch.optim as optim\n",
    "import torch.nn.functional as F\n",
    "\n",
    "import random\n",
    "import numpy as np\n",
    "import matplotlib.pyplot as plt\n",
    "\n",
    "# from tqdm import tqdm  #コマンドラインで実行するとき\n",
    "from tqdm.notebook import tqdm  # jupyter で実行するとき\n",
    "\n",
    "# リソースの指定（CPU/GPU）\n",
    "device = torch.device(\"cuda:0\" if torch.cuda.is_available() else \"cpu\")\n",
    "\n",
    "# 乱数シード固定（再現性の担保）\n",
    "def fix_seed(seed):\n",
    "    # random\n",
    "    random.seed(seed)\n",
    "    # numpy\n",
    "    np.random.seed(seed)\n",
    "    # pytorch\n",
    "    torch.manual_seed(seed)\n",
    "    torch.cuda.manual_seed_all(seed)\n",
    "    torch.backends.cudnn.deterministic = True\n",
    "    torch.backends.cudnn.benchmark = False\n",
    "\n",
    "\n",
    "seed = 10\n",
    "fix_seed(seed)\n",
    "\n",
    "# データローダーのサブプロセスの乱数seedが固定\n",
    "def worker_init_fn(worker_id):\n",
    "    np.random.seed(np.random.get_state()[1][0] + worker_id)"
   ]
  },
  {
   "cell_type": "markdown",
   "id": "6334305a",
   "metadata": {},
   "source": [
    "### 2. データ準備（データローダー）"
   ]
  },
  {
   "cell_type": "code",
   "execution_count": null,
   "id": "e7d89d64",
   "metadata": {},
   "outputs": [],
   "source": [
    "# データセットの作成\n",
    "class Mydataset(torch.utils.data.Dataset):\n",
    "    def __init__(self, X, y):\n",
    "        self.X = X\n",
    "        self.y = y\n",
    "\n",
    "    def __len__(self):\n",
    "        return len(self.X)\n",
    "\n",
    "    def __getitem__(self, index):\n",
    "        feature = self.X[index]\n",
    "        label = self.y[index]\n",
    "        # 前処理などを書く -----\n",
    "\n",
    "        # --------------------\n",
    "        return feature, label\n",
    "\n",
    "train_dataset = Mydataset(train_X, train_y)\n",
    "test_dataset = Mydataset(test_X, test_y)\n",
    "\n",
    "\n",
    "# データローダーの作成\n",
    "train_loader = torch.utils.data.DataLoader(train_dataset,\n",
    "                                           batch_size=16,  # バッチサイズ\n",
    "                                           shuffle=True,  # データシャッフル\n",
    "                                           num_workers=2,  # 高速化\n",
    "                                           pin_memory=True,  # 高速化\n",
    "                                           worker_init_fn=worker_init_fn\n",
    "                                           )\n",
    "test_loader = torch.utils.data.DataLoader(test_dataset,\n",
    "                                          batch_size=16,\n",
    "                                          shuffle=False,\n",
    "                                          num_workers=2,\n",
    "                                          pin_memory=True,\n",
    "                                          worker_init_fn=worker_init_fn\n",
    "                                          )"
   ]
  },
  {
   "cell_type": "markdown",
   "id": "53a4733a",
   "metadata": {},
   "source": [
    "### 3. モデルの設計・学習準備"
   ]
  },
  {
   "cell_type": "code",
   "execution_count": null,
   "id": "ddc1d43c",
   "metadata": {},
   "outputs": [],
   "source": [
    "# モデルの定義\n",
    "class Mymodel(nn.Module):\n",
    "    def __init__(self):\n",
    "        super().__init__()\n",
    "        self.conv1 = nn.Sequential(\n",
    "            nn.Conv2d(3, 16, 3, 2, 1), nn.BatchNorm2d(16), nn.ReLU()\n",
    "        )\n",
    "        self.conv2 = nn.Sequential(\n",
    "            nn.Conv2d(16, 64, 3, 2, 1), nn.BatchNorm2d(64), nn.ReLU()\n",
    "        )\n",
    "\n",
    "        self.fc1 = nn.Linear(2 * 2 * 64, 100)\n",
    "        self.dropout = nn.Dropout(0.5)\n",
    "        self.fc2 = torch.nn.Linear(100, 2)\n",
    "\n",
    "    def forward(self, x):\n",
    "        x = self.conv1(x)\n",
    "        x = self.conv2(x)\n",
    "        x = x.view(x.size(0), -1)\n",
    "        x = self.fc1(x)\n",
    "        x = self.dropout(x)\n",
    "        x = self.fc2(x)\n",
    "        return x\n",
    "\n",
    "\n",
    "# モデル・損失関数・最適化アルゴリスムの設定\n",
    "model = Mymodel().to(device)\n",
    "criterion = nn.CrossEntropyLoss()\n",
    "optimizer = optim.SGD(model.parameters(), lr=0.01)\n",
    "\n",
    "\n",
    "# モデル訓練関数\n",
    "def train_model(model, train_loader, test_loader):\n",
    "    # Train loop ----------------------------\n",
    "    model.train()  # 学習モードをオン\n",
    "    train_batch_loss = 0\n",
    "    for data, label in train_loader:\n",
    "        # GPUへの転送\n",
    "        data, label = data.to(device), label.to(device)\n",
    "        # 1. 勾配リセット\n",
    "        optimizer.zero_grad()\n",
    "        # 2. 推論\n",
    "        output = model(data)\n",
    "        # 3. 誤差計算\n",
    "        loss = criterion(output, label)\n",
    "        # 4. 誤差逆伝播\n",
    "        loss.backward()\n",
    "        # 5. パラメータ更新\n",
    "        optimizer.step()\n",
    "        # train_lossの取得\n",
    "        train_batch_loss.append(loss.item())\n",
    "\n",
    "    # Test(val) loop ----------------------------\n",
    "    model.eval()  # 学習モードをオフ\n",
    "    test_batch_loss = 0\n",
    "    with torch.no_grad():  # 勾配を計算なし\n",
    "        for data, label in test_loader:\n",
    "            data, label = data.to(device), label.to(device)\n",
    "            output = model(data)\n",
    "            loss = criterion(output, label).item()\n",
    "            test_batch_loss.append(loss.item())\n",
    "\n",
    "    return model, np.mean(train_batch_loss), np.mean(test_batch_loss)"
   ]
  },
  {
   "cell_type": "markdown",
   "id": "d78f505e",
   "metadata": {},
   "source": [
    "### 4. モデル訓練の実行"
   ]
  },
  {
   "cell_type": "code",
   "execution_count": null,
   "id": "69beb394",
   "metadata": {},
   "outputs": [],
   "source": [
    "# 訓練の実行\n",
    "epoch = 100\n",
    "train_loss = []\n",
    "test_loss = []\n",
    "\n",
    "for epoch in tqdm(range(epoch)):\n",
    "    model, train_l, test_l = train_model(model)\n",
    "    train_loss.append(train_l)\n",
    "    test_loss.append(test_loss)\n",
    "    # 10エポックごとにロスを表示\n",
    "    if epoch % 10 == 0:\n",
    "        print(\"Train loss: {a:.3f}, Test loss: {b:.3f}\".format(a=train_loss[-1], b = test_loss[-1]))\n",
    "\n",
    "# 学習状況（ロス）の確認\n",
    "plt.plot(train_loss, label='train_loss')\n",
    "plt.plot(test_loss, label='test_loss')\n",
    "plt.legend()"
   ]
  },
  {
   "cell_type": "markdown",
   "id": "6a83fd28",
   "metadata": {},
   "source": [
    "### 5. モデルの評価"
   ]
  },
  {
   "cell_type": "code",
   "execution_count": null,
   "id": "e592bef2",
   "metadata": {},
   "outputs": [],
   "source": [
    "# 学習済みモデルから予測結果と正解値を取得\n",
    "def retrieve_result(model, dataloader):\n",
    "    model.eval()\n",
    "    preds = []\n",
    "    labels = []\n",
    "    # Retreive prediction and labels\n",
    "    with torch.no_grad():\n",
    "        for data, label in dataloader:\n",
    "            data, label = data.to(device), label.to(device)\n",
    "            output = model(data)\n",
    "            # Collect data\n",
    "            preds.append(output)\n",
    "            labels.append(label)\n",
    "    # Flatten\n",
    "    preds = torch.cat(preds, axis=0)\n",
    "    labels = torch.cat(labels, axis=0)\n",
    "    # Returns as numpy (CPU環境の場合は不要)\n",
    "    preds = preds.cpu().detach().numpy()\n",
    "    labels = labels.cpu().detach().numpy()\n",
    "    return preds, labels\n",
    "\n",
    "\n",
    "# 予測結果と正解値を取得\n",
    "preds, labels = retrieve_result(model, test_loader)"
   ]
  },
  {
   "cell_type": "markdown",
   "id": "850609bb",
   "metadata": {},
   "source": [
    "### 6. その他"
   ]
  },
  {
   "cell_type": "code",
   "execution_count": null,
   "id": "f2abeffd",
   "metadata": {},
   "outputs": [],
   "source": [
    "# 学習済みモデルの保存・ロード\n",
    "path_saved_model = \"./saved_model\"\n",
    "# モデルの保存\n",
    "torch.save(model.state_dict(), path_saved_model)\n",
    "# モデルのロード\n",
    "model = Mymodel()\n",
    "model.load_state_dict(torch.load(path_saved_model))\n",
    "\n",
    "\n",
    "# Model summary\n",
    "from torchsummary import summary\n",
    "model = model().to(device)\n",
    "summary(model, input_size=(1, 50, 50))"
   ]
  },
  {
   "cell_type": "code",
   "execution_count": null,
   "id": "e4356b10",
   "metadata": {},
   "outputs": [],
   "source": []
  }
 ],
 "metadata": {
  "kernelspec": {
   "display_name": "Python 3 (ipykernel)",
   "language": "python",
   "name": "python3"
  },
  "language_info": {
   "codemirror_mode": {
    "name": "ipython",
    "version": 3
   },
   "file_extension": ".py",
   "mimetype": "text/x-python",
   "name": "python",
   "nbconvert_exporter": "python",
   "pygments_lexer": "ipython3",
   "version": "3.9.6"
  }
 },
 "nbformat": 4,
 "nbformat_minor": 5
}
