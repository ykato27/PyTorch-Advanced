{
  "nbformat": 4,
  "nbformat_minor": 0,
  "metadata": {
    "kernelspec": {
      "display_name": "Python 3",
      "language": "python",
      "name": "python3"
    },
    "language_info": {
      "codemirror_mode": {
        "name": "ipython",
        "version": 3
      },
      "file_extension": ".py",
      "mimetype": "text/x-python",
      "name": "python",
      "nbconvert_exporter": "python",
      "pygments_lexer": "ipython3",
      "version": "3.7.1"
    },
    "colab": {
      "name": "8_1_profiler_jp.ipynb",
      "provenance": [],
      "collapsed_sections": [],
      "toc_visible": true
    },
    "accelerator": "GPU"
  },
  "cells": [
    {
      "cell_type": "markdown",
      "metadata": {
        "id": "0exIz08xKZkF"
      },
      "source": [
        "# 「PyTorchモジュールのプロファイリング方法」\n",
        "\n",
        "【原題】Profiling your PyTorch Module\n",
        "\n",
        "【原著】[Suraj Subramanian](https://github.com/suraj813)\n",
        "\n",
        "【元URL】https://pytorch.org/tutorials/beginner/profiler.html\n",
        "\n",
        "【翻訳】電通国際情報サービスISID HCM事業部　櫻井 亮佑\n",
        "\n",
        "【日付】2020年1月28日\n",
        "\n",
        "【チュトーリアル概要】\n",
        "\n",
        "PyTorchには、PyTorchの様々な処理を行うコードの、実行に掛かる時間、および、メモリのコストを特定するために役に立つ、プロファイラーAPIが存在します。\n",
        "\n",
        "プロファイラーは簡単にコードに組み込むことができ、結果を表形式で出力したり、JSON形式のトレースファイルとして返すことが可能です。"
      ]
    },
    {
      "cell_type": "markdown",
      "metadata": {
        "id": "CBvJbHdTKZkP"
      },
      "source": [
        "  \n",
        "\n",
        "\n",
        "**注釈**<br>\n",
        "プロファイラーはマルチスレッドのモデルをサポートしています。\n",
        "プロファイラーは処理と同じスレッド内で実行されますが、別のスレッドで実行される可能性のある子の処理もプロファイルします。\n",
        "ただし、同時に実行されるプロファイラーは、結果が混在することを防ぐために自身のスレッド内に収まるようになっています。\n",
        "\n",
        "\n",
        "**注釈**<br>\n",
        "PyTorch 1.8では新たなAPIを導入し、今後のリリースで旧式のプロファイラーAPIを置き換えていきます。\n",
        "新しいAPIについては、[こちらのページ](https://pytorch.org/docs/master/profiler.html)をご参照ください。\n",
        "\n",
        "プロファイラーAPIの使用方法について手短に確認したい場合は、[こちらのレシピ](https://pytorch.org/tutorials/recipes/recipes/profiler.html)をご参照ください。\n",
        "\n",
        "--------------\n",
        "\n"
      ]
    },
    {
      "cell_type": "code",
      "metadata": {
        "id": "A6Jpea1-KZkP"
      },
      "source": [
        "import torch\n",
        "import numpy as np\n",
        "from torch import nn\n",
        "import torch.autograd.profiler as profiler"
      ],
      "execution_count": null,
      "outputs": []
    },
    {
      "cell_type": "code",
      "metadata": {
        "id": "_4uyIFVgKZkN"
      },
      "source": [
        "%matplotlib inline"
      ],
      "execution_count": null,
      "outputs": []
    },
    {
      "cell_type": "markdown",
      "metadata": {
        "id": "TaPFlKXcKZkQ"
      },
      "source": [
        "## プロファイラーを用いたパフォーマンスのデバッグ\n",
        "\n",
        "プロファイラーは、モデル内のパファーマンスのボトルネックを特定する上で役立ちます。\n",
        "本チュートリアルでは例として、以下の2つのサブタスクをこなすオリジナルのモジュールを構築します。\n",
        "\n",
        "- 入力の線形変換\n",
        "- 線形変換の結果を用いたマスクテンソルのインデックスの取得\n",
        "\n",
        "`profiler.record_function(\"label\")`を使用し、各サブタスクを行うコードを分離して、ラベル付けされたコンテクストマネージャー内にラップします。\n",
        "\n",
        "プロファイラーの出力では、サブタスク内のすべての処理の総合的なパフォーマンス指標が、対応するラベルの下に表示されます。\n",
        "\n",
        "なお、プロファイラーを使用することにより、オーバーヘッドが多少生じます。そのため、プロファイラーはコードを調査する目的のみに使用することが最善です。\n",
        "\n",
        "実行時間のベンチマークを測定する際は、プロファイラーの部分を取り除くことを忘れないでおきましょう。"
      ]
    },
    {
      "cell_type": "code",
      "metadata": {
        "id": "8rmDBN7hKZkQ"
      },
      "source": [
        "class MyModule(nn.Module):\n",
        "    def __init__(self, in_features: int, out_features: int, bias: bool = True):\n",
        "        super(MyModule, self).__init__()\n",
        "        self.linear = nn.Linear(in_features, out_features, bias)\n",
        "\n",
        "    def forward(self, input, mask):\n",
        "        with profiler.record_function(\"LINEAR PASS\"):\n",
        "            out = self.linear(input)\n",
        "\n",
        "        with profiler.record_function(\"MASK INDICES\"):\n",
        "            threshold = out.sum(axis=1).mean().item()\n",
        "            hi_idx = np.argwhere(mask.cpu().numpy() > threshold)\n",
        "            hi_idx = torch.from_numpy(hi_idx).cuda()\n",
        "\n",
        "        return out, hi_idx"
      ],
      "execution_count": null,
      "outputs": []
    },
    {
      "cell_type": "markdown",
      "metadata": {
        "id": "3mftIWI2KZkR"
      },
      "source": [
        "## フォワードパスのプロファイル\n",
        "\n",
        "ランダム入力とマスクテンソル、そしてモデルを初期化します。\n",
        "\n",
        "プロファイラーを実行する前に、正確なパフォーマンスのベンチマークを測定するためにCUDAの準備をします。\n",
        "\n",
        "`profiler.profile`コンテクストマネージャー内でモジュールのフォワードパスをラップします。\n",
        "\n",
        "`with_stack=True`パラメーターは、ファイルとトレース内の処理の行数を追加で記録します。\n",
        "\n",
        "**注意**<br>\n",
        "`with_stack=True`はオーバーヘッドを生じるため、コードを調査する目的にのみ使用します。\n",
        "。\n",
        "パフォーマンスのベンチマーク測定をする際は、`with_stack=False`にすることを忘れないようにしましょう。"
      ]
    },
    {
      "cell_type": "code",
      "metadata": {
        "id": "OtsUlPG3KZkR"
      },
      "source": [
        "model = MyModule(500, 10).cuda()\n",
        "input = torch.rand(128, 500).cuda()\n",
        "mask = torch.rand((500, 500, 500), dtype=torch.double).cuda()\n",
        "\n",
        "# warm-up\n",
        "model(input, mask)\n",
        "\n",
        "with profiler.profile(with_stack=True, profile_memory=True) as prof:\n",
        "    out, idx = model(input, mask)"
      ],
      "execution_count": null,
      "outputs": []
    },
    {
      "cell_type": "markdown",
      "metadata": {
        "id": "uXQhcQvvKZkT"
      },
      "source": [
        "## プロファイル結果の出力\n",
        "\n",
        "最後にプロファイル結果を出力します。\n",
        "\n",
        "`profiler.key_averages`で処理名、任意で入力の形状、またはスタックトレースのイベント毎で結果を集約します。\n",
        "\n",
        "入力の形状でグループ化を行うことは、どのテンソルの形状がモデルに利用されているか特定する上で役に立ちます。\n",
        "\n",
        "ここで、処理と（直近5つのイベントのみに切り取られた）処理のトレースバック毎に実行時間を集約する`group_by_stack_n=5` を使用し、それらが登録された順番でイベントを表示します。\n",
        "\n",
        "なお表は、`sort_by`引数を与えることでソートできます。有効なソートキーについては、[ドキュメント](https://pytorch.org/docs/stable/autograd.html#profiler)をご参照ください。\n",
        "\n",
        "**注釈**<br>\n",
        "ノートブック内でプロファイラーを実行していると、スタックトレース内のファイル名ではなく、`<ipython-input-18-193a910735e8>(13): forward`のようなエントリを目にするかもしれません。\n",
        "これらは、`<notebook-cell>(line number): calling-function`に対応しています。"
      ]
    },
    {
      "cell_type": "code",
      "metadata": {
        "colab": {
          "base_uri": "https://localhost:8080/",
          "height": 778
        },
        "id": "QQFrZn37KZkT",
        "outputId": "f5fa78cd-633a-4589-af21-8a8c0e7a4bd7"
      },
      "source": [
        "print(prof.key_averages(group_by_stack_n=5).table(sort_by='self_cpu_time_total', row_limit=5))\n",
        "\n",
        "\"\"\"\n",
        "(Some columns are omitted)\n",
        "\n",
        "-------------  ------------  ------------  ------------  ---------------------------------\n",
        "         Name    Self CPU %      Self CPU  Self CPU Mem   Source Location\n",
        "-------------  ------------  ------------  ------------  ---------------------------------\n",
        " MASK INDICES        87.88%        5.212s    -953.67 Mb  /mnt/xarfuse/.../torch/au\n",
        "                                                         <ipython-input-...>(10): forward\n",
        "                                                         /mnt/xarfuse/.../torch/nn\n",
        "                                                         <ipython-input-...>(9): <module>\n",
        "                                                         /mnt/xarfuse/.../IPython/\n",
        "\n",
        "  aten::copy_        12.07%     715.848ms           0 b  <ipython-input-...>(12): forward\n",
        "                                                         /mnt/xarfuse/.../torch/nn\n",
        "                                                         <ipython-input-...>(9): <module>\n",
        "                                                         /mnt/xarfuse/.../IPython/\n",
        "                                                         /mnt/xarfuse/.../IPython/\n",
        "\n",
        "  LINEAR PASS         0.01%     350.151us         -20 b  /mnt/xarfuse/.../torch/au\n",
        "                                                         <ipython-input-...>(7): forward\n",
        "                                                         /mnt/xarfuse/.../torch/nn\n",
        "                                                         <ipython-input-...>(9): <module>\n",
        "                                                         /mnt/xarfuse/.../IPython/\n",
        "\n",
        "  aten::addmm         0.00%     293.342us           0 b  /mnt/xarfuse/.../torch/nn\n",
        "                                                         /mnt/xarfuse/.../torch/nn\n",
        "                                                         /mnt/xarfuse/.../torch/nn\n",
        "                                                         <ipython-input-...>(8): forward\n",
        "                                                         /mnt/xarfuse/.../torch/nn\n",
        "\n",
        "   aten::mean         0.00%     235.095us           0 b  <ipython-input-...>(11): forward\n",
        "                                                         /mnt/xarfuse/.../torch/nn\n",
        "                                                         <ipython-input-...>(9): <module>\n",
        "                                                         /mnt/xarfuse/.../IPython/\n",
        "                                                         /mnt/xarfuse/.../IPython/\n",
        "\n",
        "-----------------------------  ------------  ---------- ----------------------------------\n",
        "Self CPU time total: 5.931s\n",
        "\n",
        "\"\"\""
      ],
      "execution_count": null,
      "outputs": [
        {
          "output_type": "stream",
          "text": [
            "-----------------------------  ------------  ------------  ------------  ------------  ------------  ------------  ------------  ------------  ------------  ------------  ---------------------------------------------------------------------------  \n",
            "                         Name    Self CPU %      Self CPU   CPU total %     CPU total  CPU time avg       CPU Mem  Self CPU Mem      CUDA Mem  Self CUDA Mem    # of Calls  Source Location                                                              \n",
            "-----------------------------  ------------  ------------  ------------  ------------  ------------  ------------  ------------  ------------  ------------  ------------  ---------------------------------------------------------------------------  \n",
            "                 MASK INDICES        81.50%        3.702s        99.93%        4.539s        4.539s          -4 b    -953.67 Mb       2.79 Gb      -1.00 Kb             1  /usr/local/lib/python3.6/dist-packages/torch/autograd/profiler.py(503): __e  \n",
            "                                                                                                                                                                           <ipython-input-3-7f74615814c7>(10): forward                                  \n",
            "                                                                                                                                                                           /usr/local/lib/python3.6/dist-packages/torch/nn/modules/module.py(727): _ca  \n",
            "                                                                                                                                                                           <ipython-input-4-258d6d63f9fa>(9): <module>                                  \n",
            "                                                                                                                                                                           /usr/local/lib/python3.6/dist-packages/IPython/core/interactiveshell.py(288  \n",
            "                                                                                                                                                                                                                                                        \n",
            "                  aten::copy_        13.84%     628.819ms        13.84%     628.819ms     628.819ms           0 b           0 b           0 b           0 b             1  <ipython-input-3-7f74615814c7>(13): forward                                  \n",
            "                                                                                                                                                                           /usr/local/lib/python3.6/dist-packages/torch/nn/modules/module.py(727): _ca  \n",
            "                                                                                                                                                                           <ipython-input-4-258d6d63f9fa>(9): <module>                                  \n",
            "                                                                                                                                                                           /usr/local/lib/python3.6/dist-packages/IPython/core/interactiveshell.py(288  \n",
            "                                                                                                                                                                           /usr/local/lib/python3.6/dist-packages/IPython/core/interactiveshell.py(282  \n",
            "                                                                                                                                                                                                                                                        \n",
            "                  aten::copy_         4.57%     207.752ms         4.57%     207.752ms     207.752ms           0 b           0 b           0 b           0 b             1  <ipython-input-3-7f74615814c7>(12): forward                                  \n",
            "                                                                                                                                                                           /usr/local/lib/python3.6/dist-packages/torch/nn/modules/module.py(727): _ca  \n",
            "                                                                                                                                                                           <ipython-input-4-258d6d63f9fa>(9): <module>                                  \n",
            "                                                                                                                                                                           /usr/local/lib/python3.6/dist-packages/IPython/core/interactiveshell.py(288  \n",
            "                                                                                                                                                                           /usr/local/lib/python3.6/dist-packages/IPython/core/interactiveshell.py(282  \n",
            "                                                                                                                                                                                                                                                        \n",
            "                  aten::zeros         0.04%       1.963ms         0.05%       2.071ms       2.071ms           4 b           0 b           0 b           0 b             1  /usr/local/lib/python3.6/dist-packages/torch/autograd/profiler.py(500): __i  \n",
            "                                                                                                                                                                           <ipython-input-3-7f74615814c7>(7): forward                                   \n",
            "                                                                                                                                                                           /usr/local/lib/python3.6/dist-packages/torch/nn/modules/module.py(727): _ca  \n",
            "                                                                                                                                                                           <ipython-input-4-258d6d63f9fa>(9): <module>                                  \n",
            "                                                                                                                                                                           /usr/local/lib/python3.6/dist-packages/IPython/core/interactiveshell.py(288  \n",
            "                                                                                                                                                                                                                                                        \n",
            "                  aten::addmm         0.00%     205.169us         0.01%     412.281us     412.281us           0 b           0 b       5.00 Kb           0 b             1  /usr/local/lib/python3.6/dist-packages/torch/nn/functional.py(1690): linear  \n",
            "                                                                                                                                                                           /usr/local/lib/python3.6/dist-packages/torch/nn/modules/linear.py(93): forw  \n",
            "                                                                                                                                                                           /usr/local/lib/python3.6/dist-packages/torch/nn/modules/module.py(727): _ca  \n",
            "                                                                                                                                                                           <ipython-input-3-7f74615814c7>(8): forward                                   \n",
            "                                                                                                                                                                           /usr/local/lib/python3.6/dist-packages/torch/nn/modules/module.py(727): _ca  \n",
            "                                                                                                                                                                                                                                                        \n",
            "-----------------------------  ------------  ------------  ------------  ------------  ------------  ------------  ------------  ------------  ------------  ------------  ---------------------------------------------------------------------------  \n",
            "Self CPU time total: 4.542s\n",
            "\n"
          ],
          "name": "stdout"
        },
        {
          "output_type": "execute_result",
          "data": {
            "application/vnd.google.colaboratory.intrinsic+json": {
              "type": "string"
            },
            "text/plain": [
              "'\\n(Some columns are omitted)\\n\\n-------------  ------------  ------------  ------------  ---------------------------------\\n         Name    Self CPU %      Self CPU  Self CPU Mem   Source Location\\n-------------  ------------  ------------  ------------  ---------------------------------\\n MASK INDICES        87.88%        5.212s    -953.67 Mb  /mnt/xarfuse/.../torch/au\\n                                                         <ipython-input-...>(10): forward\\n                                                         /mnt/xarfuse/.../torch/nn\\n                                                         <ipython-input-...>(9): <module>\\n                                                         /mnt/xarfuse/.../IPython/\\n\\n  aten::copy_        12.07%     715.848ms           0 b  <ipython-input-...>(12): forward\\n                                                         /mnt/xarfuse/.../torch/nn\\n                                                         <ipython-input-...>(9): <module>\\n                                                         /mnt/xarfuse/.../IPython/\\n                                                         /mnt/xarfuse/.../IPython/\\n\\n  LINEAR PASS         0.01%     350.151us         -20 b  /mnt/xarfuse/.../torch/au\\n                                                         <ipython-input-...>(7): forward\\n                                                         /mnt/xarfuse/.../torch/nn\\n                                                         <ipython-input-...>(9): <module>\\n                                                         /mnt/xarfuse/.../IPython/\\n\\n  aten::addmm         0.00%     293.342us           0 b  /mnt/xarfuse/.../torch/nn\\n                                                         /mnt/xarfuse/.../torch/nn\\n                                                         /mnt/xarfuse/.../torch/nn\\n                                                         <ipython-input-...>(8): forward\\n                                                         /mnt/xarfuse/.../torch/nn\\n\\n   aten::mean         0.00%     235.095us           0 b  <ipython-input-...>(11): forward\\n                                                         /mnt/xarfuse/.../torch/nn\\n                                                         <ipython-input-...>(9): <module>\\n                                                         /mnt/xarfuse/.../IPython/\\n                                                         /mnt/xarfuse/.../IPython/\\n\\n-----------------------------  ------------  ---------- ----------------------------------\\nSelf CPU time total: 5.931s\\n\\n'"
            ]
          },
          "metadata": {
            "tags": []
          },
          "execution_count": 5
        }
      ]
    },
    {
      "cell_type": "markdown",
      "metadata": {
        "id": "kQCH3LTPKZkU"
      },
      "source": [
        "## メモリパフォーマンスの向上\n",
        "\n",
        "メモリと処理時間の観点から、最も高コストな処理は、マスクインデックス内の処理``forward (10)``である点に留意してください。\n",
        "\n",
        "まずはメモリ消費の改善について取り組んでみましょう。\n",
        "\n",
        "12行目の``.to()``で、953.67 Mbを消費していることがわかります（※日本語版注釈：``.cpu()``を指すと思われます）。\n",
        "\n",
        "この処理は、``mask``をCPUにコピーしています。\n",
        "\n",
        "そして``mask``は、``torch.double``型で初期化されています。\n",
        "\n",
        "``torch.double``型を``torch.float``型にキャストすることで、メモリの負荷を低減できるでしょうか。"
      ]
    },
    {
      "cell_type": "code",
      "metadata": {
        "colab": {
          "base_uri": "https://localhost:8080/",
          "height": 795
        },
        "id": "JByTHF8WKZkV",
        "outputId": "386a3335-35aa-4ad2-f07c-5a1b510fc75c"
      },
      "source": [
        "model = MyModule(500, 10).cuda()\n",
        "input = torch.rand(128, 500).cuda()\n",
        "mask = torch.rand((500, 500, 500), dtype=torch.float).cuda()\n",
        "\n",
        "# 準備\n",
        "model(input, mask)\n",
        "\n",
        "with profiler.profile(with_stack=True, profile_memory=True) as prof:\n",
        "    out, idx = model(input, mask)\n",
        "\n",
        "print(prof.key_averages(group_by_stack_n=5).table(sort_by='self_cpu_time_total', row_limit=5))\n",
        "\n",
        "\"\"\"\n",
        "(Some columns are omitted)\n",
        "\n",
        "-----------------  ------------  ------------  ------------  --------------------------------\n",
        "             Name    Self CPU %      Self CPU  Self CPU Mem   Source Location\n",
        "-----------------  ------------  ------------  ------------  --------------------------------\n",
        "     MASK INDICES        93.61%        5.006s    -476.84 Mb  /mnt/xarfuse/.../torch/au\n",
        "                                                             <ipython-input-...>(10): forward\n",
        "                                                             /mnt/xarfuse/  /torch/nn\n",
        "                                                             <ipython-input-...>(9): <module>\n",
        "                                                             /mnt/xarfuse/.../IPython/\n",
        "\n",
        "      aten::copy_         6.34%     338.759ms           0 b  <ipython-input-...>(12): forward\n",
        "                                                             /mnt/xarfuse/.../torch/nn\n",
        "                                                             <ipython-input-...>(9): <module>\n",
        "                                                             /mnt/xarfuse/.../IPython/\n",
        "                                                             /mnt/xarfuse/.../IPython/\n",
        "\n",
        " aten::as_strided         0.01%     281.808us           0 b  <ipython-input-...>(11): forward\n",
        "                                                             /mnt/xarfuse/.../torch/nn\n",
        "                                                             <ipython-input-...>(9): <module>\n",
        "                                                             /mnt/xarfuse/.../IPython/\n",
        "                                                             /mnt/xarfuse/.../IPython/\n",
        "\n",
        "      aten::addmm         0.01%     275.721us           0 b  /mnt/xarfuse/.../torch/nn\n",
        "                                                             /mnt/xarfuse/.../torch/nn\n",
        "                                                             /mnt/xarfuse/.../torch/nn\n",
        "                                                             <ipython-input-...>(8): forward\n",
        "                                                             /mnt/xarfuse/.../torch/nn\n",
        "\n",
        "      aten::_local        0.01%     268.650us           0 b  <ipython-input-...>(11): forward\n",
        "      _scalar_dense                                          /mnt/xarfuse/.../torch/nn\n",
        "                                                             <ipython-input-...>(9): <module>\n",
        "                                                             /mnt/xarfuse/.../IPython/\n",
        "                                                             /mnt/xarfuse/.../IPython/\n",
        "\n",
        "-----------------  ------------  ------------  ------------  --------------------------------\n",
        "Self CPU time total: 5.347s\n",
        "\n",
        "\"\"\""
      ],
      "execution_count": null,
      "outputs": [
        {
          "output_type": "stream",
          "text": [
            "-----------------------------  ------------  ------------  ------------  ------------  ------------  ------------  ------------  ------------  ------------  ------------  ---------------------------------------------------------------------------  \n",
            "                         Name    Self CPU %      Self CPU   CPU total %     CPU total  CPU time avg       CPU Mem  Self CPU Mem      CUDA Mem  Self CUDA Mem    # of Calls  Source Location                                                              \n",
            "-----------------------------  ------------  ------------  ------------  ------------  ------------  ------------  ------------  ------------  ------------  ------------  ---------------------------------------------------------------------------  \n",
            "                 MASK INDICES        71.65%        2.312s        99.96%        3.225s        3.225s          -4 b    -476.84 Mb       2.57 Gb      -1.00 Kb             1  /usr/local/lib/python3.6/dist-packages/torch/autograd/profiler.py(503): __e  \n",
            "                                                                                                                                                                           <ipython-input-3-7f74615814c7>(10): forward                                  \n",
            "                                                                                                                                                                           /usr/local/lib/python3.6/dist-packages/torch/nn/modules/module.py(727): _ca  \n",
            "                                                                                                                                                                           <ipython-input-6-f6f3c716c07b>(9): <module>                                  \n",
            "                                                                                                                                                                           /usr/local/lib/python3.6/dist-packages/IPython/core/interactiveshell.py(288  \n",
            "                                                                                                                                                                                                                                                        \n",
            "                  aten::copy_        18.26%     589.042ms        18.26%     589.042ms     589.042ms           0 b           0 b           0 b           0 b             1  <ipython-input-3-7f74615814c7>(13): forward                                  \n",
            "                                                                                                                                                                           /usr/local/lib/python3.6/dist-packages/torch/nn/modules/module.py(727): _ca  \n",
            "                                                                                                                                                                           <ipython-input-6-f6f3c716c07b>(9): <module>                                  \n",
            "                                                                                                                                                                           /usr/local/lib/python3.6/dist-packages/IPython/core/interactiveshell.py(288  \n",
            "                                                                                                                                                                           /usr/local/lib/python3.6/dist-packages/IPython/core/interactiveshell.py(282  \n",
            "                                                                                                                                                                                                                                                        \n",
            "                  aten::copy_        10.03%     323.492ms        10.03%     323.492ms     323.492ms           0 b           0 b           0 b           0 b             1  <ipython-input-3-7f74615814c7>(12): forward                                  \n",
            "                                                                                                                                                                           /usr/local/lib/python3.6/dist-packages/torch/nn/modules/module.py(727): _ca  \n",
            "                                                                                                                                                                           <ipython-input-6-f6f3c716c07b>(9): <module>                                  \n",
            "                                                                                                                                                                           /usr/local/lib/python3.6/dist-packages/IPython/core/interactiveshell.py(288  \n",
            "                                                                                                                                                                           /usr/local/lib/python3.6/dist-packages/IPython/core/interactiveshell.py(282  \n",
            "                                                                                                                                                                                                                                                        \n",
            "                  aten::addmm         0.01%     265.854us         0.02%     492.476us     492.476us           0 b           0 b       5.00 Kb           0 b             1  /usr/local/lib/python3.6/dist-packages/torch/nn/functional.py(1690): linear  \n",
            "                                                                                                                                                                           /usr/local/lib/python3.6/dist-packages/torch/nn/modules/linear.py(93): forw  \n",
            "                                                                                                                                                                           /usr/local/lib/python3.6/dist-packages/torch/nn/modules/module.py(727): _ca  \n",
            "                                                                                                                                                                           <ipython-input-3-7f74615814c7>(8): forward                                   \n",
            "                                                                                                                                                                           /usr/local/lib/python3.6/dist-packages/torch/nn/modules/module.py(727): _ca  \n",
            "                                                                                                                                                                                                                                                        \n",
            "                  LINEAR PASS         0.00%     155.568us         0.03%     842.309us     842.309us          -4 b        -276 b       5.00 Kb           0 b             1  /usr/local/lib/python3.6/dist-packages/torch/autograd/profiler.py(503): __e  \n",
            "                                                                                                                                                                           <ipython-input-3-7f74615814c7>(7): forward                                   \n",
            "                                                                                                                                                                           /usr/local/lib/python3.6/dist-packages/torch/nn/modules/module.py(727): _ca  \n",
            "                                                                                                                                                                           <ipython-input-6-f6f3c716c07b>(9): <module>                                  \n",
            "                                                                                                                                                                           /usr/local/lib/python3.6/dist-packages/IPython/core/interactiveshell.py(288  \n",
            "                                                                                                                                                                                                                                                        \n",
            "-----------------------------  ------------  ------------  ------------  ------------  ------------  ------------  ------------  ------------  ------------  ------------  ---------------------------------------------------------------------------  \n",
            "Self CPU time total: 3.227s\n",
            "\n"
          ],
          "name": "stdout"
        },
        {
          "output_type": "execute_result",
          "data": {
            "application/vnd.google.colaboratory.intrinsic+json": {
              "type": "string"
            },
            "text/plain": [
              "'\\n(Some columns are omitted)\\n\\n-----------------  ------------  ------------  ------------  --------------------------------\\n             Name    Self CPU %      Self CPU  Self CPU Mem   Source Location\\n-----------------  ------------  ------------  ------------  --------------------------------\\n     MASK INDICES        93.61%        5.006s    -476.84 Mb  /mnt/xarfuse/.../torch/au\\n                                                             <ipython-input-...>(10): forward\\n                                                             /mnt/xarfuse/  /torch/nn\\n                                                             <ipython-input-...>(9): <module>\\n                                                             /mnt/xarfuse/.../IPython/\\n\\n      aten::copy_         6.34%     338.759ms           0 b  <ipython-input-...>(12): forward\\n                                                             /mnt/xarfuse/.../torch/nn\\n                                                             <ipython-input-...>(9): <module>\\n                                                             /mnt/xarfuse/.../IPython/\\n                                                             /mnt/xarfuse/.../IPython/\\n\\n aten::as_strided         0.01%     281.808us           0 b  <ipython-input-...>(11): forward\\n                                                             /mnt/xarfuse/.../torch/nn\\n                                                             <ipython-input-...>(9): <module>\\n                                                             /mnt/xarfuse/.../IPython/\\n                                                             /mnt/xarfuse/.../IPython/\\n\\n      aten::addmm         0.01%     275.721us           0 b  /mnt/xarfuse/.../torch/nn\\n                                                             /mnt/xarfuse/.../torch/nn\\n                                                             /mnt/xarfuse/.../torch/nn\\n                                                             <ipython-input-...>(8): forward\\n                                                             /mnt/xarfuse/.../torch/nn\\n\\n      aten::_local        0.01%     268.650us           0 b  <ipython-input-...>(11): forward\\n      _scalar_dense                                          /mnt/xarfuse/.../torch/nn\\n                                                             <ipython-input-...>(9): <module>\\n                                                             /mnt/xarfuse/.../IPython/\\n                                                             /mnt/xarfuse/.../IPython/\\n\\n-----------------  ------------  ------------  ------------  --------------------------------\\nSelf CPU time total: 5.347s\\n\\n'"
            ]
          },
          "metadata": {
            "tags": []
          },
          "execution_count": 6
        }
      ]
    },
    {
      "cell_type": "markdown",
      "metadata": {
        "id": "FFGPihGkKZka"
      },
      "source": [
        "対象の処理において、CPUメモリ使用量が半減しました（日本語訳注：-953.67 Mb　→　-476.84 Mb）。"
      ]
    },
    {
      "cell_type": "markdown",
      "metadata": {
        "id": "QH-VdJeoKZke"
      },
      "source": [
        "## 時間パフォーマンスの向上\n",
        "\n",
        "メモリ消費量に加えて。時間のコストもやや減らせましたが、依然として実行に時間が掛かり過ぎています。\n",
        "\n",
        "行列をCUDAからCPUにコピーする処理がいかに高コストな処理であるかわかります。\n",
        "\n",
        "`forward (12)`内の`aten::copy_`は、`mask`をCPUにコピーし、NumPyの`argwhere`関数を使用できるようにしています。\n",
        "\n",
        "そして`forward(13)`の`aten::copy_`は、配列をテンソルとしてCUDAにコピーし直しています。\n",
        "\n",
        "代わりに`torch.nonzero()`を使用すれば、これら2つの処理を両方取り除くことができます。"
      ]
    },
    {
      "cell_type": "code",
      "metadata": {
        "colab": {
          "base_uri": "https://localhost:8080/",
          "height": 795
        },
        "id": "dtNfSZNUKZkf",
        "outputId": "fdf7b52b-f27c-43ab-b040-5f5433ba7cf6"
      },
      "source": [
        "class MyModule(nn.Module):\n",
        "    def __init__(self, in_features: int, out_features: int, bias: bool = True):\n",
        "        super(MyModule, self).__init__()\n",
        "        self.linear = nn.Linear(in_features, out_features, bias)\n",
        "\n",
        "    def forward(self, input, mask):\n",
        "        with profiler.record_function(\"LINEAR PASS\"):\n",
        "            out = self.linear(input)\n",
        "\n",
        "        with profiler.record_function(\"MASK INDICES\"):\n",
        "            threshold = out.sum(axis=1).mean()\n",
        "            hi_idx = (mask > threshold).nonzero(as_tuple=True)\n",
        "\n",
        "        return out, hi_idx\n",
        "\n",
        "\n",
        "model = MyModule(500, 10).cuda()\n",
        "input = torch.rand(128, 500).cuda()\n",
        "mask = torch.rand((500, 500, 500), dtype=torch.float).cuda()\n",
        "\n",
        "# warm-up\n",
        "model(input, mask)\n",
        "\n",
        "with profiler.profile(with_stack=True, profile_memory=True) as prof:\n",
        "    out, idx = model(input, mask)\n",
        "\n",
        "print(prof.key_averages(group_by_stack_n=5).table(sort_by='self_cpu_time_total', row_limit=5))\n",
        "\n",
        "\"\"\"\n",
        "(Some columns are omitted)\n",
        "\n",
        "--------------  ------------  ------------  ------------  ---------------------------------\n",
        "          Name    Self CPU %      Self CPU  Self CPU Mem   Source Location\n",
        "--------------  ------------  ------------  ------------  ---------------------------------\n",
        "      aten::gt        57.17%     129.089ms           0 b  <ipython-input-...>(12): forward\n",
        "                                                          /mnt/xarfuse/.../torch/nn\n",
        "                                                          <ipython-input-...>(25): <module>\n",
        "                                                          /mnt/xarfuse/.../IPython/\n",
        "                                                          /mnt/xarfuse/.../IPython/\n",
        "\n",
        " aten::nonzero        37.38%      84.402ms           0 b  <ipython-input-...>(12): forward\n",
        "                                                          /mnt/xarfuse/.../torch/nn\n",
        "                                                          <ipython-input-...>(25): <module>\n",
        "                                                          /mnt/xarfuse/.../IPython/\n",
        "                                                          /mnt/xarfuse/.../IPython/\n",
        "\n",
        "   INDEX SCORE         3.32%       7.491ms    -119.21 Mb  /mnt/xarfuse/.../torch/au\n",
        "                                                          <ipython-input-...>(10): forward\n",
        "                                                          /mnt/xarfuse/.../torch/nn\n",
        "                                                          <ipython-input-...>(25): <module>\n",
        "                                                          /mnt/xarfuse/.../IPython/\n",
        "\n",
        "aten::as_strided         0.20%    441.587us          0 b  <ipython-input-...>(12): forward\n",
        "                                                          /mnt/xarfuse/.../torch/nn\n",
        "                                                          <ipython-input-...>(25): <module>\n",
        "                                                          /mnt/xarfuse/.../IPython/\n",
        "                                                          /mnt/xarfuse/.../IPython/\n",
        "\n",
        " aten::nonzero\n",
        "     _numpy             0.18%     395.602us           0 b  <ipython-input-...>(12): forward\n",
        "                                                          /mnt/xarfuse/.../torch/nn\n",
        "                                                          <ipython-input-...>(25): <module>\n",
        "                                                          /mnt/xarfuse/.../IPython/\n",
        "                                                          /mnt/xarfuse/.../IPython/\n",
        "--------------  ------------  ------------  ------------  ---------------------------------\n",
        "Self CPU time total: 225.801ms\n",
        "\n",
        "\"\"\""
      ],
      "execution_count": null,
      "outputs": [
        {
          "output_type": "stream",
          "text": [
            "-----------------------  ------------  ------------  ------------  ------------  ------------  ------------  ------------  ------------  ------------  ------------  ---------------------------------------------------------------------------  \n",
            "                   Name    Self CPU %      Self CPU   CPU total %     CPU total  CPU time avg       CPU Mem  Self CPU Mem      CUDA Mem  Self CUDA Mem    # of Calls  Source Location                                                              \n",
            "-----------------------  ------------  ------------  ------------  ------------  ------------  ------------  ------------  ------------  ------------  ------------  ---------------------------------------------------------------------------  \n",
            "          aten::nonzero        94.07%      34.578ms        94.74%      34.826ms      34.826ms           0 b           0 b       2.79 Gb           0 b             1  <ipython-input-7-4175265fd968>(12): forward                                  \n",
            "                                                                                                                                                                     /usr/local/lib/python3.6/dist-packages/torch/nn/modules/module.py(727): _ca  \n",
            "                                                                                                                                                                     <ipython-input-7-4175265fd968>(25): <module>                                 \n",
            "                                                                                                                                                                     /usr/local/lib/python3.6/dist-packages/IPython/core/interactiveshell.py(288  \n",
            "                                                                                                                                                                     /usr/local/lib/python3.6/dist-packages/IPython/core/interactiveshell.py(282  \n",
            "                                                                                                                                                                                                                                                  \n",
            "            aten::addmm         0.58%     212.416us         1.17%     429.851us     429.851us           0 b           0 b       5.00 Kb           0 b             1  /usr/local/lib/python3.6/dist-packages/torch/nn/functional.py(1690): linear  \n",
            "                                                                                                                                                                     /usr/local/lib/python3.6/dist-packages/torch/nn/modules/linear.py(93): forw  \n",
            "                                                                                                                                                                     /usr/local/lib/python3.6/dist-packages/torch/nn/modules/module.py(727): _ca  \n",
            "                                                                                                                                                                     <ipython-input-7-4175265fd968>(8): forward                                   \n",
            "                                                                                                                                                                     /usr/local/lib/python3.6/dist-packages/torch/nn/modules/module.py(727): _ca  \n",
            "                                                                                                                                                                                                                                                  \n",
            "            LINEAR PASS         0.40%     147.237us         2.07%     762.041us     762.041us          -4 b        -276 b       5.00 Kb           0 b             1  /usr/local/lib/python3.6/dist-packages/torch/autograd/profiler.py(503): __e  \n",
            "                                                                                                                                                                     <ipython-input-7-4175265fd968>(7): forward                                   \n",
            "                                                                                                                                                                     /usr/local/lib/python3.6/dist-packages/torch/nn/modules/module.py(727): _ca  \n",
            "                                                                                                                                                                     <ipython-input-7-4175265fd968>(25): <module>                                 \n",
            "                                                                                                                                                                     /usr/local/lib/python3.6/dist-packages/IPython/core/interactiveshell.py(288  \n",
            "                                                                                                                                                                                                                                                  \n",
            "       aten::as_strided         0.34%     123.601us         0.34%     123.601us      30.900us           0 b           0 b           0 b           0 b             4  <ipython-input-7-4175265fd968>(12): forward                                  \n",
            "                                                                                                                                                                     /usr/local/lib/python3.6/dist-packages/torch/nn/modules/module.py(727): _ca  \n",
            "                                                                                                                                                                     <ipython-input-7-4175265fd968>(25): <module>                                 \n",
            "                                                                                                                                                                     /usr/local/lib/python3.6/dist-packages/IPython/core/interactiveshell.py(288  \n",
            "                                                                                                                                                                     /usr/local/lib/python3.6/dist-packages/IPython/core/interactiveshell.py(282  \n",
            "                                                                                                                                                                                                                                                  \n",
            "               aten::gt         0.32%     119.050us         0.69%     252.666us     126.333us           0 b           0 b     238.42 Mb           0 b             2  /usr/local/lib/python3.6/dist-packages/torch/tensor.py(27): wrapped          \n",
            "                                                                                                                                                                     <ipython-input-7-4175265fd968>(12): forward                                  \n",
            "                                                                                                                                                                     /usr/local/lib/python3.6/dist-packages/torch/nn/modules/module.py(727): _ca  \n",
            "                                                                                                                                                                     <ipython-input-7-4175265fd968>(25): <module>                                 \n",
            "                                                                                                                                                                     /usr/local/lib/python3.6/dist-packages/IPython/core/interactiveshell.py(288  \n",
            "                                                                                                                                                                                                                                                  \n",
            "-----------------------  ------------  ------------  ------------  ------------  ------------  ------------  ------------  ------------  ------------  ------------  ---------------------------------------------------------------------------  \n",
            "Self CPU time total: 36.759ms\n",
            "\n"
          ],
          "name": "stdout"
        },
        {
          "output_type": "execute_result",
          "data": {
            "application/vnd.google.colaboratory.intrinsic+json": {
              "type": "string"
            },
            "text/plain": [
              "'\\n(Some columns are omitted)\\n\\n--------------  ------------  ------------  ------------  ---------------------------------\\n          Name    Self CPU %      Self CPU  Self CPU Mem   Source Location\\n--------------  ------------  ------------  ------------  ---------------------------------\\n      aten::gt        57.17%     129.089ms           0 b  <ipython-input-...>(12): forward\\n                                                          /mnt/xarfuse/.../torch/nn\\n                                                          <ipython-input-...>(25): <module>\\n                                                          /mnt/xarfuse/.../IPython/\\n                                                          /mnt/xarfuse/.../IPython/\\n\\n aten::nonzero        37.38%      84.402ms           0 b  <ipython-input-...>(12): forward\\n                                                          /mnt/xarfuse/.../torch/nn\\n                                                          <ipython-input-...>(25): <module>\\n                                                          /mnt/xarfuse/.../IPython/\\n                                                          /mnt/xarfuse/.../IPython/\\n\\n   INDEX SCORE         3.32%       7.491ms    -119.21 Mb  /mnt/xarfuse/.../torch/au\\n                                                          <ipython-input-...>(10): forward\\n                                                          /mnt/xarfuse/.../torch/nn\\n                                                          <ipython-input-...>(25): <module>\\n                                                          /mnt/xarfuse/.../IPython/\\n\\naten::as_strided         0.20%    441.587us          0 b  <ipython-input-...>(12): forward\\n                                                          /mnt/xarfuse/.../torch/nn\\n                                                          <ipython-input-...>(25): <module>\\n                                                          /mnt/xarfuse/.../IPython/\\n                                                          /mnt/xarfuse/.../IPython/\\n\\n aten::nonzero\\n     _numpy             0.18%     395.602us           0 b  <ipython-input-...>(12): forward\\n                                                          /mnt/xarfuse/.../torch/nn\\n                                                          <ipython-input-...>(25): <module>\\n                                                          /mnt/xarfuse/.../IPython/\\n                                                          /mnt/xarfuse/.../IPython/\\n--------------  ------------  ------------  ------------  ---------------------------------\\nSelf CPU time total: 225.801ms\\n\\n'"
            ]
          },
          "metadata": {
            "tags": []
          },
          "execution_count": 7
        }
      ]
    },
    {
      "cell_type": "markdown",
      "metadata": {
        "id": "6vV02XLi4yGi"
      },
      "source": [
        "対象の処理において、計算時間が半減しました（日本語訳注：  2.312s 　→　aten::nonzeroが34.578msに）。"
      ]
    },
    {
      "cell_type": "markdown",
      "metadata": {
        "id": "nAJKTqK6KZkg"
      },
      "source": [
        "## より詳しく学ぶ\n",
        "\n",
        "プロファイラーを使用してPyTorchのモデル内の時間面、メモリ面のボトルネックを調査する方法を解説しました。\n",
        "\n",
        "プロファイラーについては、以下の情報もご参考ください。\n",
        "\n",
        "- [プロファイラーのレシピ](https://pytorch.org/tutorials/recipes/recipes/profiler.html)\n",
        "- [RPC型ワークロードのプロファイリング](https://pytorch.org/tutorials/recipes/distributed_rpc_profiling.html)\n",
        "- [プロファイラーAPI ドキュメント](https://pytorch.org/docs/stable/autograd.html?highlight=profiler#profiler)"
      ]
    }
  ]
}