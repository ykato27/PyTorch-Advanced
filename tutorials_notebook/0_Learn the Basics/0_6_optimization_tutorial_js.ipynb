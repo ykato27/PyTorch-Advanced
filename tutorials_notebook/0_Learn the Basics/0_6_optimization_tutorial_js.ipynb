{
 "cells": [
  {
   "cell_type": "markdown",
   "metadata": {
    "id": "jiQpiJ4x4Dzi"
   },
   "source": [
    "「PyTorch入門  6. 最適化」\n",
    "===============================================================\n",
    "【原題】OPTIMIZING MODEL PARAMETERS\n",
    "\n",
    "【原著】\n",
    "[Suraj Subramanian](https://github.com/suraj813)、[Seth Juarez](https://github.com/sethjuarez/) 、[Cassie Breviu](https://github.com/cassieview/) 、[Dmitry Soshnikov](https://soshnikov.com/)、[Ari Bornstein](https://github.com/aribornstein/) \n",
    "\n",
    "\n",
    "【元URL】https://pytorch.org/tutorials/beginner/basics/optimization_tutorial.html\n",
    "\n",
    "【翻訳】電通国際情報サービスISID AIトランスフォーメーションセンター　小川 雄太郎\n",
    "\n",
    "【日付】2021年03月20日\n",
    "\n",
    "【チュトーリアル概要】\n",
    "\n",
    "本チュートリアルでは、オプティマイザー（Optimizer）を使用した、パラメータの最適化（≒学習）について解説を行います。\n",
    "\n",
    "---\n"
   ]
  },
  {
   "cell_type": "markdown",
   "metadata": {
    "id": "YPkyI-DJ38-R"
   },
   "source": [
    "パラメータの最適化\n",
    "===========================\n",
    "\n",
    "モデルとデータを用意できたので続いてはモデルを訓練、検証することで、データに対してモデルのパラメータを最適化し、テストを行います。\n",
    "\n",
    "\n"
   ]
  },
  {
   "cell_type": "markdown",
   "metadata": {
    "id": "ow4ZimTD48XR"
   },
   "source": [
    "モデルの訓練は反復的なプロセスとなります。\n",
    "\n",
    "各イテレーション（エポックと呼ばれます）で、モデルは出力を計算し、損失を求めます。そして各パラメータについて損失に対する偏微分の値を求めます。\n",
    "\n",
    "その後、勾配降下法に基づいてパラメータを最適化します。\n",
    "\n",
    "この最適化プロセスの流れについては、以下の動画も参考にご覧ください。\n",
    "\n",
    "- 動画：[backpropagation from 3Blue1Brown](https://www.youtube.com/watch?v=tIeHLnjs5U8)"
   ]
  },
  {
   "cell_type": "markdown",
   "metadata": {
    "id": "yz96ICKoEgie"
   },
   "source": [
    "---\n"
   ]
  },
  {
   "cell_type": "markdown",
   "metadata": {
    "id": "k0HPbxJy480B"
   },
   "source": [
    "コード準備 \n",
    "-----------------\n",
    "入門シリーズの「2. データセットとデータローダー」および、「4. モデル構築」からコードを再利用します。\n"
   ]
  },
  {
   "cell_type": "code",
   "execution_count": 1,
   "metadata": {},
   "outputs": [],
   "source": [
    "%load_ext lab_black"
   ]
  },
  {
   "cell_type": "code",
   "execution_count": 2,
   "metadata": {
    "executionInfo": {
     "elapsed": 598,
     "status": "ok",
     "timestamp": 1616116840083,
     "user": {
      "displayName": "小川雄太郎",
      "photoUrl": "",
      "userId": "06190430902934159529"
     },
     "user_tz": -540
    },
    "id": "u-QFvrJl38-L"
   },
   "outputs": [],
   "source": [
    "%matplotlib inline"
   ]
  },
  {
   "cell_type": "code",
   "execution_count": 3,
   "metadata": {
    "colab": {
     "base_uri": "https://localhost:8080/",
     "height": 446,
     "referenced_widgets": [
      "b9f1849748b443369cc9fbb27234367a",
      "c8dadbc06bd6448f991279838d008235",
      "c191abb8dd264f3b95bd1794c38159e5",
      "9efac0c9f5dc46f5bcbef47851834812",
      "cabcc03f8c1949a5b7814f8c966b91b1",
      "b62ef5f6ebe94a08ab479b7bbfa48e79",
      "c7491424e8184077aaabfc7404d03636",
      "77ecbaa4ec064441b1c994ff3ea0ab53",
      "996ef5cdc87143b8b9a520fcf18ca410",
      "3c314f21d0254857977467dc5cf388d8",
      "bcdb5187af674da6bf859f9022aa3187",
      "65c8158f88434db186efb50e6d24e3d2",
      "e983e8125a6b484bb22e34948fd848c2",
      "a576bed88b7042cf9c391c75a89b4468",
      "14f6c70d6e7b4777bb9ada2f4e727b20",
      "8bc0cbd50da64cff8104b8b73bf80a6c",
      "a07badc6380e40288591358a265a5623",
      "6e8209e67f5346a29455aa643ea67754",
      "644858a009cf4e19951d82aef3e99be2",
      "a1f0ee29b3194b61aa47a64b931c5d64",
      "d3c1c6781053492e8ad1dbaa29d30666",
      "3e7832279a5b4824bb068d6f9583d8e7",
      "2804f6f3ec3c4bb2bc9e80fd7d3d0694",
      "0f9c43c6d0524766b5f3bde3f11a59ef",
      "b9fc3a95fe704949a5cd3e2236648642",
      "d6f42e26b79844e4b6c60249617fc969",
      "30bab3b547eb4561ad0873cebf5b9d39",
      "038ae77186134bcdb346d25d4346009a",
      "20c41169dbed41f4a37d31eb7a9eded9",
      "c4752e37d34f4bc4b732bb4bbc1380bd",
      "8abb864783ad46dd8355442a2df5eb69",
      "ef7bfdf24b754ad6bcc09a72e74d1aef"
     ]
    },
    "executionInfo": {
     "elapsed": 14454,
     "status": "ok",
     "timestamp": 1616116853961,
     "user": {
      "displayName": "小川雄太郎",
      "photoUrl": "",
      "userId": "06190430902934159529"
     },
     "user_tz": -540
    },
    "id": "wNpggd8W38-R",
    "outputId": "1dae3030-7b32-4adf-bea4-364b69955628"
   },
   "outputs": [],
   "source": [
    "import torch\n",
    "from torch import nn\n",
    "from torch.utils.data import DataLoader\n",
    "from torchvision import datasets\n",
    "from torchvision.transforms import ToTensor, Lambda\n",
    "\n",
    "training_data = datasets.FashionMNIST(\n",
    "    root=\"data\", train=True, download=True, transform=ToTensor()\n",
    ")\n",
    "\n",
    "test_data = datasets.FashionMNIST(\n",
    "    root=\"data\", train=False, download=True, transform=ToTensor()\n",
    ")\n",
    "\n",
    "train_dataloader = DataLoader(training_data, batch_size=64)\n",
    "test_dataloader = DataLoader(test_data, batch_size=64)\n",
    "\n",
    "\n",
    "class NeuralNetwork(nn.Module):\n",
    "    def __init__(self):\n",
    "        super(NeuralNetwork, self).__init__()\n",
    "        self.flatten = nn.Flatten()\n",
    "        self.linear_relu_stack = nn.Sequential(\n",
    "            nn.Linear(28 * 28, 512),\n",
    "            nn.ReLU(),\n",
    "            nn.Linear(512, 512),\n",
    "            nn.ReLU(),\n",
    "            nn.Linear(512, 10),\n",
    "            nn.ReLU(),\n",
    "        )\n",
    "\n",
    "    def forward(self, x):\n",
    "        x = self.flatten(x)\n",
    "        logits = self.linear_relu_stack(x)\n",
    "        return logits\n",
    "\n",
    "\n",
    "model = NeuralNetwork()"
   ]
  },
  {
   "cell_type": "markdown",
   "metadata": {
    "id": "PidFXE1LEjR1"
   },
   "source": [
    "---\n",
    "\n"
   ]
  },
  {
   "cell_type": "markdown",
   "metadata": {
    "id": "CeozEcms38-S"
   },
   "source": [
    "ハイパーパラメータ\n",
    "-----------------\n",
    "\n",
    "ハイパーパラメータは、モデルの最適化プロセスを制御するためのパラメータです。\n",
    "\n",
    "ハイパーパラメータの値が異なると、モデルの学習や収束率に影響します（詳細なハイパーパラメータチューニングの解説は[こちら](https://pytorch.org/tutorials/beginner/hyperparameter_tuning_tutorial.html)をご覧ください）。\n",
    "\n"
   ]
  },
  {
   "cell_type": "markdown",
   "metadata": {
    "id": "6XWChnhIEtHH"
   },
   "source": [
    "\n",
    "今回は、訓練用のハイパーパラメータとして以下の値を使用します。\n",
    "\n",
    " - **Number of Epochs**：イテレーション回数\n",
    " - **Batch Size**：ミニバッチサイズを構成するデータ数\n",
    " - **Learning Rate**：パラメータ更新の係数。値が小さいと変化が少なく、大きすぎると訓練に失敗する可能性が生まれる\n",
    " "
   ]
  },
  {
   "cell_type": "code",
   "execution_count": 4,
   "metadata": {
    "executionInfo": {
     "elapsed": 525,
     "status": "ok",
     "timestamp": 1616116920006,
     "user": {
      "displayName": "小川雄太郎",
      "photoUrl": "",
      "userId": "06190430902934159529"
     },
     "user_tz": -540
    },
    "id": "gpay3IJz38-U"
   },
   "outputs": [],
   "source": [
    "learning_rate = 1e-3\n",
    "batch_size = 64\n",
    "epochs = 5"
   ]
  },
  {
   "cell_type": "markdown",
   "metadata": {
    "id": "KW8AYLUtExtf"
   },
   "source": [
    "---\n"
   ]
  },
  {
   "cell_type": "markdown",
   "metadata": {
    "id": "Wx1bOwA_38-V"
   },
   "source": [
    "最適化ループ\n",
    "-----------------\n",
    "ハイパーパラメータを設定後、訓練で最適化のループを回すことで、モデルを最適化します。\n",
    "\n",
    "最適化ループの1回のイテレーションは、**エポック(epoch)**と呼ばれます。\n",
    "\n",
    "各エポックでは2種類のループから構成されます。\n",
    "\n",
    " - **訓練ループ**：データセットに対して訓練を実行し、パラメータを収束させます\n",
    " \n",
    " - **検証 / テストループ**：テストデータセットでモデルを評価し、性能が向上しているか確認します\n",
    " \n",
    "\n"
   ]
  },
  {
   "cell_type": "markdown",
   "metadata": {
    "id": "m8_uj3QLLxvT"
   },
   "source": [
    "訓練ループ内で使用される概念について、簡単に把握しておきましょう。\n",
    "\n",
    "本チュートリアルの最後には、最適化ループの完全な実装を紹介します。"
   ]
  },
  {
   "cell_type": "markdown",
   "metadata": {
    "id": "i7JihOQJLx4B"
   },
   "source": [
    "**損失関数：Loss Function**\n",
    "\n",
    "データが与えられても、訓練されていないネットワークは正しい答えを出力しない可能性があります。\n",
    " \n",
    "損失関数はモデルが推論した結果と、実際の正解との誤差の大きさを測定する関数です。訓練ではこの損失関数の値を小さくしていきます。\n",
    "\n",
    "損失を計算するためには、入力データに対するモデルの推論結果を求め、その値と正解のラベルとの違いを比較します。\n",
    "\n"
   ]
  },
  {
   "cell_type": "markdown",
   "metadata": {
    "id": "xbuOTl6wNm-7"
   },
   "source": [
    "一般的な損失関数としては、回帰タスクでは[`nn.MSELoss`](https://pytorch.org/docs/stable/generated/torch.nn.MSELoss.html#torch.nn.MSELoss)(Mean Square Error)、分類タスクでは[`nn.NLLLoss`](https://pytorch.org/docs/stable/generated/torch.nn.NLLLoss.html#torch.nn.NLLLoss)(Negative Log Likelihood) が使用されます。\n",
    "\n",
    "[`nn.CrossEntropyLoss`](https://pytorch.org/docs/stable/generated/torch.nn.CrossEntropyLoss.html#torch.nn.CrossEntropyLoss)は、``nn.LogSoftmax`` と ``nn.NLLLoss``を結合した損失関数となります。\n",
    "\n",
    "モデルが出力する`logit`値を`nn.CrossEntropyLoss`に与えて正規化し、予測誤差を求めます。"
   ]
  },
  {
   "cell_type": "code",
   "execution_count": 5,
   "metadata": {
    "executionInfo": {
     "elapsed": 537,
     "status": "ok",
     "timestamp": 1616117116125,
     "user": {
      "displayName": "小川雄太郎",
      "photoUrl": "",
      "userId": "06190430902934159529"
     },
     "user_tz": -540
    },
    "id": "ayTh0SOU38-W"
   },
   "outputs": [],
   "source": [
    "# loss functionの初期化、定義\n",
    "loss_fn = nn.CrossEntropyLoss()"
   ]
  },
  {
   "cell_type": "markdown",
   "metadata": {
    "id": "TEUFRDx638-W"
   },
   "source": [
    "**最適化器：Optimizer**\n",
    "\n",
    "最適化は各訓練ステップにおいてモデルの誤差を小さくなるように、モデルパラメータを調整するプロセスです。\n",
    "\n",
    "<br>\n",
    "\n",
    "**最適化アルゴリズム：Optimization algorithms**\n",
    "\n",
    "最適化アルゴリズムは、最適化プロセスの具体的な手続きです（本チュートリアルでは確率的勾配降下法：Stochastic Gradient Descentを使用します）。\n",
    "\n",
    "最適化のロジックは全て``optimizer``オブジェクト内に隠ぺいされます。\n",
    "\n"
   ]
  },
  {
   "cell_type": "markdown",
   "metadata": {
    "id": "mB8RLaw3PQ3Z"
   },
   "source": [
    " 今回はSGD optimizerを使用します。ただし、最適化関数にはADAMやRMSPropなど、様々な種類があります。\n",
    " \n",
    " 詳細については、[こちら](https://pytorch.org/docs/stable/optim.html)を参照ください。\n",
    " "
   ]
  },
  {
   "cell_type": "markdown",
   "metadata": {
    "id": "EMwa7PPmFzjv"
   },
   "source": [
    "\n",
    "訓練したいモデルパラメータをoptimizerに登録し、合わせて学習率をハイパーパラメータとして渡すことで初期化を行います。\n",
    "\n",
    "\n"
   ]
  },
  {
   "cell_type": "code",
   "execution_count": 6,
   "metadata": {
    "executionInfo": {
     "elapsed": 516,
     "status": "ok",
     "timestamp": 1616117194808,
     "user": {
      "displayName": "小川雄太郎",
      "photoUrl": "",
      "userId": "06190430902934159529"
     },
     "user_tz": -540
    },
    "id": "FIH9ERrX38-X"
   },
   "outputs": [],
   "source": [
    "optimizer = torch.optim.SGD(model.parameters(), lr=learning_rate)"
   ]
  },
  {
   "cell_type": "markdown",
   "metadata": {
    "id": "c53YLpx038-Y"
   },
   "source": [
    "訓練ループ内で、最適化（optimization）は3つのステップから構成されます。\n",
    "\n",
    "[1] ``optimizer.zero_grad()``を実行し、モデルパラメータの勾配をリセットします。\n",
    "\n",
    "勾配の計算は蓄積されていくので、毎イテレーション、明示的にリセットします。\n",
    "\n",
    "<br>\n",
    "\n",
    "[2] 続いて、``loss.backwards()``を実行し、バックプロパゲーションを実行します。\n",
    "\n",
    "PyTorchは損失に対する各パラメータの偏微分の値（勾配）を求めます。\n",
    "\n",
    "<br>\n",
    "\n",
    "[3] 最後に、``optimizer.step()``を実行し、各パラメータの勾配を使用してパラメータの値を調整します。\n",
    "\n"
   ]
  },
  {
   "cell_type": "markdown",
   "metadata": {
    "id": "T4vSCUCEGBEz"
   },
   "source": [
    "---\n"
   ]
  },
  {
   "cell_type": "markdown",
   "metadata": {
    "id": "Ulov18zc38-Y"
   },
   "source": [
    "実装全体：Full Implementation\n",
    "-----------------------\n",
    "最適化を実行するコードをループする``train_loop``と、テストデータに対してモデルの性能を評価する``test_loop``を定義します。\n",
    "\n",
    "\n"
   ]
  },
  {
   "cell_type": "code",
   "execution_count": 7,
   "metadata": {
    "executionInfo": {
     "elapsed": 541,
     "status": "ok",
     "timestamp": 1616117251669,
     "user": {
      "displayName": "小川雄太郎",
      "photoUrl": "",
      "userId": "06190430902934159529"
     },
     "user_tz": -540
    },
    "id": "qVvdppwu38-Z"
   },
   "outputs": [],
   "source": [
    "def train_loop(dataloader, model, loss_fn, optimizer):\n",
    "    size = len(dataloader.dataset)\n",
    "    for batch, (X, y) in enumerate(dataloader):\n",
    "        # 予測と損失の計算\n",
    "        pred = model(X)\n",
    "        loss = loss_fn(pred, y)\n",
    "\n",
    "        # バックプロパゲーション\n",
    "        optimizer.zero_grad()\n",
    "        loss.backward()\n",
    "        optimizer.step()\n",
    "\n",
    "        if batch % 100 == 0:\n",
    "            loss, current = loss.item(), batch * len(X)\n",
    "            print(f\"loss: {loss:>7f}  [{current:>5d}/{size:>5d}]\")\n",
    "\n",
    "\n",
    "def test_loop(dataloader, model, loss_fn):\n",
    "    size = len(dataloader.dataset)\n",
    "    test_loss, correct = 0, 0\n",
    "\n",
    "    with torch.no_grad():\n",
    "        for X, y in dataloader:\n",
    "            pred = model(X)\n",
    "            test_loss += loss_fn(pred, y).item()\n",
    "            correct += (pred.argmax(1) == y).type(torch.float).sum().item()\n",
    "\n",
    "    test_loss /= size\n",
    "    correct /= size\n",
    "    print(\n",
    "        f\"Test Error: \\n Accuracy: {(100*correct):>0.1f}%, Avg loss: {test_loss:>8f} \\n\"\n",
    "    )"
   ]
  },
  {
   "cell_type": "markdown",
   "metadata": {
    "id": "3Pq-tYFz38-Z"
   },
   "source": [
    "損失関数とoptimizerを初期化し、それを ``train_loop`` と ``test_loop`` に渡します。\n",
    "\n",
    "<br>\n",
    "\n",
    "以下の実装例において、モデルの性能を向上させるために、`epoch`数は自由に変えてみてください。\n",
    "\n",
    "\n",
    "\n"
   ]
  },
  {
   "cell_type": "code",
   "execution_count": 8,
   "metadata": {
    "colab": {
     "base_uri": "https://localhost:8080/"
    },
    "executionInfo": {
     "elapsed": 87889,
     "status": "ok",
     "timestamp": 1616117360559,
     "user": {
      "displayName": "小川雄太郎",
      "photoUrl": "",
      "userId": "06190430902934159529"
     },
     "user_tz": -540
    },
    "id": "bhpe8Lia38-Z",
    "outputId": "2b0ec6b0-3a6f-49b3-9d9a-881d666d1ef5"
   },
   "outputs": [
    {
     "name": "stdout",
     "output_type": "stream",
     "text": [
      "Epoch 1\n",
      "-------------------------------\n",
      "loss: 2.310613  [    0/60000]\n",
      "loss: 2.304885  [ 6400/60000]\n",
      "loss: 2.300211  [12800/60000]\n",
      "loss: 2.293106  [19200/60000]\n",
      "loss: 2.279658  [25600/60000]\n",
      "loss: 2.279388  [32000/60000]\n",
      "loss: 2.258235  [38400/60000]\n",
      "loss: 2.261030  [44800/60000]\n",
      "loss: 2.261271  [51200/60000]\n",
      "loss: 2.248172  [57600/60000]\n",
      "Test Error: \n",
      " Accuracy: 44.6%, Avg loss: 0.035261 \n",
      "\n",
      "Epoch 2\n",
      "-------------------------------\n",
      "loss: 2.260382  [    0/60000]\n",
      "loss: 2.256067  [ 6400/60000]\n",
      "loss: 2.249304  [12800/60000]\n",
      "loss: 2.235517  [19200/60000]\n",
      "loss: 2.213445  [25600/60000]\n",
      "loss: 2.233740  [32000/60000]\n",
      "loss: 2.176522  [38400/60000]\n",
      "loss: 2.192014  [44800/60000]\n",
      "loss: 2.200323  [51200/60000]\n",
      "loss: 2.162494  [57600/60000]\n",
      "Test Error: \n",
      " Accuracy: 46.1%, Avg loss: 0.033943 \n",
      "\n",
      "Epoch 3\n",
      "-------------------------------\n",
      "loss: 2.192101  [    0/60000]\n",
      "loss: 2.182308  [ 6400/60000]\n",
      "loss: 2.163475  [12800/60000]\n",
      "loss: 2.138444  [19200/60000]\n",
      "loss: 2.115002  [25600/60000]\n",
      "loss: 2.152347  [32000/60000]\n",
      "loss: 2.041998  [38400/60000]\n",
      "loss: 2.064108  [44800/60000]\n",
      "loss: 2.063297  [51200/60000]\n",
      "loss: 2.028084  [57600/60000]\n",
      "Test Error: \n",
      " Accuracy: 46.3%, Avg loss: 0.031684 \n",
      "\n",
      "Epoch 4\n",
      "-------------------------------\n",
      "loss: 2.052567  [    0/60000]\n",
      "loss: 2.044847  [ 6400/60000]\n",
      "loss: 2.001722  [12800/60000]\n",
      "loss: 1.974818  [19200/60000]\n",
      "loss: 1.981950  [25600/60000]\n",
      "loss: 2.026814  [32000/60000]\n",
      "loss: 1.851511  [38400/60000]\n",
      "loss: 1.887468  [44800/60000]\n",
      "loss: 1.880328  [51200/60000]\n",
      "loss: 1.861262  [57600/60000]\n",
      "Test Error: \n",
      " Accuracy: 46.6%, Avg loss: 0.028956 \n",
      "\n",
      "Epoch 5\n",
      "-------------------------------\n",
      "loss: 1.877083  [    0/60000]\n",
      "loss: 1.881227  [ 6400/60000]\n",
      "loss: 1.813151  [12800/60000]\n",
      "loss: 1.802143  [19200/60000]\n",
      "loss: 1.863454  [25600/60000]\n",
      "loss: 1.895803  [32000/60000]\n",
      "loss: 1.673731  [38400/60000]\n",
      "loss: 1.724623  [44800/60000]\n",
      "loss: 1.724883  [51200/60000]\n",
      "loss: 1.724010  [57600/60000]\n",
      "Test Error: \n",
      " Accuracy: 50.0%, Avg loss: 0.026724 \n",
      "\n",
      "Epoch 6\n",
      "-------------------------------\n",
      "loss: 1.723402  [    0/60000]\n",
      "loss: 1.745084  [ 6400/60000]\n",
      "loss: 1.656047  [12800/60000]\n",
      "loss: 1.678123  [19200/60000]\n",
      "loss: 1.774722  [25600/60000]\n",
      "loss: 1.784294  [32000/60000]\n",
      "loss: 1.545835  [38400/60000]\n",
      "loss: 1.605350  [44800/60000]\n",
      "loss: 1.619413  [51200/60000]\n",
      "loss: 1.624384  [57600/60000]\n",
      "Test Error: \n",
      " Accuracy: 52.6%, Avg loss: 0.025113 \n",
      "\n",
      "Epoch 7\n",
      "-------------------------------\n",
      "loss: 1.611711  [    0/60000]\n",
      "loss: 1.645463  [ 6400/60000]\n",
      "loss: 1.538664  [12800/60000]\n",
      "loss: 1.592231  [19200/60000]\n",
      "loss: 1.705768  [25600/60000]\n",
      "loss: 1.694428  [32000/60000]\n",
      "loss: 1.456404  [38400/60000]\n",
      "loss: 1.518123  [44800/60000]\n",
      "loss: 1.548206  [51200/60000]\n",
      "loss: 1.551413  [57600/60000]\n",
      "Test Error: \n",
      " Accuracy: 53.8%, Avg loss: 0.023933 \n",
      "\n",
      "Epoch 8\n",
      "-------------------------------\n",
      "loss: 1.530774  [    0/60000]\n",
      "loss: 1.573372  [ 6400/60000]\n",
      "loss: 1.452507  [12800/60000]\n",
      "loss: 1.529040  [19200/60000]\n",
      "loss: 1.653851  [25600/60000]\n",
      "loss: 1.624478  [32000/60000]\n",
      "loss: 1.390913  [38400/60000]\n",
      "loss: 1.454301  [44800/60000]\n",
      "loss: 1.495721  [51200/60000]\n",
      "loss: 1.497285  [57600/60000]\n",
      "Test Error: \n",
      " Accuracy: 54.4%, Avg loss: 0.023051 \n",
      "\n",
      "Epoch 9\n",
      "-------------------------------\n",
      "loss: 1.470027  [    0/60000]\n",
      "loss: 1.519176  [ 6400/60000]\n",
      "loss: 1.388459  [12800/60000]\n",
      "loss: 1.480591  [19200/60000]\n",
      "loss: 1.613717  [25600/60000]\n",
      "loss: 1.569908  [32000/60000]\n",
      "loss: 1.342449  [38400/60000]\n",
      "loss: 1.409824  [44800/60000]\n",
      "loss: 1.457068  [51200/60000]\n",
      "loss: 1.456184  [57600/60000]\n",
      "Test Error: \n",
      " Accuracy: 54.7%, Avg loss: 0.022380 \n",
      "\n",
      "Epoch 10\n",
      "-------------------------------\n",
      "loss: 1.421655  [    0/60000]\n",
      "loss: 1.477185  [ 6400/60000]\n",
      "loss: 1.340350  [12800/60000]\n",
      "loss: 1.442682  [19200/60000]\n",
      "loss: 1.581481  [25600/60000]\n",
      "loss: 1.527716  [32000/60000]\n",
      "loss: 1.306539  [38400/60000]\n",
      "loss: 1.379502  [44800/60000]\n",
      "loss: 1.428242  [51200/60000]\n",
      "loss: 1.423033  [57600/60000]\n",
      "Test Error: \n",
      " Accuracy: 55.0%, Avg loss: 0.021866 \n",
      "\n",
      "Done!\n"
     ]
    }
   ],
   "source": [
    "loss_fn = nn.CrossEntropyLoss()\n",
    "optimizer = torch.optim.SGD(model.parameters(), lr=learning_rate)\n",
    "\n",
    "epochs = 10\n",
    "for t in range(epochs):\n",
    "    print(f\"Epoch {t+1}\\n-------------------------------\")\n",
    "    train_loop(train_dataloader, model, loss_fn, optimizer)\n",
    "    test_loop(test_dataloader, model, loss_fn)\n",
    "print(\"Done!\")"
   ]
  },
  {
   "cell_type": "markdown",
   "metadata": {
    "id": "tiEF7C4Y38-Z"
   },
   "source": [
    "さらなる詳細\n",
    "--------------\n",
    "以下のページも参考ください。\n",
    "\n",
    "- [`Loss Functions](https://pytorch.org/docs/stable/nn.html#loss-functions)\n",
    "- [`torch.optim](https://pytorch.org/docs/stable/optim.html)\n",
    "- [`Warmstart Training a Model](https://pytorch.org/tutorials/recipes/recipes/warmstarting_model_using_parameters_from_a_different_model.html)\n",
    "\n",
    "\n"
   ]
  },
  {
   "cell_type": "markdown",
   "metadata": {
    "id": "hrbzhvZTS2zq"
   },
   "source": [
    "以上。"
   ]
  }
 ],
 "metadata": {
  "colab": {
   "collapsed_sections": [],
   "name": "0_6_optimization_tutorial_js.ipynb",
   "provenance": [],
   "toc_visible": true
  },
  "kernelspec": {
   "display_name": "Python 3",
   "language": "python",
   "name": "python3"
  },
  "language_info": {
   "codemirror_mode": {
    "name": "ipython",
    "version": 3
   },
   "file_extension": ".py",
   "mimetype": "text/x-python",
   "name": "python",
   "nbconvert_exporter": "python",
   "pygments_lexer": "ipython3",
   "version": "3.9.4"
  },
  "widgets": {
   "application/vnd.jupyter.widget-state+json": {
    "038ae77186134bcdb346d25d4346009a": {
     "model_module": "@jupyter-widgets/controls",
     "model_name": "HTMLModel",
     "state": {
      "_dom_classes": [],
      "_model_module": "@jupyter-widgets/controls",
      "_model_module_version": "1.5.0",
      "_model_name": "HTMLModel",
      "_view_count": null,
      "_view_module": "@jupyter-widgets/controls",
      "_view_module_version": "1.5.0",
      "_view_name": "HTMLView",
      "description": "",
      "description_tooltip": null,
      "layout": "IPY_MODEL_ef7bfdf24b754ad6bcc09a72e74d1aef",
      "placeholder": "​",
      "style": "IPY_MODEL_8abb864783ad46dd8355442a2df5eb69",
      "value": " 6144/? [01:05&lt;00:00, 93.83it/s]"
     }
    },
    "0f9c43c6d0524766b5f3bde3f11a59ef": {
     "model_module": "@jupyter-widgets/base",
     "model_name": "LayoutModel",
     "state": {
      "_model_module": "@jupyter-widgets/base",
      "_model_module_version": "1.2.0",
      "_model_name": "LayoutModel",
      "_view_count": null,
      "_view_module": "@jupyter-widgets/base",
      "_view_module_version": "1.2.0",
      "_view_name": "LayoutView",
      "align_content": null,
      "align_items": null,
      "align_self": null,
      "border": null,
      "bottom": null,
      "display": null,
      "flex": null,
      "flex_flow": null,
      "grid_area": null,
      "grid_auto_columns": null,
      "grid_auto_flow": null,
      "grid_auto_rows": null,
      "grid_column": null,
      "grid_gap": null,
      "grid_row": null,
      "grid_template_areas": null,
      "grid_template_columns": null,
      "grid_template_rows": null,
      "height": null,
      "justify_content": null,
      "justify_items": null,
      "left": null,
      "margin": null,
      "max_height": null,
      "max_width": null,
      "min_height": null,
      "min_width": null,
      "object_fit": null,
      "object_position": null,
      "order": null,
      "overflow": null,
      "overflow_x": null,
      "overflow_y": null,
      "padding": null,
      "right": null,
      "top": null,
      "visibility": null,
      "width": null
     }
    },
    "14f6c70d6e7b4777bb9ada2f4e727b20": {
     "model_module": "@jupyter-widgets/controls",
     "model_name": "DescriptionStyleModel",
     "state": {
      "_model_module": "@jupyter-widgets/controls",
      "_model_module_version": "1.5.0",
      "_model_name": "DescriptionStyleModel",
      "_view_count": null,
      "_view_module": "@jupyter-widgets/base",
      "_view_module_version": "1.2.0",
      "_view_name": "StyleView",
      "description_width": ""
     }
    },
    "20c41169dbed41f4a37d31eb7a9eded9": {
     "model_module": "@jupyter-widgets/controls",
     "model_name": "ProgressStyleModel",
     "state": {
      "_model_module": "@jupyter-widgets/controls",
      "_model_module_version": "1.5.0",
      "_model_name": "ProgressStyleModel",
      "_view_count": null,
      "_view_module": "@jupyter-widgets/base",
      "_view_module_version": "1.2.0",
      "_view_name": "StyleView",
      "bar_color": null,
      "description_width": "initial"
     }
    },
    "2804f6f3ec3c4bb2bc9e80fd7d3d0694": {
     "model_module": "@jupyter-widgets/controls",
     "model_name": "DescriptionStyleModel",
     "state": {
      "_model_module": "@jupyter-widgets/controls",
      "_model_module_version": "1.5.0",
      "_model_name": "DescriptionStyleModel",
      "_view_count": null,
      "_view_module": "@jupyter-widgets/base",
      "_view_module_version": "1.2.0",
      "_view_name": "StyleView",
      "description_width": ""
     }
    },
    "30bab3b547eb4561ad0873cebf5b9d39": {
     "model_module": "@jupyter-widgets/controls",
     "model_name": "FloatProgressModel",
     "state": {
      "_dom_classes": [],
      "_model_module": "@jupyter-widgets/controls",
      "_model_module_version": "1.5.0",
      "_model_name": "FloatProgressModel",
      "_view_count": null,
      "_view_module": "@jupyter-widgets/controls",
      "_view_module_version": "1.5.0",
      "_view_name": "ProgressView",
      "bar_style": "success",
      "description": "",
      "description_tooltip": null,
      "layout": "IPY_MODEL_c4752e37d34f4bc4b732bb4bbc1380bd",
      "max": 5148,
      "min": 0,
      "orientation": "horizontal",
      "style": "IPY_MODEL_20c41169dbed41f4a37d31eb7a9eded9",
      "value": 5148
     }
    },
    "3c314f21d0254857977467dc5cf388d8": {
     "model_module": "@jupyter-widgets/base",
     "model_name": "LayoutModel",
     "state": {
      "_model_module": "@jupyter-widgets/base",
      "_model_module_version": "1.2.0",
      "_model_name": "LayoutModel",
      "_view_count": null,
      "_view_module": "@jupyter-widgets/base",
      "_view_module_version": "1.2.0",
      "_view_name": "LayoutView",
      "align_content": null,
      "align_items": null,
      "align_self": null,
      "border": null,
      "bottom": null,
      "display": null,
      "flex": null,
      "flex_flow": null,
      "grid_area": null,
      "grid_auto_columns": null,
      "grid_auto_flow": null,
      "grid_auto_rows": null,
      "grid_column": null,
      "grid_gap": null,
      "grid_row": null,
      "grid_template_areas": null,
      "grid_template_columns": null,
      "grid_template_rows": null,
      "height": null,
      "justify_content": null,
      "justify_items": null,
      "left": null,
      "margin": null,
      "max_height": null,
      "max_width": null,
      "min_height": null,
      "min_width": null,
      "object_fit": null,
      "object_position": null,
      "order": null,
      "overflow": null,
      "overflow_x": null,
      "overflow_y": null,
      "padding": null,
      "right": null,
      "top": null,
      "visibility": null,
      "width": null
     }
    },
    "3e7832279a5b4824bb068d6f9583d8e7": {
     "model_module": "@jupyter-widgets/base",
     "model_name": "LayoutModel",
     "state": {
      "_model_module": "@jupyter-widgets/base",
      "_model_module_version": "1.2.0",
      "_model_name": "LayoutModel",
      "_view_count": null,
      "_view_module": "@jupyter-widgets/base",
      "_view_module_version": "1.2.0",
      "_view_name": "LayoutView",
      "align_content": null,
      "align_items": null,
      "align_self": null,
      "border": null,
      "bottom": null,
      "display": null,
      "flex": null,
      "flex_flow": null,
      "grid_area": null,
      "grid_auto_columns": null,
      "grid_auto_flow": null,
      "grid_auto_rows": null,
      "grid_column": null,
      "grid_gap": null,
      "grid_row": null,
      "grid_template_areas": null,
      "grid_template_columns": null,
      "grid_template_rows": null,
      "height": null,
      "justify_content": null,
      "justify_items": null,
      "left": null,
      "margin": null,
      "max_height": null,
      "max_width": null,
      "min_height": null,
      "min_width": null,
      "object_fit": null,
      "object_position": null,
      "order": null,
      "overflow": null,
      "overflow_x": null,
      "overflow_y": null,
      "padding": null,
      "right": null,
      "top": null,
      "visibility": null,
      "width": null
     }
    },
    "644858a009cf4e19951d82aef3e99be2": {
     "model_module": "@jupyter-widgets/controls",
     "model_name": "FloatProgressModel",
     "state": {
      "_dom_classes": [],
      "_model_module": "@jupyter-widgets/controls",
      "_model_module_version": "1.5.0",
      "_model_name": "FloatProgressModel",
      "_view_count": null,
      "_view_module": "@jupyter-widgets/controls",
      "_view_module_version": "1.5.0",
      "_view_name": "ProgressView",
      "bar_style": "success",
      "description": "",
      "description_tooltip": null,
      "layout": "IPY_MODEL_3e7832279a5b4824bb068d6f9583d8e7",
      "max": 4422102,
      "min": 0,
      "orientation": "horizontal",
      "style": "IPY_MODEL_d3c1c6781053492e8ad1dbaa29d30666",
      "value": 4422102
     }
    },
    "65c8158f88434db186efb50e6d24e3d2": {
     "model_module": "@jupyter-widgets/controls",
     "model_name": "HTMLModel",
     "state": {
      "_dom_classes": [],
      "_model_module": "@jupyter-widgets/controls",
      "_model_module_version": "1.5.0",
      "_model_name": "HTMLModel",
      "_view_count": null,
      "_view_module": "@jupyter-widgets/controls",
      "_view_module_version": "1.5.0",
      "_view_name": "HTMLView",
      "description": "",
      "description_tooltip": null,
      "layout": "IPY_MODEL_8bc0cbd50da64cff8104b8b73bf80a6c",
      "placeholder": "​",
      "style": "IPY_MODEL_14f6c70d6e7b4777bb9ada2f4e727b20",
      "value": " 29696/? [00:02&lt;00:00, 14316.40it/s]"
     }
    },
    "6e8209e67f5346a29455aa643ea67754": {
     "model_module": "@jupyter-widgets/base",
     "model_name": "LayoutModel",
     "state": {
      "_model_module": "@jupyter-widgets/base",
      "_model_module_version": "1.2.0",
      "_model_name": "LayoutModel",
      "_view_count": null,
      "_view_module": "@jupyter-widgets/base",
      "_view_module_version": "1.2.0",
      "_view_name": "LayoutView",
      "align_content": null,
      "align_items": null,
      "align_self": null,
      "border": null,
      "bottom": null,
      "display": null,
      "flex": null,
      "flex_flow": null,
      "grid_area": null,
      "grid_auto_columns": null,
      "grid_auto_flow": null,
      "grid_auto_rows": null,
      "grid_column": null,
      "grid_gap": null,
      "grid_row": null,
      "grid_template_areas": null,
      "grid_template_columns": null,
      "grid_template_rows": null,
      "height": null,
      "justify_content": null,
      "justify_items": null,
      "left": null,
      "margin": null,
      "max_height": null,
      "max_width": null,
      "min_height": null,
      "min_width": null,
      "object_fit": null,
      "object_position": null,
      "order": null,
      "overflow": null,
      "overflow_x": null,
      "overflow_y": null,
      "padding": null,
      "right": null,
      "top": null,
      "visibility": null,
      "width": null
     }
    },
    "77ecbaa4ec064441b1c994ff3ea0ab53": {
     "model_module": "@jupyter-widgets/base",
     "model_name": "LayoutModel",
     "state": {
      "_model_module": "@jupyter-widgets/base",
      "_model_module_version": "1.2.0",
      "_model_name": "LayoutModel",
      "_view_count": null,
      "_view_module": "@jupyter-widgets/base",
      "_view_module_version": "1.2.0",
      "_view_name": "LayoutView",
      "align_content": null,
      "align_items": null,
      "align_self": null,
      "border": null,
      "bottom": null,
      "display": null,
      "flex": null,
      "flex_flow": null,
      "grid_area": null,
      "grid_auto_columns": null,
      "grid_auto_flow": null,
      "grid_auto_rows": null,
      "grid_column": null,
      "grid_gap": null,
      "grid_row": null,
      "grid_template_areas": null,
      "grid_template_columns": null,
      "grid_template_rows": null,
      "height": null,
      "justify_content": null,
      "justify_items": null,
      "left": null,
      "margin": null,
      "max_height": null,
      "max_width": null,
      "min_height": null,
      "min_width": null,
      "object_fit": null,
      "object_position": null,
      "order": null,
      "overflow": null,
      "overflow_x": null,
      "overflow_y": null,
      "padding": null,
      "right": null,
      "top": null,
      "visibility": null,
      "width": null
     }
    },
    "8abb864783ad46dd8355442a2df5eb69": {
     "model_module": "@jupyter-widgets/controls",
     "model_name": "DescriptionStyleModel",
     "state": {
      "_model_module": "@jupyter-widgets/controls",
      "_model_module_version": "1.5.0",
      "_model_name": "DescriptionStyleModel",
      "_view_count": null,
      "_view_module": "@jupyter-widgets/base",
      "_view_module_version": "1.2.0",
      "_view_name": "StyleView",
      "description_width": ""
     }
    },
    "8bc0cbd50da64cff8104b8b73bf80a6c": {
     "model_module": "@jupyter-widgets/base",
     "model_name": "LayoutModel",
     "state": {
      "_model_module": "@jupyter-widgets/base",
      "_model_module_version": "1.2.0",
      "_model_name": "LayoutModel",
      "_view_count": null,
      "_view_module": "@jupyter-widgets/base",
      "_view_module_version": "1.2.0",
      "_view_name": "LayoutView",
      "align_content": null,
      "align_items": null,
      "align_self": null,
      "border": null,
      "bottom": null,
      "display": null,
      "flex": null,
      "flex_flow": null,
      "grid_area": null,
      "grid_auto_columns": null,
      "grid_auto_flow": null,
      "grid_auto_rows": null,
      "grid_column": null,
      "grid_gap": null,
      "grid_row": null,
      "grid_template_areas": null,
      "grid_template_columns": null,
      "grid_template_rows": null,
      "height": null,
      "justify_content": null,
      "justify_items": null,
      "left": null,
      "margin": null,
      "max_height": null,
      "max_width": null,
      "min_height": null,
      "min_width": null,
      "object_fit": null,
      "object_position": null,
      "order": null,
      "overflow": null,
      "overflow_x": null,
      "overflow_y": null,
      "padding": null,
      "right": null,
      "top": null,
      "visibility": null,
      "width": null
     }
    },
    "996ef5cdc87143b8b9a520fcf18ca410": {
     "model_module": "@jupyter-widgets/controls",
     "model_name": "HBoxModel",
     "state": {
      "_dom_classes": [],
      "_model_module": "@jupyter-widgets/controls",
      "_model_module_version": "1.5.0",
      "_model_name": "HBoxModel",
      "_view_count": null,
      "_view_module": "@jupyter-widgets/controls",
      "_view_module_version": "1.5.0",
      "_view_name": "HBoxView",
      "box_style": "",
      "children": [
       "IPY_MODEL_bcdb5187af674da6bf859f9022aa3187",
       "IPY_MODEL_65c8158f88434db186efb50e6d24e3d2"
      ],
      "layout": "IPY_MODEL_3c314f21d0254857977467dc5cf388d8"
     }
    },
    "9efac0c9f5dc46f5bcbef47851834812": {
     "model_module": "@jupyter-widgets/controls",
     "model_name": "HTMLModel",
     "state": {
      "_dom_classes": [],
      "_model_module": "@jupyter-widgets/controls",
      "_model_module_version": "1.5.0",
      "_model_name": "HTMLModel",
      "_view_count": null,
      "_view_module": "@jupyter-widgets/controls",
      "_view_module_version": "1.5.0",
      "_view_name": "HTMLView",
      "description": "",
      "description_tooltip": null,
      "layout": "IPY_MODEL_77ecbaa4ec064441b1c994ff3ea0ab53",
      "placeholder": "​",
      "style": "IPY_MODEL_c7491424e8184077aaabfc7404d03636",
      "value": " 26422272/? [01:13&lt;00:00, 361147.47it/s]"
     }
    },
    "a07badc6380e40288591358a265a5623": {
     "model_module": "@jupyter-widgets/controls",
     "model_name": "HBoxModel",
     "state": {
      "_dom_classes": [],
      "_model_module": "@jupyter-widgets/controls",
      "_model_module_version": "1.5.0",
      "_model_name": "HBoxModel",
      "_view_count": null,
      "_view_module": "@jupyter-widgets/controls",
      "_view_module_version": "1.5.0",
      "_view_name": "HBoxView",
      "box_style": "",
      "children": [
       "IPY_MODEL_644858a009cf4e19951d82aef3e99be2",
       "IPY_MODEL_a1f0ee29b3194b61aa47a64b931c5d64"
      ],
      "layout": "IPY_MODEL_6e8209e67f5346a29455aa643ea67754"
     }
    },
    "a1f0ee29b3194b61aa47a64b931c5d64": {
     "model_module": "@jupyter-widgets/controls",
     "model_name": "HTMLModel",
     "state": {
      "_dom_classes": [],
      "_model_module": "@jupyter-widgets/controls",
      "_model_module_version": "1.5.0",
      "_model_name": "HTMLModel",
      "_view_count": null,
      "_view_module": "@jupyter-widgets/controls",
      "_view_module_version": "1.5.0",
      "_view_name": "HTMLView",
      "description": "",
      "description_tooltip": null,
      "layout": "IPY_MODEL_0f9c43c6d0524766b5f3bde3f11a59ef",
      "placeholder": "​",
      "style": "IPY_MODEL_2804f6f3ec3c4bb2bc9e80fd7d3d0694",
      "value": " 4422656/? [01:07&lt;00:00, 65596.92it/s]"
     }
    },
    "a576bed88b7042cf9c391c75a89b4468": {
     "model_module": "@jupyter-widgets/base",
     "model_name": "LayoutModel",
     "state": {
      "_model_module": "@jupyter-widgets/base",
      "_model_module_version": "1.2.0",
      "_model_name": "LayoutModel",
      "_view_count": null,
      "_view_module": "@jupyter-widgets/base",
      "_view_module_version": "1.2.0",
      "_view_name": "LayoutView",
      "align_content": null,
      "align_items": null,
      "align_self": null,
      "border": null,
      "bottom": null,
      "display": null,
      "flex": null,
      "flex_flow": null,
      "grid_area": null,
      "grid_auto_columns": null,
      "grid_auto_flow": null,
      "grid_auto_rows": null,
      "grid_column": null,
      "grid_gap": null,
      "grid_row": null,
      "grid_template_areas": null,
      "grid_template_columns": null,
      "grid_template_rows": null,
      "height": null,
      "justify_content": null,
      "justify_items": null,
      "left": null,
      "margin": null,
      "max_height": null,
      "max_width": null,
      "min_height": null,
      "min_width": null,
      "object_fit": null,
      "object_position": null,
      "order": null,
      "overflow": null,
      "overflow_x": null,
      "overflow_y": null,
      "padding": null,
      "right": null,
      "top": null,
      "visibility": null,
      "width": null
     }
    },
    "b62ef5f6ebe94a08ab479b7bbfa48e79": {
     "model_module": "@jupyter-widgets/base",
     "model_name": "LayoutModel",
     "state": {
      "_model_module": "@jupyter-widgets/base",
      "_model_module_version": "1.2.0",
      "_model_name": "LayoutModel",
      "_view_count": null,
      "_view_module": "@jupyter-widgets/base",
      "_view_module_version": "1.2.0",
      "_view_name": "LayoutView",
      "align_content": null,
      "align_items": null,
      "align_self": null,
      "border": null,
      "bottom": null,
      "display": null,
      "flex": null,
      "flex_flow": null,
      "grid_area": null,
      "grid_auto_columns": null,
      "grid_auto_flow": null,
      "grid_auto_rows": null,
      "grid_column": null,
      "grid_gap": null,
      "grid_row": null,
      "grid_template_areas": null,
      "grid_template_columns": null,
      "grid_template_rows": null,
      "height": null,
      "justify_content": null,
      "justify_items": null,
      "left": null,
      "margin": null,
      "max_height": null,
      "max_width": null,
      "min_height": null,
      "min_width": null,
      "object_fit": null,
      "object_position": null,
      "order": null,
      "overflow": null,
      "overflow_x": null,
      "overflow_y": null,
      "padding": null,
      "right": null,
      "top": null,
      "visibility": null,
      "width": null
     }
    },
    "b9f1849748b443369cc9fbb27234367a": {
     "model_module": "@jupyter-widgets/controls",
     "model_name": "HBoxModel",
     "state": {
      "_dom_classes": [],
      "_model_module": "@jupyter-widgets/controls",
      "_model_module_version": "1.5.0",
      "_model_name": "HBoxModel",
      "_view_count": null,
      "_view_module": "@jupyter-widgets/controls",
      "_view_module_version": "1.5.0",
      "_view_name": "HBoxView",
      "box_style": "",
      "children": [
       "IPY_MODEL_c191abb8dd264f3b95bd1794c38159e5",
       "IPY_MODEL_9efac0c9f5dc46f5bcbef47851834812"
      ],
      "layout": "IPY_MODEL_c8dadbc06bd6448f991279838d008235"
     }
    },
    "b9fc3a95fe704949a5cd3e2236648642": {
     "model_module": "@jupyter-widgets/controls",
     "model_name": "HBoxModel",
     "state": {
      "_dom_classes": [],
      "_model_module": "@jupyter-widgets/controls",
      "_model_module_version": "1.5.0",
      "_model_name": "HBoxModel",
      "_view_count": null,
      "_view_module": "@jupyter-widgets/controls",
      "_view_module_version": "1.5.0",
      "_view_name": "HBoxView",
      "box_style": "",
      "children": [
       "IPY_MODEL_30bab3b547eb4561ad0873cebf5b9d39",
       "IPY_MODEL_038ae77186134bcdb346d25d4346009a"
      ],
      "layout": "IPY_MODEL_d6f42e26b79844e4b6c60249617fc969"
     }
    },
    "bcdb5187af674da6bf859f9022aa3187": {
     "model_module": "@jupyter-widgets/controls",
     "model_name": "FloatProgressModel",
     "state": {
      "_dom_classes": [],
      "_model_module": "@jupyter-widgets/controls",
      "_model_module_version": "1.5.0",
      "_model_name": "FloatProgressModel",
      "_view_count": null,
      "_view_module": "@jupyter-widgets/controls",
      "_view_module_version": "1.5.0",
      "_view_name": "ProgressView",
      "bar_style": "success",
      "description": "",
      "description_tooltip": null,
      "layout": "IPY_MODEL_a576bed88b7042cf9c391c75a89b4468",
      "max": 29515,
      "min": 0,
      "orientation": "horizontal",
      "style": "IPY_MODEL_e983e8125a6b484bb22e34948fd848c2",
      "value": 29515
     }
    },
    "c191abb8dd264f3b95bd1794c38159e5": {
     "model_module": "@jupyter-widgets/controls",
     "model_name": "FloatProgressModel",
     "state": {
      "_dom_classes": [],
      "_model_module": "@jupyter-widgets/controls",
      "_model_module_version": "1.5.0",
      "_model_name": "FloatProgressModel",
      "_view_count": null,
      "_view_module": "@jupyter-widgets/controls",
      "_view_module_version": "1.5.0",
      "_view_name": "ProgressView",
      "bar_style": "success",
      "description": "",
      "description_tooltip": null,
      "layout": "IPY_MODEL_b62ef5f6ebe94a08ab479b7bbfa48e79",
      "max": 26421880,
      "min": 0,
      "orientation": "horizontal",
      "style": "IPY_MODEL_cabcc03f8c1949a5b7814f8c966b91b1",
      "value": 26421880
     }
    },
    "c4752e37d34f4bc4b732bb4bbc1380bd": {
     "model_module": "@jupyter-widgets/base",
     "model_name": "LayoutModel",
     "state": {
      "_model_module": "@jupyter-widgets/base",
      "_model_module_version": "1.2.0",
      "_model_name": "LayoutModel",
      "_view_count": null,
      "_view_module": "@jupyter-widgets/base",
      "_view_module_version": "1.2.0",
      "_view_name": "LayoutView",
      "align_content": null,
      "align_items": null,
      "align_self": null,
      "border": null,
      "bottom": null,
      "display": null,
      "flex": null,
      "flex_flow": null,
      "grid_area": null,
      "grid_auto_columns": null,
      "grid_auto_flow": null,
      "grid_auto_rows": null,
      "grid_column": null,
      "grid_gap": null,
      "grid_row": null,
      "grid_template_areas": null,
      "grid_template_columns": null,
      "grid_template_rows": null,
      "height": null,
      "justify_content": null,
      "justify_items": null,
      "left": null,
      "margin": null,
      "max_height": null,
      "max_width": null,
      "min_height": null,
      "min_width": null,
      "object_fit": null,
      "object_position": null,
      "order": null,
      "overflow": null,
      "overflow_x": null,
      "overflow_y": null,
      "padding": null,
      "right": null,
      "top": null,
      "visibility": null,
      "width": null
     }
    },
    "c7491424e8184077aaabfc7404d03636": {
     "model_module": "@jupyter-widgets/controls",
     "model_name": "DescriptionStyleModel",
     "state": {
      "_model_module": "@jupyter-widgets/controls",
      "_model_module_version": "1.5.0",
      "_model_name": "DescriptionStyleModel",
      "_view_count": null,
      "_view_module": "@jupyter-widgets/base",
      "_view_module_version": "1.2.0",
      "_view_name": "StyleView",
      "description_width": ""
     }
    },
    "c8dadbc06bd6448f991279838d008235": {
     "model_module": "@jupyter-widgets/base",
     "model_name": "LayoutModel",
     "state": {
      "_model_module": "@jupyter-widgets/base",
      "_model_module_version": "1.2.0",
      "_model_name": "LayoutModel",
      "_view_count": null,
      "_view_module": "@jupyter-widgets/base",
      "_view_module_version": "1.2.0",
      "_view_name": "LayoutView",
      "align_content": null,
      "align_items": null,
      "align_self": null,
      "border": null,
      "bottom": null,
      "display": null,
      "flex": null,
      "flex_flow": null,
      "grid_area": null,
      "grid_auto_columns": null,
      "grid_auto_flow": null,
      "grid_auto_rows": null,
      "grid_column": null,
      "grid_gap": null,
      "grid_row": null,
      "grid_template_areas": null,
      "grid_template_columns": null,
      "grid_template_rows": null,
      "height": null,
      "justify_content": null,
      "justify_items": null,
      "left": null,
      "margin": null,
      "max_height": null,
      "max_width": null,
      "min_height": null,
      "min_width": null,
      "object_fit": null,
      "object_position": null,
      "order": null,
      "overflow": null,
      "overflow_x": null,
      "overflow_y": null,
      "padding": null,
      "right": null,
      "top": null,
      "visibility": null,
      "width": null
     }
    },
    "cabcc03f8c1949a5b7814f8c966b91b1": {
     "model_module": "@jupyter-widgets/controls",
     "model_name": "ProgressStyleModel",
     "state": {
      "_model_module": "@jupyter-widgets/controls",
      "_model_module_version": "1.5.0",
      "_model_name": "ProgressStyleModel",
      "_view_count": null,
      "_view_module": "@jupyter-widgets/base",
      "_view_module_version": "1.2.0",
      "_view_name": "StyleView",
      "bar_color": null,
      "description_width": "initial"
     }
    },
    "d3c1c6781053492e8ad1dbaa29d30666": {
     "model_module": "@jupyter-widgets/controls",
     "model_name": "ProgressStyleModel",
     "state": {
      "_model_module": "@jupyter-widgets/controls",
      "_model_module_version": "1.5.0",
      "_model_name": "ProgressStyleModel",
      "_view_count": null,
      "_view_module": "@jupyter-widgets/base",
      "_view_module_version": "1.2.0",
      "_view_name": "StyleView",
      "bar_color": null,
      "description_width": "initial"
     }
    },
    "d6f42e26b79844e4b6c60249617fc969": {
     "model_module": "@jupyter-widgets/base",
     "model_name": "LayoutModel",
     "state": {
      "_model_module": "@jupyter-widgets/base",
      "_model_module_version": "1.2.0",
      "_model_name": "LayoutModel",
      "_view_count": null,
      "_view_module": "@jupyter-widgets/base",
      "_view_module_version": "1.2.0",
      "_view_name": "LayoutView",
      "align_content": null,
      "align_items": null,
      "align_self": null,
      "border": null,
      "bottom": null,
      "display": null,
      "flex": null,
      "flex_flow": null,
      "grid_area": null,
      "grid_auto_columns": null,
      "grid_auto_flow": null,
      "grid_auto_rows": null,
      "grid_column": null,
      "grid_gap": null,
      "grid_row": null,
      "grid_template_areas": null,
      "grid_template_columns": null,
      "grid_template_rows": null,
      "height": null,
      "justify_content": null,
      "justify_items": null,
      "left": null,
      "margin": null,
      "max_height": null,
      "max_width": null,
      "min_height": null,
      "min_width": null,
      "object_fit": null,
      "object_position": null,
      "order": null,
      "overflow": null,
      "overflow_x": null,
      "overflow_y": null,
      "padding": null,
      "right": null,
      "top": null,
      "visibility": null,
      "width": null
     }
    },
    "e983e8125a6b484bb22e34948fd848c2": {
     "model_module": "@jupyter-widgets/controls",
     "model_name": "ProgressStyleModel",
     "state": {
      "_model_module": "@jupyter-widgets/controls",
      "_model_module_version": "1.5.0",
      "_model_name": "ProgressStyleModel",
      "_view_count": null,
      "_view_module": "@jupyter-widgets/base",
      "_view_module_version": "1.2.0",
      "_view_name": "StyleView",
      "bar_color": null,
      "description_width": "initial"
     }
    },
    "ef7bfdf24b754ad6bcc09a72e74d1aef": {
     "model_module": "@jupyter-widgets/base",
     "model_name": "LayoutModel",
     "state": {
      "_model_module": "@jupyter-widgets/base",
      "_model_module_version": "1.2.0",
      "_model_name": "LayoutModel",
      "_view_count": null,
      "_view_module": "@jupyter-widgets/base",
      "_view_module_version": "1.2.0",
      "_view_name": "LayoutView",
      "align_content": null,
      "align_items": null,
      "align_self": null,
      "border": null,
      "bottom": null,
      "display": null,
      "flex": null,
      "flex_flow": null,
      "grid_area": null,
      "grid_auto_columns": null,
      "grid_auto_flow": null,
      "grid_auto_rows": null,
      "grid_column": null,
      "grid_gap": null,
      "grid_row": null,
      "grid_template_areas": null,
      "grid_template_columns": null,
      "grid_template_rows": null,
      "height": null,
      "justify_content": null,
      "justify_items": null,
      "left": null,
      "margin": null,
      "max_height": null,
      "max_width": null,
      "min_height": null,
      "min_width": null,
      "object_fit": null,
      "object_position": null,
      "order": null,
      "overflow": null,
      "overflow_x": null,
      "overflow_y": null,
      "padding": null,
      "right": null,
      "top": null,
      "visibility": null,
      "width": null
     }
    }
   }
  }
 },
 "nbformat": 4,
 "nbformat_minor": 4
}
