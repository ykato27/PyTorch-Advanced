{
 "cells": [
  {
   "cell_type": "markdown",
   "metadata": {
    "id": "1-44uTTLDWF4"
   },
   "source": [
    "「PyTorch入門  4. モデル構築」\n",
    "===============================================================\n",
    "【原題】BUILD THE NEURAL NETWORK\n",
    "\n",
    "【原著】\n",
    "[Suraj Subramanian](https://github.com/suraj813)、[Seth Juarez](https://github.com/sethjuarez/) 、[Cassie Breviu](https://github.com/cassieview/) 、[Dmitry Soshnikov](https://soshnikov.com/)、[Ari Bornstein](https://github.com/aribornstein/) \n",
    "\n",
    "\n",
    "【元URL】https://pytorch.org/tutorials/beginner/basics/buildmodel_tutorial.html\n",
    "\n",
    "【翻訳】電通国際情報サービスISID AIトランスフォーメーションセンター　小川 雄太郎\n",
    "\n",
    "【日付】2021年03月18日\n",
    "\n",
    "【チュトーリアル概要】\n",
    "\n",
    "本チュートリアルでは、PyTorchでニューラルネットワークのモデルを構築する方法について解説します\n",
    "\n",
    "---\n"
   ]
  },
  {
   "cell_type": "markdown",
   "metadata": {
    "id": "VIY1DSd3DQVy"
   },
   "source": [
    "ニューラルネットワークモデルの作り方\n",
    "===================\n",
    "\n",
    "ニューラルネットワークは、レイヤー（もしくはモジュール）と呼ばれるデータ操作の固まりで構成されています。\n",
    "\n",
    "[`torch.nn`](https://pytorch.org/docs/stable/nn.html)で用意されているクラス、関数は、独自のニューラルネットワークを構築するために必要な要素を網羅しています。\n",
    "\n"
   ]
  },
  {
   "cell_type": "markdown",
   "metadata": {
    "id": "O48CtJdPEMkO"
   },
   "source": [
    "PyTorchの全てのモジュールは、[`nn.Module`](https://pytorch.org/docs/stable/generated/torch.nn.Module.html)を継承しています。\n",
    "\n",
    "\n",
    "そしてニューラルネットワークは、モジュール自体が他のモジュール（レイヤー）から構成されています。\n",
    "\n",
    "<br>\n",
    "\n",
    "この入れ子構造により、複雑なアーキテクチャを容易に構築・管理することができます。\n",
    "\n",
    "以下で、FashionMNIST datasetの画像データをクラス分類するネットワークモデルを構築します。\n",
    "\n",
    "\n"
   ]
  },
  {
   "cell_type": "code",
   "execution_count": 1,
   "metadata": {},
   "outputs": [],
   "source": [
    "%load_ext lab_black"
   ]
  },
  {
   "cell_type": "code",
   "execution_count": 2,
   "metadata": {
    "executionInfo": {
     "elapsed": 675,
     "status": "ok",
     "timestamp": 1616111439437,
     "user": {
      "displayName": "小川雄太郎",
      "photoUrl": "",
      "userId": "06190430902934159529"
     },
     "user_tz": -540
    },
    "id": "_XTunWqXDQVq"
   },
   "outputs": [],
   "source": [
    "%matplotlib inline"
   ]
  },
  {
   "cell_type": "code",
   "execution_count": 3,
   "metadata": {
    "executionInfo": {
     "elapsed": 4461,
     "status": "ok",
     "timestamp": 1616111443236,
     "user": {
      "displayName": "小川雄太郎",
      "photoUrl": "",
      "userId": "06190430902934159529"
     },
     "user_tz": -540
    },
    "id": "TUMfUWVdDQVz"
   },
   "outputs": [],
   "source": [
    "import os\n",
    "import torch\n",
    "from torch import nn\n",
    "from torch.utils.data import DataLoader\n",
    "from torchvision import datasets, transforms"
   ]
  },
  {
   "cell_type": "markdown",
   "metadata": {
    "id": "otI1Xn70v5Wb"
   },
   "source": [
    "---"
   ]
  },
  {
   "cell_type": "markdown",
   "metadata": {
    "id": "MEc8RAXEDQVz"
   },
   "source": [
    "訓練に使用するデバイス\n",
    "-----------------------\n",
    "可能であれば高速に訓練を行うためにも、GPU等を利用したいところです。\n",
    "\n",
    "GPUが使用可能かどうかは、[`torch.cuda`](https://pytorch.org/docs/stable/notes/cuda.html)の結果から判断できます。\n",
    "\n",
    "GPUが使用できない場合は、CPUで訓練を行います。\n",
    "\n"
   ]
  },
  {
   "cell_type": "code",
   "execution_count": 4,
   "metadata": {
    "colab": {
     "base_uri": "https://localhost:8080/"
    },
    "executionInfo": {
     "elapsed": 515,
     "status": "ok",
     "timestamp": 1616111499681,
     "user": {
      "displayName": "小川雄太郎",
      "photoUrl": "",
      "userId": "06190430902934159529"
     },
     "user_tz": -540
    },
    "id": "dLbeJ_yEDQV0",
    "outputId": "42c24b6c-7200-4406-b445-70f6cea06ce2"
   },
   "outputs": [
    {
     "name": "stdout",
     "output_type": "stream",
     "text": [
      "Using cpu device\n"
     ]
    }
   ],
   "source": [
    "device = \"cuda\" if torch.cuda.is_available() else \"cpu\"\n",
    "print(\"Using {} device\".format(device))"
   ]
  },
  {
   "cell_type": "markdown",
   "metadata": {
    "id": "tWDDz3oLwKnS"
   },
   "source": [
    "---\n",
    "\n"
   ]
  },
  {
   "cell_type": "markdown",
   "metadata": {
    "id": "hpwQpfqaDQV0"
   },
   "source": [
    "クラスの定義\n",
    "-------------------------\n",
    "``nn.Module``を継承し、独自のネットワークモデルを定義し、その後ネットワークのレイヤーを ``__init__``で初期化します。\n",
    "\n",
    "``nn.Module`` を継承した全モジュールは、入力データの順伝搬関数である``forward``関数を持ちます。\n",
    "\n",
    "\n",
    "\n"
   ]
  },
  {
   "cell_type": "code",
   "execution_count": 5,
   "metadata": {
    "executionInfo": {
     "elapsed": 475,
     "status": "ok",
     "timestamp": 1616111539594,
     "user": {
      "displayName": "小川雄太郎",
      "photoUrl": "",
      "userId": "06190430902934159529"
     },
     "user_tz": -540
    },
    "id": "_YIBi6hlDQV0"
   },
   "outputs": [],
   "source": [
    "class NeuralNetwork(nn.Module):\n",
    "    def __init__(self):\n",
    "        super(NeuralNetwork, self).__init__()\n",
    "        self.flatten = nn.Flatten()\n",
    "        self.linear_relu_stack = nn.Sequential(\n",
    "            nn.Linear(28 * 28, 512),\n",
    "            nn.ReLU(),\n",
    "            nn.Linear(512, 512),\n",
    "            nn.ReLU(),\n",
    "            nn.Linear(512, 10),\n",
    "            nn.ReLU(),\n",
    "        )\n",
    "\n",
    "    def forward(self, x):\n",
    "        x = self.flatten(x)\n",
    "        logits = self.linear_relu_stack(x)\n",
    "        return logits"
   ]
  },
  {
   "cell_type": "markdown",
   "metadata": {
    "id": "hR4LTBLUDQV0"
   },
   "source": [
    "``NeuralNetwork``クラスのインスタンスを作成し、変数``device``上に移動させます。\n",
    "\n",
    "以下でネットワークの構造を出力し確認します。\n",
    "\n"
   ]
  },
  {
   "cell_type": "code",
   "execution_count": 6,
   "metadata": {
    "colab": {
     "base_uri": "https://localhost:8080/"
    },
    "executionInfo": {
     "elapsed": 11016,
     "status": "ok",
     "timestamp": 1616111577671,
     "user": {
      "displayName": "小川雄太郎",
      "photoUrl": "",
      "userId": "06190430902934159529"
     },
     "user_tz": -540
    },
    "id": "KHJ-YiukDQV1",
    "outputId": "75c1a2b9-5d21-48a8-d87f-882dce1ecbc1"
   },
   "outputs": [
    {
     "name": "stdout",
     "output_type": "stream",
     "text": [
      "NeuralNetwork(\n",
      "  (flatten): Flatten(start_dim=1, end_dim=-1)\n",
      "  (linear_relu_stack): Sequential(\n",
      "    (0): Linear(in_features=784, out_features=512, bias=True)\n",
      "    (1): ReLU()\n",
      "    (2): Linear(in_features=512, out_features=512, bias=True)\n",
      "    (3): ReLU()\n",
      "    (4): Linear(in_features=512, out_features=10, bias=True)\n",
      "    (5): ReLU()\n",
      "  )\n",
      ")\n"
     ]
    }
   ],
   "source": [
    "model = NeuralNetwork().to(device)\n",
    "print(model)"
   ]
  },
  {
   "cell_type": "markdown",
   "metadata": {
    "id": "dKOb-C4RDQV1"
   },
   "source": [
    "モデルを利用するには、入力データを与える必要があります。\n",
    "\n",
    "入力データをモデルに投入すると、``forward``関数で処理されるとともに、いくつかの[`background operations`](https://github.com/pytorch/pytorch/blob/270111b7b611d174967ed204776985cefca9c144/torch/nn/modules/module.py#L866)が実行されます。\n",
    "\n",
    "そのため、 ``model.forward()`` と記載して入力データを処理しないように注意してください。\n",
    "\n"
   ]
  },
  {
   "cell_type": "markdown",
   "metadata": {
    "id": "5yYt8p8_TEf1"
   },
   "source": [
    "今回のモデルに入力を与えると、各クラスの生の予測値を含む10次元のテンソルが返されます。\n",
    "\n",
    "``nn.Softmax``モジュールにこの出力結果を与えることで、入力データが各クラスに属する確率の予測値を求めることができます。\n",
    "\n",
    "\n",
    "\n"
   ]
  },
  {
   "cell_type": "code",
   "execution_count": 7,
   "metadata": {
    "colab": {
     "base_uri": "https://localhost:8080/"
    },
    "executionInfo": {
     "elapsed": 474,
     "status": "ok",
     "timestamp": 1616111681843,
     "user": {
      "displayName": "小川雄太郎",
      "photoUrl": "",
      "userId": "06190430902934159529"
     },
     "user_tz": -540
    },
    "id": "Oe691X8VDQV1",
    "outputId": "78185c90-d28b-45a7-95a4-b854828bc4bd"
   },
   "outputs": [
    {
     "name": "stdout",
     "output_type": "stream",
     "text": [
      "Predicted class: tensor([0])\n"
     ]
    }
   ],
   "source": [
    "X = torch.rand(1, 28, 28, device=device)\n",
    "logits = model(X)\n",
    "pred_probab = nn.Softmax(dim=1)(logits)\n",
    "y_pred = pred_probab.argmax(1)\n",
    "print(f\"Predicted class: {y_pred}\")"
   ]
  },
  {
   "cell_type": "markdown",
   "metadata": {
    "id": "fzpK4yM_DQV1"
   },
   "source": [
    "--------------\n",
    "\n",
    "\n"
   ]
  },
  {
   "cell_type": "markdown",
   "metadata": {
    "id": "fpqmh-JcDQV2"
   },
   "source": [
    "モデルレイヤー\n",
    "-------------------------\n",
    "\n",
    "FashionMNISTモデルを各レイヤーレベルで確認しましょう。\n",
    "\n",
    "サイズ28x28の3枚の画像からなるミニバッチのサンプルを用意し、このミニバッチをネットワークに入力し、各処理による変化を確認していきます。\n",
    "\n"
   ]
  },
  {
   "cell_type": "code",
   "execution_count": 8,
   "metadata": {
    "colab": {
     "base_uri": "https://localhost:8080/"
    },
    "executionInfo": {
     "elapsed": 446,
     "status": "ok",
     "timestamp": 1616111959056,
     "user": {
      "displayName": "小川雄太郎",
      "photoUrl": "",
      "userId": "06190430902934159529"
     },
     "user_tz": -540
    },
    "id": "n8Zv7Y-FDQV2",
    "outputId": "970013f3-bc01-4ccd-bdb4-daf483c2f9a2"
   },
   "outputs": [
    {
     "name": "stdout",
     "output_type": "stream",
     "text": [
      "torch.Size([3, 28, 28])\n"
     ]
    }
   ],
   "source": [
    "input_image = torch.rand(3, 28, 28)\n",
    "print(input_image.size())"
   ]
  },
  {
   "cell_type": "markdown",
   "metadata": {
    "id": "KMJPYwfvDQV2"
   },
   "source": [
    "**nn.Flatten**\n",
    "\n",
    "[`nn.Flatten`](https://pytorch.org/docs/stable/generated/torch.nn.Flatten.html)レイヤーで、2次元（28x28）の画像を、1次元の784ピクセルの値へと変換します。\n",
    "\n",
    "ミニバッチの0次元目は、サンプル番号を示す次元で、この次元は`nn.Flatten`を通しても変化しません（1次元目以降がFlattenされます）。\n",
    "\n"
   ]
  },
  {
   "cell_type": "code",
   "execution_count": 9,
   "metadata": {
    "colab": {
     "base_uri": "https://localhost:8080/"
    },
    "executionInfo": {
     "elapsed": 865,
     "status": "ok",
     "timestamp": 1616112059682,
     "user": {
      "displayName": "小川雄太郎",
      "photoUrl": "",
      "userId": "06190430902934159529"
     },
     "user_tz": -540
    },
    "id": "22uMacy6DQV2",
    "outputId": "ccaefff7-85ce-4c1d-b8d6-c1aa852fa0c5"
   },
   "outputs": [
    {
     "name": "stdout",
     "output_type": "stream",
     "text": [
      "torch.Size([3, 784])\n"
     ]
    }
   ],
   "source": [
    "flatten = nn.Flatten()\n",
    "flat_image = flatten(input_image)\n",
    "print(flat_image.size())"
   ]
  },
  {
   "cell_type": "markdown",
   "metadata": {
    "id": "sJwCXtkHDQV3"
   },
   "source": [
    "**nn.Linear** \n",
    "\n",
    "\n",
    "[`linear layer`](https://pytorch.org/docs/stable/generated/torch.nn.Linear.html)は、線形変換を施します。\n",
    "\n",
    "`linear layer`は重みとバイアスのパラメータを保持しています。\n",
    "\n",
    "\n",
    "\n"
   ]
  },
  {
   "cell_type": "code",
   "execution_count": 10,
   "metadata": {
    "colab": {
     "base_uri": "https://localhost:8080/"
    },
    "executionInfo": {
     "elapsed": 939,
     "status": "ok",
     "timestamp": 1616112076404,
     "user": {
      "displayName": "小川雄太郎",
      "photoUrl": "",
      "userId": "06190430902934159529"
     },
     "user_tz": -540
    },
    "id": "70AxgqAKDQV3",
    "outputId": "e24c45c1-0c05-42e9-9f72-5af8b4dbc6d5"
   },
   "outputs": [
    {
     "name": "stdout",
     "output_type": "stream",
     "text": [
      "torch.Size([3, 20])\n"
     ]
    }
   ],
   "source": [
    "layer1 = nn.Linear(in_features=28 * 28, out_features=20)\n",
    "hidden1 = layer1(flat_image)\n",
    "print(hidden1.size())"
   ]
  },
  {
   "cell_type": "markdown",
   "metadata": {
    "id": "267YsX6VDQV3"
   },
   "source": [
    "**nn.ReLU**\n",
    "\n",
    "非線形な活性化関数は、ニューラルネットワークの入力と出力の間にある、複雑な関係性を表現するために重要な要素です。\n",
    "\n",
    "これらの活性化関数は線形変換のあとに、非線形性を加え、ニューラルネットワークの表現力を向上させる役割をします。\n",
    "\n",
    "<br>\n",
    "\n",
    "今回のモデルでは[`nn.ReLU`](https://pytorch.org/docs/stable/generated/torch.nn.ReLU.html)をlinear layerの間に用意しました。\n",
    "\n",
    "なお、非線形活性化関数には他にも様々な種類があります。\n",
    "\n"
   ]
  },
  {
   "cell_type": "code",
   "execution_count": 11,
   "metadata": {
    "colab": {
     "base_uri": "https://localhost:8080/"
    },
    "executionInfo": {
     "elapsed": 822,
     "status": "ok",
     "timestamp": 1616112144775,
     "user": {
      "displayName": "小川雄太郎",
      "photoUrl": "",
      "userId": "06190430902934159529"
     },
     "user_tz": -540
    },
    "id": "UujPSM2ZDQV3",
    "outputId": "cd007092-1f64-4159-abf6-e6781ed7117c"
   },
   "outputs": [
    {
     "name": "stdout",
     "output_type": "stream",
     "text": [
      "Before ReLU: tensor([[ 0.2828, -0.5616,  0.0528,  0.1397, -0.0168, -0.5177, -0.4881, -0.1613,\n",
      "          0.4703, -0.1115, -0.0919,  0.6296,  0.5314, -0.1182,  0.1555,  0.1564,\n",
      "         -0.0394, -0.1634,  0.5461,  0.0099],\n",
      "        [ 0.3341, -0.6381,  0.0701, -0.1267,  0.1408, -0.4912, -0.4336, -0.4294,\n",
      "          0.2513,  0.4710, -0.4369,  0.1852,  0.4607, -0.1675,  0.1243,  0.2947,\n",
      "          0.2342, -0.2011,  0.6222, -0.4276],\n",
      "        [ 0.0210, -0.4948,  0.0339,  0.0770,  0.2622, -0.7262, -0.2526, -0.7636,\n",
      "          0.1175, -0.2621, -0.3155,  0.2871,  0.6108, -0.3881,  0.1238,  0.4461,\n",
      "          0.0707, -0.1718,  0.4002,  0.2049]], grad_fn=<AddmmBackward>)\n",
      "\n",
      "\n",
      "After ReLU: tensor([[0.2828, 0.0000, 0.0528, 0.1397, 0.0000, 0.0000, 0.0000, 0.0000, 0.4703,\n",
      "         0.0000, 0.0000, 0.6296, 0.5314, 0.0000, 0.1555, 0.1564, 0.0000, 0.0000,\n",
      "         0.5461, 0.0099],\n",
      "        [0.3341, 0.0000, 0.0701, 0.0000, 0.1408, 0.0000, 0.0000, 0.0000, 0.2513,\n",
      "         0.4710, 0.0000, 0.1852, 0.4607, 0.0000, 0.1243, 0.2947, 0.2342, 0.0000,\n",
      "         0.6222, 0.0000],\n",
      "        [0.0210, 0.0000, 0.0339, 0.0770, 0.2622, 0.0000, 0.0000, 0.0000, 0.1175,\n",
      "         0.0000, 0.0000, 0.2871, 0.6108, 0.0000, 0.1238, 0.4461, 0.0707, 0.0000,\n",
      "         0.4002, 0.2049]], grad_fn=<ReluBackward0>)\n"
     ]
    }
   ],
   "source": [
    "print(f\"Before ReLU: {hidden1}\\n\\n\")\n",
    "hidden1 = nn.ReLU()(hidden1)\n",
    "print(f\"After ReLU: {hidden1}\")"
   ]
  },
  {
   "cell_type": "markdown",
   "metadata": {
    "id": "5AGGLji7DQV3"
   },
   "source": [
    "**nn.Sequential**\n",
    "\n",
    "[``nn.Sequential``](https://pytorch.org/docs/stable/generated/torch.nn.Sequential.html)は、モジュールを順番に格納する箱のような要素です。\n",
    "\n",
    "入力データは``nn.Sequential``に定義された順番に各モジュールを伝搬します。\n",
    "\n",
    "<br>\n",
    "\n",
    "例えば以下の実装例のように、``seq_modules``と名付けた、複数のモジュールを束ねたモジュールを簡単に構築できます。\n",
    "\n",
    "\n"
   ]
  },
  {
   "cell_type": "code",
   "execution_count": 12,
   "metadata": {
    "executionInfo": {
     "elapsed": 473,
     "status": "ok",
     "timestamp": 1616112225868,
     "user": {
      "displayName": "小川雄太郎",
      "photoUrl": "",
      "userId": "06190430902934159529"
     },
     "user_tz": -540
    },
    "id": "axARfNRODQV4"
   },
   "outputs": [],
   "source": [
    "seq_modules = nn.Sequential(flatten, layer1, nn.ReLU(), nn.Linear(20, 10))\n",
    "input_image = torch.rand(3, 28, 28)\n",
    "logits = seq_modules(input_image)"
   ]
  },
  {
   "cell_type": "markdown",
   "metadata": {
    "id": "0GZvNNVkDQV4"
   },
   "source": [
    "**nn.Softmax**\n",
    "\n",
    "ニューラルネットワークの最後のlinear layerは`logits` [- ∞, ∞] を出力します。\n",
    "\n",
    "\n",
    "この`logits`は[`nn.Softmax`](https://pytorch.org/docs/stable/generated/torch.nn.Softmax.html)モジュールへと渡されます。\n",
    "\n",
    "\n",
    "その結果、採取的な値は[0, 1]の範囲となり、これは各クラスである確率を示します。\n",
    "\n",
    "\n",
    "``dim``パラメータは次元を示しており、`dim=1`の次元で和を求めると確率の総和なので1になります。\n",
    "\n",
    "\n"
   ]
  },
  {
   "cell_type": "code",
   "execution_count": 13,
   "metadata": {
    "executionInfo": {
     "elapsed": 470,
     "status": "ok",
     "timestamp": 1616112367956,
     "user": {
      "displayName": "小川雄太郎",
      "photoUrl": "",
      "userId": "06190430902934159529"
     },
     "user_tz": -540
    },
    "id": "67Cs9aruDQV4"
   },
   "outputs": [],
   "source": [
    "softmax = nn.Softmax(dim=1)\n",
    "pred_probab = softmax(logits)"
   ]
  },
  {
   "cell_type": "markdown",
   "metadata": {
    "id": "QS1oOkuBzcxV"
   },
   "source": [
    "---\n",
    "\n",
    "\n"
   ]
  },
  {
   "cell_type": "markdown",
   "metadata": {
    "id": "XtI1LxYQDQV5"
   },
   "source": [
    "モデルパラメータ\n",
    "-------------------------\n",
    "\n",
    "ニューラルネットワークを構成する多くのモジュールは、おのおのパラメータを保持しています。\n",
    "\n",
    "例えば、重みやバイアスです。これらの値が訓練時に最適化されます。\n",
    "\n"
   ]
  },
  {
   "cell_type": "markdown",
   "metadata": {
    "id": "4FJU0RwzzkHB"
   },
   "source": [
    "\n",
    "``nn.Module`` を継承することで、モデルオブジェクト内で定義されたすべてのフィールドが自動的に追跡でき、``parameters()`` や ``named_parameters()`` メソッドを使って、モデルの各レイヤーのすべてのパラメータにアクセスできるようになります。\n",
    "\n",
    "以下にfor文を用いて、各パラメータを処理し、そのサイズと値を表示します。\n",
    "\n"
   ]
  },
  {
   "cell_type": "code",
   "execution_count": 14,
   "metadata": {
    "colab": {
     "base_uri": "https://localhost:8080/"
    },
    "executionInfo": {
     "elapsed": 522,
     "status": "ok",
     "timestamp": 1616112413320,
     "user": {
      "displayName": "小川雄太郎",
      "photoUrl": "",
      "userId": "06190430902934159529"
     },
     "user_tz": -540
    },
    "id": "Sw5LzlOpDQV6",
    "outputId": "9c0f88d2-8eb7-4ef0-81d6-29fbe79a8534"
   },
   "outputs": [
    {
     "name": "stdout",
     "output_type": "stream",
     "text": [
      "Model structure:  NeuralNetwork(\n",
      "  (flatten): Flatten(start_dim=1, end_dim=-1)\n",
      "  (linear_relu_stack): Sequential(\n",
      "    (0): Linear(in_features=784, out_features=512, bias=True)\n",
      "    (1): ReLU()\n",
      "    (2): Linear(in_features=512, out_features=512, bias=True)\n",
      "    (3): ReLU()\n",
      "    (4): Linear(in_features=512, out_features=10, bias=True)\n",
      "    (5): ReLU()\n",
      "  )\n",
      ") \n",
      "\n",
      "\n",
      "Layer: linear_relu_stack.0.weight | Size: torch.Size([512, 784]) | Values : tensor([[ 0.0247, -0.0044, -0.0301,  ...,  0.0277, -0.0060,  0.0030],\n",
      "        [ 0.0277,  0.0109, -0.0351,  ..., -0.0151, -0.0193, -0.0127]],\n",
      "       grad_fn=<SliceBackward>) \n",
      "\n",
      "Layer: linear_relu_stack.0.bias | Size: torch.Size([512]) | Values : tensor([-0.0180,  0.0257], grad_fn=<SliceBackward>) \n",
      "\n",
      "Layer: linear_relu_stack.2.weight | Size: torch.Size([512, 512]) | Values : tensor([[-0.0168,  0.0094,  0.0121,  ...,  0.0023, -0.0140,  0.0076],\n",
      "        [ 0.0261, -0.0128,  0.0288,  ..., -0.0162, -0.0053,  0.0254]],\n",
      "       grad_fn=<SliceBackward>) \n",
      "\n",
      "Layer: linear_relu_stack.2.bias | Size: torch.Size([512]) | Values : tensor([-0.0142, -0.0008], grad_fn=<SliceBackward>) \n",
      "\n",
      "Layer: linear_relu_stack.4.weight | Size: torch.Size([10, 512]) | Values : tensor([[ 0.0135,  0.0414, -0.0441,  ..., -0.0247, -0.0031, -0.0331],\n",
      "        [-0.0006,  0.0024,  0.0162,  ..., -0.0019,  0.0215, -0.0139]],\n",
      "       grad_fn=<SliceBackward>) \n",
      "\n",
      "Layer: linear_relu_stack.4.bias | Size: torch.Size([10]) | Values : tensor([0.0433, 0.0413], grad_fn=<SliceBackward>) \n",
      "\n"
     ]
    }
   ],
   "source": [
    "print(\"Model structure: \", model, \"\\n\\n\")\n",
    "\n",
    "for name, param in model.named_parameters():\n",
    "    print(f\"Layer: {name} | Size: {param.size()} | Values : {param[:2]} \\n\")"
   ]
  },
  {
   "cell_type": "markdown",
   "metadata": {
    "id": "4Yh1qjzmDQV7"
   },
   "source": [
    "--------------\n",
    "\n",
    "\n"
   ]
  },
  {
   "cell_type": "markdown",
   "metadata": {
    "id": "ME7O9JTjDQV7"
   },
   "source": [
    "さらなる詳細\n",
    "--------------\n",
    "以下のページも参考ください。\n",
    "\n",
    "- [`torch.nn API`](https://pytorch.org/docs/stable/nn.html)\n",
    "\n"
   ]
  },
  {
   "cell_type": "markdown",
   "metadata": {
    "id": "Z3IHCW65X6tV"
   },
   "source": [
    "以上。"
   ]
  }
 ],
 "metadata": {
  "accelerator": "GPU",
  "colab": {
   "collapsed_sections": [],
   "name": "0_4_buildmodel_tutorial_js.ipynb",
   "provenance": [],
   "toc_visible": true
  },
  "kernelspec": {
   "display_name": "Python 3",
   "language": "python",
   "name": "python3"
  },
  "language_info": {
   "codemirror_mode": {
    "name": "ipython",
    "version": 3
   },
   "file_extension": ".py",
   "mimetype": "text/x-python",
   "name": "python",
   "nbconvert_exporter": "python",
   "pygments_lexer": "ipython3",
   "version": "3.9.4"
  }
 },
 "nbformat": 4,
 "nbformat_minor": 4
}
