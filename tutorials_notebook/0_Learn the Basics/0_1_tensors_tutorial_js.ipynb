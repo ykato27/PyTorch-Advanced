{
 "cells": [
  {
   "cell_type": "markdown",
   "metadata": {
    "id": "lrcFW8fIpIdD"
   },
   "source": [
    "「PyTorch入門  1. テンソル」\n",
    "===============================================================\n",
    "【原題】TENSORS\n",
    "\n",
    "【原著】\n",
    "[Suraj Subramanian](https://github.com/suraj813)、[Seth Juarez](https://github.com/sethjuarez/) 、[Cassie Breviu](https://github.com/cassieview/) 、[Dmitry Soshnikov](https://soshnikov.com/)、[Ari Bornstein](https://github.com/aribornstein/) \n",
    "\n",
    "\n",
    "【元URL】https://pytorch.org/tutorials/beginner/basics/tensorqs_tutorial.html\n",
    "\n",
    "【翻訳】電通国際情報サービスISID AIトランスフォーメーションセンター　小川 雄太郎\n",
    "\n",
    "【日付】2021年03月20日\n",
    "\n",
    "【チュトーリアル概要】\n",
    "\n",
    "本チュートリアルでは、PyTorchの基本データ型である、Tensor（テンソル）について解説を行います。\n"
   ]
  },
  {
   "cell_type": "markdown",
   "metadata": {
    "id": "qP43GdSypjIh"
   },
   "source": [
    "テンソル：Tensors \n",
    "==========================\n",
    "\n",
    "テンソルは特殊なデータ構造で、配列や行列によく似ています。\n",
    "\n",
    "PyTorchではテンソル型の変数を使用して、モデルの入力と出力、そしてモデルのパラメータを表現します。\n"
   ]
  },
  {
   "cell_type": "markdown",
   "metadata": {
    "id": "k5c9yTQpp9pP"
   },
   "source": [
    "テンソルは[NumPy](https://numpy.org/)のndarraysに似ていますが、違いとしてGPUや他のハードウェアアクセラレータ上で動作させることができます。\n",
    "\n",
    "テンソルとNumPyの配列は基本的には同じメモリを共有することができるため、2つの型間での変換時にはデータをコピーする必要がありません。\n",
    "\n",
    "\n"
   ]
  },
  {
   "cell_type": "markdown",
   "metadata": {
    "id": "mczXVnIbqslq"
   },
   "source": [
    "\n",
    "テンソルはその他に、自動微分に最適化されています（この点については、後ほど5. 自動微分にて、詳しく説明します）。\n",
    "\n",
    "NumPyのndarraysに慣れている人は、Tensor APIをすぐに使いこなせると思います。\n",
    "\n",
    "そうでない場合には、本チュートリアルを通してぜひ習得してください。"
   ]
  },
  {
   "cell_type": "code",
   "execution_count": 1,
   "metadata": {},
   "outputs": [],
   "source": [
    "%load_ext lab_black"
   ]
  },
  {
   "cell_type": "code",
   "execution_count": 2,
   "metadata": {
    "id": "D68ZUMDoo65Z"
   },
   "outputs": [],
   "source": [
    "%matplotlib inline"
   ]
  },
  {
   "cell_type": "code",
   "execution_count": 3,
   "metadata": {
    "id": "6oOJ0Pj1o65h"
   },
   "outputs": [],
   "source": [
    "import torch\n",
    "import numpy as np"
   ]
  },
  {
   "cell_type": "markdown",
   "metadata": {
    "id": "qNpNfUJDqwhg"
   },
   "source": [
    "テンソルの初期化\n",
    "=======================\n",
    "\n",
    "テンソルは様々な手法で初期化できます。\n",
    "\n",
    "以下に例を示します。\n",
    "\n"
   ]
  },
  {
   "cell_type": "markdown",
   "metadata": {
    "id": "gD6xIZDhrEvF"
   },
   "source": [
    "**データから直接テンソルに変換**\n",
    "\n",
    "データから直接テンソルを作ることができます。\n",
    "\n",
    "その際、データ型は自動的に推測されます。\n"
   ]
  },
  {
   "cell_type": "code",
   "execution_count": 4,
   "metadata": {
    "id": "1Zo-5JUco65i"
   },
   "outputs": [],
   "source": [
    "data = [[1, 2], [3, 4]]\n",
    "x_data = torch.tensor(data)"
   ]
  },
  {
   "cell_type": "markdown",
   "metadata": {
    "id": "0i4Re_DCo65j"
   },
   "source": [
    "**NumPy arrayからテンソルに変換**\n",
    "\n",
    "テンソルとNumpy arraysは相互に変換可能です。\n",
    "\n"
   ]
  },
  {
   "cell_type": "code",
   "execution_count": 5,
   "metadata": {
    "id": "SErVsUQmo65k"
   },
   "outputs": [],
   "source": [
    "np_array = np.array(data)\n",
    "x_np = torch.from_numpy(np_array)"
   ]
  },
  {
   "cell_type": "markdown",
   "metadata": {
    "id": "YIwtzI63o65k"
   },
   "source": [
    "**他のテンソルから作成**\n",
    "\n",
    "他のテンソルから新しいテンソルを作成する場合、明示的に上書きされない限り、引数のテンソルのプロパティ（形状、データ型）を保持します。\n"
   ]
  },
  {
   "cell_type": "code",
   "execution_count": 6,
   "metadata": {
    "colab": {
     "base_uri": "https://localhost:8080/"
    },
    "executionInfo": {
     "elapsed": 4593,
     "status": "ok",
     "timestamp": 1616109418354,
     "user": {
      "displayName": "小川雄太郎",
      "photoUrl": "",
      "userId": "06190430902934159529"
     },
     "user_tz": -540
    },
    "id": "W9AX5RQZo65l",
    "outputId": "35a950cc-e917-485c-c781-45cd79666aa0"
   },
   "outputs": [
    {
     "name": "stdout",
     "output_type": "stream",
     "text": [
      "Ones Tensor: \n",
      " tensor([[1, 1],\n",
      "        [1, 1]]) \n",
      "\n",
      "Random Tensor: \n",
      " tensor([[0.4712, 0.8112],\n",
      "        [0.8590, 0.6028]]) \n",
      "\n"
     ]
    }
   ],
   "source": [
    "x_ones = torch.ones_like(x_data)  # x_dataの特性（プロパティ）を維持\n",
    "print(f\"Ones Tensor: \\n {x_ones} \\n\")\n",
    "\n",
    "x_rand = torch.rand_like(x_data, dtype=torch.float)  # x_dataのdatatypeを上書き更新\n",
    "print(f\"Random Tensor: \\n {x_rand} \\n\")"
   ]
  },
  {
   "cell_type": "markdown",
   "metadata": {
    "id": "smW9ouQZo65l"
   },
   "source": [
    "**ランダム値や定数のテンソルの作成**\n",
    "\n",
    "\n",
    "``shape``は、テンソルの次元を示すタプルです。\n",
    "\n",
    "以下の例では、shapeからテンソルのサイズを決めています。\n",
    "\n",
    "\n",
    "\n"
   ]
  },
  {
   "cell_type": "code",
   "execution_count": 7,
   "metadata": {
    "colab": {
     "base_uri": "https://localhost:8080/"
    },
    "executionInfo": {
     "elapsed": 4584,
     "status": "ok",
     "timestamp": 1616109418355,
     "user": {
      "displayName": "小川雄太郎",
      "photoUrl": "",
      "userId": "06190430902934159529"
     },
     "user_tz": -540
    },
    "id": "nrHFyTYCo65m",
    "outputId": "b89d5766-3c4e-41bc-aa3d-796b19e1edcd"
   },
   "outputs": [
    {
     "name": "stdout",
     "output_type": "stream",
     "text": [
      "Random Tensor: \n",
      " tensor([[0.9994, 0.6439, 0.2814],\n",
      "        [0.1280, 0.2388, 0.7360]]) \n",
      "\n",
      "Ones Tensor: \n",
      " tensor([[1., 1., 1.],\n",
      "        [1., 1., 1.]]) \n",
      "\n",
      "Zeros Tensor: \n",
      " tensor([[0., 0., 0.],\n",
      "        [0., 0., 0.]])\n"
     ]
    }
   ],
   "source": [
    "shape = (\n",
    "    2,\n",
    "    3,\n",
    ")\n",
    "rand_tensor = torch.rand(shape)\n",
    "ones_tensor = torch.ones(shape)\n",
    "zeros_tensor = torch.zeros(shape)\n",
    "\n",
    "print(f\"Random Tensor: \\n {rand_tensor} \\n\")\n",
    "print(f\"Ones Tensor: \\n {ones_tensor} \\n\")\n",
    "print(f\"Zeros Tensor: \\n {zeros_tensor}\")"
   ]
  },
  {
   "cell_type": "markdown",
   "metadata": {
    "id": "ZzjHNug-o65m"
   },
   "source": [
    "--------------\n",
    "\n",
    "\n"
   ]
  },
  {
   "cell_type": "markdown",
   "metadata": {
    "id": "lX4udb5ao65n"
   },
   "source": [
    "テンソルの属性変数\n",
    "==================\n",
    "\n",
    "\n",
    "テンソルは属性変数として、その形状、データの型、保存されているデバイスを保持しています。\n"
   ]
  },
  {
   "cell_type": "code",
   "execution_count": 8,
   "metadata": {
    "colab": {
     "base_uri": "https://localhost:8080/"
    },
    "executionInfo": {
     "elapsed": 4579,
     "status": "ok",
     "timestamp": 1616109418356,
     "user": {
      "displayName": "小川雄太郎",
      "photoUrl": "",
      "userId": "06190430902934159529"
     },
     "user_tz": -540
    },
    "id": "iXMqBDEXo65n",
    "outputId": "340e5841-f9a2-4770-d861-786bb846eb98"
   },
   "outputs": [
    {
     "name": "stdout",
     "output_type": "stream",
     "text": [
      "Shape of tensor: torch.Size([3, 4])\n",
      "Datatype of tensor: torch.float32\n",
      "Device tensor is stored on: cpu\n"
     ]
    }
   ],
   "source": [
    "tensor = torch.rand(3, 4)\n",
    "\n",
    "print(f\"Shape of tensor: {tensor.shape}\")\n",
    "print(f\"Datatype of tensor: {tensor.dtype}\")\n",
    "print(f\"Device tensor is stored on: {tensor.device}\")"
   ]
  },
  {
   "cell_type": "markdown",
   "metadata": {
    "id": "kfBIS-6Eo65o"
   },
   "source": [
    "--------------\n",
    "\n",
    "\n"
   ]
  },
  {
   "cell_type": "markdown",
   "metadata": {
    "id": "Z6hnnVOCo65o"
   },
   "source": [
    "テンソルの操作\n",
    "==================\n",
    "\n",
    "PyTorchでは、算術、線形代数、行列操作（転置、インデックス、スライス）など、100種類以上のテンソル演算が可能です。\n",
    "\n",
    "種々操作の詳細は[こちら]((https://pytorch.org/docs/stable/torch.html)\n",
    ")をご覧ください。\n",
    "\n",
    "\n",
    "\n"
   ]
  },
  {
   "cell_type": "markdown",
   "metadata": {
    "id": "lAwgHWRMnQNf"
   },
   "source": [
    "\n",
    "各操作はGPU上で実行可能です（一般的にCPUの場合より高速です）。\n",
    "\n",
    "\n",
    "Google Colaboratoryを使用している場合は、GPUを使用できるように設定してください。\n",
    "\n",
    "（Runtime > Change runtime type > GPU）"
   ]
  },
  {
   "cell_type": "markdown",
   "metadata": {
    "id": "JrGlCnhttGc4"
   },
   "source": [
    "デフォルトではテンソルはCPU上で作られます。\n",
    "\n",
    "そのため、明示的に、``.to``メソッドを使用して、テンソルをGPU上へと移動させます。\n",
    "\n",
    "大きなテンソルをデバイス間でコピーすると、時間とメモリの面でコストがかかる点にご注意ください。\n"
   ]
  },
  {
   "cell_type": "code",
   "execution_count": 9,
   "metadata": {
    "id": "A6_nStSgo65o"
   },
   "outputs": [],
   "source": [
    "# GPUが使用可能であれば、GPU上にテンソルを移動させる\n",
    "if torch.cuda.is_available():\n",
    "    tensor = tensor.to(\"cuda\")"
   ]
  },
  {
   "cell_type": "markdown",
   "metadata": {
    "id": "syaRBPBho65p"
   },
   "source": [
    "テンソル操作の中からいくつかを試してみましょう。\n",
    "\n",
    "NumPy APIに慣れていれば、Tensor APIも簡単に使えるようになると思います。\n",
    "\n",
    "\n"
   ]
  },
  {
   "cell_type": "markdown",
   "metadata": {
    "id": "7u3kTw8to65p"
   },
   "source": [
    "**numpy-likeなindexingとslicing:**\n",
    "\n"
   ]
  },
  {
   "cell_type": "code",
   "execution_count": 10,
   "metadata": {
    "colab": {
     "base_uri": "https://localhost:8080/"
    },
    "executionInfo": {
     "elapsed": 15023,
     "status": "ok",
     "timestamp": 1616109428808,
     "user": {
      "displayName": "小川雄太郎",
      "photoUrl": "",
      "userId": "06190430902934159529"
     },
     "user_tz": -540
    },
    "id": "1OF85To5o65p",
    "outputId": "5ba15f0d-2d80-40f1-bf7d-91a735a257ac"
   },
   "outputs": [
    {
     "name": "stdout",
     "output_type": "stream",
     "text": [
      "First row:  tensor([1., 1., 1., 1.])\n",
      "First column:  tensor([1., 1., 1., 1.])\n",
      "Last column: tensor([1., 1., 1., 1.])\n",
      "tensor([[1., 0., 1., 1.],\n",
      "        [1., 0., 1., 1.],\n",
      "        [1., 0., 1., 1.],\n",
      "        [1., 0., 1., 1.]])\n"
     ]
    }
   ],
   "source": [
    "tensor = torch.ones(4, 4)\n",
    "print(\"First row: \", tensor[0])\n",
    "print(\"First column: \", tensor[:, 0])\n",
    "print(\"Last column:\", tensor[..., -1])\n",
    "tensor[:, 1] = 0\n",
    "print(tensor)"
   ]
  },
  {
   "cell_type": "markdown",
   "metadata": {
    "id": "wHWwoi5wo65p"
   },
   "source": [
    "**テンソルの結合** \n",
    "\n",
    "\n",
    "``torch.cat``を使用することで、テンソルを特定の次元に沿って結合させることができます（詳細は[こちら](https://pytorch.org/docs/stable/generated/torch.stack.html)をご覧ください）。\n",
    "\n",
    "``torch.cat``とは微妙に異なるテンソル結合演算である[``torch.stack``](https://pytorch.org/docs/stable/generated/torch.stack.html)も確認しておいてください。\n",
    "\n"
   ]
  },
  {
   "cell_type": "code",
   "execution_count": 11,
   "metadata": {
    "colab": {
     "base_uri": "https://localhost:8080/"
    },
    "executionInfo": {
     "elapsed": 15018,
     "status": "ok",
     "timestamp": 1616109428809,
     "user": {
      "displayName": "小川雄太郎",
      "photoUrl": "",
      "userId": "06190430902934159529"
     },
     "user_tz": -540
    },
    "id": "cS0A8qYao65q",
    "outputId": "d93abbd4-db30-47d5-d1b1-09b1b732dadc"
   },
   "outputs": [
    {
     "name": "stdout",
     "output_type": "stream",
     "text": [
      "tensor([[1., 0., 1., 1., 1., 0., 1., 1., 1., 0., 1., 1.],\n",
      "        [1., 0., 1., 1., 1., 0., 1., 1., 1., 0., 1., 1.],\n",
      "        [1., 0., 1., 1., 1., 0., 1., 1., 1., 0., 1., 1.],\n",
      "        [1., 0., 1., 1., 1., 0., 1., 1., 1., 0., 1., 1.]])\n"
     ]
    }
   ],
   "source": [
    "t1 = torch.cat([tensor, tensor, tensor], dim=1)\n",
    "print(t1)"
   ]
  },
  {
   "cell_type": "markdown",
   "metadata": {
    "id": "wVuoj3lDo65q"
   },
   "source": [
    "**算術演算**\n",
    "\n"
   ]
  },
  {
   "cell_type": "code",
   "execution_count": 12,
   "metadata": {
    "colab": {
     "base_uri": "https://localhost:8080/"
    },
    "executionInfo": {
     "elapsed": 15012,
     "status": "ok",
     "timestamp": 1616109428809,
     "user": {
      "displayName": "小川雄太郎",
      "photoUrl": "",
      "userId": "06190430902934159529"
     },
     "user_tz": -540
    },
    "id": "L00SHkoMo65q",
    "outputId": "461d0bcc-d1c5-4a5e-d732-e8f3c47a6ec2"
   },
   "outputs": [
    {
     "data": {
      "text/plain": [
       "tensor([[1., 0., 1., 1.],\n",
       "        [1., 0., 1., 1.],\n",
       "        [1., 0., 1., 1.],\n",
       "        [1., 0., 1., 1.]])"
      ]
     },
     "execution_count": 12,
     "metadata": {},
     "output_type": "execute_result"
    }
   ],
   "source": [
    "# 2つのテンソル行列のかけ算です。 y1, y2, y3 は同じ結果になります。\n",
    "y1 = tensor @ tensor.T\n",
    "y2 = tensor.matmul(tensor.T)\n",
    "\n",
    "y3 = torch.rand_like(tensor)\n",
    "torch.matmul(tensor, tensor.T, out=y3)\n",
    "\n",
    "\n",
    "# こちらは、要素ごとの積を求めます。 z1, z2, z3 は同じ値になります。\n",
    "z1 = tensor * tensor\n",
    "z2 = tensor.mul(tensor)\n",
    "\n",
    "z3 = torch.rand_like(tensor)\n",
    "torch.mul(tensor, tensor, out=z3)"
   ]
  },
  {
   "cell_type": "markdown",
   "metadata": {
    "id": "zCjumJ0uo65r"
   },
   "source": [
    "**1要素のテンソル** \n",
    "\n",
    "1要素のテンソル（テンソルの全要素を足し算する等をした結果生まれます）を扱う場合には、``.item()``を使用することでPythonの数値型変数に変換できます。\n",
    "\n",
    "\n"
   ]
  },
  {
   "cell_type": "code",
   "execution_count": 13,
   "metadata": {
    "colab": {
     "base_uri": "https://localhost:8080/"
    },
    "executionInfo": {
     "elapsed": 15008,
     "status": "ok",
     "timestamp": 1616109428810,
     "user": {
      "displayName": "小川雄太郎",
      "photoUrl": "",
      "userId": "06190430902934159529"
     },
     "user_tz": -540
    },
    "id": "TrA8pq1Jo65r",
    "outputId": "ee2b1956-ee16-4d6f-f3b6-ce4b07c3114e"
   },
   "outputs": [
    {
     "name": "stdout",
     "output_type": "stream",
     "text": [
      "12.0 <class 'float'>\n"
     ]
    }
   ],
   "source": [
    "agg = tensor.sum()\n",
    "agg_item = agg.item()\n",
    "print(agg_item, type(agg_item))"
   ]
  },
  {
   "cell_type": "markdown",
   "metadata": {
    "id": "QeM8WbzUo65s"
   },
   "source": [
    "**インプレース操作**\n",
    "\n",
    "\n",
    "演算結果をオペランドに格納する演算をインプレースと呼びます。\n",
    "\n",
    "メソッドの最後、接尾辞として操作名に、 ``_`` が付きます。\n",
    "\n",
    "例えば、``x.copy_(y)``, ``x.t_()``であり、``x``の内容そのものを更新します。\n",
    "\n"
   ]
  },
  {
   "cell_type": "code",
   "execution_count": 14,
   "metadata": {
    "colab": {
     "base_uri": "https://localhost:8080/"
    },
    "executionInfo": {
     "elapsed": 15001,
     "status": "ok",
     "timestamp": 1616109428810,
     "user": {
      "displayName": "小川雄太郎",
      "photoUrl": "",
      "userId": "06190430902934159529"
     },
     "user_tz": -540
    },
    "id": "OQCoq-t6o65s",
    "outputId": "d6abd31e-120c-4631-ed58-adf0bd054663"
   },
   "outputs": [
    {
     "name": "stdout",
     "output_type": "stream",
     "text": [
      "tensor([[1., 0., 1., 1.],\n",
      "        [1., 0., 1., 1.],\n",
      "        [1., 0., 1., 1.],\n",
      "        [1., 0., 1., 1.]]) \n",
      "\n",
      "tensor([[6., 5., 6., 6.],\n",
      "        [6., 5., 6., 6.],\n",
      "        [6., 5., 6., 6.],\n",
      "        [6., 5., 6., 6.]])\n"
     ]
    }
   ],
   "source": [
    "print(tensor, \"\\n\")\n",
    "tensor.add_(5)\n",
    "print(tensor)"
   ]
  },
  {
   "cell_type": "markdown",
   "metadata": {
    "id": "jzahS3_ho65s"
   },
   "source": [
    "【注意】\n",
    "\n",
    "\n",
    "インプレース操作はメモリを節約できますが、演算履歴が失われてしまうため、微分を計算する際には問題となります。\n",
    "\n",
    "そのため、そのような微分を求める場面ではインプレース操作の使用は推奨されていません。\n",
    "\n"
   ]
  },
  {
   "cell_type": "markdown",
   "metadata": {
    "id": "m3TyDfUoo65t"
   },
   "source": [
    "--------------\n",
    "\n",
    "\n"
   ]
  },
  {
   "cell_type": "markdown",
   "metadata": {
    "id": "3-KDP7cFo65t"
   },
   "source": [
    "NumPyとの変換\n",
    "=========================\n",
    "\n",
    "CPU上のテンソルとNumpy arraysは同じメモリを共有することができ、相互変換が容易です。\n",
    "\n"
   ]
  },
  {
   "cell_type": "markdown",
   "metadata": {
    "id": "Tmbb956fo65t"
   },
   "source": [
    "**Tensor to NumPy array**\n",
    "\n",
    "\n"
   ]
  },
  {
   "cell_type": "code",
   "execution_count": 15,
   "metadata": {
    "colab": {
     "base_uri": "https://localhost:8080/"
    },
    "executionInfo": {
     "elapsed": 14996,
     "status": "ok",
     "timestamp": 1616109428811,
     "user": {
      "displayName": "小川雄太郎",
      "photoUrl": "",
      "userId": "06190430902934159529"
     },
     "user_tz": -540
    },
    "id": "AlExSMGso65u",
    "outputId": "2d75be60-c611-4b42-e5b8-d523e2461234"
   },
   "outputs": [
    {
     "name": "stdout",
     "output_type": "stream",
     "text": [
      "t: tensor([1., 1., 1., 1., 1.])\n",
      "n: [1. 1. 1. 1. 1.]\n"
     ]
    }
   ],
   "source": [
    "t = torch.ones(5)\n",
    "print(f\"t: {t}\")\n",
    "n = t.numpy()\n",
    "print(f\"n: {n}\")"
   ]
  },
  {
   "cell_type": "markdown",
   "metadata": {
    "id": "yyPjEJA6o65u"
   },
   "source": [
    "この際、テンソルが変化すると、Numpy側も変化します。\n",
    "\n"
   ]
  },
  {
   "cell_type": "code",
   "execution_count": 16,
   "metadata": {
    "colab": {
     "base_uri": "https://localhost:8080/"
    },
    "executionInfo": {
     "elapsed": 14990,
     "status": "ok",
     "timestamp": 1616109428811,
     "user": {
      "displayName": "小川雄太郎",
      "photoUrl": "",
      "userId": "06190430902934159529"
     },
     "user_tz": -540
    },
    "id": "4SuCn_Lro65v",
    "outputId": "6e9a5ca7-d981-414a-f37e-2cffffbb2cf2"
   },
   "outputs": [
    {
     "name": "stdout",
     "output_type": "stream",
     "text": [
      "t: tensor([2., 2., 2., 2., 2.])\n",
      "n: [2. 2. 2. 2. 2.]\n"
     ]
    }
   ],
   "source": [
    "t.add_(1)\n",
    "print(f\"t: {t}\")\n",
    "print(f\"n: {n}\")"
   ]
  },
  {
   "cell_type": "markdown",
   "metadata": {
    "id": "Rc7EbiQco65w"
   },
   "source": [
    "**NumPy array to Tensor**\n",
    "\n"
   ]
  },
  {
   "cell_type": "code",
   "execution_count": 17,
   "metadata": {
    "id": "KbrBK5x3o65w"
   },
   "outputs": [],
   "source": [
    "n = np.ones(5)\n",
    "t = torch.from_numpy(n)"
   ]
  },
  {
   "cell_type": "markdown",
   "metadata": {
    "id": "FD4gRgwio65w"
   },
   "source": [
    "NumPy arrayの変化はテンソル側にも反映されます。\n",
    "\n"
   ]
  },
  {
   "cell_type": "code",
   "execution_count": 18,
   "metadata": {
    "colab": {
     "base_uri": "https://localhost:8080/"
    },
    "executionInfo": {
     "elapsed": 14983,
     "status": "ok",
     "timestamp": 1616109428812,
     "user": {
      "displayName": "小川雄太郎",
      "photoUrl": "",
      "userId": "06190430902934159529"
     },
     "user_tz": -540
    },
    "id": "dEjB9iMJo65w",
    "outputId": "c8cf4541-1795-4b79-93af-691d325022b0"
   },
   "outputs": [
    {
     "name": "stdout",
     "output_type": "stream",
     "text": [
      "t: tensor([2., 2., 2., 2., 2.], dtype=torch.float64)\n",
      "n: [2. 2. 2. 2. 2.]\n"
     ]
    }
   ],
   "source": [
    "np.add(n, 1, out=n)\n",
    "print(f\"t: {t}\")\n",
    "print(f\"n: {n}\")"
   ]
  },
  {
   "cell_type": "markdown",
   "metadata": {
    "id": "bdocpOeVwstC"
   },
   "source": [
    "以上。"
   ]
  }
 ],
 "metadata": {
  "accelerator": "GPU",
  "colab": {
   "collapsed_sections": [],
   "name": "0_1_tensorqs_tutorial_js.ipynb",
   "provenance": [],
   "toc_visible": true
  },
  "kernelspec": {
   "display_name": "Python 3",
   "language": "python",
   "name": "python3"
  },
  "language_info": {
   "codemirror_mode": {
    "name": "ipython",
    "version": 3
   },
   "file_extension": ".py",
   "mimetype": "text/x-python",
   "name": "python",
   "nbconvert_exporter": "python",
   "pygments_lexer": "ipython3",
   "version": "3.9.4"
  }
 },
 "nbformat": 4,
 "nbformat_minor": 4
}
