{
 "cells": [
  {
   "cell_type": "markdown",
   "metadata": {
    "id": "TBS4kDClIE3r"
   },
   "source": [
    "「PyTorch入門 目次」\n",
    "===============================================================\n",
    "【原題】Learn the Basics\n",
    "\n",
    "【原著】\n",
    "[Suraj Subramanian](https://github.com/suraj813)、[Seth Juarez](https://github.com/sethjuarez/) 、[Cassie Breviu](https://github.com/cassieview/) 、[Dmitry Soshnikov](https://soshnikov.com/)、[Ari Bornstein](https://github.com/aribornstein/) \n",
    "\n",
    "\n",
    "【元URL】https://pytorch.org/tutorials/beginner/basics/intro.html\n",
    "\n",
    "【翻訳】電通国際情報サービスISID AIトランスフォーメーションセンター　小川 雄太郎\n",
    "\n",
    "【日付】2021年03月20日\n",
    "\n",
    "【チュトーリアル概要】\n",
    "\n",
    "本チュートリアルでは、「PyTorch入門」シリーズの概要を説明します。\n",
    "\n",
    "----\n",
    "\n"
   ]
  },
  {
   "cell_type": "markdown",
   "metadata": {
    "id": "0504kmS_I4NB"
   },
   "source": [
    "機械学習のワークフロー（≒実装手続き）では、データの操作、モデルの作成、モデルのパラメータの最適化、学習したモデルの保存などを行います。本チュートリアルでは、上記のワークフローをPyTorchで実装する方法を解説します。\n",
    "\n",
    "\n"
   ]
  },
  {
   "cell_type": "markdown",
   "metadata": {
    "id": "PDhanbsVKOmT"
   },
   "source": [
    "本シリーズでは題材として、FashionMNISTデータセットを使用し、入力画像が以下のクラスのいずれかに属するかどうかを予測するニューラルネットワークを学習させます。\n",
    "\n",
    "<br>\n",
    "\n",
    "（FashionMNISTのクラス一覧）\n",
    "\n",
    "T-shirt/top、Trouser、Pullover、Dress、Coat、Sandal、Shirt、Sneaker、Bag、Ankle boot\n",
    "\n",
    "\n",
    "\n"
   ]
  },
  {
   "cell_type": "markdown",
   "metadata": {
    "id": "qim-dh8oKR2I"
   },
   "source": [
    "\n",
    "【注意】\n",
    "\n",
    "本シリーズの各チュートリアルは、PythonとDeep Learningの概念について基本的な知識があることを前提としています。\n",
    "\n",
    "\n"
   ]
  },
  {
   "cell_type": "markdown",
   "metadata": {
    "id": "b4hfW77uI0gL"
   },
   "source": [
    "---\n"
   ]
  },
  {
   "cell_type": "markdown",
   "metadata": {
    "id": "nNFQfKWLKYEw"
   },
   "source": [
    "コードの実行方法\n",
    "------------------\n",
    "本シリーズの実装コードは2通りの手法で実行できます。\n",
    "\n",
    "\n",
    "- **クラウド環境**：こちらが一番簡単な方法です。Google ColaboratoryではGPUランタイムを使用し、処理を高速化できます。<br>設定方法は、 *Runtime > Change runtime type > GPU* です。\n",
    "\n",
    "\n",
    "\n",
    "- **ローカル環境**：ローカル環境で実行するには、まずローカルマシンでPyTorchとTorchVisionをセットアップする必要があります([インストール手順](https://pytorch.org/get-started/locally/))。ノートブックをダウンロードするか、コードをお好きなIDEにコピーしてください。"
   ]
  },
  {
   "cell_type": "markdown",
   "metadata": {
    "id": "3eFoF5SWI2t3"
   },
   "source": [
    "---\n"
   ]
  },
  {
   "cell_type": "markdown",
   "metadata": {
    "id": "S8Bagy-zLbfJ"
   },
   "source": [
    "「PyTorch入門」シリーズの進め方\n",
    "----------------- \n",
    "\n",
    "ディープラーニングフレームワークの利用経験があり、ディープラーニングの実装に慣れている方は、\n",
    "\n",
    "[8. クイックスタート](https://colab.research.google.com/github/YutaroOgawa/pytorch_tutorials_jp/blob/main/notebook/0_Learn%20the%20Basics/0_8_quickstart_tutorial_jp.ipynb)を確認し、PyTorchのAPIに慣れてください。\n",
    "\n",
    "<br>\n",
    "\n",
    "ディープラーニングフレームワークを利用した実装に初めて取り組む方は、本シリーズを1 stepずつ進めてください。\n",
    "\n",
    "次は、[1. テンソル](https://colab.research.google.com/github/YutaroOgawa/pytorch_tutorials_jp/blob/main/notebook/0_Learn%20the%20Basics/0_1_tensors_tutorial_js.ipynb)にお進みください。\n",
    "\n",
    "\n",
    "\n"
   ]
  },
  {
   "cell_type": "markdown",
   "metadata": {
    "id": "mJrkEJo6HkoZ"
   },
   "source": [
    "以下、本シリーズの目次となります。\n",
    "\n",
    "1. テンソル（Tensors）\n",
    "2. データセットとデータローダー（Datasets & DataLoaders）\n",
    "3. データ変換（Transforms）\n",
    "4. モデル構築（Build Model）\n",
    "5. 自動微分（Autograd）\n",
    "6. 最適化（Optimization Loop）\n",
    "7. モデルの保存・読み込み（Save, Load and Use Model）\n",
    "8. クイックスタート（Quickstart）"
   ]
  },
  {
   "cell_type": "markdown",
   "metadata": {
    "id": "SVucItIbM8u-"
   },
   "source": [
    "以上。"
   ]
  }
 ],
 "metadata": {
  "colab": {
   "collapsed_sections": [],
   "name": "0_0_intro_jp.ipynb",
   "provenance": [],
   "toc_visible": true
  },
  "kernelspec": {
   "display_name": "Python 3",
   "language": "python",
   "name": "python3"
  },
  "language_info": {
   "codemirror_mode": {
    "name": "ipython",
    "version": 3
   },
   "file_extension": ".py",
   "mimetype": "text/x-python",
   "name": "python",
   "nbconvert_exporter": "python",
   "pygments_lexer": "ipython3",
   "version": "3.9.4"
  }
 },
 "nbformat": 4,
 "nbformat_minor": 4
}
