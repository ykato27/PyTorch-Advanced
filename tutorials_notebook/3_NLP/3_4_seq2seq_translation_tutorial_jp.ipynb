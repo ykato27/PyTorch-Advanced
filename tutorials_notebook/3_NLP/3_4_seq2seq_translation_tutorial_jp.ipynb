{
  "nbformat": 4,
  "nbformat_minor": 0,
  "metadata": {
    "kernelspec": {
      "display_name": "Python 3",
      "language": "python",
      "name": "python3"
    },
    "language_info": {
      "codemirror_mode": {
        "name": "ipython",
        "version": 3
      },
      "file_extension": ".py",
      "mimetype": "text/x-python",
      "name": "python",
      "nbconvert_exporter": "python",
      "pygments_lexer": "ipython3",
      "version": "3.6.8"
    },
    "colab": {
      "name": "3_4_seq2seq_translation_tutorial_jp.ipynb",
      "provenance": [],
      "collapsed_sections": [],
      "toc_visible": true
    },
    "accelerator": "GPU"
  },
  "cells": [
    {
      "cell_type": "markdown",
      "metadata": {
        "id": "ZNJcaFURWc-x"
      },
      "source": [
        "「sequence to sequenceモデル＋アテンションによる翻訳モデル」\n",
        "=====\n",
        "\n",
        "【原題】NLP From Scratch: Translation with a sequence to sequence network and attention\n",
        "\n",
        "【原著】[Sean Robertson](https://github.com/spro/practical-pytorch)\n",
        "\n",
        "【元URL】https://pytorch.org/tutorials/intermediate/seq2seq_translation_tutorial.html\n",
        "\n",
        "【翻訳】電通国際情報サービスISID AIトランスフォーメーションセンター　御手洗 拓真\n",
        "\n",
        "【日付】2020年11月05日\n",
        "\n",
        "【チュトーリアル概要】\n",
        "\n",
        "sequence to sequencモデルに、アテンションを適用したモデルを構築して、英語からフランス語への翻訳を行います。"
      ]
    },
    {
      "cell_type": "markdown",
      "metadata": {
        "id": "D4WKmrwBV_3B"
      },
      "source": [
        "本チュートリアルは、「ゼロから作るNLP」の三番目であり、そして最後となるチュートリアルです。\n",
        "\n",
        "本チュートリアルでは自然言語処モデリングにおいて必要となる、データの前処理をするために、独自のクラスや関数を実装します。\n",
        "\n",
        "\n",
        "\n"
      ]
    },
    {
      "cell_type": "markdown",
      "metadata": {
        "id": "S9sJbUrJL1cA"
      },
      "source": [
        "\r\n",
        "本チュートリアルを終えた後は、今回実装するようなデータ前処理を、`torchtext`ではどのように扱うのか、この後に続く3つのチュートリアルを実施して、学んで頂ければと思います。\r\n",
        "\r\n",
        "以下の例は、フランス語から英語に翻訳するためのニューラルネットワークの出力結果例です。\r\n",
        "\r\n",
        "```\r\n",
        "[KEY: > input, = target, < output]\r\n",
        "\r\n",
        "> il est en train de peindre un tableau .\r\n",
        "= he is painting a picture .\r\n",
        "< he is painting a picture .\r\n",
        "\r\n",
        "> pourquoi ne pas essayer ce vin delicieux ?\r\n",
        "= why not try that delicious wine ?\r\n",
        "< why not try that delicious wine ?\r\n",
        "\r\n",
        "> elle n est pas poete mais romanciere .\r\n",
        "= she is not a poet but a novelist .\r\n",
        "< she not not a poet but a novelist .\r\n",
        "\r\n",
        "> vous etes trop maigre .\r\n",
        "= you re too skinny .\r\n",
        "< you re all alone .\r\n",
        "```\r\n",
        "\r\n",
        "まぁ、翻訳の精度は様々ですが、、、。\r\n"
      ]
    },
    {
      "cell_type": "markdown",
      "metadata": {
        "id": "TMe_6zlmiykS"
      },
      "source": [
        "\n",
        "\n",
        "[sequence to sequence ネットワーク](https://arxiv.org/abs/1409.3215)と呼ばれる、シンプルかつ強力なアイデアによって、このような翻訳が可能となりました。\n",
        "\n",
        "<br>\n",
        "\n",
        "sequence to sequence ネットワークでは、二つのリカレント・ニューラルネットワークを使用し、とあるシーケンスを別のシーケンスに翻訳します。\n",
        "\n",
        "具体的には、まずエンコーダ・ネットワークが入力シーケンスをベクトルとして圧縮し、そのベクトルから、デコーダ・ネットワークが新しいシーケンスを生成します。\n",
        "\n"
      ]
    },
    {
      "cell_type": "markdown",
      "metadata": {
        "id": "Od1SR7nRW1TA"
      },
      "source": [
        "![image.png](data:image/png;base64,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)"
      ]
    },
    {
      "cell_type": "markdown",
      "metadata": {
        "id": "tCinoHU2jaRy"
      },
      "source": [
        "（日本語訳注：上図の例では、[02 85 03 12 99]というシーケンスをEncoderに入力すると、EncoderはContextと記載されている内容を出力します。\r\n",
        "\r\n",
        "続いてDecoderがContextから、[42 82 16 04 99]というシーケンスを出力しています。\r\n",
        "\r\n",
        "また、ここにおける[42 82 16 04 99]といった、シーケンス内の要素番号は、各単語を示します。）"
      ]
    },
    {
      "cell_type": "markdown",
      "metadata": {
        "id": "91zWu3aUW6Pe"
      },
      "source": [
        "このモデルを改良するために、[アテンション・メカニズム](https://arxiv.org/abs/1409.0473)、を使用します。\n",
        "\n",
        "アテンション・メカニズムでは、デコーダが注目すべき特定の範囲（=アテンション領域）を学習することを可能にします。\n",
        "\n",
        "<br>\n",
        "\n",
        "（日本語訳注：リカレント・ニューラルネットワークをベースとしたsequence to sequenceモデルでは、Decoderは入力シーケンスをまとめてベクトル化した情報を受け取っているため、文における各単語どうしの関係や各単語の重要さが良く分からない、という問題がありました。\n",
        "\n",
        "これに対し、アテンション・メカニズムを導入することで、どの単語に注目すべきか＝どの単語が重要そうかを学習することが可能となり、より適切な単語関係の理解につながっています。）\n"
      ]
    },
    {
      "cell_type": "markdown",
      "metadata": {
        "id": "9RdnFIp7kvT_"
      },
      "source": [
        "\n",
        "**推奨記事**\n",
        "\n",
        "本チュートリアルでは、PyTorchとPythonがインストール済みであり、また読者がテンソルについて理解していることを前提としています。\n",
        "\n",
        "\n",
        "-  https://pytorch.org/ PyTorchのインストールガイドです\n",
        "-  [DEEP LEARNING WITH PYTORCH: A 60 MINUTE BLITZ](https://pytorch.org/tutorials/beginner/deep_learning_60min_blitz.html) は、PyTorchを始める方向けの記事です（日本語訳では、「PyTorch入門」で提供）\n",
        "-  [LEARNING PYTORCH WITH EXAMPLES](https://pytorch.org/tutorials/intermediate/char_rnn_classification_tutorial.html) は、PyTorchをより広く・深く理解する方向けの記事です（日本語訳では、「PyTorch入門」で提供）\n",
        "-  [PyTorch for Former Torch Users](https://pytorch.org/tutorials/beginner/former_torchies_tutorial.html) は、PyTorchの前身であるLua Torchユーザー向けの記事です\n",
        "\n",
        "\n",
        "\n"
      ]
    },
    {
      "cell_type": "markdown",
      "metadata": {
        "id": "4aPFREynM-ir"
      },
      "source": [
        "\r\n",
        "また、Sequence to Sequenceネットワークとその仕組みについても知っておくと良いでしょう\r\n",
        "\r\n",
        "-   [Learning Phrase Representations using RNN Encoder-Decoder for Statistical Machine Translation](https://arxiv.org/abs/1406.1078)\r\n",
        "-   [Sequence to Sequence Learning with Neural Networks](https://arxiv.org/abs/1409.3215)\r\n",
        "-   [Neural Machine Translation by Jointly Learning to Align and Translate](https://arxiv.org/abs/1409.0473)\r\n",
        "-   [A Neural Conversational Model](https://arxiv.org/abs/1506.05869)\r\n",
        "\r\n",
        "また、これ以前のチュートリアルである 「文字単位RNNによる名前（苗字）の分類]と、「文字単位RNNによる名前（苗字）の生成」は、それぞれ、エンコーダのモデルとデコーダのモデルにそれぞれ非常に似ているので、参考になるでしょう（日本語訳では、「自然言語処理」で提供）。\r\n"
      ]
    },
    {
      "cell_type": "markdown",
      "metadata": {
        "id": "Z8HR1js4YWVC"
      },
      "source": [
        "**設定**"
      ]
    },
    {
      "cell_type": "code",
      "metadata": {
        "id": "XJkDUj18lSQD"
      },
      "source": [
        "%matplotlib inline"
      ],
      "execution_count": 1,
      "outputs": []
    },
    {
      "cell_type": "code",
      "metadata": {
        "id": "MYYsShgMV_3C"
      },
      "source": [
        "from __future__ import unicode_literals, print_function, division\n",
        "from io import open\n",
        "import unicodedata\n",
        "import string\n",
        "import re\n",
        "import random\n",
        "\n",
        "import torch\n",
        "import torch.nn as nn\n",
        "from torch import optim\n",
        "import torch.nn.functional as F\n",
        "\n",
        "device = torch.device(\"cuda\" if torch.cuda.is_available() else \"cpu\")"
      ],
      "execution_count": 2,
      "outputs": []
    },
    {
      "cell_type": "markdown",
      "metadata": {
        "id": "y0ksOIY7V_3F"
      },
      "source": [
        "データファイルの読み込み \n",
        "=====\n",
        "\n",
        "本チュートリアルで扱うデータは、英語からフランス語へ翻訳する、数千件のデータペアセットです。\n",
        "\n"
      ]
    },
    {
      "cell_type": "markdown",
      "metadata": {
        "id": "L4-1i_a-m92b"
      },
      "source": [
        "本チュートリアルで使うデータセットが、公開されている[翻訳サイト](https://tataeba.com)は、[Open Data Stack Exchangeのこの質問](https://opendata.stackexchange.com/questions/3888/dataset-of-sentences-translated-into-many-languages)を見て知りました。\n",
        "\n",
        "このサイトでは、ダウンロード可能な例文は、\n",
        "\n",
        "https://tatoeba.org/eng/downloads\n",
        "\n",
        "で公開されています。\n",
        "\n",
        "そして有難いことに、言語ペアを個々のテキストファイルに分割する作業を以下のサイトで実施してくれている方がいました。\n",
        "\n",
        "https://www.manythings.org/anki/\n",
        "\n",
        "\n"
      ]
    },
    {
      "cell_type": "markdown",
      "metadata": {
        "id": "-VaDMOx9NztT"
      },
      "source": [
        "\r\n",
        "英語からフランス語への翻訳ペアは、GitHubリポジトリに含めるにはサイズが大きすぎるので、`data/eng-fra.txt`にダウンロードしてから、このあとの作業を続けてください。\r\n",
        "\r\n",
        "このファイルはタブ区切りの翻訳ペアのリストとなっています\r\n",
        "\r\n",
        "```\r\n",
        "I am cold.    J'ai froid.\r\n",
        "```\r\n",
        "\r\n",
        "_____\r\n",
        "【注】\r\n",
        "\r\n",
        "データを[ここ](https://download.pytorch.org/tutorial/data.zip)からダウンロードして、カレントディレクトリに展開してください。\r\n",
        "\r\n",
        "（日本語訳注：日本語版の本チュートリアルではファイルをダウンロードして使用可能にするセルを、以下に追記しています）\r\n",
        "_____"
      ]
    },
    {
      "cell_type": "code",
      "metadata": {
        "id": "e_OqUrKPhOcd"
      },
      "source": [
        "# 日本語訳注：サンプルデータをダウンロードし、zipファイルを解凍するセルを追加\n",
        "import os\n",
        "import subprocess\n",
        "import zipfile\n",
        "\n",
        "if os.path.exists('./data'):\n",
        "  print(\"./data/ already exists\")\n",
        "else:\n",
        "  subprocess.run(\"wget https://download.pytorch.org/tutorial/data.zip\",shell=True, check=True)\n",
        "  with zipfile.ZipFile(\"./data.zip\") as zipfile:\n",
        "    zipfile.extractall(\".\")"
      ],
      "execution_count": 8,
      "outputs": []
    },
    {
      "cell_type": "markdown",
      "metadata": {
        "id": "CpShVet6V_3F"
      },
      "source": [
        "「文字レベルのRNNチュートリアルで使用されている文字エンコーディング」と同様に、本チュートリアルでは各単語をワンホット・ベクトルとして表現します。\n",
        "\n",
        "ワンホット・ベクトルは、ある単語を示すインデックスのみ1で、それ以外のインデックスは全てゼロの巨大なベクトルです。\n",
        "\n",
        "\n"
      ]
    },
    {
      "cell_type": "markdown",
      "metadata": {
        "id": "_RxYXgCHOUqs"
      },
      "source": [
        "「文字」であれば、一つの言語に含まれる数は数十程度でした。\r\n",
        "\r\n",
        "これに対して、「単語」は一つの言語に莫大な数が含まれているため、エンコーディング時に入力するワンホット・ベクトルのサイズが、文字に比べてはるかに大きくなってしまいます。\r\n",
        "\r\n",
        "そこで、本チュートリアルでは、全ての単語を使うのではなく、言語ごとに使う単語数を数千語程度になるようデータをトリミング（切り出し）しましょう。\r\n",
        "\r\n"
      ]
    },
    {
      "cell_type": "markdown",
      "metadata": {
        "id": "0RSiMqaFZJIs"
      },
      "source": [
        "![image.png](data:image/png;base64,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)"
      ]
    },
    {
      "cell_type": "markdown",
      "metadata": {
        "id": "Q0g4R14oV_3G"
      },
      "source": [
        "後でネットワークの入力データ及び正解データとして使用するためには、単語ごとに一意のインデックスが必要になります。\r\n",
        "\r\n",
        "単語とインデックスの関係情報を保持するために、`Lang`と名付ける補助クラスを使います。"
      ]
    },
    {
      "cell_type": "markdown",
      "metadata": {
        "id": "DhStKucHZOMj"
      },
      "source": [
        "このクラスは、単語→ インデックス (`word2index`) という辞書と、インデックス → 単語 (`index2word`)という辞書、そして各単語の登場回数の情報`word2count`を保持し、あとで、登場回数が少ない珍しい単語を置換するのにも使用します。"
      ]
    },
    {
      "cell_type": "code",
      "metadata": {
        "id": "1ff1oh_EV_3G"
      },
      "source": [
        "SOS_token = 0\n",
        "EOS_token = 1\n",
        "\n",
        "class Lang:\n",
        "    def __init__(self, name):\n",
        "        self.name = name\n",
        "        self.word2index = {}\n",
        "        self.word2count = {}\n",
        "        self.index2word = {0: \"SOS\", 1: \"EOS\"}\n",
        "        self.n_words = 2  # SOSとEOSをカウント\n",
        "\n",
        "    def addSentence(self, sentence):\n",
        "        for word in sentence.split(' '):\n",
        "            self.addWord(word)\n",
        "\n",
        "    def addWord(self, word):\n",
        "        if word not in self.word2index:\n",
        "            self.word2index[word] = self.n_words\n",
        "            self.word2count[word] = 1\n",
        "            self.index2word[self.n_words] = word\n",
        "            self.n_words += 1\n",
        "        else:\n",
        "            self.word2count[word] += 1"
      ],
      "execution_count": 3,
      "outputs": []
    },
    {
      "cell_type": "markdown",
      "metadata": {
        "id": "3JptsQnXV_3J"
      },
      "source": [
        "ファイルはすべてUnicodeで作成されています。\r\n",
        "\r\n",
        "文をシンプルにするために、文字コードをUnicodeからASCIIに変え、小文字に統一し、ほとんどの句読点を消去します。"
      ]
    },
    {
      "cell_type": "code",
      "metadata": {
        "id": "XlPGxPbHV_3J"
      },
      "source": [
        "# UnicodeをASCIIに変換しています。以下のリンクを参考にしました。\n",
        "# https://stackoverflow.com/a/518232/2809427\n",
        "def unicodeToAscii(s):\n",
        "    return ''.join(\n",
        "        c for c in unicodedata.normalize('NFD', s)\n",
        "        if unicodedata.category(c) != 'Mn'\n",
        "    )\n",
        "\n",
        "\n",
        "# 文字を小文字に統一し、文字以外の記号を除外しています\n",
        "def normalizeString(s):\n",
        "    s = unicodeToAscii(s.lower().strip())\n",
        "    s = re.sub(r\"([.!?])\", r\" \\1\", s)\n",
        "    s = re.sub(r\"[^a-zA-Z.!?]+\", r\" \", s)\n",
        "    return s"
      ],
      "execution_count": 4,
      "outputs": []
    },
    {
      "cell_type": "markdown",
      "metadata": {
        "id": "EuMiw3cXV_3N"
      },
      "source": [
        "データファイルを読み込むには、ファイルを行に分割し、さらに行を[英語 , 他の言語]という形のペアに分割します。\r\n",
        "\r\n",
        "<br>\r\n",
        "\r\n",
        "ファイルは全て英語→他言語なので、他言語→英語に翻訳したい場合を考慮し、ペアを逆にするための`reverse`フラグを用意しています。"
      ]
    },
    {
      "cell_type": "code",
      "metadata": {
        "id": "mNFK777MV_3N"
      },
      "source": [
        "def readLangs(lang1, lang2, reverse=False):\n",
        "    print(\"Reading lines...\")\n",
        "\n",
        "    # ファイルを読み込んで行に分割しています\n",
        "    lines = open('data/%s-%s.txt' % (lang1, lang2), encoding='utf-8').\\\n",
        "        read().strip().split('\\n')\n",
        "\n",
        "    # 全ての行をペアに分割して正規化しています\n",
        "    pairs = [[normalizeString(s) for s in l.split('\\t')] for l in lines]\n",
        "\n",
        "    # ペアを逆にして、Langインスタンスを作成します\n",
        "    if reverse:\n",
        "        pairs = [list(reversed(p)) for p in pairs]\n",
        "        input_lang = Lang(lang2)\n",
        "        output_lang = Lang(lang1)\n",
        "    else:\n",
        "        input_lang = Lang(lang1)\n",
        "        output_lang = Lang(lang2)\n",
        "\n",
        "    return input_lang, output_lang, pairs"
      ],
      "execution_count": 5,
      "outputs": []
    },
    {
      "cell_type": "markdown",
      "metadata": {
        "id": "QFAcm1veV_3Q"
      },
      "source": [
        "非常に多数の例文がありますが、できるだけ短時間でモデルを訓練させたいので比較的短くてシンプルな文だけになるよう、データセットをトリミング（切り出し）します。\n",
        "\n",
        "<br>\n",
        "\n",
        "具体的には、以下のようなシーケンスだけが取得されるようにフィルタリングしています。\n",
        "- 例文の長さが10語以内（語尾の句読点を含む）\n",
        "- 文の始まりは\\\"I am\\\"や\\\"He is\\\"などの形（前のステップで、アポストロフィが空白に置き換えられている短縮形のケースも含みます）"
      ]
    },
    {
      "cell_type": "code",
      "metadata": {
        "id": "6qtTKqOqV_3Q"
      },
      "source": [
        "MAX_LENGTH = 10\n",
        "\n",
        "eng_prefixes = (\n",
        "    \"i am \", \"i m \",\n",
        "    \"he is\", \"he s \",\n",
        "    \"she is\", \"she s \",\n",
        "    \"you are\", \"you re \",\n",
        "    \"we are\", \"we re \",\n",
        "    \"they are\", \"they re \"\n",
        ")\n",
        "\n",
        "\n",
        "def filterPair(p):\n",
        "    return len(p[0].split(' ')) < MAX_LENGTH and \\\n",
        "        len(p[1].split(' ')) < MAX_LENGTH and \\\n",
        "        p[1].startswith(eng_prefixes)\n",
        "\n",
        "\n",
        "def filterPairs(pairs):\n",
        "    return [pair for pair in pairs if filterPair(pair)]"
      ],
      "execution_count": 6,
      "outputs": []
    },
    {
      "cell_type": "markdown",
      "metadata": {
        "id": "AMYOxbGyV_3U"
      },
      "source": [
        "データ準備で実施する処理内容は、以下の通りです。\n",
        "\n",
        "-   テキストファイルを読み込んで行に分割、行をさらにペアに分割\n",
        "-   テキストを正規化し、長さと内容でフィルタリング\n",
        "-   文章をペアにして単語リストを作る"
      ]
    },
    {
      "cell_type": "code",
      "metadata": {
        "id": "PpRkkDm4V_3V",
        "colab": {
          "base_uri": "https://localhost:8080/"
        },
        "outputId": "98986bf6-7c95-4bfe-f36f-ad56061cc18a"
      },
      "source": [
        "def prepareData(lang1, lang2, reverse=False):\n",
        "    input_lang, output_lang, pairs = readLangs(lang1, lang2, reverse)\n",
        "    print(\"Read %s sentence pairs\" % len(pairs))\n",
        "    pairs = filterPairs(pairs)\n",
        "    print(\"Trimmed to %s sentence pairs\" % len(pairs))\n",
        "    print(\"Counting words...\")\n",
        "    for pair in pairs:\n",
        "        input_lang.addSentence(pair[0])\n",
        "        output_lang.addSentence(pair[1])\n",
        "    print(\"Counted words:\")\n",
        "    print(input_lang.name, input_lang.n_words)\n",
        "    print(output_lang.name, output_lang.n_words)\n",
        "    return input_lang, output_lang, pairs\n",
        "\n",
        "\n",
        "input_lang, output_lang, pairs = prepareData('eng', 'fra', True)\n",
        "print(random.choice(pairs))"
      ],
      "execution_count": 9,
      "outputs": [
        {
          "output_type": "stream",
          "text": [
            "Reading lines...\n",
            "Read 135842 sentence pairs\n",
            "Trimmed to 10599 sentence pairs\n",
            "Counting words...\n",
            "Counted words:\n",
            "fra 4345\n",
            "eng 2803\n",
            "['en un sens tu as raison .', 'you are right in a way .']\n"
          ],
          "name": "stdout"
        }
      ]
    },
    {
      "cell_type": "markdown",
      "metadata": {
        "id": "Y-wmyKUAV_3Y"
      },
      "source": [
        "Seq2Seqモデル \n",
        "=============\n",
        "\n",
        "リカレント・ニューラル・ネットワーク（Recurrent Neural\n",
        "Network、またはRNN）はシーケンスデータを扱います。\n",
        "\n",
        "シーケンスにおける、とあるステップの出力を、後続のステップの入力として使用するネットワークです。\n",
        "\n"
      ]
    },
    {
      "cell_type": "markdown",
      "metadata": {
        "id": "DGkru4U5PUf3"
      },
      "source": [
        "\r\n",
        "そして[Sequence to Sequence network](https://arxiv.org/abs/1409.3215)、`seq2seq\r\n",
        "network`、または[Encoder Decoder network](https://arxiv.org/pdf/1406.1078v3.pdf)と呼ばれるネットワークは、2つのRNNから構成されるモデルです。\r\n",
        "\r\n",
        "2つのRNNはそれぞれ、エンコーダとデコーダと呼ばれます。\r\n",
        "\r\n",
        "エンコーダは入力シーケンスを読み込んで1つのベクトルを出力し、デコーダはそのベクトルを読み込んで出力シーケンスを生成します。"
      ]
    },
    {
      "cell_type": "markdown",
      "metadata": {
        "id": "3NyN6HbKa9Z2"
      },
      "source": [
        "![image.png](data:image/png;base64,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)"
      ]
    },
    {
      "cell_type": "markdown",
      "metadata": {
        "id": "thVNjAK_bAPN"
      },
      "source": [
        "すべての入力が出力に対応する単一のRNNによるシーケンス予測とは異なり、seq2seqモデルでは、シーケンスの長さや順序が自由になるため、2つの言語間の翻訳に適したモデルとなっています。\n",
        "\n",
        "\n"
      ]
    },
    {
      "cell_type": "markdown",
      "metadata": {
        "id": "uViINUiFPlRI"
      },
      "source": [
        "「Je ne suis pas le chat noir」→「I am not the black cat」という文を考えてみましょう。\r\n",
        "\r\n",
        "入力文のほとんどの単語は出力文では直訳されていますが、\\\"chat noir\\\"と\\\"black cat\\\"のように少し順番が違います。\r\n",
        "\r\n",
        "また、「ne/pas」構文（日本語訳注：neとpasで否定される単語を挟むという、フランス語の否定文の書き方）のため、フランス語の入力文には、英語よりも単語が1つ増えています。\r\n",
        "\r\n",
        "したがって、入力された単語の並び順に、そのまま直接英語に訳すのは難しいでしょう。\r\n",
        "\r\n",
        "\r\n"
      ]
    },
    {
      "cell_type": "markdown",
      "metadata": {
        "id": "SZLyNNvePtp_"
      },
      "source": [
        "seq2seqモデルでは、エンコーダは1つのベクトルを作成します。\r\n",
        "\r\n",
        "理想的なケースでは、入力シーケンス全体の「意味」がこの1つのベクトル、つまりN次元で表された文章を表現する空間内の1点に、エンコードされます。"
      ]
    },
    {
      "cell_type": "markdown",
      "metadata": {
        "id": "qXpukvYeV_3Z"
      },
      "source": [
        "エンコーダ（Encoder）\n",
        "----------\n",
        "\n",
        "seq2seqネットワークのエンコーダはRNNで、入力文の各単語に対して何らかの値を出力します。\n",
        "\n",
        "入力シーケンスの各単語に対してエンコーダは、ベクトルと隠れ状態を出力し、隠れ状態は次の単語の生成に使用されます。"
      ]
    },
    {
      "cell_type": "markdown",
      "metadata": {
        "id": "UffjuM5KdnZ4"
      },
      "source": [
        "![image.png](data:image/png;base64,iVBORw0KGgoAAAANSUhEUgAAANYAAADPCAYAAACJOi99AAAgAElEQVR4Ae2dCZgU1bXHL4u46yOoKEHcjYICiqIYiKKIK4I8UBZJFCWIuIEaBFFAUBaNETVqcCdGjUZFg08NEYFhkH0H2dcB2WGGdWZg/u/7951LVc9UdXX3VHdXd5/7fTXdU3epe889vzrnnqquUgBKZBMZiA74qgNfKUgSCYgE/JbA1wKW3yKV9kQCgIAlWiASSIAEBKwECFWaFAkIWHHpQMnBuKpVqFLJoQpVl8oJkoDzvEQA6+OmgGzlZTD56QTNUBTNjn+0fH9kjlInkxVfA4eKnCYuAlgvKkC28jL4ur2TIJOz79MW5fsjc5Q6mcz7m4Dl20lCwEqdIgftJCJg+Wh9BSwBywAuYAlYvllso1TyCQhYApaA5aMOmJNKEMD6uLPCv7smYHBmkA6f+UMScDxxBeNyBT/qrDA2wvzPf0xh+C3u87VpgMLAlgq7n3Mu45WfkBNLEMC6/SKFHk2chZKIQfe8SmHwDQk4noAVF1i3Xhh5/v/RSeHkY93na25vBaUUfnnGuYxXfiJ0LCtdwctqC1gJUSYHzyCa43iB5dWGFzhe+V7tx5UfBIv12u0Kf++ozzY/PaQw5EaFGY8odL1c4aYLFF68VeHgCCv/2RsUfuiucGcDhS6NFMbcbZ2p9g1VuK+xwoonrX3r++t9Owfrtk46RoFwPX+TVSYu4ZVVpDSwWJRvJPkdGKZlNf1hhbYXKzxxjcKhUtl/0EGhfX2FVnUVXmqlUDxcy+/VNgqj2oXLctHjCn+8UmH/0PD9TnImWPc3UXi7vW6bczr+fqve1IcUHmlq/V84TIHHvK2urkc30m6xvPLZhzm99DivP0+3veFpq322/V03hXfuUGhdT+vZuD9a+U5jKLcvCGBRQN2v1B0f3UGBin/ByQoDrlcY1FKhWhX9yc4z/4QjFX59gsKfW+mJP+YIBfrpzN81WAs590FLEOaMReFxEs6orgVmB7KcYMpCE83/aQCWl/y4TqGSnltDoWNDhW5XaDk+3FTPS79rFYberHDq8VqGlNtb7RVqHKNQVAoa9xGE5udYcxBJvgTruGoKLc5TeL2thuvIKgqEk/U+7KTwq6OttnjirHmcwrCb9cn3xKPCwfLK50n5qKoKHRrqE8KVdXT/DVzsD3Wk2VkKr7RRaFdfoXIlhYWl/Yk0lsN5QQSLE8sFq+kkz3xNz9T/UzGY/829Vv6TzfWks7wXWCyTza6gl/wMWJSpkf/SPlqxzMmL+5c/qedhQg+FgiEKPLl9fY+uQ0t2ynH6JGjaiPRJReaJ1IBJr+PoqtqCsZ4drHm9FSopCzrm8wRrLJZXPstfUkuB63p7n7iPa2/uY3/q1rQsNS02TxwjW4fXsdcv9z2IYFGo9o7SNWxYS++jYvBstvd5qwzdBgp2XX8Byy43p+9e8jNgfWlzrxk8oDL3+p1Cn+bWRitDN53H+X0j7TLxO70CehX2OXLqi9lHRe58iTWf3N+otnZZ+d0OFt1RWktTl5+0bAYsr3y6urQ+N19gjYNj4sn2ijq6XfaH47Efo/5pCs/FsnQIIlg8O9gHxbVQg9P0PipG7RPD842rt/gJC6zJPa0yXK9R8MbUZ7vFiiQ/A9akByz5/fV2hSMqK9CK9b02fPv2Pl3ux/u1laH14tqX7ph9DiN9pyKXjQpzjrgMYD07WLQatIYlL1jt06IasLzytwzUZe9oED4OjmtEaUjfqT+0aBkPFoW4rI8lWJ41j62mTTfdCOZz8Wkm87MuApaRhXEF3eTnBNb33bT87OtWBpO4uF/ZV8uZin72rxT+1k4DZi9rju326aTIbmDl9NR9md3Lml+uywxYXvnsA63po82s+tzHMZqAiVN/sgasuy5V2DxAgRGjC0+x/GMKiWdkRq949uTE09pR8MZi3XC+QqdLFDa6XPdwUwDP/WkSvKAs3OTnBBbXPr85WeG6c/UCnpG+/i30unbrIEtBGW2kt3H+SdY+T5mVrmmitVg8dr2aCm3qKTDayzUVlwkGLK989oeuH/v51T062jyxhw5mfNpF9ztrwWIUiOBwrcX1GMOzJvRLwfEuDkaRqlRSqH60DuXbwXqjrY40lnWJolGCiGXSBKxI8nMCi2Ne8ieFJmfotRa9A343bqCRydqn9PqFUUOzL5pPJ0V2s1hsb3U/hcan6/mnDjBSacCKJp9eDQMVdG+pP2dWV3i6hdVnp/6kpcWKRvimDF0ZswbbNkiBQjJ59k9GchjMMNdg7Hn8zmsd0S6uy9Z1/T9NwIpGfm5jZNSVcnfLT+Z+rpciXSfzyqclptVLSJ+DELyIZWB2sGKpl5SyaQZWMmTCtRi9CbfN7cSXjL4l9BjpBhb9YF7zSKhQorkY7FQmDcBKtvy4vuV9fm4br1EGci6d5jeWfekGVqAnIQ3ACrT8YlHcoJcVsHw8YwpYmWl94oFYwBKwxIr5qAMGQgHLR6GKxRKLJWD5CJQRpoAlYBldiMtivVQNkK28DMZ2TM4zBJ2O8q8by/dH5ih1Mpn/dhzPFXSa2IDsKywsTG1PSvhKMUnRSODQoQx/NPYhx8eNR3gSbjRSS0GZzZs3IycnBxk/YSmQrd+H3LNnT2iu9u3b53fTQW8v/cCitZo4cSK2b98edOFmff9WrFiBadOmZaMc0g8sztLs2bOxbNmybJywtBlzSUkJpkyZgrVr16ZNn33saHqCxcn66aeffJSDNOW3BLZt2xbyLA4cOOB30+nQXnqCRd99woQJKCgoSAchZ2UfFy5ciHnz5mXl2JHOr0qdOnUqVq9ena0TF+hxFxcXY9KkSWCgKUtTelosTtby5csxc+bMLJ23YA87Ly8v2yO36QsWfXi6gwsWLAhNYpYukgNJ2KxZs7B06dJA9i1JnUo/sOhm0HdnyJ1gmc9Vq1YlSWZymEgSMOvfXbt2RSqW6XnpCdbkyZNDUBEsbvTnxWIFQ1ez+NqVfQLSDyz2nheHDVTGatGvl5R6CfDa1Zo1a1LfkdT2ID3BosxWrlx5GC66gxs3bkytKOXoyPJrV3YNSF+weGV/xowZITeQYGVxaNc+oSn9vmjRIsydOzelfQjIwdMXLApw//79oYgg3cGtW7cGRKbZ2Q1z7WrTpk3ZKYDwUbuDVXQQKEyDbcMvm0Mu4ZZtO9Oiv14yLU7TX1ls2LAh269d2dFyB2t9PjBgQnpsf5mwC4PSpK+RZPpCrn1u0us7r10tWbIkvTqduN66gzVrI1DnZdmSKYNLRyVuphPZ8t69e0NeQ5Zfu7KLWMBKJjhex0pXsBih5b2bkg5LQMDyUvZk5qcrWHLt6jBQ5ouAlUxwvI6VjmDxYj0vdzBCK+mwBAQsL2VPZn46giXXrg7DZP8SXLAe+hb4wxh/gycd/gU89h/3Nu35Z44EXvoJ+O277uX9hi7dwJJrV3aWwr4HF6z/rgLen+uvUr8yDZie596mPf+cVwBeUyJsfgPk1l66gSXXrsJgsv8jYNmV3A6WfX+yvqcbWHLtys5S2Hd/wXr0O2DsMmDcSmDQROCskfpsf/YrwEcLgN+9D7wxExi/GuDFULpbd4/Rdd6ZA7T80LIOtFij5wEDJwA/rgb+MR+45n0rn8p+44e63UlrgHdmA5e9FZ7f9F3g1WnAD6uA53OAv04Pt1iR8tl39rn5B4DpP8u/PgOYuEZb08tGhR+v8xe6zncrgB7fAP1+ALp+FV4mEqTpBJb87ioMpLL/+AcWwdi+Tyvy0MnA5j3A9yu0Up33qj7u2l1aubl22V0I5KwF5m/W8FD5mW8Uj2DtLwYWbAb6/gD8tF7XafaeLkMXjflfLQH6jAN4QXvHPguui9/Q7XE/FZyf+4ossLzy6QoydfwcMP1fsQP4dBHQfzywfDuwZKvVX64HDxTr/CGTgA0FQMEB4OWpVhkzNrfPdAJLfnel9cPlrz9gXf0+cKgEePD/LCUiAEztP7MUkxbDKNWY0rtfGr+t9xmluv7v+n+CteuAZfVYLy9fWy5+J3DfLrfaM/vMumzkNOBnm+Izf/YvFlhe+U5g2SHp9Lken7Faa3YCH9jWhNeN1vn2OuxDpM3IQNcM7l/+siA3N1d+XOo+Rf6AxQgeH2f+1iztKtFd4ranEBg8yQKr+1hLsajY9jM+3UKmTl9YYH291CpPhfxkobZw576qQaaVM8fi57xNGh6WpTv67pzw+rSUJnjhle8E1j02t44nEyaeQGj9mOjW2sFZl5+ZFou/JOC1qyx9ZqCe7Mh//QHrqfEA74anRXqtzNblSwusO20RNoI103Y/4hkv657awXpzZriisu2l24CGf9Nl/720/PGem6TrECC7BaHCj8i1wPLKdwLL3n9jkblubFpqne1rRB6PVjUTLRYf4DN//vzIqpXduf6AxUU70+3/tECgBXr8PwAX/GaNYlfMaMDiGsxuAeZvstw/rl/enh2ez36YY3DNt3pneH7uOgssr/xYwGKgY28R0Pt763h062jFMw2soqKikLXasmVLdqMTefT+gMWoGRf2BIFrC4JEcBjMaPBm/GAxOEFY2D4DFFRUBhMIG10/BisYdSPE7T7VwQxG45jf+hP9ezL+TIP94X7+Fsq4gl75sYDF4zH6uGmP7ifbpqvJlGlgrVu3LrS+4jpLkqsE/AGLisVQOF07yptnb36nG8i8eC3WvxZrq0PAGNFjNI7tmTYZqKALynyn9QzXfhsLNFCM0jF8bsBiG5HyYwWLcNNVZYBl614NPteQw3OtPpu+u32mQ/Bi+vTpoYeluqqUZFAC/oFllKXe60D9N6NXJlMv0icjh+aaWNlytGYmslg2z/x/eZnrW2a/+fTKN+UifTJKaB8314ybdgNPjIteFkEHKz8/P/S7q927dws+kSXgP1iRlC+T86bm6QvZXFM2GqUtFi8XXFF6OSGasQcdLD7dVh7rHZmo0lwBKxqFj6YMXWFem+O6kq7p9A1Aq4+jt1Y8RpDB4hs0+aBUeX6jgHV4PRYNGH6VoQtI9zSe9oIMFp++xCcO8452SZ4SEIsVDwCJqhNksPi8QP72SlJUEhCwEgVJPO0GFSy+nJvPbtyxY0dUWiWFEhAVjEehpI52HYMKFt/kIq+mjel0IRYrSFAHFSxCJW/PFLDiChwEAbAggiUPi4kJKFPY3WLxt0WrdsiWTBnw92hBS1n+ku54p8MdrHhbDEo9/qRh2rRp4FNaJcUnAd5wm+Uv6Y5PcJFuaYq3xaDU402i/M2Q3IUd/4ysX78+dFGYF4clxSSBzLVYFAPfnyWL7pgUIqwwb7hdtmxZ2D75JyoJZDZYvKDJNYKk2CUgN9zGLjNbjcwGi+/C5VlXUuwS4Ct5+HgzSXFJILPBMs9mkB/lxaYcBw8eDL1Ejg/klBSXBDIbLPPeJj4DT1L0EuCL0nNyckDAJMUlgcwGi/e4MTK4ePHi0LZ27dq4pJRtlegC/vzzz9k2bD/Hm5lg8acNPOPyxlFuvBZDwPh0IUmRJSBPuI0snyhzMxMsDp6hdsJkh4s3k0qKLIHly5dLwCeyiKLJzVyw+D5cAxU/CdnmzZujEUrWljFPuOWTmCRVSAKZCxbFQtfPbrUkiBFZWXjiobx4K5OkCkkgs8EyUUFjuSTsHllZ5s2bJxfUI4so2tzMBotS4C05BIs35EpylwDfIUxrxZ+JSKqwBCoCVglQcjDwW1Hh/lBUcBFvbUqD/jr2EYl/6qz8SrjCMNkbqABYJYeA9TnAotGB37bP+QwFcz8JfD8dZUkZU9YJTHSRp0yZAt4CJskXCVQQrLEdgReVbImUAWWcYLDMrV/yWh5foGIjAlbgTwxJAIuv5JGL575BJWAFHipawgSDRSvFoAWtliTfJCAWK/BwJRgs/hCU6ytJvkpAwMp2sPhoM7nVy1eo2Fj6gjW3t8ILt/obONk0QGFgS4Xdzzm365UfDaSvtlGY9rBz+471E2ixtm3bFnIDeQ1Lkq8SSF+w3r9T4eRjY1DQKCJ3hFUphV+ecW7XK98RjDLHPf8khZGtndt3rJ9AsBiw4N0WknyXgIBlV2YvcLzy7W25fQ8KWIWFhSFrJU+x8h0qNphcsOb0UrivscL15yk80lRhw9PWmZsu0vfdFN78X4VWdRXub6Kwsq/C6n4KD1yl0K6+wmddrPLGYk3oodC+vs7/1JZPxc4fovDUdQo3nK9w16UK/+1u1Wd+4TAFHve20uON7Rpusbzy2UakMTGfY+p6ue7fd90UggIWLwYzaCH3T6Y5WD90VziqqkKHhgqj2ilcWUehxjEWXLdeqFD7RIVbLtSu0kWnKtStqdDgNIUnmyv0b6FQuZLCzEc1HASramWFmscpDLlRoUcThSOrKLzSRufveU7h3BoKl/5a4fW2CndfpvNHd7DgIuSsP+xmrfwnHhUOlle+15i+vU8f857L9TFqnaD/D4IrKEGLhABlGk2exbqklsLtF1lKzbM59/W8Su8jWL85WaF4uP7/iz9oJX+plVWn2VkKT7fQ/xMsroeovGyL22NXa1gPjlB4/iaFY6sp7Bps5XMfQSp5QWFeb4VKSmHR41b+n1tZYHnlm/5HGhPHM6il1f6qvvpkkGqw5HnsRv8T9pkcsA4M09bm5gsU+jS3tstqK1xRRysewbqjgaWEVGyCs/gJa1/bixW6XaH/J1jHHKGwf6iVT1eLdehCtqmncE4N61g8Lt1B5q/rr/BBB4VTj7fqEhRCxnwGL7zyvcZEi0kLm9Mz/Bi0wqkGS4IWCQPKNJwcsLYM1ApLcPpeG76NuEUrHsGiO2esjwErz7YOKwtWnf+xyrPe7F76OITx6rMVLj41/Fjm2GyTyn1KqfUyx1zaxwLLK99rTISTkP54f3gf6dqmEixzp4UELQwDCflMDlhU3BOOVHi0WbiScWE/vlTx4gGLirvjWavN4bcoVKmkrdi9jRVOP1Hh0Agrf8WT2hIxKEFLwvqE0YDFtZixWF750YyJFpEwm/YJI93PVIIlQYuEgFS20eSBRVeMwYqv7lHgGmhiDx3MMJG8eMHq9TuFouEKUx7UEbfuV2pFnv6wVuJnrtfwbXxGu52MIFLR6ULWq6ldxvX99ZqrYS0LLK98tuE1JgZdzqiurRZPALTIBDeVYEnQoiwDCfk/eWDtG6oDFUdUVji6qsKZ1a1ABJU0HrAYHOjYUK+1aAnoahYMsSzER521u8doIS0mXUnePWEsCEP5jU/XkTqW6XetBRbLeOV7jYnWkpFFrgXZPi8jMEqZKrDkTouEQOTUaPLAMspM60ILYf7343P7s+HRv7Jtck1F96/sfvM/XTR7EMTsN59e+V5jYttbB7kf3xzH8dPHOy/48xBukhIugeSD5ag8ZW77kTI2CH0CyzzTglZLUsIlIGAFHmKfwJJnWiQcJvsBBKxsAEueaWHX+aR8F7CyASxes+KvhHnjraSkSEDAygaw5s6dC77dUlLSJCBgZTpY5mnAO3bsSJpWyYGS/LORwCtxEKOTFQxe8O0h8hTgpKMuFivwsFcArEOHDmHy5MlYv3590jUryw9YQbDWTwIWvp81W8nCD5I/Vso4zgd28pWnfOkeX8QnKakSqCBYhw4CWbIdLCrE9GnTkMd3RyV7zHGCNXPmTCxZsiSpGiUHC0mgAmBloQT5QjaGrZcuXRr4n7SbF+/t3r07C2cq5UMWsGKdAv76luuWOXPmBPoFbXyh+ezZs2MdnpT3RwICVjxyZAibkbapU6ciiG+J5IVgrq3k1bDxzK4vdQSseMXIgACfyZeTkxO4557LjxnjnVXf6glYFRUlrxNx3RWUd0uZ+wL5THZJKZOAgOWH6E1Ym7cN8dpRKtOmTZtCbqDcF5jKWajInRcp7XfwDs4oXG5uLmbNmoVkv8Bt586d4E/uaTUZYmfgQlJKJSAWy0/x88eEM2bMCD1hNj8/P9Q0LQd/C5XIJ87m5eWF3FG6pHyROR9vFsSgip+yDnhbApbfE3Tw4EEsXLgw5I7RRSRoVHZeA0tU4nrKQMVjme/79u1L1CGl3cgSELAiyyf+XFophuSNkjP8nSgXcdmyZYePY8CSOy7inzsfagpYPgjRsYm1a9eGLBUV3Sh7ot7zy6CJ/Ti0mJJSKgEBKxHi51rLKHrZT9654XfiHRYGXl5bS+R6zu++Z2h7AlaiJpZ3PfCXu0bhDWCM3vmt+HQ52T4BS3W4P1HyTLN2BaxETxjXVQxc8PYnAxfdRD8T33M1ffp0MHAiKRASELC8pmFPIbBmpz/b0g0FmLVwOeYvy/OtTfZtyfqdWLWt2Nc2oxkzZSPJUQIClqNYbDvHLgPqvCybkwwoG0mOEhCwHMVi2ylguZ9UBCybooR/FbDC5VH+PwFLwCqvFZ57BCwvEQlYApaXjjjkC1gOQgnbJWAJWGEKEd0/ApaXnAQsActLRxzyBSwHoYTtErAErDCFiO4fActLTgKWgOWlIw75ApaDUMJ2CVgCVphCRPePgOUlp2SC1fkL4KMFwHcrgB7fAP1+ALp+pRV7wI9Aly+Bt2YBX/4MXPM+MHCCLme/eDtyGtDxc3cY7GUr+p2ykeQoAQHLUSy2nckC6w9jgAPFwKeLgCGTgA0FQMEB4OWpGpLxq/W+aXnAf1YCl78FTFoDvD07HKKVO4ABE8L3VRQgt/oClk1Rwr8KWOHyKP9fssDivXkfzLWAuG607osdLEJz5kirjIBVfr4CskfA8pqIZIB18Ru6F3ePsaChlViXH26xxiwJzxewvGYvZfkClpfokwFW0/d0L1p+GA7Ogs3hYL03JzyfYL1TxhUkjOIKes1qwvMFLC8RJwOss0YCe4uA3t9b4Fw6CigpiQzWuJXAxwusOmyn+JCA5TWnScgXsLyEnAyw6Pa9Og3YtAfoMw5o/QlAaJjsa6yyFmvULGDLHqDZe0Dd14F35mgYGS10Czj4uZ+ykeQoAQHLUSy2nckCi0GJ16YDefnA1r3A6zOAJVuB4bkaEkYFy4J12VvAnF90Z/cXA6Pn6UihuIK2CUzNVwHLS+7JAqvT50D9Ny1Lc8bLwKbdwBPjrH1u1oZu4/mveZdzqx/vfrFYrtojYLmKpjQjWWBNzQN+XA00fRdoNEpbrF0HgCveTj4w0YImYLlqj4DlKpokg8U7KRhO374PoFs3fQPQ6uPgQkX4BCxX7RGwXEWTZLCMlaALePYrwQbK9FXActUeActVNCkCyyhtOnwKWK7aI2C5ikbA8gzZC1iu2iNguYpGwBKwvJTDPV/AcpeNzuFZOR3cslT0USyWq/YIWK6iKc1YuAV45kfZnGRA2UhylICA5SgW286ig4Af2878PZgzdx72HSj2pb14+sRjsw/sSzz1nerYRCVfLQkIWJYsEvfNvHCbr9gpLi5O3IE8Wuax2Qe+BI99kpQwCQhYCRMteENsCfi2Rb5lhG94DEpiX9gn9s3vVwoFZYwp7oeAlagJ4Ot7+L6qyZMnY+vWrYk6TNztsk/sG/uYqFe4xt259K8oYCViDnfu3Inc3NzQi72D/IJt9o0vH2df2WdJvklAwPJNlKUN8SVzfKH34sWL0+LtinwDJPvKPrPvknyRgIDlixiB0NsU+VJtKmheXp5fzSatHfaZfecY5M2QFRa7gFVhEQLYs2dP6FWlfL9wfn6+H02mpA32nWPga1c5JklxS0DAilV0XJcUFlrvCOVLvHNyckIv8i4qKoq1ucCV5xj4UnKOiWMziWMO8nrR9DMgnwJWLBPB60Bc6PMt9XSXli9fHgpbr1ixIpZm0qIsx8SQPMfIsXLMHHsqr8OlheB0JwWsWCbLLPK5FuFZneHqLVsy974ejo1j5Fg5Zm6UgSRPCQhYniIqLbBjx47QGZxncbOtXbs22uppW45jNOM1n5SFpIgSELAiiqc0kyHpKVOmlFMwKlpBQUE0TaRlGY7NwGT/pCwoE0muEhCwXEVjy+B6g26QUS7zndGz3bt320pm1leOjWPkuM2YzfdMXFf6OHsClpcwy561uYine5RNETKOlWPm2M3JhZ+ZbK299MIjX8DyEBA2bNgQOmuvWbMGe/fu9SoeXT6fHZ3s5NMxKQPKgpaMspHkKIEEgvWXowDZystgbCfHmUjKTh5b5sRZBv5OQALBelEBspWXwdft/Z3CWFrjsWVOnGUQixy9ywpYSVc0ActZsVMNvDcssZQQsAQs8SxCOhALNt5lBSwBS8ASsFLtLvhxfHEFxRX0tngRSvihhBVsI3+Iv2djX9pLQ7A+6qwwtqu7LOc/pjD8Fvf8TQMUBrZU2P2ccxmv/KR4FRFUOY6szHUFe16lMPgG54mMZ6K+uVehyRk+tJeGYN16oUKPJu5j/0cnhZOPdc+f21tBKYVfnnEu45Ufz3zFXCcOeiJUyVywLqvtL1g8I9c/zVkxYprEDATLa/xe4Hjle7XvS34ESuLICi5YdA8ev1rh+vMU7rpU4btullLvG6pwX2OFFU9a+9b31/t2DlZ48VaFk45RIFzP36TLvNpGuzN/bqVw8wUKf7pGYfETVv2/3Kbwz7us/zlZ/Vso/Le7woQeCo1PV/jV0foYO54NLxfTxKYpWPc3UXi7vUKrugpdGimMv9+SwdSHFB5pav1fOEyB8r6trgLr0Y20WyyvfMpzTi8ta84/297wtNU+26Y+vHOHQut6Cnc2UBj3Rys/pvkwy4046IlQJZhgUXFrnaBQt6aeoE6XKBxRWeH1tlp4uwbricp90BKmOetxAjiRZ1TXQh9zty5Dd4awEZDRHTRcNY9TyCudME7go82s9jg555+k8HJrDWDbixVqn6gwqp3CHpe1QlQTmqZgHVdNocV5eg4I15FVFBY9ruX1YSd90jHj50mPsh12s0LXyxVOPCocLK/8H7orHFVVoUNDLe8r6yjUOMaCi3PJ+W12lsIrbRTa1VeoXElhYWl/TD9i+oxASRxZwQTriWsUjj9SgWc2IxzuO+FIBVorL7BYpxz6ADcAAAPUSURBVKwryMlg/eLhVpvn1FB44Cr9fySw2F62u4IXnKxQVCo7zsHRVbUFo2zsYM3rrVBJWdAxn16CsVhe+Sx/SS2F2y+y5sns47qZ3zmXPOkeGqH/5yfBG9k6vA7LRr3FQU+EKsEE67pzywt20gN6cugixAsWrY5d0FyQX1FH7xOwwmVjlxMVufMl4fmNais8WxocsoP1QQeFU48PL0vLZsDyyj8wTFsfuut9mlsbT5Rmrtif3zcKPwbXv8+Vuv32vkf9PQIlcWQFEywK8cHfhgtuaR89OTMftcCa3NMqM+MRnW98cSeL1ft3VnkK/KnrFC46Ve8zvrx9Is6srl1B7st2i1U2Kkj5DmqpZWcHi1bjlOMUSl6wZG3mjlFBr/wtA/U83tFAoe+14duI0pA+wSrbH1o5AcvDRNO3PreGNTFUbE5I1coKPKPRFeEZ0B7Q+KyLN1gNa4W3yfWWOfNxsu5tbOXTZeTxuMbi8TmpEhW05OMGVk5PPQ+ze1lluTY2Fssrn7Kmy152vft9NytgImB5AEQhOm2MwnEiqMwFQxQm9tA+td2VYyChfX2dv7KvQoPTwsG64XwFBj02ll474WTQ93/3Dg0mP6tVUeBCmX2gNeOCe/mTCrwQ/HBTXZ7RQuYzIsZrNTz72tdpTv2PuC9NgxdlLYQbWPuHKtSrqdCmngIjtVxT8YRmwPLKp+zoAnLN9NU9CgdH6PlnMOPTLnouBCwXcCIqXmkdhlKrH62jT8dW05BwUkzdf3fVkagqlXS5v3cMB+uNthocAsg6nIzm5ygwYEGgGHXkMUx7dCFpwagAnEQqEt1DY7GW9dFrB+b/9JBVz9SP+jPDwaIcVvfTsmTkkFu/ay2wosmnR8JABSPBDJLQJX+6hSVzAasCYHEC6Kev629Fo8oqL6NBzDfRobL5jCrufd4Cy5x1GWK3rwHs9Xj9zNSx7zffeZ3MfI/rMw3BimucLypwvWQ/GZZtxyufUUhavbL1EvJ/HBGKCFWCGbxIhOCcznKJOI5nm1kElqcsKnji9bX9CJTEkZU9YPHuDd5t4etkxKMYAlbq58Bp3uKgJ0KV7AEr5UCZyRSwBKwIRHpnGUWSz3BFErDC5REU/fDW6FhKiMVKuiUTsASsWBAtVzYoZ6Kg9UPAErDKwRLLjqApdFD6I2AJWLFwVK7sR1cBspWXQU7/cqJK2g4eW+bEWQb+TkIC11j+djSzWis5mPzxpOKYyR9lUI4oYAVlJqQfGSUBASujplMGExQJCFhBmQnpR0ZJQMDKqOmUwQRFAgJWUGZC+pFREvj6/wGzs5kb+tpRvAAAAABJRU5ErkJggg==)"
      ]
    },
    {
      "cell_type": "code",
      "metadata": {
        "id": "jZX_s3FyV_3Z"
      },
      "source": [
        "class EncoderRNN(nn.Module):\n",
        "    def __init__(self, input_size, hidden_size):\n",
        "        super(EncoderRNN, self).__init__()\n",
        "        self.hidden_size = hidden_size\n",
        "\n",
        "        self.embedding = nn.Embedding(input_size, hidden_size)\n",
        "        self.gru = nn.GRU(hidden_size, hidden_size)\n",
        "\n",
        "    def forward(self, input, hidden):\n",
        "        embedded = self.embedding(input).view(1, 1, -1)\n",
        "        output = embedded\n",
        "        output, hidden = self.gru(output, hidden)\n",
        "        return output, hidden\n",
        "\n",
        "    def initHidden(self):\n",
        "        return torch.zeros(1, 1, self.hidden_size, device=device)"
      ],
      "execution_count": 10,
      "outputs": []
    },
    {
      "cell_type": "markdown",
      "metadata": {
        "id": "TVhmNoyqV_3g"
      },
      "source": [
        "デコーダ（Decoder） \n",
        "--------\n",
        "\n",
        "デコーダは、エンコーダとは別のRNNです。デコーダはエンコーダが出力したベクトルを受け取り、翻訳文を生成する単語のシーケンスを出力します。"
      ]
    },
    {
      "cell_type": "markdown",
      "metadata": {
        "id": "cLQj_lsvV_3g"
      },
      "source": [
        "#### 単純なデコーダー \n",
        "\n",
        "最も単純なseq2seqデコーダでは、デコーダはエンコーダの最後の出力ベクトルのみを使用します。\n",
        "\n",
        "このエンコーダの最後の出力ベクトルは、入力シーケンス全体の文脈をエンコードしていることから、*文脈ベクトル*（context vector）と呼ばれることもあります。\n",
        "\n",
        "この文脈ベクトルは、デコーダの初期の隠れ状態として使われます。\n",
        "\n",
        "デコードの各ステップで、デコーダには入力トークンと隠れ状態が与えられます\n",
        "\n",
        "（日本語訳注：ここでの「ステップ」は1つの単語=トークンの処理を示します）\n",
        "\n",
        "\n"
      ]
    },
    {
      "cell_type": "markdown",
      "metadata": {
        "id": "6er0sQpLP_Yz"
      },
      "source": [
        "最初の入力トークンは文字列の先頭を示す`<SOS>トークン`であり、最初の隠れ状態は文脈ベクトル（エンコーダの最後の隠れ状態と同じもの）です。"
      ]
    },
    {
      "cell_type": "markdown",
      "metadata": {
        "id": "ixIRdHund_0e"
      },
      "source": [
        "![image.png](data:image/png;base64,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)"
      ]
    },
    {
      "cell_type": "code",
      "metadata": {
        "id": "2Py_APOnV_3h"
      },
      "source": [
        "class DecoderRNN(nn.Module):\n",
        "    def __init__(self, hidden_size, output_size):\n",
        "        super(DecoderRNN, self).__init__()\n",
        "        self.hidden_size = hidden_size\n",
        "\n",
        "        self.embedding = nn.Embedding(output_size, hidden_size)\n",
        "        self.gru = nn.GRU(hidden_size, hidden_size)\n",
        "        self.out = nn.Linear(hidden_size, output_size)\n",
        "        self.softmax = nn.LogSoftmax(dim=1)\n",
        "\n",
        "    def forward(self, input, hidden):\n",
        "        output = self.embedding(input).view(1, 1, -1)\n",
        "        output = F.relu(output)\n",
        "        output, hidden = self.gru(output, hidden)\n",
        "        output = self.softmax(self.out(output[0]))\n",
        "        return output, hidden\n",
        "\n",
        "    def initHidden(self):\n",
        "        return torch.zeros(1, 1, self.hidden_size, device=device)"
      ],
      "execution_count": 11,
      "outputs": []
    },
    {
      "cell_type": "markdown",
      "metadata": {
        "id": "gKIa9vU2V_3j"
      },
      "source": [
        "このシンプルなモデルを理解するためには、このモデルを訓練させてその結果を確認することをおすすめします。\n",
        "\n",
        "ですがここでは、紙面の都合上割愛し、本チュートリアルのメインであるアテンション・メカニズムの導入に移ります。"
      ]
    },
    {
      "cell_type": "markdown",
      "metadata": {
        "id": "46NxIy7-V_3j"
      },
      "source": [
        "#### アテンションデコーダー（Attention Decoder） \n",
        "\n",
        "エンコーダーとデコーダーの間で文脈ベクトルだけが渡される場合、文全体に対するエンコーディング結果が全て文脈ベクトルに集約される形となります。\n",
        "\n",
        "つまり、一つの文脈ベクトルが、全ての文に対するエンコーディングの結果を担っているのです。\n",
        "\n"
      ]
    },
    {
      "cell_type": "markdown",
      "metadata": {
        "id": "ktCUNZdVQRxW"
      },
      "source": [
        "アテンションによって、デコーダは各出力ステップごとに、異なるパターンでエンコーダの出力に対して「フォーカス」することができるようになります。\r\n",
        "\r\n",
        "始めにアテンションの重みを計算します。\r\n",
        "\r\n",
        "これらの重みはエンコーダの出力とかけ算され、重みされた結果になります。\r\n",
        "\r\n",
        "この計算結果（コードでは`attn_applied `）は、入力シーケンスの特定の部分に関する情報を含んでいると考えられ、デコーダが正しい出力単語を選択するのに役立ちます。\r\n",
        "\r\n",
        "<br>\r\n",
        "\r\n",
        "（日本語訳注：例えば、「Je ne suis pas le chat noir」→「I am not the black cat」であれば、\"I\"の出力時には\"Je\"に対する重みが大きくなり、\"am\"の出力時には\"suis\"に対する重みが大きくなる、というイメージです）\r\n"
      ]
    },
    {
      "cell_type": "markdown",
      "metadata": {
        "id": "RlH6ekDzePW0"
      },
      "source": [
        "![image.png](data:image/png;base64,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)"
      ]
    },
    {
      "cell_type": "markdown",
      "metadata": {
        "id": "_lskIcSMfJ4r"
      },
      "source": [
        "アテンションの重みの計算は、別の全結合層`attn`で行われます。\n",
        "\n",
        "ここでは、デコーダに対する入力と、隠れ状態を使用して、アテンションの重みの計算をしています。\n",
        "\n"
      ]
    },
    {
      "cell_type": "markdown",
      "metadata": {
        "id": "9xUagq-TQq4-"
      },
      "source": [
        "\r\n",
        "訓練データには様々な長さの文が含まれているため、全結合層を作成してそれを訓練させるには、このレイヤーが適用できる最大の文の長さ（エンコーダにとっては、入力値の長さ）を選択しなければなりません。\r\n",
        "\r\n",
        "（日本語訳注：全結合層ではベクトルの長を指定する必要があるため、シーケンスの最大長の指定してその長さにそろえる必要があります）\r\n",
        "\r\n"
      ]
    },
    {
      "cell_type": "markdown",
      "metadata": {
        "id": "SUtnH8jLQyMO"
      },
      "source": [
        "最大の長さの文においては、すべての単語に対応するアンテンションの重みが使用されるでしょうし、短い文では最初の数単語の重みのみが使用されることになります。"
      ]
    },
    {
      "cell_type": "code",
      "metadata": {
        "id": "yATYijYpV_3k"
      },
      "source": [
        "class AttnDecoderRNN(nn.Module):\n",
        "    def __init__(self, hidden_size, output_size, dropout_p=0.1, max_length=MAX_LENGTH):\n",
        "        super(AttnDecoderRNN, self).__init__()\n",
        "        self.hidden_size = hidden_size\n",
        "        self.output_size = output_size\n",
        "        self.dropout_p = dropout_p\n",
        "        self.max_length = max_length\n",
        "\n",
        "        self.embedding = nn.Embedding(self.output_size, self.hidden_size)\n",
        "        self.attn = nn.Linear(self.hidden_size * 2, self.max_length)\n",
        "        self.attn_combine = nn.Linear(self.hidden_size * 2, self.hidden_size)\n",
        "        self.dropout = nn.Dropout(self.dropout_p)\n",
        "        self.gru = nn.GRU(self.hidden_size, self.hidden_size)\n",
        "        self.out = nn.Linear(self.hidden_size, self.output_size)\n",
        "\n",
        "    def forward(self, input, hidden, encoder_outputs):\n",
        "        embedded = self.embedding(input).view(1, 1, -1)\n",
        "        embedded = self.dropout(embedded)\n",
        "\n",
        "        attn_weights = F.softmax(\n",
        "            self.attn(torch.cat((embedded[0], hidden[0]), 1)), dim=1)\n",
        "        attn_applied = torch.bmm(attn_weights.unsqueeze(0),\n",
        "                                 encoder_outputs.unsqueeze(0))\n",
        "\n",
        "        output = torch.cat((embedded[0], attn_applied[0]), 1)\n",
        "        output = self.attn_combine(output).unsqueeze(0)\n",
        "\n",
        "        output = F.relu(output)\n",
        "        output, hidden = self.gru(output, hidden)\n",
        "\n",
        "        output = F.log_softmax(self.out(output[0]), dim=1)\n",
        "        return output, hidden, attn_weights\n",
        "\n",
        "    def initHidden(self):\n",
        "        return torch.zeros(1, 1, self.hidden_size, device=device)"
      ],
      "execution_count": 12,
      "outputs": []
    },
    {
      "cell_type": "markdown",
      "metadata": {
        "id": "UJjD8OBwV_3m"
      },
      "source": [
        "-----\n",
        "\n",
        "【注意】\n",
        "\n",
        "相対的な単語の位置情報を元にしたアプローチを使用することで、シーケンスの長さに制限をかけなくても機能するような、異なるアテンション・メカニズムもあります。\n",
        "\n",
        "詳細は、[Effective Approaches to Attention-based Neural Machine Translation](https://arxiv.org/abs/1508.04025)における「local attention」の項を参照してください。\n",
        "\n",
        "-----\n",
        "\n"
      ]
    },
    {
      "cell_type": "markdown",
      "metadata": {
        "id": "9137Xh21fY34"
      },
      "source": [
        "訓練 \n",
        "============\n",
        "\n",
        "訓練データの作成 \n",
        "------------------------\n",
        "\n",
        "モデルを訓練するには、(英語, 他の言語)というペアごとに、入力データのテンソル（入力文に含まれる単語のインデックス）と正解データのテンソル（正解文に含まれる単語のインデックス）が必要となります。\n",
        "\n",
        "入力データと正解データのテンソルを作成する処理のなかで、EOS（End of Sentence）トークンを入力データ、正解データの各シーケンスに追加する処理も行います。"
      ]
    },
    {
      "cell_type": "code",
      "metadata": {
        "id": "xS9pmYxtV_3m"
      },
      "source": [
        "def indexesFromSentence(lang, sentence):\n",
        "    return [lang.word2index[word] for word in sentence.split(' ')]\n",
        "\n",
        "\n",
        "def tensorFromSentence(lang, sentence):\n",
        "    indexes = indexesFromSentence(lang, sentence)\n",
        "    indexes.append(EOS_token)\n",
        "    return torch.tensor(indexes, dtype=torch.long, device=device).view(-1, 1)\n",
        "\n",
        "\n",
        "def tensorsFromPair(pair):\n",
        "    input_tensor = tensorFromSentence(input_lang, pair[0])\n",
        "    target_tensor = tensorFromSentence(output_lang, pair[1])\n",
        "    return (input_tensor, target_tensor)"
      ],
      "execution_count": 13,
      "outputs": []
    },
    {
      "cell_type": "markdown",
      "metadata": {
        "id": "hZ24HZrvV_3p"
      },
      "source": [
        "モデルの訓練\n",
        "--------------------\n",
        "\n",
        "訓練するには、入力文をエンコーダに投入して実行し、実行の過程のすべての出力と、一番最後の隠れ状態を記録します。\n",
        "\n",
        "\n",
        "続いて、デコーダには最初の入力として`<SOS> トークン`が渡され、また、エンコーダの最後の隠れ状態が、デコーダの最初の隠れ状態として渡されます。\n",
        "\n"
      ]
    },
    {
      "cell_type": "markdown",
      "metadata": {
        "id": "e6QUaTUMDATa"
      },
      "source": [
        "ここで、\\\"教師強制\\\"（Teacher forcing）と呼ばれるアイデアを紹介します。\n",
        "\n",
        "「教師強制」は、デコーダの推論結果を次のステップのRNNへの入力として使用するのではなく、次のステップでは、実際の正解データをRNNへの入力として使用するという手法です。\n",
        "\n",
        "教師強制を使用すると、より速く収束しますが、[訓練されたネットワークが悪用されると不安定になり問題になることがあります](http://citeseerx.ist.psu.edu/viewdoc/download?doi=10.1.1.378.4095&rep=rep1&type=pdf).\n",
        "\n",
        "\n"
      ]
    },
    {
      "cell_type": "markdown",
      "metadata": {
        "id": "vmvdLdgwRf1S"
      },
      "source": [
        "教師強制のネットワークの出力は、文法的には正しくても、正しい翻訳からはかけ離れたものになることがあります。\r\n",
        "\r\n",
        "教師強制の直感的な理解としては、以下のようなものとなります。\r\n",
        "\r\n",
        "まず、教師強制は「文法」を表現することを学習させています。\r\n",
        "\r\n",
        "また、正しい翻訳の最初の数語を伝えればそこから意味を「拾う」ことはできます。\r\n",
        "\r\n",
        "しかし、そもそも翻訳で文章を作る方法をきちんと学べてはいません。\r\n",
        "\r\n",
        "\r\n"
      ]
    },
    {
      "cell_type": "markdown",
      "metadata": {
        "id": "f88PKjyGRrBE"
      },
      "source": [
        "PyTorch の `autograd` の自由度のおかげで、単純な if 文だけで、教師強制を使うか使わないかをランダムに選択することができます。\r\n",
        "\r\n",
        "`teacher_forcing_ratio`の値を上げると、より頻繁に教師強制を使うようになります。"
      ]
    },
    {
      "cell_type": "code",
      "metadata": {
        "id": "WKZB5G2BV_3q"
      },
      "source": [
        "teacher_forcing_ratio = 0.5\n",
        "\n",
        "\n",
        "def train(input_tensor, target_tensor, encoder, decoder, encoder_optimizer, decoder_optimizer, criterion, max_length=MAX_LENGTH):\n",
        "    encoder_hidden = encoder.initHidden()\n",
        "\n",
        "    encoder_optimizer.zero_grad()\n",
        "    decoder_optimizer.zero_grad()\n",
        "\n",
        "    input_length = input_tensor.size(0)\n",
        "    target_length = target_tensor.size(0)\n",
        "\n",
        "    encoder_outputs = torch.zeros(max_length, encoder.hidden_size, device=device)\n",
        "\n",
        "    loss = 0\n",
        "\n",
        "    for ei in range(input_length):\n",
        "        encoder_output, encoder_hidden = encoder(\n",
        "            input_tensor[ei], encoder_hidden)\n",
        "        encoder_outputs[ei] = encoder_output[0, 0]\n",
        "\n",
        "    decoder_input = torch.tensor([[SOS_token]], device=device)\n",
        "\n",
        "    decoder_hidden = encoder_hidden\n",
        "\n",
        "    use_teacher_forcing = True if random.random() < teacher_forcing_ratio else False\n",
        "\n",
        "    if use_teacher_forcing:\n",
        "        # 教師強制の場合：次の入力として正解データを渡す。\n",
        "        for di in range(target_length):\n",
        "            decoder_output, decoder_hidden, decoder_attention = decoder(\n",
        "                decoder_input, decoder_hidden, encoder_outputs)\n",
        "            loss += criterion(decoder_output, target_tensor[di])\n",
        "            decoder_input = target_tensor[di]  # Teacher forcing\n",
        "\n",
        "    else:\n",
        "         # 教師強制を使わない：自分の予測を次の入力として使用する\n",
        "        for di in range(target_length):\n",
        "            decoder_output, decoder_hidden, decoder_attention = decoder(\n",
        "                decoder_input, decoder_hidden, encoder_outputs)\n",
        "            topv, topi = decoder_output.topk(1)\n",
        "            decoder_input = topi.squeeze().detach()  # 入力として使用するために、計算グラフから切り離す\n",
        "\n",
        "            loss += criterion(decoder_output, target_tensor[di])\n",
        "            if decoder_input.item() == EOS_token:\n",
        "                break\n",
        "\n",
        "    loss.backward()\n",
        "\n",
        "    encoder_optimizer.step()\n",
        "    decoder_optimizer.step()\n",
        "\n",
        "    return loss.item() / target_length"
      ],
      "execution_count": 14,
      "outputs": []
    },
    {
      "cell_type": "markdown",
      "metadata": {
        "id": "BuzBnVFbV_3s"
      },
      "source": [
        "以下は、現在の時刻と進行度度合（％表示）が与えられると、経過時間と推定残り時間を表示する補助関数です。"
      ]
    },
    {
      "cell_type": "code",
      "metadata": {
        "id": "L2DJkG0lV_3t"
      },
      "source": [
        "import time\n",
        "import math\n",
        "\n",
        "\n",
        "def asMinutes(s):\n",
        "    m = math.floor(s / 60)\n",
        "    s -= m * 60\n",
        "    return '%dm %ds' % (m, s)\n",
        "\n",
        "\n",
        "def timeSince(since, percent):\n",
        "    now = time.time()\n",
        "    s = now - since\n",
        "    es = s / (percent)\n",
        "    rs = es - s\n",
        "    return '%s (- %s)' % (asMinutes(s), asMinutes(rs))"
      ],
      "execution_count": 15,
      "outputs": []
    },
    {
      "cell_type": "markdown",
      "metadata": {
        "id": "fnBCNYxMV_3v"
      },
      "source": [
        "ネットワーク訓練全体のステップは以下の通りです。\n",
        "\n",
        "-   タイマーを起動\n",
        "-   オプティマイザーと損失関数を初期化\n",
        "-   訓練用ペアのセットを作成\n",
        "-   損失をプロットするために、空の配列を作成\n",
        "\n",
        "そして、何度も`train`関数を呼び出して、時々進捗状況（データを何%使ったか、これまでの経過時間、推定時間）と損失の平均値を表示します。"
      ]
    },
    {
      "cell_type": "code",
      "metadata": {
        "id": "30QTPFaVV_3v"
      },
      "source": [
        "def trainIters(encoder, decoder, n_iters, print_every=1000, plot_every=100, learning_rate=0.01):\n",
        "    start = time.time()\n",
        "    plot_losses = []\n",
        "    print_loss_total = 0  # printする度にリセット\n",
        "    plot_loss_total = 0  # plot_everyごとにリセット\n",
        "\n",
        "    encoder_optimizer = optim.SGD(encoder.parameters(), lr=learning_rate)\n",
        "    decoder_optimizer = optim.SGD(decoder.parameters(), lr=learning_rate)\n",
        "    training_pairs = [tensorsFromPair(random.choice(pairs))\n",
        "                      for i in range(n_iters)]\n",
        "    criterion = nn.NLLLoss()\n",
        "\n",
        "    for iter in range(1, n_iters + 1):\n",
        "        training_pair = training_pairs[iter - 1]\n",
        "        input_tensor = training_pair[0]\n",
        "        target_tensor = training_pair[1]\n",
        "\n",
        "        loss = train(input_tensor, target_tensor, encoder,\n",
        "                     decoder, encoder_optimizer, decoder_optimizer, criterion)\n",
        "        print_loss_total += loss\n",
        "        plot_loss_total += loss\n",
        "\n",
        "        if iter % print_every == 0:\n",
        "            print_loss_avg = print_loss_total / print_every\n",
        "            print_loss_total = 0\n",
        "            print('%s (%d %d%%) %.4f' % (timeSince(start, iter / n_iters),\n",
        "                                         iter, iter / n_iters * 100, print_loss_avg))\n",
        "\n",
        "        if iter % plot_every == 0:\n",
        "            plot_loss_avg = plot_loss_total / plot_every\n",
        "            plot_losses.append(plot_loss_avg)\n",
        "            plot_loss_total = 0\n",
        "\n",
        "    showPlot(plot_losses)"
      ],
      "execution_count": 16,
      "outputs": []
    },
    {
      "cell_type": "markdown",
      "metadata": {
        "id": "ppVF-1xNV_3x"
      },
      "source": [
        "プロット結果 \n",
        "------------\n",
        "\n",
        "訓練に保存された損失値の配列 `plot_losses を`用いて，訓練が完了したところまでの損失を、matplotlibでプロットします．"
      ]
    },
    {
      "cell_type": "code",
      "metadata": {
        "id": "oLWDa7_gV_3x"
      },
      "source": [
        "import matplotlib.pyplot as plt\n",
        "#plt.switch_backend('agg')  \n",
        "# 日本語訳注：Google Colaboratoryでグラフが描画されなくなるため、コメントアウト\n",
        "import matplotlib.ticker as ticker\n",
        "import numpy as np\n",
        "\n",
        "\n",
        "def showPlot(points):\n",
        "    plt.figure()\n",
        "    fig, ax = plt.subplots()\n",
        "    # 等間隔でticを設定\n",
        "    loc = ticker.MultipleLocator(base=0.2)\n",
        "    ax.yaxis.set_major_locator(loc)\n",
        "    plt.plot(points)\n"
      ],
      "execution_count": 17,
      "outputs": []
    },
    {
      "cell_type": "markdown",
      "metadata": {
        "id": "WSqIxYicV_30"
      },
      "source": [
        "評価 \n",
        "====\n",
        "\n",
        "評価はモデルの訓練とほとんど同じですが、正解データがないので、各ステップごとにデコーダの予測値を自分自身にフィードバックします。\n",
        "\n",
        "デコーダが単語を予測するたびに、それを出力文字列に追加します。\n",
        "\n",
        "そして予測結果がEOSトークンとなった場合には、そこで予測を停止します。\n",
        "\n",
        "さらに、表示用にデコーダのアテンションを保存します。"
      ]
    },
    {
      "cell_type": "code",
      "metadata": {
        "id": "RCzkne2oV_31"
      },
      "source": [
        "def evaluate(encoder, decoder, sentence, max_length=MAX_LENGTH):\n",
        "    with torch.no_grad():\n",
        "        input_tensor = tensorFromSentence(input_lang, sentence)\n",
        "        input_length = input_tensor.size()[0]\n",
        "        encoder_hidden = encoder.initHidden()\n",
        "\n",
        "        encoder_outputs = torch.zeros(max_length, encoder.hidden_size, device=device)\n",
        "\n",
        "        for ei in range(input_length):\n",
        "            encoder_output, encoder_hidden = encoder(input_tensor[ei],\n",
        "                                                     encoder_hidden)\n",
        "            encoder_outputs[ei] += encoder_output[0, 0]\n",
        "\n",
        "        decoder_input = torch.tensor([[SOS_token]], device=device)  # SOS\n",
        "\n",
        "        decoder_hidden = encoder_hidden\n",
        "\n",
        "        decoded_words = []\n",
        "        decoder_attentions = torch.zeros(max_length, max_length)\n",
        "\n",
        "        for di in range(max_length):\n",
        "            decoder_output, decoder_hidden, decoder_attention = decoder(\n",
        "                decoder_input, decoder_hidden, encoder_outputs)\n",
        "            decoder_attentions[di] = decoder_attention.data\n",
        "            topv, topi = decoder_output.data.topk(1)\n",
        "            if topi.item() == EOS_token:\n",
        "                decoded_words.append('<EOS>')\n",
        "                break\n",
        "            else:\n",
        "                decoded_words.append(output_lang.index2word[topi.item()])\n",
        "\n",
        "            decoder_input = topi.squeeze().detach()\n",
        "\n",
        "        return decoded_words, decoder_attentions[:di + 1]"
      ],
      "execution_count": 18,
      "outputs": []
    },
    {
      "cell_type": "markdown",
      "metadata": {
        "id": "35kpN9NxV_33"
      },
      "source": [
        "訓練セットからランダムに文章を取り出して評価し、\n",
        "\n",
        "入力データ、正解データ、予測結果を`print`文で表示することで、\n",
        "\n",
        "直感的な翻訳の品質判断を行うことができます。"
      ]
    },
    {
      "cell_type": "code",
      "metadata": {
        "id": "3czA66mdV_33"
      },
      "source": [
        "def evaluateRandomly(encoder, decoder, n=10):\n",
        "    for i in range(n):\n",
        "        pair = random.choice(pairs)\n",
        "        print('>', pair[0])\n",
        "        print('=', pair[1])\n",
        "        output_words, attentions = evaluate(encoder, decoder, pair[0])\n",
        "        output_sentence = ' '.join(output_words)\n",
        "        print('<', output_sentence)\n",
        "        print('')"
      ],
      "execution_count": 19,
      "outputs": []
    },
    {
      "cell_type": "markdown",
      "metadata": {
        "id": "XXkUNxlzV_35"
      },
      "source": [
        "訓練と評価 \n",
        "==================\n",
        "\n",
        "以上ここまでの補助関数がすべて作成できていれば、実際にネットワークを初期化して訓練を開始することができます（補助関数の作成は余計な手間のように感じるかもしれませんが、訓練を何度も実行することが容易になります）。\n",
        "\n"
      ]
    },
    {
      "cell_type": "markdown",
      "metadata": {
        "id": "SSk45AmySFpy"
      },
      "source": [
        "本チュートリアルでは入力文を、かなりフィルタリングして制限していたことを覚えていますでしょうか。\r\n",
        "\r\n",
        "フィルタリングした後の小さくなったデータセットに対しては、256個の隠れノードと1つのGRU層から構成される、比較的小さなネットワークで対応できます。\r\n",
        "\r\n",
        "MacBookのCPUを使った場合には、約40分待てば適切な結果が得られるはずです。\r\n",
        "\r\n",
        "（日本語訳注：Google ColaboratoryはGPUモードで実行してください）"
      ]
    },
    {
      "cell_type": "markdown",
      "metadata": {
        "id": "LpyyWRGqgjRH"
      },
      "source": [
        "_____\n",
        "\n",
        "【注】\n",
        "\n",
        "このノートブックを実行している場合は、訓練の最中にカーネルを中断して評価し、その後訓練を再開することができます。\n",
        "\n",
        "訓練を再開する際には、エンコーダとデコーダが初期化されている行をコメントアウトして、再度`trainIters を`実行してください。\n",
        "\n",
        "_____"
      ]
    },
    {
      "cell_type": "code",
      "metadata": {
        "id": "q0THQ4HcV_35",
        "colab": {
          "base_uri": "https://localhost:8080/",
          "height": 546
        },
        "outputId": "f5bcd102-d3c0-43b6-e1a8-0ee63e47fc59"
      },
      "source": [
        "hidden_size = 256\n",
        "encoder1 = EncoderRNN(input_lang.n_words, hidden_size).to(device)\n",
        "attn_decoder1 = AttnDecoderRNN(hidden_size, output_lang.n_words, dropout_p=0.1).to(device)\n",
        "\n",
        "trainIters(encoder1, attn_decoder1, 75000, print_every=5000)\n",
        "\n",
        "# 日本語訳注：GoogleColabのGPU環境で25分ほどかかります。"
      ],
      "execution_count": 20,
      "outputs": [
        {
          "output_type": "stream",
          "text": [
            "1m 41s (- 23m 43s) (5000 6%) 2.8489\n",
            "3m 20s (- 21m 42s) (10000 13%) 2.2972\n",
            "4m 59s (- 19m 57s) (15000 20%) 1.9921\n",
            "6m 36s (- 18m 10s) (20000 26%) 1.7471\n",
            "8m 12s (- 16m 25s) (25000 33%) 1.5516\n",
            "9m 47s (- 14m 40s) (30000 40%) 1.3933\n",
            "11m 19s (- 12m 56s) (35000 46%) 1.2461\n",
            "12m 50s (- 11m 14s) (40000 53%) 1.1138\n",
            "14m 21s (- 9m 34s) (45000 60%) 0.9984\n",
            "15m 56s (- 7m 58s) (50000 66%) 0.9194\n",
            "17m 28s (- 6m 21s) (55000 73%) 0.8642\n",
            "18m 59s (- 4m 44s) (60000 80%) 0.7472\n",
            "20m 31s (- 3m 9s) (65000 86%) 0.6851\n",
            "22m 3s (- 1m 34s) (70000 93%) 0.6361\n",
            "23m 35s (- 0m 0s) (75000 100%) 0.6011\n"
          ],
          "name": "stdout"
        },
        {
          "output_type": "display_data",
          "data": {
            "text/plain": [
              "<Figure size 432x288 with 0 Axes>"
            ]
          },
          "metadata": {
            "tags": []
          }
        },
        {
          "output_type": "display_data",
          "data": {
            "image/png": "[encoded data removed]",
            "text/plain": [
              "<Figure size 432x288 with 1 Axes>"
            ]
          },
          "metadata": {
            "tags": [],
            "needs_background": "light"
          }
        }
      ]
    },
    {
      "cell_type": "code",
      "metadata": {
        "id": "5xhFt1LCV_38",
        "colab": {
          "base_uri": "https://localhost:8080/"
        },
        "outputId": "ad8b480b-82ad-4151-9b8d-4f3e0c0365f6"
      },
      "source": [
        "evaluateRandomly(encoder1, attn_decoder1)"
      ],
      "execution_count": 21,
      "outputs": [
        {
          "output_type": "stream",
          "text": [
            "> vous etes une de ces dragueuses !\n",
            "= you re such a flirt .\n",
            "< you are such a flirt . <EOS>\n",
            "\n",
            "> je suis ton ami .\n",
            "= i m your friend .\n",
            "< i m your friend . <EOS>\n",
            "\n",
            "> je vais etre papa .\n",
            "= i m going to be a father .\n",
            "< i m going to be a father . <EOS>\n",
            "\n",
            "> nous sommes fauchees .\n",
            "= we re broke .\n",
            "< we re broke . <EOS>\n",
            "\n",
            "> il est le president du comite .\n",
            "= he s the chairman of the committee .\n",
            "< he s the the the the committee . <EOS>\n",
            "\n",
            "> tu es trop naive .\n",
            "= you re too naive .\n",
            "< you re too naive . <EOS>\n",
            "\n",
            "> je suis claustrophobe .\n",
            "= i m claustrophobic .\n",
            "< i m claustrophobic . <EOS>\n",
            "\n",
            "> vous etes idiotes .\n",
            "= you re silly .\n",
            "< you re safe . <EOS>\n",
            "\n",
            "> je suis un peu ivre .\n",
            "= i m a bit drunk .\n",
            "< i am a bit drunk . <EOS>\n",
            "\n",
            "> il l a fait auparavant .\n",
            "= he s done it before .\n",
            "< he s done it before . <EOS>\n",
            "\n"
          ],
          "name": "stdout"
        }
      ]
    },
    {
      "cell_type": "markdown",
      "metadata": {
        "id": "JwfysUmrV_3-"
      },
      "source": [
        "アテンション（Attention）を可視化する \n",
        "------------------\n",
        "\n",
        "アテンション・メカニズムの便利な特性は、出力結果の解釈可能性がとても高いことです。\n",
        "\n",
        "アテンションは、特定の入力シーケンスに対応するエンコーダ出力に重み付けをするために使用されています。\n",
        "\n",
        "したがって、アテンションを使うことで各タイムステップごと（=トークンごと）に、ネットワークが最も注目している箇所を探せそうだ、と容易に想像がつきます。\n",
        "\n",
        "\n",
        "単純に`plt.matshow(attentions) `を実行すると、アテンションの出力が行列として表示されます。\n",
        "\n",
        "列が入力ステップ、行が出力ステップとなります。\n",
        "\n",
        "（日本語訳注：ここでいう「ステップ」は、本チュートリアルでは「単語」に相当します。したがって、列の番号は、入力されたシーケンスの単語インデックスを示しています）"
      ]
    },
    {
      "cell_type": "code",
      "metadata": {
        "id": "shwTYc3tV_3-",
        "colab": {
          "base_uri": "https://localhost:8080/",
          "height": 293
        },
        "outputId": "0b817603-29a7-4bcc-e840-ce174694d767"
      },
      "source": [
        "output_words, attentions = evaluate(\n",
        "    encoder1, attn_decoder1, \"je suis trop froid .\")\n",
        "plt.matshow(attentions.numpy())"
      ],
      "execution_count": 22,
      "outputs": [
        {
          "output_type": "execute_result",
          "data": {
            "text/plain": [
              "<matplotlib.image.AxesImage at 0x7fd8f3a06c50>"
            ]
          },
          "metadata": {
            "tags": []
          },
          "execution_count": 22
        },
        {
          "output_type": "display_data",
          "data": {
            "image/png": "[encoded data removed]",
            "text/plain": [
              "<Figure size 480x288 with 1 Axes>"
            ]
          },
          "metadata": {
            "tags": [],
            "needs_background": "light"
          }
        }
      ]
    },
    {
      "cell_type": "markdown",
      "metadata": {
        "id": "VVJMeEUBV_4A"
      },
      "source": [
        "\n",
        "より見やすく、分かりやすくするために、軸とラベルの追加作業を行います。"
      ]
    },
    {
      "cell_type": "code",
      "metadata": {
        "id": "TsIITvTUV_4A",
        "colab": {
          "base_uri": "https://localhost:8080/",
          "height": 1000
        },
        "outputId": "79f6d8eb-79a5-49ed-cece-0e07239956de"
      },
      "source": [
        "def showAttention(input_sentence, output_words, attentions):\n",
        "    # Set up figure with colorbar\n",
        "    fig = plt.figure()\n",
        "    ax = fig.add_subplot(111)\n",
        "    cax = ax.matshow(attentions.numpy(), cmap='bone')\n",
        "    fig.colorbar(cax)\n",
        "\n",
        "    # Set up axes\n",
        "    ax.set_xticklabels([''] + input_sentence.split(' ') +\n",
        "                       ['<EOS>'], rotation=90)\n",
        "    ax.set_yticklabels([''] + output_words)\n",
        "\n",
        "    # Show label at every tick\n",
        "    ax.xaxis.set_major_locator(ticker.MultipleLocator(1))\n",
        "    ax.yaxis.set_major_locator(ticker.MultipleLocator(1))\n",
        "\n",
        "    plt.show()\n",
        "\n",
        "\n",
        "def evaluateAndShowAttention(input_sentence):\n",
        "    output_words, attentions = evaluate(\n",
        "        encoder1, attn_decoder1, input_sentence)\n",
        "    print('input =', input_sentence)\n",
        "    print('output =', ' '.join(output_words))\n",
        "    showAttention(input_sentence, output_words, attentions)\n",
        "\n",
        "\n",
        "evaluateAndShowAttention(\"elle a cinq ans de moins que moi .\")\n",
        "\n",
        "evaluateAndShowAttention(\"elle est trop petit .\")\n",
        "\n",
        "evaluateAndShowAttention(\"je ne crains pas de mourir .\")\n",
        "\n",
        "evaluateAndShowAttention(\"c est un jeune directeur plein de talent .\")"
      ],
      "execution_count": 23,
      "outputs": [
        {
          "output_type": "stream",
          "text": [
            "input = elle a cinq ans de moins que moi .\n",
            "output = she s been years older than i am . <EOS>\n"
          ],
          "name": "stdout"
        },
        {
          "output_type": "display_data",
          "data": {
            "image/png": "[encoded data removed]",
            "text/plain": [
              "<Figure size 432x288 with 2 Axes>"
            ]
          },
          "metadata": {
            "tags": [],
            "needs_background": "light"
          }
        },
        {
          "output_type": "stream",
          "text": [
            "input = elle est trop petit .\n",
            "output = she s too fat . <EOS>\n"
          ],
          "name": "stdout"
        },
        {
          "output_type": "display_data",
          "data": {
            "image/png": "[encoded data removed]",
            "text/plain": [
              "<Figure size 432x288 with 2 Axes>"
            ]
          },
          "metadata": {
            "tags": [],
            "needs_background": "light"
          }
        },
        {
          "output_type": "stream",
          "text": [
            "input = je ne crains pas de mourir .\n",
            "output = i m not scared to die . <EOS>\n"
          ],
          "name": "stdout"
        },
        {
          "output_type": "display_data",
          "data": {
            "image/png": "[encoded data removed]",
            "text/plain": [
              "<Figure size 432x288 with 2 Axes>"
            ]
          },
          "metadata": {
            "tags": [],
            "needs_background": "light"
          }
        },
        {
          "output_type": "stream",
          "text": [
            "input = c est un jeune directeur plein de talent .\n",
            "output = he s a talented young . . <EOS>\n"
          ],
          "name": "stdout"
        },
        {
          "output_type": "display_data",
          "data": {
            "image/png": "[encoded data removed]",
            "text/plain": [
              "<Figure size 432x288 with 2 Axes>"
            ]
          },
          "metadata": {
            "tags": [],
            "needs_background": "light"
          }
        }
      ]
    },
    {
      "cell_type": "markdown",
      "metadata": {
        "id": "ZPyRN_xEV_4E"
      },
      "source": [
        "演習 \n",
        "====\n",
        "\n",
        "-   異なるデータセットで試してみましょう\n",
        "\n",
        "    -   別の言語ペア\n",
        "    -   人間→機械（例えば、IoTコマンドなど）\n",
        "    -   チャット→レスポンス\n",
        "    -   質問→回答\n",
        "\n",
        "-   単語トークンの表現を、word2vecやGloVeのような訓練済みの単語埋め込みに置き換えてみましょう\n",
        "\n",
        "-   より多くのレイヤー、より多くの隠れたユニット、より多くの文で試してみましょう。そして、訓練時間と結果を比較してみましょう。\n",
        "\n",
        "-   ペアが、2つの同じ組み合わせとなっている翻訳ファイル（`I am test \\t I am test`）を使えば、このネットワークをオートエンコーダーとして使うことができます。これを試してみてください。\n",
        "\n",
        "    -   オートエンコーダーとしての訓練\n",
        "    -   エンコーダネットワークのみ保存\n",
        "    -   その状態から翻訳のための新しいデコーダーを訓練"
      ]
    }
  ]
}