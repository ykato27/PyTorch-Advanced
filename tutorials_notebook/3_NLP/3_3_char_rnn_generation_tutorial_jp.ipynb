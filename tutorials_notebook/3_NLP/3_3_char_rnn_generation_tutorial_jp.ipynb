{
  "nbformat": 4,
  "nbformat_minor": 0,
  "metadata": {
    "kernelspec": {
      "display_name": "Python 3",
      "language": "python",
      "name": "python3"
    },
    "language_info": {
      "codemirror_mode": {
        "name": "ipython",
        "version": 3
      },
      "file_extension": ".py",
      "mimetype": "text/x-python",
      "name": "python",
      "nbconvert_exporter": "python",
      "pygments_lexer": "ipython3",
      "version": "3.6.8"
    },
    "colab": {
      "name": "3_3_char_rnn_generation_tutorial_jp.ipynb",
      "provenance": [],
      "collapsed_sections": [],
      "toc_visible": true
    }
  },
  "cells": [
    {
      "cell_type": "markdown",
      "metadata": {
        "id": "ro4EsY39y_bO"
      },
      "source": [
        "「文字単位RNNによる名前（苗字）の生成」\n",
        "======================================\n",
        "【原題】NLP From Scratch: Generating Names with a Character-Level RNN\n",
        "\n",
        "【原著】[Sean Robertson](https://github.com/spro/practical-pytorch)\n",
        "\n",
        "【元URL】https://pytorch.org/tutorials/intermediate/char_rnn_generation_tutorial.html\n",
        "\n",
        "【翻訳】電通国際情報サービスISID AIトランスフォーメーションセンター　御手洗 拓真\n",
        "\n",
        "【日付】2020年10月25日\n",
        "\n",
        "【チュトーリアル概要】\n",
        "\n",
        "言語の種類を指定し、名前（苗字）を生成するモデルを、文字レベルのRNNモデルで構築します。\n",
        "\n",
        "---"
      ]
    },
    {
      "cell_type": "markdown",
      "metadata": {
        "id": "BYv2FmtUyZYw"
      },
      "source": [
        "本チュートリアルは、\"ゼロから作るNLP \"をテーマとした3つのチュートリアルの2つ目です。\n",
        "\n",
        "最初のチュートリアルでは、(日本語版「3_2_文字単位RNNによる名前（苗字）の分類」）\n",
        "\n",
        "RNNを使って、苗字を入力した際に、その苗字が属する言語を分類、推論しました。\n",
        "\n"
      ]
    },
    {
      "cell_type": "markdown",
      "metadata": {
        "id": "cgAOcrAZc79Q"
      },
      "source": [
        "今回は、その逆で、言語から苗字を生成してみましょう。\r\n",
        "\r\n",
        "    $ python sample.py Russian RUS\r\n",
        "    Rovakov\r\n",
        "    Uantov\r\n",
        "    Shavakov\r\n",
        "\r\n",
        "    $ python sample.py German GER\r\n",
        "    Gerren\r\n",
        "    Ereng\r\n",
        "    Rosher\r\n",
        "\r\n",
        "    $ python sample.py Spanish SPA\r\n",
        "    Salla\r\n",
        "    Parer\r\n",
        "    Allan\r\n",
        "\r\n",
        "    $ python  sample.py Chinese CHI\r\n",
        "    Chan\r\n",
        "    Hang\r\n",
        "    Iun\r\n"
      ]
    },
    {
      "cell_type": "markdown",
      "metadata": {
        "id": "98n08MdLrRFb"
      },
      "source": [
        "本チュートリアルでも、線形層を伴う小さなRNNモデルを手作りします。\n",
        "\n",
        "前回との大きな違いは、苗字の文字を読み込んでカテゴリ（=言語）を予測するのではなく、カテゴリ（=言語）を入力して、苗字（名前）を1文字ずつ出力することです。\n",
        "\n",
        "再帰的に文字を予測することで、文などの言語を生成するモデルは、しばしば「言語モデル」と呼ばれます。\n",
        "\n",
        "今回はカテゴリから名前を生成していますが、例えば単語やもっと高次元な構造（画像）などを入力して、文などの言語を生成することも可能です。"
      ]
    },
    {
      "cell_type": "markdown",
      "metadata": {
        "id": "p-3tMZ1Xqdma"
      },
      "source": [
        "\n",
        "\n",
        "\n",
        "\n",
        "\n",
        "\n",
        "**本チュートリアルを読むにあたっての推奨記事:**\n",
        "\n",
        "本チュートリアルでは、PyTorchとPythonがインストール済みであり、また読者がテンソルについて理解していることを前提としています。\n",
        "\n",
        "\n",
        "-  https://pytorch.org/ PyTorchのインストールガイドです\n",
        "-  [DEEP LEARNING WITH PYTORCH: A 60 MINUTE BLITZ](https://pytorch.org/tutorials/beginner/deep_learning_60min_blitz.html) は、PyTorchを始める方向けの記事です（日本語訳では、「PyTorch入門」で提供）\n",
        "-  [LEARNING PYTORCH WITH EXAMPLES](https://pytorch.org/tutorials/intermediate/char_rnn_classification_tutorial.html) は、PyTorchをより広く・深く理解する方向けの記事です（日本語訳では、「PyTorch入門」で提供）\n",
        "-  [PyTorch for Former Torch Users](https://pytorch.org/tutorials/beginner/former_torchies_tutorial.html) は、PyTorchの前身であるLua Torchユーザー向けの記事です\n",
        "\n",
        "\n"
      ]
    },
    {
      "cell_type": "markdown",
      "metadata": {
        "id": "jzPtfscQdagH"
      },
      "source": [
        "以下の記事は、RNNの概要と仕組みを理解するにあたっては、以下の記事がおすすめです。\r\n",
        "\r\n",
        "-  [The Unreasonable Effectiveness of Recurrent Neural\r\n",
        "   Networks](https://karpathy.github.io/2015/05/21/rnn-effectiveness/)\r\n",
        "   には実例が豊富です。\r\n",
        "-  [Understanding LSTM\r\n",
        "   Networks](https://colah.github.io/posts/2015-08-Understanding-LSTMs/)\r\n",
        "   はLSTMに関する記事ですが、RNNの一般的な理解にとっても有益です。\r\n",
        "\r\n",
        "<br>\r\n",
        "\r\n",
        "（日本語訳注：RNNを理解するにあたって、個人的に役立った日本語の記事を以下に記載します\r\n",
        "\r\n",
        "- [再帰型ニューラルネットワークの「基礎の基礎」を理解する](https://www.imagazine.co.jp/%E5%86%8D%E5%B8%B0%E5%9E%8B%E3%83%8B%E3%83%A5%E3%83%BC%E3%83%A9%E3%83%AB%E3%83%8D%E3%83%83%E3%83%88%E3%83%AF%E3%83%BC%E3%82%AF%E3%81%AE%E3%80%8C%E5%9F%BA%E7%A4%8E%E3%81%AE%E5%9F%BA%E7%A4%8E%E3%80%8D/)\r\n",
        "- [リカレントニューラルネットワーク（RNN）の基礎](https://qiita.com/_oshiritantei/items/3494590a92c609cf0e50)\r\n",
        "\r\n",
        "<br>\r\n",
        "\r\n",
        "また、前回のチュートリアル記事 「3_2_文字単位RNNによる名前（苗字）の分類」を一読することもおすすめです。\r\n"
      ]
    },
    {
      "cell_type": "markdown",
      "metadata": {
        "id": "7tVgdbRdsdO-"
      },
      "source": [
        "データの準備\n",
        "=====\n",
        "\n",
        "---\n",
        "\n",
        "【注釈】\n",
        "\n",
        "データを[ここ](https://download.pytorch.org/tutorial/data.zip)からダウンロードし、カレント・ディレクトリに展開してください\n",
        "\n",
        "\n",
        "（日本語訳注：日本語版の本チュートリアルでは自動的にファイルをダウンロードして使用可能にするセルを冒頭に追加しています）\n",
        "\n",
        "---\n",
        "\n",
        "\n"
      ]
    },
    {
      "cell_type": "markdown",
      "metadata": {
        "id": "h8AwZd37d0P7"
      },
      "source": [
        "データ準備処理の詳細は、前回のチュートリアルを参照してください。\r\n",
        "\r\n",
        "ここでは簡単に説明します。\r\n",
        "\r\n",
        "まず、各行が苗字となっているプレーンテキストファイル `data/names/[言語名].txt` が複数あります。\r\n",
        "\r\n",
        "このファイルの各行をリストに分割し、UnicodeをASCIIに変換し、最終的に`{language} [names ....]}`という形式の辞書を作成します。"
      ]
    },
    {
      "cell_type": "code",
      "metadata": {
        "id": "JdwM2J0myZYp"
      },
      "source": [
        "%matplotlib inline"
      ],
      "execution_count": 1,
      "outputs": []
    },
    {
      "cell_type": "code",
      "metadata": {
        "id": "WRdkKc7zzZAa"
      },
      "source": [
        "# 日本語訳注：サンプルデータをダウンロードし、zipファイルを解凍するセルを追加\n",
        "import os\n",
        "import subprocess\n",
        "import zipfile\n",
        "if os.path.exists('./data'):\n",
        "  print(\"./dat/ already exists\")\n",
        "else:\n",
        "  subprocess.run(\"wget https://download.pytorch.org/tutorial/data.zip\",shell=True, check=True)\n",
        "  with zipfile.ZipFile(\"./data.zip\") as zipfile:\n",
        "    zipfile.extractall(\".\")"
      ],
      "execution_count": 2,
      "outputs": []
    },
    {
      "cell_type": "code",
      "metadata": {
        "id": "XP_wQ3wEyZYx",
        "colab": {
          "base_uri": "https://localhost:8080/"
        },
        "outputId": "7b3e400d-0249-44ea-de0b-5da0a06596a1"
      },
      "source": [
        "from __future__ import unicode_literals, print_function, division\n",
        "from io import open\n",
        "import glob\n",
        "import os\n",
        "import unicodedata\n",
        "import string\n",
        "\n",
        "all_letters = string.ascii_letters + \" .,;'-\"\n",
        "n_letters = len(all_letters) + 1 # Plus EOS marker\n",
        "\n",
        "def findFiles(path): return glob.glob(path)\n",
        "\n",
        "# Turn a Unicode string to plain ASCII, thanks to https://stackoverflow.com/a/518232/2809427\n",
        "def unicodeToAscii(s):\n",
        "    return ''.join(\n",
        "        c for c in unicodedata.normalize('NFD', s)\n",
        "        if unicodedata.category(c) != 'Mn'\n",
        "        and c in all_letters\n",
        "    )\n",
        "\n",
        "# Read a file and split into lines\n",
        "def readLines(filename):\n",
        "    lines = open(filename, encoding='utf-8').read().strip().split('\\n')\n",
        "    return [unicodeToAscii(line) for line in lines]\n",
        "\n",
        "# Build the category_lines dictionary, a list of lines per category\n",
        "category_lines = {}\n",
        "all_categories = []\n",
        "for filename in findFiles('data/names/*.txt'):\n",
        "    category = os.path.splitext(os.path.basename(filename))[0]\n",
        "    all_categories.append(category)\n",
        "    lines = readLines(filename)\n",
        "    category_lines[category] = lines\n",
        "\n",
        "n_categories = len(all_categories)\n",
        "\n",
        "if n_categories == 0:\n",
        "    raise RuntimeError('Data not found. Make sure that you downloaded data '\n",
        "        'from https://download.pytorch.org/tutorial/data.zip and extract it to '\n",
        "        'the current directory.')\n",
        "\n",
        "print('# categories:', n_categories, all_categories)\n",
        "print(unicodeToAscii(\"O'Néàl\"))"
      ],
      "execution_count": 3,
      "outputs": [
        {
          "output_type": "stream",
          "text": [
            "# categories: 18 ['Irish', 'Spanish', 'Scottish', 'Vietnamese', 'Japanese', 'French', 'Korean', 'English', 'Chinese', 'Dutch', 'German', 'Arabic', 'Italian', 'Greek', 'Russian', 'Czech', 'Portuguese', 'Polish']\n",
            "O'Neal\n"
          ],
          "name": "stdout"
        }
      ]
    },
    {
      "cell_type": "markdown",
      "metadata": {
        "id": "4SzWqV2HyZY2"
      },
      "source": [
        "ネットワークの作成\n",
        "=====\n",
        "\n",
        "これから作成するネットワークは、前回のチュートリアルのRNNに、カテゴリテンソルの引数を追加するよう、拡張したものです。\n",
        "\n",
        "カテゴリテンソルは、他のテンソルと同様にネットワークに入力されます。入力文字と同様にワンホットベクトルで表現されています。\n",
        "\n",
        "\n"
      ]
    },
    {
      "cell_type": "markdown",
      "metadata": {
        "id": "bjUAJDTAeA_T"
      },
      "source": [
        "次に、出力結果を解説します。\r\n",
        "\r\n",
        "出力結果は、次に来る文字の確率として解釈できます。\r\n",
        "\r\n",
        "そこで、ネットワークは順次、次の文字を選ぶ際に、出力される可能性が最も高い文字を次の入力文字として採用します。\r\n",
        "\r\n"
      ]
    },
    {
      "cell_type": "markdown",
      "metadata": {
        "id": "gKQzEcQHeILz"
      },
      "source": [
        "今回は、（隠れ状態と出力を組み合わせた後に）2つ目の線形レイヤー`o2o`を追加して、ネットワークの表現力を向上させます。\r\n",
        "\r\n",
        "また、指定した確率で[入力の一部をランダムにゼロにするドロップアウト層](https://arxiv.org/abs/1207.0580)も追加しました（今回は確率は0.1を使用）。\r\n",
        "\r\n",
        "ドロップアウト層は通常、入力を曖昧にすることで、過学習を抑制するために導入されます。\r\n",
        "\r\n",
        "今回はネットワークの最後にドロップアウト層を使用しています。\r\n",
        "\r\n",
        "これは出力データにノイズを加え、ネットワークによって選択される文字のパターンを増やすことにつながります。"
      ]
    },
    {
      "cell_type": "markdown",
      "metadata": {
        "id": "YSEW2reAzrcK"
      },
      "source": [
        "![image.png](data:image/png;base64,iVBORw0KGgoAAAANSUhEUgAAAk8AAALJCAYAAACtLserAAAgAElEQVR4AeydCbRVV33/HxAICSsDGcg81qq12hVXrVatra21da7616pVq1Vrrca5WrW2WqdWra0alXkewhAIEBLGhCkkxEASCARkCoEQRoEwiISQ/V/ffdmXex/33fe77+1z7z73fvZa9717ztnnt/f+nN85+3v3dNocAQIQgAAEIAABCEDATKDNHJOIEIAABCAAAQhAAAIO8YQTQAACEIAABCAAgRoIIJ5qgEVUCEAAAhCAAAQggHjCByAAAQhAAAIQgEANBBBPNcAiKgQgAAEIQAACEEA84QMQgAAEIAABCECgBgKIpxpgERUCEIAABCAAAQggnvABCEAAAhCAAAQgUAMBxFMNsIgKAQhAAAIQgAAEEE/4AAQgAIEWJ3DixAm3b98+t3XrVrd27Vr3y1/+0i1atMjNnj3bzZgxw02aNMmNHz/ejR071o0aNcp/RowY4fQZPny4Gzp0qP8MGTLE6TN48GA3aNCgqh/F0Ufxhw0b5j+yN3LkSDd69GifltK89dZbffpTp051s2bNcgsWLHD333+/W716tduyZYvPt/JPgEA9CSCe6kmbtCAAAQjUicCxY8fc448/7lauXOkFx+233+4mTpzoRYkEigRPe5EjISMBM2bMGDdhwgQXBMv8+fPdsmXL3PLly92DDz7oHn74YS9eJLTWrVvnNm7c6IXX9u3b3c6dO93evXvdgQMH3JEjR5zyEcTN8ePH3dGjR/0xxdmxY4fP4+bNm9369evdo48+6h566CG3YsUKn9bSpUvdwoULff7nzp1bFHISce3LMHDgQF8eCTEJvHHjxrkpU6a4mTNnOuVfgutXv/qVO3ToUJ2uAMk0MwHEUzNfXcoGAQg0LQGJE4kBCZo5c+a42267zYseiaLQ6qPvEhlqObrrrrvcPffc4+Or1WbTpk1uz549Xtw0AySJMgk3MZG4W7JkiZs3b56bPn26mzx5sheN7dmohUsCS8LsgQce8ExkhwCBzgggnjojxHEIQAACDSJw+PBht2bNGt/yIgEkIVTaWiQxoFYYCScJKAkptQJJWBE6JiCBpNYutUaJmwSUWqvU8haEp1qwxFatb3fffbdvaaPVqmOmrXYE8dRqV5zyQgACyRFQt5Yqc7WWTJs2rSiS1BWlSlzdbWodUYvKE0880TStRcldiFMZkvhUN6K6Ku+8807fcqexXRJWEq8SsbpOOq6u0ZMnT6ZaFPKVEQHEU0ZgMQsBCECgEgGNC1IL0R133OFbNkJLklqRNEBalbXGFakLipAeAV0XDajX4HW1TIXWKolcjROTyFW3qMZ7EZqXAOKpea8tJYMABBpMQIOlV61a5YWSuoVCy4UGZGsWm1ouNMONlosGX6huJq/rrJYqzQTU+CoNug/XWuOqdK0lqDRgntAcBBBPzXEdKQUEIJAAAQ3AliDSGJowOFndPeri0QwyWiMSuEh1zIJaqTQQXTMdQ7dfqT8wOL2OFyNyUoinyEAxBwEItAYBtRZpnJK6aTQtXt1vGqOkrhytj6SWiDBFvzWIUMrOCKjlSS1Q6rINrVMS2Rrwr67cgwcPdmaC44kQQDwlciHIBgQgkD4BdbFpTJIGDKtbRuNdNAtu8eLFfs2i9EtADlMiIHH92GOPeZ9S957Ed/AprXGltbAIaRJAPKV5XcgVBCCQAAG1FKi7TeNY1LKkik1dclp4ki64BC5QE2YhtGaqBVMCXS1T6vbbsGFDE5Y2v0VCPOX32pFzCEAgAwL6ta+BvxrgrZYAda9ogUlNSSdAoN4E1P2rMXMSURLwaumUeKdLuN5Xojw9xFM5D7YgAIEWJKBXjOjXfRjkrSUDNPBbi1QSIJAKAS1zISEvQS9hLz9V9x5+Wv8rhHiqP3NShAAEGkxAv9q1urQqn9A1ounkGn9CgEAeCGghT733T8teSEhpHJ5eR6MZn4TsCSCesmdMChCAQCIE1MKk8UsSTKpsVPlQ2SRycchGlwlonSktiXDrrbcWfwyohWr//v1dtsmJ1Qkgnqrz4SgEIJBzArt27fJTwzXYWx9NE9c+AgSakYCW0Fi7dq1f7Vw/EtQypRXrWYg17tVGPMXliTUIQCABAlp8UK1KYUkBtTap1YkAgVYioBapRYsWFRfo1MDzHTt2tBKCzMqKeMoMLYYhAIF6EtAva81C0oKV4Re3xjUxK6meV4G0UiWwbds2N3XqVH9vaMC51ibjdTFdv1qIp66z40wIQCABAuqCC5WCXs46f/58d+jQoQRyRhYgkB4B/cjQjwotyqkfGVr6gDWkar9OiKfamXEGBCCQAAG95kLjOVQBqDtC07gJEICAncC+ffv86uZaP0rLdGi2nrr6CJ0TQDx1zogYEIBAIgTUzXDPPff4gd8a/K3FLHnYJ3JxyEauCejHSOjy1ppnzNSrfjkRT9X5cBQCEEiAgLrhZs6c6VuZ1N3wyCOPJJArsgCB5iOwc+dO/woitehOmDDB6X2OhDMJIJ7OZMIeCEAgEQLqVtAb58PYDD3YCRCAQPYE9INFy3ro3tMPFr0mhnCaAOLpNAu+QQACiRCQSJo4caJ/cGswuEQUAQIQqD8BzVbVcgcaF6X3PSKiCtcA8VR/XyRFCECgAwJa7VtdBfq1O336dGbNdcCJ3RCoNwGJKI0xlIjS+mmtPkMP8VRvDyQ9CEDgDAIHDx4sds9JNDEI/AxE7IBAEgRKRZS687Zs2ZJEvuqdCcRTvYmTHgQgUCSglcDDQPApU6Y4veyUAAEIpE9AIkprqqmVWF3srTY7D/GUvo+SQwg0JQF1Aeht8Oqm411zTXmJKVQLENAPIK2zJhGlH0Kt0mqMeGoB56aIEEiJgF5aqgX59IqIxx9/PKWskRcIQKCLBPQDSOtEaUyUBpg3e0A8NfsVpnwQSISABoOPHz/eP1z1eggCBCDQfAT0Au7hw4c3/Y8jxFPz+S4lgkBSBPQurbvuuqs4g65VmvWTughkBgJ1JqBueXXlqUuvGV9AjHiqs0ORHARaicDmzZt9F51m5bDAZStdecoKAecHkau1Wa9SWrlyZVMhQTw11eWkMBBIg4Bm4uj9WPrluXjx4jQyRS4gAIGGEHjooYd8d73GRB05cqQheYidKOIpNlHsQaDFCaxZs8Y/KMeOHdty05db/NJTfAh0SEBdd+FVSw8//HCH8fJyAPGUlytFPiGQOAGNbdICl2ptWr58eeK5JXsQgEAjCKxevdr/uJo0aVKux0IhnhrhPaQJgSYjoGnKmmGjd1/phaIECEAAAh0ROHz4sJ95q7FQmp2Xx4B4yuNVI88QSIjAfffd51ubZs+enVCuyAoEIJA6AbVQa12oOXPmpJ7VM/KHeDoDCTsgAAELAY1h0GsZ9PDbuHGj5RTiQAACECgjsG/fPjds2DCnMZJarTwvAfGUlytFPiGQEIHwwNM0ZNZtSujCkBUI5JCAZudqDJS68fLy1gHEUw4djSxDoJEE1q9f71ubtPAlAQIQgEAsAkuWLPFDAPQ/9YB4Sv0KkT8IJERA76zSbLoVK1YklCuyAgEINAuBLVu2+B9nmrmbckA8pXx1yBsEEiKgNVrUrL59+/aEckVWIACBZiOghTQ1e1fDAtSll2JAPKV4VcgTBBIioIeXHmIjR450mmJMgAAEIJA1AU1IGTNmjH/BcIqrkiOesvYA7EMgxwQ0GFxrN+nddKn+AswxXrIOAQh0QkAt3prRu2PHjk5i1vcw4qm+vEkNArkhIOGkKcS33nqr0+rhBAhAAAKNIDB//nwvoLZt29aI5CumiXiqiIWdEGhtAlpvZeDAgW7o0KGtDYLSQwACSRBYtmyZn6yydevWJPKDeEriMpAJCKRDQK9X0cBwNZcTIAABCKRCQAJKXXiakdfogHhq9BUgfQgkREADM9VVN2PGjIRyRVYgkC8CarnV+x43b97s9CJcvYZk8eLFbuHChW7BggVu3rx5Tq8zuvPOO90dd9zh7zetmzZ37lx/XPHuvfded//997uVK1f6979plmuKA6frfWXEUq3iYtvIgHhqJH3ShkBCBMIYJ1qcErooZCUpAhr7J1G0du1at3TpUi989IoizURVa63WQNNHlbtaSNTtPWLECP/qEY0dVFytpD1lyhQ3depU/7n99tu9eJo2bZpv7dVxxR03bpyfbabJGpq2X2q/1LZmwupcibKHH37YLyXS7JM7wvs0G/kScsRTUrcmmYFAYwhoWrAe8npwEyAAAed27tzpHnjgAS+QJGSCeJFw0b2ifRI+Ei1qHdJg5gMHDmQ+uUICbv/+/U5jf9SqpdapWbNm+XtXIk75k4AL+Zw8ebK7++67fetVM71KSdwlUiVmGxEQT42gTpoQSIyAXsqphywBAq1IQGJErRlqEVIrTxAfavVRq45eF6JxNnmadSpR8eijj/quwAkTJvhWMJVLIlD3uwTXI4884vTDKa9BXZ0qTyNaoBBPefUa8g2BSARmzpzpK4xmb+qPhAszTUBA44f0qiF1j4UWJa1npjFIjz32mNOYpWYMEn968a7GU0kUqgVNgkrjHNWN+OCDD+ZuXJXKofzXWwQinprxDqFMEDAS0ENUzfvqbiBAoFkJSDSoFSa8Ykg+r243df2kMvW9UewlOsRGLVESkGGJEokSCck8BI370mrk9WwZRDzlwTPIIwQyILBu3Tr/q7PVK48M0GIyAQIa36PxQKpYQ+uKWlkbPUsrATRVsyABsmHDBj+IXQPexU7dfmKZ8pgpjfdSN169AuKpXqRJBwIJEdi3b59vcVq1alVCuSIrEOg+gTVr1vjKXpW+KlS1Lu3Zs6f7hlvUgsZOaWmF0CqlFh4JqdS6+TXuSS2Kyls9AuKpHpRJAwKJEdCDUDOFCBBoBgISRxqvpMpTrSVz5sxpyCDiZmBZrQwaC6b1qsJYKXWDptSSt3HjRt9SpjFtWQfEU9aEsQ+BxAhoIT7NKKrn+IDEEJCdJiGgVibNiFMrk5bZUHcToT4EtJSDukGDYNVzJYVuPS0wqjxlnRfEU338jFQgkASBTZs2+YpGDz4CBPJKQOsqqfVDM+U0a67eM63yyi2rfGu9qTC2TG8naPQEFAlpLceQZUA8ZUkX2xBIiIB+iamy0Qw7AgTyRkAtpVqLSdPS5cd6zxkhLQL6Uab14tQSqNXU69F9VomAxmNl/axDPFUizz4INCEBjXHSr0MCBPJGQC0bqgwlnFasWJG37Ldcfg8ePOhn60lE6ZnTiJbuMP5JC6BmERBPWVDFJgQSI6CF8fQgy+pBklhxyU6TENi7d6+vfDWGRa9KIeSLgFq7tXyAnj1aN6rei49Onz7dr/+UBTXEUxZUsQmBxAhogPj8+fMTyxXZgUBlAqp0NXtOla7G0DCmqTKnvOzVjzZ142kBTi0dUa9lDpSOZl9qhmDsgHiKTRR7EEiMgB4c6u4gQCAPBNavX+9nS2k9oUZ09+SBUV7zqPcDhoH+v/rVr+pSjNDqrrXtYgbEU0ya2IJAYgSOHDniKyI9tAgQSJ1A6OLRbDpC8xJQF6xaFfVKmHosmaIuQ73HMGZAPMWkiS0IJEZAXR6xHxqJFZHsNAEBTW3Xwq3qXtaK1oTmJ6CWoHDNs56Vp7FWEmsaRB4rIJ5ikcQOBBIjoFYnPTDo+kjswpCdMgIPPfSQ91PNBq1HK0RZ4mw0nIDGYuo5lfWYTC2eKXEeKyCeYpHEDgQSI6DKSIvFESCQKgGt1aSKk3cspnqF6pMvtTxpYLde95JlUBpaKyxGQDzFoIgNCCRGQOusqFLihaiJXRiyUyRw9913ex/dsWNHcR9fWpeAZlhqMLkmCuh7FkGv89F6YTFm+yGesrhC2IRAgwlogGTWv+IaXESSzzGB8BJfupRzfBEzyLpEzYQJE/zs4Kxe8aJxVurC625APHWXIOdDIDECegCp1Ylf9IldGLLjCcyZM8ev98OCrThERwS0uKWeYVms7xVanzpK27of8WQlRTwI5ITA0qVL3ciRI3OSW7LZSgRCi9OhQ4daqdiUtQsENGZTAkoTX2IHDRy///77u2UW8dQtfJwMgfQIaNwAr7JI77q0eo4efPBBv+aYXrlCgICFwNSpU/0MudgtUPJFDR7vTkA8dYce50IgMQJbt271v9aY8p3YhWnx7AS/3LBhQ4uToPi1EtCLhTWIPPYzTeLp4YcfrjU7xfiIpyIKvkAg/wQmT57s3wmW/5JQgmYhoC46vdj33nvvbZYiUY46EpBoGj16tFMrVMywZMmSbg1vQDzFvBrYgkCDCejFm8xgavBFIPkyAupGvuOOO8r2sQGBWghohXAJ8JjrgakrUGOquvrOO8RTLVeQuBBImMBjjz3m1zBJOItkrcUIaFCu1tWJ3eXSYhgprnNOK9FLQElIxQoTJ07scks94inWVcAOBBpMQGs7aYovAQIpEAitBZoaToBADAISO/rECuvWrevywHHEU6yrgB0INJiAfuHHfPFlg4tD8jknoDEqWvCQAIFYBIIgVytUrKDnpkRUrQHxVCsx4kMgQQJPPPGEb9JOMGtkqQUJbNmyxY8nYT2nFrz4GRd55cqVfgXyWMlo7bGuvAMU8RTrCmAHAg0kMG/evC49ABqYZZJuYgJapHXRokVNXEKK1kgCWmYgVuuT3sSgsVS1BsRTrcSID4EECYwbNy7K+5oSLBpZyhmBXbt2+Van2Asb5gwD2c2QwOLFi7u1zED7rKnrbtOmTe13V91GPFXFw0EI5IOAfjmp644AgUYT0Gs1eCl1o69Cc6ev93fqmbd58+YoBZ0yZYqbNWtWTbYQTzXhIjIE0iOgt49rvRICBBpNILyUevv27Y3OCuk3OYH58+c7rT4eI2ilca1HVktAPNVCi7gQSJCA3tM0atSoBHNGllqNgFZtxhdb7ao3prxa3DLWj0aJfi0wXMtLiBFPjbnupAqBaAS0ttPMmTOj2cMQBLpKQAPFV6xY0dXTOQ8CNRHQWKVf/epXNZ3TUWS9Aua+++7r6PAZ+xFPZyBhBwTSJqCBjaUzTdR0vXTpUr+v1kGPaZeU3KVMoL0fahVxtQSoAsIPU75yzZM3ja2rdaxSR6WXHS00bA2IJysp4kEgEQIa46TZdSEMGzbMaRVn7dMxAgTqQaC9H4bVmvHDetAnDRFQK2etY5U6Iqf1o9Ryag2IJysp4kEgIQKlFZRmnTz55JNlgiqhrJKVJiZQ6od33XWXf3WG9hEgUA8C4eW+GrPU3VDrxBvEU3eJcz4EGkBA65ysXr3aHTt2zHeV6Lv2ESBQTwLBD5XmmDFj3Ny5c/HDel4A0vJLFmhtsRhBP0S1aKYlIJ4slIgDgcQI6PUXeq3A1q1b/Yst9V37CBCoJ4Hgh0pT4500eQE/rOcVIC2tNh5r0Lh+ACxbtswEFfFkwkQkCKRFQM3VGuuk9UnUTz98+HDHis5pXaNWyE3ww/3793vxhB+2wlVPq4xaGiPWDM9aBo0jntLyA3IDATMBreR87733evGk7wQINIKAfG/t2rW++wQ/bMQVaO00J0yYEO09ilqnzLrwJuKptf2O0ueYgH5tqZuEtXVyfBGbIOvywzlz5jituROrBaAJsFCEOhHQ8gKarBAj6EeAdfYe4ikGcWxAoAEEdu/e7bvrNNZE3wkQaAQB+Z4EvFZoxg8bcQVaO8077rgj2iLBGniuQeOWgHiyUCIOBBIloApLHwIEGkkAP2wk/dZOO6Z4Cgu96n9nAfHUGSGOQyBhAmpi1msFCBBoJAG1PPFOu0ZegdZNW6+mkoCKFdTyZFn6APEUizh2IAABCEAAAhCoK4GYLU/KuH6QauxTZwHx1BkhjkMAAhCAAAQgkCSB2OLJOgGnJvF0dMKNjg8MrD4Q+06zpks8fFQ+EDvgV/hVLT4Q2/+wV5lAbPE0duxY/3Lryqmd3ot4QhBmJohPu1mcb7U8uIhLRRfH605bwafwqVp84LTn8C1LAlrYcsaMGdGS0DpPllddIZ4QT4gnfCAzH6ilsokdN9rT9JSh2PnDXnOLsdj+h73KBGK3PE2aNMktWLCgcmIlexFPVJyZVZwlfhblK5VNc1c2sa9vFKcrMRI7f9hrbn8ucR2+ZkggtniaOnWqmz17dqc5RjwhnhBP+EBmPtBIgdDp06/GCI0sC2nnT2jV6F5E7yKB2OJJb22Qzc4C4omKM7OKszPnq/U4FUj+KpBGXrNa/auz+I0sC2nnz/c78yeOxyEQe8yTVYwhnhBPiCd8IDMfaGSlH+fRfNpKI8tC2oin057It1ICVrFTek6171Z7iCcqzswqzmoO2pVjVCD5q0Aaec264mPVzmlkWUg7f75fzZc4Fo+AVexYU7TaQzwhnhBP+EBmPtDISt/6sLTGa2RZSBvxZPXTVotnFTtWLlZ7iCcqzswqTquzWuNRgeSvAmnkNbP6lTVeI8tC2vnzfatfEa97BGK/2w7xhCjKTBRZH+TduyXOPNuabt7ijf/sAPfN9/R3G265tuHXLG/squX3TA/q3p5qaaV+7PC4G7yP/ehDF3foY5354ZHxBRs//PuLOrSx4gdX+3RmfvXyDuOkzipW/rrnbZxtJWAVO7Ht0fJUQWSpInvwB1e3/M3f3YeI1Vmt8bqbn1TP/8Cf9nOXXdDDLfn2lXX1uUlfuMyN+cyAuqZZz2tg9StrvHrmPXZaB8fc4Nra2ryfdWS7Mz88NK5g49LzenToM6NuvtSn84m/Oq/DOB2l32z7rX5FvO4RQDxVEDGNuJnu/uaV/uYf/enmrVTqxbV7t8SZZ9cr362Qjloiruzfw/3Ny89p2kruTA/q3p48+4VFPHVWPsRTbV2H3fM2zrYSQDxFFE/3fvcq9ycv7OPOO7vNvfoFfdz/fOhipyZnPRz0EPny2y9wN13f2/8K0y+kR35UaGVSk/bF/dq8eBpwfg/3vj8515/zxKDr3Htefa7TPn0+/Of93L5R1xcrnR//w8Xu6ot7entfe+eF7t/+34Xuxst6uQXfuKIYR7/I/uDas1zf3m3+2BffdoHbP7qQp7GfGeD33fKxS9xf/UFfd92lPX2LgGwor+Ghpnxo36ue36e4LxxL8b/V+a3xUixjjDx97C/P89dVfrt7xPX++9tffo6755tXuj+8sbf3rf98T3/vu0pPrUXyA/n1p990vlNLgITQsE9eWvSLt77sHB9n088LXYESSzrn5c/r7R79v2vctZf09H5+zil/3DH0uuK5McqUgg2rX1njpVCmruYhiCf5ycL/vNL90e/09j7w7fed9qtSP1Q6vx51vfvgn/VzF57T5p9dd/3bFd5nSlueVv7wam/r/L5t7o0v7et++pGLfZzQ8qTn7nf/7iL3vMt7uXP7FJ7Hpa36f/9n/bxfrvrR1V7IX9SvzX3otf3c2h9fk3t/tPoV8bpHAPEUSTxp3EifXm2uZ48294+vP8+98vl9/M084lOFiuW/P3CR337nK87xIkdN2W/+w77+Rr3jq5c7iSrt04Pglo9e4verwtG+z73lAveFt17gv7//Nf38MT2IdKxHW5v7yOvOc79/9Vm+MtO+2V8viCdVatrWA0aV3fOv6FVmY+g/F46/+Jqz/APmTS/t67YNvs716tHmLr+wR1H4BTuffMP5Pu2uPkjrdV73bokzz65XvuudjvxP/iGxLUGt71f07+Erlbf90TnurJ4FQa/KS3kb8omCv0jIqxJ876vP9efovFDpBD9e95NCJVTaavD4wGv9jwHF/53LernPv+UCt3fk6R8D9S5/Vumd6UHd25NVPuthN4gn+YyuucS1ni/ygeBXpX6oPIVnnbqUP/Om8/2POsUP4knC6IYBBRH+mhf28X7Y/9yCzX861W33X+8vPG9f+6KzvdiXeJNACv6m56xs6hn7uhef7X8EaPujr8t/t1/3vI2zrQQYMB5JPIUb/l/eVmixUWvNX77kbH/z64GgcR5qYdo+pPBL+/euOssLrbD9qTec72/m0G2nX/+6mV/xvN5FwfLHv9vHn/PkkOucHhI6roeL7OshdfZZhQfIvP8oVHbhARPElH7RSdzpPLUMDD8lrvQLb8vA04OG1aWiOGEszLteWagkw3Y9HrrdScPq/NZ43clLyueWVlqhktN1l5hXvtXqpG35traDv1xzcc+isNaPAcX51nv7+zjVxJNsBL+m287qfc5zTdmPquWt1K/CYG6N7ZTPqBVc55b6obYlmnQ8PG/07NR2EE8S+9pWq3tIWy302hfEk378aXvjzwrPNQ021/bAjxd+mIY0P/IXBbGkVlEdV+t7sJnX/3bPImZ3CNDyFEk8vfGmwi+ZjgbCPjXsOjfy5kt9l9zrX3K2u+Ccgoh54L+v8jdre/E06J8u8TezuvNedmNv/9HDQzf40u9c6UJ6shlucnWr6bjEk7r39F2f8GtL8ULlpl99oTJUl12wof+3fanwsPrS31zg1HKgvOpXY2mclL9354aodG7KZe1O3kIFosooVHJqPT0wptCtq8pO/qPWAqUT/OUdrzg9XkmiSXHU2qo4wb8qtTzpOOKpkodV39eda9zocy1+VeqHoQVUPhWGKOiHnraDeAot4TovlO8HHyyII4mnPSNOP/vCszO0uqu1U+eENG/9/OkxpmqhVzpPjy34f7Cdt//VvYmjsQggniKJJzUP68bTr6RKN5uahnVclcz/fvhi3zWi7Y7Ek7rudFxdal9954VlH/XTS/DouMYthfQ0zkr7JJ4k1vS9d6/yh0EQWNP/9fJiZfjPf13eHaeHh5rZX3hlL7foW4UWsK/9vwuL6YT0Uv0f6+YIdlItZ3fzFSqQUvGkX/3BbpjE0F48abxIiPP9U5VW+AUfxJN+yStO8MNQ8SGeglfZ/wfWefwfxFM1vyr1w13DC8JHXcb64aYyayiBnmXBh37x8cKz8d2vLIwNVZyfnBrzJPGkcXSKr1b29s/OiZ8vPJ9L0wxcQ4sX4snum60cE/ZtLEwAACAASURBVPEUSTz9w5/38zfs199VEBn6BaUpuBprtP6nhSbhl1x7ln8YaBBtuFGXt2t5CmOkwq/+l95wuttOg3p1rm52VVZ6QISmbz1oNChc+0K33SWnWqqWfa/QuqWHQujae+wn1xTFU6WxTJ99c6EbUWJPNiXYwkMm9f+xb+jUy9vV/JVWIJZKLrQ8aXxdSFNj8OQfwe/fcKoFNvyImPIv5V0uQTwp7WCj2f7jf6dnh1n8qtQP5Qsa4C2fCgO89UNP20E8he0XXHm6NVyDvRUndNuFVqTQAqrnsT7B19qnqf3hmYx4iu3BzWkP8RRJPIUWGt2AGoj98VOiQ4Nqdw673rcASdxM+NwAP5MkCBvNmFM3iWaf6ObXoG3Z0kNHY0s0IFxdIzO+crkf8CgBpoeAxqUovlqWJNAksjR2SfuCePqPdxdsauaU0tUgYB3XYEk9LEJlWEk86cGluBrcWSrgwsMn5f+xb9WUy9qdvJVWIJZKLviLWgU01k6z7vqdXfC5X36/INC1T36jVsvvvK+/U0uU4qv7WXmVaNdxtWxO/dJlfpZfd8qQ4rn4X/fE09++qjB+SYPBNQzipuvO8j4TfEjDEDSjWX6k8Xhq/QwDxvXclU+EYRBveVlfN+frV7i/vqmvf5ZpZqmOl/p+8CHEU2zPbW57DBiPJJ50A2owYlhyQGNH1KysZmgd0y9zjR2SGFGLlFqcgoBSy1DpNG710+sc7ZdY0kNCFZCWQQjLG+i4BvRqdpQGhut7GOg9/9SAcYkytUxpWniwoTxpMLvOD5VhJfGk46ELRuMJtJ2XT+xbNi/lrjWfpRVILeJJsztDN7T8UsI/pK3xKermk+hXZaTJCvqv1oQQR8flj7oXVv9v/qeGh3KF//jf6WeFxa9K/VAM1VL/oqsLzz39INQkGj3DSn1Iq5KHFirF1XIr8im1QMmGfrDqh2uYIKMxT4M/URgsruPt09Q+xFNsz21ue7Q8ZSAKtg66ruKgQ4mZMAhSN6u64EoHc2ufZtLpf+lHD4LS83RMD6U1/3eNC83S2hdm15Xu035N7d38i2uLYwhKbXf0XfY1vVctW5pi3lG8FPfHvmVTLGMj8tRebGs8k/ykUl7ks5X2h30alxK6oMO+ZvmP/5U/v7p6XfUjL6yTV8mGhipUel6WxlUXXJjRXLq/mb/H9j/sVSaAeGonVPJyU6mlSt2A+rWkX11qDdAvL61bUu2BYymfFtsMg8+1xpTlnJTiVHb1ru9NqWyNzEt78dTIvKScdtc9rfKZKZeVvMURijE5VvYi9sYmgHjKqXjSzTbty5f5rjoJKK1PoiZrtTB190bUGAN1F/77uy/ssGWhu2lkeX7smyTLvObJtsbNaazSV96Rn5mXjeCL/6UnKBrhB41KM7b/Ya8yAcRTjsVTo27O1NOt7Opd35t6eclfWpV11z2t8plc37Sub+rXo7IXsTc2AcQT4qnbLVWpPUxi3ySplY/8pF2Z4n9pX59mv39i+x/2KhOYNWuWmzFjRuWDXdhrFWNttdhudmenfHEftrX4liUu1yfu9Wl2nhafqiVOs/OifHHvr1p8i7hdJ2AVO9YUrPYQT7R4ZdbiZXVWazwe7nEf7s3O0+pX1njNzovyxb2/rH5FvO4RsIodaypWe4gnxBPiCR/IzAcaWSFbH5bWeI0sC2nHFTb14Gn1K+J1j4BV7FhTsdpDPOWw4nx6wu+5wxOel3yFZ3VWa7x6PPBII3+VVEfXzOpX1ngdpZPKfj0Tto790+SfC6nwyjofVr8iXvcIWMWONRWrvZrEkzVx4mVLYO7cuW7o0KHZJoL1XBCw3ui5KAyZ7BYBPRP0bCBAoJUIxH4GWu0hnnLqZWPHjnXDhg1zjz32WE5LQLZjELDe6DHSwkaaBPQMGDNmjBs/fnyaGSRXEMiQQC5m22VYfkx3gcDixYvd4MGDvYi6++673f79+7tghVPyTADxlOer1/W8617XPa8fUHoG6FlAgEArEoj9DLTao+Up59528uRJ99BDD/lfnYMGDXIjRoxwuvjr1q3LecnIvoVA7F9dljSJ0xgC69ev9/e27nHd62pp0r2vZwABAq1KwCp2rHys9hBPVqI5iHfixAm3cuVKN3XqVD8mSg/Y0aNHO1Wwa9eudceOHctBKchiLQSsN3otNonbeAK6V3XP6t7VPax7eciQIf7e1j2ue50AAQg4/4Ni5syZ0VBYn6mIp2jI0zN08OBBd//997vbbrvNDR8+3D+ANah04sSJbsGCBb516vjx4+llnByZCVhvdLNBItadgO5BtSrpntS9qXtUYkn3rO5d3cO6lwkQgMCZBGI/A632EE9nXoum3aNfqxs3bjzjIa2H9bhx49ydd97pW64YO5UfF7De6PkpUXPnVPeWWo50r+meC0Kp9EeN7lFalprbDyhdPAKxn4FWe4ineNcwl5b0kN60aZMfcKpfuSNHjnQDBw70v3w1tmLy5Ml+YKq6EA4dOpTLMjZzphnzlObV1b2ie0aDunUPhXFKurd0j+le0yBv3XsIpTSvIbnKBwF12UnwxAqIp1gkW9TOgQMH3OrVq928efPcpEmT/MNfD359VBFMmTLFzZ8/38ehpapxTmK90RuXw+ZOWb6v+0T3gu4J3Rul94nuHd1DiqN7igABCMQlEPsZaLVHy1Pc69j01vbt2+dn+KhC0PiMMJZKYzRUcWjfnDlzfNfErl27mp5HowtovdEbnc+8p79nzx7v0/Jt+XhoSQpjk7RP94Rmv+keIUAAAvUhEPsZaLWHeKrP9W36VPSr+tFHH/XjqfQLXF0TWn9GlYvWotG06rvuuss98MADbvv27UyvjuQR1hs9UnJNbUZT/uWb8lH5qnxWvisfli/Lp+XbGtgtX6clqandgcLlhEDsZ6DVHuIpJw6S12wePXrUzyRauHChn2atadeacq0KKQxUV5/18uXL3bZt2xBVNV7o2P39NSafy+gSSfI1+ZzGjJUO3JZvyke13Id8VrPg5MMECEAgTQJWsWPNvdUe4slKlHhRCWh69ubNm92SJUvcjBkz/Osl2osqzUhSK8COHTuipt1Mxqw3ejOVuZayyHd++ctfnjG7Tb6mV5rI9+SD8kWW7aiFLHEhkAaB2M9Aqz3EUxrXn1ycIqAKTFO1NRNp2rRpvhWgtPtvwoQJ/uWnGoB75MiRludmvdGbHZR8QV1pGnckHyntblNLknxJPiXfQiQ1uzdQvlYiEPsZaLWHeGolL8txWbXisrpQSqd+a1aThJVaEKZPn+7uu+8+P2Ylx8WsOevWG71mwwmfoNYkdbnpmuvaywfkC5q8oNlt8hH5CivqJ3wRyRoEIhGIvVyL9ZmKeIp0ATHTGAKhItXYH1Wk6o4Jyylo3MqyZcvczp07G5O5OqQa+8FRhyzXlISuna6hrmVYBkBiSa1JEk8SUXTr1oSUyBBoKgJWsWMttNUe4slKlHi5IaABvpoyrjFToWVCA9Q1W0oia8WKFU0zU8p6o+fh4mn2mq6NrpGula6ZPrqGupa6pocPH85DUcgjBCBQJwKxn4FWe4inOl1gkmksAa29o8HnGiA8atQoXymrlUrT0dXNs3Xr1sZmsIupW2/0LprP9DQxF3tdgzBZQNdG10jXivWSMsWPcQg0BYHYz0CrPcRTU7gPhegKAU1X13R0DTAOlffYsWP9gPS8iCnrjd4VPrHPEdO5c+c6MVaLkpiLva6BrgUBAhCAQK0EYj8DrfYQT7VeKeI3LQG9amPp0qV+BekwCFmtItrXnff6afCyZoLFCnofmrqwFErHPGmfjsUKyrPy3tUgZmInhmFwv1bi1tIAvNKnq1Q5DwIQKCVgFTul51T7brWHeKpGkWMtTUCv5NBq0hpzo5YSTX/X2ButQl1LkB2JhlhBY4O0sKNC6Y2ufTFXvdbMNeW9liA2YhSWChA7MeRVPbVQJC4EIGAlUPoMtJ5TLZ7VHuKpGkWOQeAUAb35XmtLTZ48udjlpJus/UwvrV793HPPncFNY3liDnYOQinc6KWC6ozEu7BD6yZp0Hb7oLK1X19LDJSP0PUpRmIlZgQIQAACWRIobX2PkU54pnZmC/HUGSGOQ6ACgXXr1vnp82qR0vpCal3RukISSLNnz3bPPvts2VkaGL127dqyfd3Z0IKPEijhRtd37YsVHnvsMV+mUnsqk8qmMqqsKnN4MbSWEhATAgQgAIF6EgjPwFhpWu0hnmIRx05LElBLk6bXa1yPhNRtt91WFDTPPPNMkcmGDRvcnDlzitvd/bJlyxbfPRbebaeuMu2LFTSwW3kOQWUJaamMKqvKrLKLAQECEIBAIwhYxY41b1Z7iCcrUeJBoBMCe/fudbfffrsXFuqm00yy3/72t/4stdSolSaW0NArRjSuSIJGU/v1PdZrR9Q1p7yGFbpVBpUlLPGgMqqsBAhAAAKNJmAVO9Z8Wu0hnqxEiQcBIwGJDvXDhxlmTz/9tD9TXVvtx0gZTVaMJhGjj+xqte1Y4amnnvI2ZU95DzMPVaYgqGKlhR0IQAAC3SFgFTvWNKz2EE9WosSDQI0ENDZIs80koh588EH3y1/+0r9OpEYzHUZXl5kGZ2tW3MqVKzuMV+sBvfJEeVWelXeVIeZg91rzQ3wIQAACHRGwip2Ozm+/32oP8dSeHNsQiExAA7klQu655x43ZcqUaNZ3797tZ7hplpu+xwrKo/KqPMcchB4rf9iBAAQgEAhYxU6I39l/qz3EU2ckOQ6BCARWrVrlxYgEyW9+85sIFgsmZE+fWEF5CzaVZwIEIACBlAmEiSyx8oh4ikUSOxCIREDLCUiYaOxQrBCETix7mrUnmwinWESxAwEIZEnAKnasebDao+XJSpR4DSdwdMKNLu+fLWNem3wZ8pBHix803GHJAAQgkDkBq9ixZsRqD/FkJUq8hhOwVJjEyb/AjHUNG+6wZAACEMicgFXsWDNitYd4shIlXsMJxKpUsdMaAqvhDksGIACBzAlYxY41I1Z7iCcrUeI1nACipzVET6zr3HCHJQMQgEDmBKxix5oRqz3Ek5Uo8RpOIFalip3WEGENd1gyAAEIZE7AKnasGbHaQzxZiRKv4QQQPa0hemJd54Y7LBmAAAQyJ2AVO9aMWO0hnqxEiddwArEqVey0hghruMOSAQhAIHMCWvpF7/eMFRBPsUhiJxkCiJ7WED2xrnMyjktGIACBzAhYxY41A1Z7tDxZiRKv4QRiVarYaQ0R1nCHJQMQgEDmBKxix5oRqz3Ek5Uo8RpOANHTGqIn1nVuuMOSAQhAIHMCVrFjzYjVHuLJSpR4DScQq1LNu53D425w33xPf/ejD13c4WrlD/7gah/njq9e3mGc7nJYcSqNmRmm0Z08NtxhyQAEIJA5AavYsWbEag/xZCVKvIYT6E5F2kznHhxzg2tra3OXXdCjQ2E04XMD/PGvvOPCDuN0l8momy/1+fjEX52XWRrdyWPDHZYMQAACmROwih1rRqz2EE9WosRrOIHuVKTNdK5FPNWjvIinht8SZAACLU/AKnasoKz2EE9WosRrOIF6CIKupvF/H77YvfDKXu7Cc9rcu195rpv99SuKrTH7Rl3vbn7j+e76S3u6c3q3uZuu7+1u/fyA4vFxnx3gbrysl/vFxy9xX377Be6S83q417ywj1v/02vc+M8OcM+7vJd72Y293ayvFbrggni6/MIeTl1msqd0P/IX5zkdUxmmfPEyb/M/3t3fb5em8d2/u8hddVFP9+oX9HHTvnxZMR9PDLrOvefV57oB5/fwnw//eT+nvAcmK394tfuj3+ntzu/b5t740r7upx+5mJanht8VZAACrU3AKnaslKz2EE9WosRrOIFQiaf2/yenRITEzBfeeoHvLjvv7DYnMaK8vumlfb3IeNHVZ7lPveF8d26fNr9925cKwmXYJwvdXxJBL72htxc26pb765v6esH1p7/Xx8eX+JK9IJ76nd3mj//TX53nlJ7O+d77L/Jxhp+y+ck3nO+3QxoSP7Ijcab4F/drc0fGFwTXy5/X2+/73Fsu8OXQ8fe/pp8/X3FuGNDTH9e57331ua7/uYU0lX5q10T5IUAAAs1PgHWemv8aU8JuEkixglaerr2kICqWfe8qLyLUWvSGm/r61qX7vneVFxxqTQoiJXR3ver5fXz8IHSuu7SnOzTuBrf0O1f6cyReFn3rSh9Hx7S94ZZri+Kp9LjGOGlbAkx5CjaDeArbalU6cKp16qbrzvLn3Pudq9w93yyk+YrnFc6XjT/+3T6uZ4829+SQ69yCb1zh4159cUHA6bhaqZQm4qmbjs3pEIBAlwlYW4qsCVjt0fJkJUq8hhNQhZ3aR91aEhASGUGUlOZx6D8XWpXU+hT2r/3xNf4ctdxoXxA2as3RdrDZt3ebF1PaF1qv5nz9iqJ46lWSZrB5Ub9ym+3F07teWUhDNv/hz/v5fIy8+VI36J8u8d/VEqUuQn0uPa+H3ycxF1qu3vyHp8vxgw9e5I8jnhp+a5ABCLQsAavYsQKy2kM8WYkSr+EEVOGn9lGrjMRTn16nhU5pHn/2sYIo0TiosH/LwGv9Oep2074gnoLQ0T7ZVCtROOedrzjH7ysVTzo/tGZt+nnB5gXnVLZZKQ2lp3Qknm75aCGfL77mLPfVd15Y9ln1o6v9eCzFLS1H6K5EPDX81iADEGhZAlaxYwVktYd4shIlXsMJBCGR2n8NoJaweOiHV3uxoy6uD/xpPzfiU5e6uf9e6O7SeKGQ70lfuMzH76iLTfEs4klxJGwUXwO/ta1xVdpuL5babytOqXjSwHOdrzFXOqbP7hHXO60ppe/T/7Vw/AVX9ioe/9BrCy1XiKeG3xpkAAItS8AqdqyArPYQT1aixGs4gVCpp/b/s28utOBoYPfkL17mJIokRPRd4uMPri2MLfro687zgkqz53RcXWEqSyVho+MdtTztH11Y56lHW5ufMTf2MwOcWox0jlqNKtmslEapeNIg9Gsu7ulk81vv7e9mfOVypy7Al1x7llN6e0deXxyUrkHx3//gRcUB4x9/PQPGG35zkAEItCgBq9ix4rHaQzxZiRKv4QRSE00hP3tGXO/UCnNWz0ILlAaH/++HT6/+/dhPrnGve/HZXtxI4Gisk8RH6HKrJGyqiaenhhW6Cn/3il7uO+/r7zQ2SvFf/5Kz3c5hhaUF2ttsv628l4onbWvAu8SSbKksf/LCPu6RUy1bOq6B8GGmoFq4bjnVJamyBxYp/W+4w5IBCEAgcwJWsWPNiNUe4slKlHgNJ5BSxVwpL5op9/jAazsUEmrB2Xpq+YJK53d1n1qNJKi6en778yTAStd3Kj2uMmqcV+m+VL833GHJAAQgkDkBq9ixZsRqD/FkJUq8hhNItZImX+kN5Nc1IUAAAs1PwCp2rCSs9hBPVqLEazgBREqaIiXV69JwhyUDEIBA5gRYJDNzxCSQdwKpVtLkK01Rl3d/J/8QgEDnBKwtRZ1bKsSw2qPlyUqUeA0ngEhJU6Skel0a7rBkAAIQyJyAVexYM2K1h3iyEiVewwmkWkmTrzRFXcMdlgxAAAKZE7CKHWtGrPYQT1aixGs4AURKmiIl1evScIclAxCAQOYErGLHmhGrPcSTlSjxGk4g1UqafKUp6hrusGQAAhDInIBV7FgzYrWHeLISJV7DCSBS0hQpqV6XhjssGYAABDInYBU71oxY7SGerESJB4E6EThx4oQbNGiQGzNmTLQUZUs2ZZsAAQhAoFkIWMWOtbxWe4gnK1HiQaAOBObPn+8GDhzohg8fHj01iSfZVhoECEAAAs1AYObMmU6CJ1ZAPMUiiR0IZEzg17/+tbv11lt9y5AEzqRJkzJLUbaVhj5KU2kTIAABCOSVgFXsWMtntUfLk5Uo8SAQkcCmTZvcuHHj3ODBg72QGTJkiLvrrrsiplDdlNJSmhJRysP48eOd8kSAAAQgkCcCVrFjLZPVHuLJSpR4EOgGgWPHjrl58+b57rjQ8iPxMnXqVHfw4MFuWO7eqUpbeQgiTnlTl6HyqjwTIAABCKRMwCp2rGWw2kM8WYkSDwI1Erj//vvd2LFji8JE441GjBjh5syZk+TAbQ0mV96UR+U1tEqpDCoLAQIQgEBqBKxix5pvqz3Ek5Uo8SDQCYHly5f7rrjQsiQBMnToUN+ys3fv3k7OTu+w8jxt2jRfhiCmVDaJKZWVAAEIQKDRBKxix5pPqz3Ek5Uo8SDQjkB7sSRhIbE0efJkt3nz5nax87/5xBNP+LKFsVJBJGrsFi1T+b++lAACeSRgFTvWslntIZ6sRInX8gRWrFhR1rIUxNKUKVNacrC1Bpir7BKMQUjpv8SUWBEgAAEIZE3AKnas+bDaQzxZiRKv5QisWbPGz0KTIAjdVmp1ue2225qyZam7F1itbWITWqYCM83kE0sCBCAAgdgErGLHmq7VHuLJSpR4TU9As8s0hb+0JUWz0LQe0rp165q+/LELKGZiVzqTT2zFmJl8sWljDwKtSWDWrFluxowZ0QqPeIqGEkPNTGDDhg2+dam0gh85cqRbtmxZMxe7IWUTU7Et7eJTqxTCtCGXg0Qh0BQErGLHWlirPVqerESJ1xQENB1faxi1n46v7qY8zojL60XZvXu37+IrFa3Dhg1LdhmHvHIm3xBodgJWsWPlYLWHeLISJV5uCWghSM2AK62oJZ4WLVqU2zI1W8YXLlzoF+cM46Q0bkrXrJELiDYbY8oDgWYkYBU71rJb7SGerESJlysChw8f9msUlQqmiRMnuscffzxX5WjFzG7bts2/3y907+kaar0pXVMCBCAAgVICVrFTek6171Z7iKdqFDmWOwJaITsIJv3XgGV1ERHySUDXrnTQua6prjEBAhCAgAhYxY6VltUe4slKlHjJEnjqqafc6NGjiwORtc4QLUzJXq4uZ0zXVNc2tEjpmuvaEyAAgdYlYBU7VkJWe4gnK1HiJUdg/vz5xTWFNEaGMUzJXaLMMqRrHdaT0n/5AgECEGg9AlaxYyVjtYd4shIlXjIEtE5QGFis96zRLZfMpal7RnTt5QNhIVP5BgECEGgdAlaxYyVitYd4shIlXmYEdu3a5Rem7CwBLYYWRJOWFiBAoJSAfCKIKPlKZ0EtVvI9AgQgkF8CM2fO9OOeYpUA8RSLJHYyJ7BkyRLfetBRQvfcc09xnIvepUaAQDUC8pEwLkq+01FQi9XSpUs7Osx+CEAgBwSsYsdaFKs9Wp6sRImXGQGt51NpBtWOHTuK41o0VZ0AgVoIyGckotTCJF9qH+bOneuXRGi/n20IQCA/BKxix1oiqz3Ek5Uo8TIjoJWl27+iQzOp1EWnio8xTZmhb3rD8h35kHxJPlUa1q9fb+ouLj2H7xCAQFoErGLHmmurPcSTlSjxMiGgF8SqdUCvTVHQitJh3Ipeo0KAQAwC8qUgxsOq5fI5+drRo0djJIENCECgAQSsYseaNas9xJOVKPEyIfDII4/498zJ+Jo1a4rCaefOnZmkh9HWJSCfChMO5GsKw4cPd6tWrWpdKJQcAjknYBU71mJa7SGerESJlwkBzYrS2BSJKLUC6MMMqExQY9Q571vBz1auXOl9T7N1CBCAQD4JWMWOtXRWe4gnK1HiZUJg5MiRfsZTaBHYvn17JulgFAKBgHxMAko+p9l28kECBCCQTwJWsWMtndUe4slKlHiZEAitAKrItm7dmkkaGIVAewLytSDY5YMECEAgnwSsYsdaOqs9xJOVKPGiEwgVmCqxzZs3R7ePQQhUIyCfk+8h3KtR4hgE0iZgFTvWUljtIZ6sRIkXnUCouDT2hACBRhCQ7wU/bET6pAkBCHSPgFXsWFOx2kM8WYlGiPemH29zfGBg9YEILldmwpou8fBR+QABAnkgYBU71rJY7SGerEQjxKNSolKqxQciuFyZiVrSJi6+WuY8bEAgUQJWsWPNvtUe4slKNEI8KiQqpFp8IILLlZmoJW3i4qtlzsMGBBIlYBU71uxb7SGerEQjxKNCokKqxQciuFyZiVrSJi6+WuY8bEAgUQJWsWPNvtUe4slKNEI8KiQqpFp8IILLlZmoJW3i4qtlzsMGBBIlYBU71uxb7SGerEQjxKNCokKqxQciuFyZiVrSJi6+WuY8bEAgUQJWsWPNvtUe4slKNEI8KiQqpFp8IILLlZmoJW3i4qtlzsMGBBIlYBU71uxb7SGerEQjxKNCokKqxQciuFyZiVrSJi6+WuY8bEAgUQJWsWPNvtUe4slKNEI8KiQqpFp8IILLlZmoJW3i4qtlzsMGBBIloBd7S/DECoinWCQj2qFCokKqxQciup43VUvaxMVXY/sf9iCQBQGr2LGmbbVHy5OVaIR4rVghfWfWXjfy3gPug8N2lK2u/o6fbXdv+QkVVDWfiOByZSaqpdWsx2rxvzf/eJv31V8s3F/mq83KprNylTkPGxBIlIBV7Fizb7WHeLISjRCvs4dVMx6ft/aI+/WRZ91nb93lK6SvTd3tVmz9jXvm2efcoWPPuoXrj7hPjdtJZVXh1T0RXK7MRDP6V2dlqsX/3vrTwitJ9h1+Fn/k9Sxl9w4b6RKwih1rCaz2EE9WohHidfagb/bjb/vpNrf76RPu6PGTbtSyA+6u1Yc91W2/fobKCvGUuQ905n+Ip/KW4AiPPExAIHMCVrFjzYjVHuLJSjRCvGYXR5XKN2vVYffk/mfcp8fvdP805ikvmH5+T6FbRN0kx5456cm+7ZbCg/vtt2x301Yeck8dOOF+c/yk27DruPv2HXszr1gr5b3R+yK4XJmJRpenEenX4n9BPO05dMJ9fuIut+6p37qdB0+44UsPOB1rRP4bmWaZ87ABgUQJWMWONftWe4gnK9EI8Rr5IGxU2vdt+o0n98VJhW670nxon8JTB08UK6b7NxfiP773uLv9oUO+lUpxvjF9TzFOqY1m5IWhwwAAIABJREFU/u7hRPzTzKw6Klst/hfEk7qZJfiXbTzqu5d1Cb5y2278L6IvYgoCsQhYxY41Pas9xJOVaIR4HT3gm3l/R5XXx0Y95cdCCev/zNnnK6abx+30lA8cPT3m5L/v2uf3Pfrkb6m8uumDzexnHZWtFv8L4kmYvzatIJY02UFh0i+fxv+66X+cDoEsCFjFjjVtqz3Ek5VohHgdPeCbeX+lyuujI59yew+f8EQnPHCwWClJRCmo9Skw+YcRO/y+p39zWlCFY83+3xc84p9m51WpfLX4XxBPvz1x0ml8lOxJRCmoFaqS/WbeF9H1MAWBzAhYxY41A1Z7iCcr0QjxmvlB21HZ2ldeHxm5wwunk88958LYp3Duj+f/2lPWDLyw7++GPOn3Hf3tyeK+cKzZ/0dwuTITzc6rUvlq8b8gnkpn24WuZcRTmSuxAYFkCFjFjjXDVnuIJyvRCPEqPdybfV9p5aUB4hoArvC/8359hhj68uTCr/wdB07PvvvWzD0+vs5rdlbtyxfB5cpMtLffCtu1+B/iqXxQfJnzsAGBRAlYxY41+1Z7iCcr0QjxWqGyal/G0srr/+YVWpY0w27emsNlH7VISVxt2l0QV3euOuy+P3uf277/GU/+h6fGRbW338zbEVyuzEQzs+qobLX4H+IJ8VR2w7CRCwJWsWMtjNUe4slKNEK8jh7wzby/tPLS+KaOwhcmFmbjfXj4Drdy6zH37MnnfFSNdRq8qDVXfO6IVVf3N7OfdVS2WvwP8YR46uq9xXmNI2AVO9YcWu0hnqxEI8Tr6AHP/vKHtnho3af3Dn6y5brqSn0hgsuVmSi1zfczfQ4m5UzKnIcNCCRKwCp2rNm32kM8WYlGiMfDufzhDI/qPCK4XJkJeFfnDZ9yPmXOwwYEEiVgFTvW7FvtIZ6sRCPE4+Fc/nCGR3UeEVyuzAS8q/OGTzmfMudhAwKJErCKHWv2rfYQT1aiEeLxcC5/OMOjOo8ILldmAt7VecOnnE+Z87ABgUQJWMWONftWe4gnK9EI8Xg4lz+c4VGdRwSXKzMB7+q84VPOp8x52IBAogSsYseafas9xJOVaIR4PJzLH87wqM4jgsuVmYB3dd7wKedT5jxsQCBRAlaxY82+1R7iyUo0QjwezuUPZ3hU5xHB5cpMwLs6b/iU8ylzHjYgkCiBWbNmuRkzZkTLHeIpGsp4hng4lz+c4VGdRzzPK1iCd3Xe8CnnE9v/sAeBLAhYxY41bas9Wp6sRCPE4+Fc/nCGR3UeEVyuzAS8q/OGTzmfMudhAwKJErCKHWv2rfYQT1aixMuEgNVRM0kcoy1PAP9reRcAQM4JxL6HrfYQTzl3nLxn3+qoeS8n+U+TAP6X5nUhVxCwEoh9D1vtIZ6sV4h4mRCwOmomiWO05Qngfy3vAgDIOYHY97DVHuIp546T9+xbHTXv5ST/aRLA/9K8LuQKAlYCse9hqz3Ek/UKES8TAlZHzSRxjLY8Afyv5V0AADknEPsettpDPOXccfKefauj5r2c5D9NAvhfmteFXEHASiD2PWy1h3iyXiHiZULA6qiZJI7RlieA/7W8CwAg5wRi38NWe4innDtO3rNvddS8l5P8p0kA/0vzupArCFgJxL6HrfYQT9YrRLxMCFgdNZPEMdryBPC/lncBAOScQOx72GoP8ZRzx8l79q2Omvdykv80CeB/aV4XcgUBK4HY97DVHuLJeoWIlwkBq6NmkjhGW54A/tfyLgCAnBOIfQ9b7SGecu44ec++1VHzXk7ynyYB/C/N60KuIGAlEPsettpDPFmvEPEyIWB11EwSx2jLE8D/Wt4FAJBzArHvYas9xFPOHSfv2bc6at7LSf7TJID/pXldyBUErARi38NWe4gn6xUiXiYErI6aSeIYbXkC+F/LuwAAck4g9j1stYd4yrnj5D37VkfNeznJf5oE8L80rwu5goCVQOx72GoP8WS9QsTLhIDVUTNJHKMtTwD/a3kXAEDOCcS+h632EE85d5y8Z9/qqHkvJ/lPkwD+l+Z1IVcQsBKYOXOm030cK1ifCYinWMSx0yUCVkftknFOgkAnBPC/TgBxGAKJE4h9D1vtIZ4Sd4xmzN6mTZvcQw895ItW6qjap2MECGRJAP/Lki62IVBfAqV1SIyUrfYQTzFoY6MmAgcOHHDjxo3z55Q6qvbpGAECWRLA/7Kki20I1JdAaR0SI2WrPcRTDNrYqJlAEErBUUsrtJqNcQIEaiSA/9UIjOgQSJRAqENiZc9qD/EUizh2aiKwePFit3r1aj/QTwP+9F37CBCoBwH8rx6USQMC2ROwih1rTqz2EE9WosSLSmDLli3uzjvvLIonfdc+AgTqQQD/qwdl0oBA9gSsYseaE6s9xJOVKPGiEjh+/LgbNmyYU6vTjBkz/HftI0CgHgTwv3pQJg0IZE/AKnasObHaQzxZiRIvOoHbb7/d6TNt2jT/P3oCGIRAFQL4XxU4HIJATghYxY61OFZ7iCcrUeJFJ7BixQo3efJkN3HiRLdy5cro9jEIgWoE8L9qdDgGgXwQsIoda2ms9hBPVqLEi05g9+7dbsiQIf6j7wQI1JMA/ldP2qQFgWwIWMWONXWrPcSTlSjxMiEwcOBApw8BAo0ggP81gjppQiAeAavYsaZotYd4shIlXiYERowY4UaPHp2JbYxCoDMC+F9nhDgOgbQJWMWOtRRWe4gnK9EI8Y5OuNHxgYHVByK4XJkJa7rEw0flAwQI5IGAVexYy2K1h3iyEo0Qj0qJSqkWH4jgcmUmakmbuPhqmfOwAYFECVjFjjX7VnuIJyvRCPGokKiQavGBCC5XZqKWtImLr5Y5DxsQSJSAVexYs2+1h3iyEo0QjwqJCqkWH4jgcmUmakmbuPhqmfOwAYFECVjFjjX7VnuIJyvRCPGokKiQavGBCC5XZqKWtImLr5Y5DxsQSJSAVexYs2+1h3iyEo0QjwqJCqkWH4jgcmUmakmbuPhqmfOwAYFECVjFjjX7VnuIJyvRCPGokKiQavGBCC5XZqKWtImLr5Y5DxsQSJSAVexYs2+1h3iyEo0QjwqJCqkWH4jgcmUmakmbuPhqmfOwAYFECVjFjjX7VnuIJyvRCPGokKiQavGBCC5XZqKWtImLr5Y5DxsQSJTAzJkznQRPrIB4ikUyoh0qJCqkWnwgout5U7WkTVx8Nbb/YQ8CWRCwih1r2lZ7tDxZiUaIR4VEhVSLD0RwuTITtaSdWtzD425w33xPf/ejD13c4Sr94z87wMfZcMu1FeMcGV+w8cO/v6jicZV5xQ+u9jZmfvXyDuOkxiar/JQ5DxsQSJSAVexYs2+1h3iyEo0QL6uHXB7tqiJ88AdXR62gVv/vNe5r77zQqZLMI5P2eY7gcmUm2tvP0/bBMTe4trY2d9kFPTq8th/4037++JJvX1kxzqFxBRuXntexjVE3X+rT+cRfnVfRRp6YdTevZc7DBgQSJWAVO9bsW+0hnqxEI8Tr7sOsWc6/+5tX+gpq9KcHRK2gPvWG871dtVI0A6sILldmIs9MLOKps/Ihnmpr+S1zHjYgkCgBq9ixZt9qD/FkJRohXmcP9zwc3zfqenfzG89311/a053Tu83ddH1vd+vnT4ugWz52ibvxsl7u5/94SVHAfPz15/l9S79zpe92ubhfmxc5A87v4d73J+e6ncOu98f/+qa+bvIXL3O/d9VZ7tw+be5Dr+3nVGmKy1tfdo6Ps+nnhS4ZCSSl8/Ln9fbHdW7vXgW72j/y5kuL6eeBa6U8RnC5MhOV0sjLviCeruzfwy38zyvdH/1Ob3ftJT3dt9/Xv+gjH/vLgp/d+92r/LX/9ajr3Qf/rJ+78Jw29wfXnuXu+rcrvN+Vtjyt/OHV3tb5fdvcG1/a1/30Ixf7OKHlSa2Y3/27i9zzLu/lffLVL+hT1mL693/Wz/vhqh9d7f7m5ee4i/oV/Hbtj6/B/8q8jw0IZEPAKnasqVvtIZ6sRCPEy0tFVS2fb3ppX1+5vOjqs5xaeiRy1J1y25cu85XFt97b32+rwgl2JHwUZ95/XOHu+OrlToJL26qsbvnoJU6CTNuydfXFPb04U2WmfcFOOGfdTwqVUvtWhP96/0VezOmcz73lAl/BhvTz+j+Cy5WZyCsH5TuIJwnu37mslxfTvXoUfESiSHHe/IcF31zwjcL2F956gfchdfV95k3nu+su7em3g3iSMLphQGHfa17Yx7331ee6/ucWbP7TqW47+ZV86rUvOtv9z4cudhJvEkh7R17v05QP67hE/OtefLY/ru2Pvi7/3X5lzsMGBBIlYBU71uxb7SGerEQjxMtz5aW83/e9q3xFccl5PYrjisIYkVc9v4+vTDoTT7ITutdCt12oGFXpLP5WYbzKuM8O8GlJNOmczsST4lx+YQ9/DmOeKjurGOX1U+ojYTC3xs3JZ774tgt8udqLJ4kmHQ9joCZ94TK/HcSTRJaOS7AHLu959bl+XxBPwac2/qzQ4qnB5jpn4McLLashzY/8RUEsPfp/1/jjEmrBZl7/V/Yi9kIgLQJWsWPNtdUe4slKNEK8vD5EQ76H/nNhMK1an8I+dU+oMtEvdu3rjnhSS8KBU910a05VQvqVL7uIp+47YLhmefwfxFOfXqd9RCJKvqeWTZUpCBmJov2jC4PDdVwtmzquLl9tB/E07JMFf9Z5gckPPlgQRxJPe0YUWkR1zstu7O0/z7+il7fx+beUC7bSruvQavr02HyPveu+x2EBAtkTsIoda06s9hBPVqIR4oUHdF7//+xjl/iK492vPLdY2WwZWKiQ+p1dLp7+8z39i3H+4vfP9uep205l76jlSTZCq5F+6avSuuCccvGkX/ay8dSw6/zxUBFqX2glCDbyyjnkO4LLlZkIdvP4P4in0tl2YeJBJfG0a3hB+JzVs82pi1dl3ja43Gd+8fEz/fknp8Y8STztGFqI37NHm/vqOy8s+0z8fKGbulSwBa6hxQvxVOZ+bEAgEwJWsWNN3GoP8WQlGiFeeLjm9f/cfy90c2icSChD6AoJ3WtDPlH4Nf+3ryoILFUgYVxUe/E04lOFQd2hYpRYeuRHheULpn6p0MWisVVK6w03FcaWKD1tT/mX8i4Y7QviSfZC/vL8P4LLlZnIM4vgI1bxpLIGvwtLYkz/10JLVRDcYfsFV/Yq+osmKcgPQ7ddaEUKY+3UoqVPYIl4KnMxNiBQdwJWsWPNmNUe4slKNEK88MDN63/NcNOsJVUuGhAr8aNZSNpWF4jKFbpGNBPv6++60P3575/trrqoMCh3ztcLLU+aIaVz1P236FtXFgcD6xe+ZjON+cwA9/tXF9LRL37Z1WBdnfPCK3u577yvv5NYU6uCZu4FnqFr7/sfvMip2y/sz+v/CC5XZiKvHJTvrognCXj5jAaDy6duuq7gU8FnNOj7vLMLA8Q1uFx+EwaMa4ao0g2tpG95WV8n/9WsTnUvhxl9iKcyF2MDAnUnYBU71oxZ7SGerEQjxMtz5RXy/thPrvGzilQp6aPKRpVOaVfZV95xoZ+RpPEpX/qbC9wnT62/pF/6sqOuN00z1/kaSxIqxiv69/Bjpvr2Ltj+qz/o65cx0DkSZeqe6XFqocTZX7/CL4io1oWQNy2PINEmu2GWXjiWx/8RXK7MRB4ZhDwHH6ml5Wn9T69xarmUP2i5Ak1QkH+U+oxWJQ8tVIqrpTYUXy1QSlvLaGgWnoS99mvM0+BPnF6GA/FU5mJsQKDuBKxix5oxqz3Ek5VohHihImiG/+q62DrouqJwaV+m9t0b7Y9r+8khhfPbV4za1pimSueoMqu0P+zT4OAwQDjsy+v/CC5XZiKvHLqb7ycGXVcm7tvb05io4Ivtj4VtdT9vP+WvYV+z/y9zHjYgkCgBq9ixZt9qD/FkJRohXrM/bLtavvbiqat2mu28CC5XZqLZ+FCebJeeKHMeNiCQKAGr2LFm32oP8WQlGiEeD/vKD3uJJy1++OJrCoPD4VTgFMHlykzAtbL/waUylzLnYQMCiRKwih1r9q32EE9WohHi8ZCu/JCGS2UuEVyuzAScK3OGS2UuZc7DBgQSJWAVO9bsW+0hnqxEI8TjIV35IQ2XylwiuFyZCThX5gyXylzKnIcNCCRKwCp2rNm32kM8WYlGiMdDuvJDGi6VuURwuTITcK7MGS6VuZQ5DxsQSJSAVexYs2+1h3iyEo0Qj4d05Yc0XCpzieByZSbgXJkzXCpzKXMeNiCQKAGr2LFm32oP8WQlGiEeD+nKD2m4VOYSweXKTMC5Mme4VOZS5jxsQCBRAlaxY82+1R7iyUo0Qjwe0pUf0nCpzCWCy5WZgPOZnJ+e8MKq64a1MrMy52EDAokSmDlzppPgiRUQT7FIYidTArNnz3ZDhgzJNA2MQ6ASgX379rmBAwe6ZcuWVTrMPghAIAcErGLHWhSrPVqerESJlwmBEydO+Aps3LhxmdjHKATaE9i+fbu77bbb3KBBg9ydd97Z/jDbEIBAjghYxY61SFZ7iCcrUeJlRuD48eNuxIgRbvjw4W7jxo2ZpYPh1iRw8uRJt3btWjd9+nTfyinRpO8SULfffntrQqHUEGgSAlaxYy2u1R7iyUqUeJkSUAvUkiVL3ODBg92YMWN8ZZdpghhvWgIS4xJLs2bNciNHjvQtTMOGDfNCad26dcVy6/iMGTOK23yBAATyR8Aqdqwls9pDPFmJEq8uBI4dO+YWLFjgWwhU4S1atMhpHwECHRHYtm2bW7x4sZs0aZJvvVTLknxn6tSp7oEHHnCHDh2qeKrEkwabEiAAgfwSsIodawmt9hBPVqLEqzuBBx980I0ePdq3HKhiLG01qHtmSLDhBNT9tnXrVrd06VLf5aauXgklTTgYP368mzNnjvcRtWJaAi1PFkrEgUDaBKxix1oKqz3Ek5Uo8RpGQLOiVNGpktRHzr1nz56G5YeEsyegrrf169f7VkgJZ7UkSSipW1dC6a677nKrV692hw8f7nJmEE9dRseJEEiGgFXsWDNstYd4shIlXhIE1Po0efJkX5Gq5WHhwoXu6NGjSeSNTHSNgLrVJIS0bIWEkQSyhNLQoUPdhAkT3Ny5c32LUuzuW820Y8B4164ZZ0EgFQJWsWPNr9Ue4slKlHhJEVDXjMazjB071le0WupgxYoVTl07hHQJqBVR3bF6QGligFqStNaSZlpOmTLFj3HbtGlTXa6jWq8QT+n6CjmDgIWAVexYbCmO1R7iyUqUeMkSOHLkiLvnnnt8BayKWFPQt2zZkmx+WyVje/fu9QJXywKEsWtqUdIMOImW5cuXux07djQMh8TTtGnTGpY+CUMAAt0nYBU71pSs9hBPVqLEywUBLYCo6edq0dA4Gc3C0vgZQrYENPbooYce8r/aSoWSvks8qZVw165d2WaiRuvqtkM81QiN6BBIjIBV7FizbbWHeLISJV7uCKgbL1Tkao1qZCtH7uB1kmEtZjp//nw/RklCVS1KGoOm5QHuu+++5IRSpeJIPCm/BAhAIL8ErGLHWkKrPcSTlSjxcktg586dvoVBFfyoUaN8Kwhjo+yXUy13GtCt2Wnip65RDerWLDgN2M9rFynddnYfICYEUiVgFTvW/FvtIZ6sRImXewJhFXMNTlZriRZI1HgpQjkBzWpTq51a68ISAWKmVhoN9u5o0clyK+lvSTypjAQIQCC/BKxix1pCqz3Ek5Uo8ZqKgFpLJk6c6LubNO7lwIEDTVW+WgujNZX00AgLT2pQt1qaHn300aYdM6alERBPtXoK8SGQFgGr2LHm2moP8WQlSrymJKDFNtX9pC49TZXfv39/U5azfaFUzrvvvru41IO64dSytHLlypZ5HY5WJEc8tfcMtiGQLwJWsWMtldUe4slKlHhNTUBiQuJBIkotLs04Q0+z3dTaElqXtAClXsbcKoKxvQMjntoTYRsC+SNgFTvWklntIZ6sRInXEgQ0uFyrXGtMlJY5yHt4/PHHvRjUat0ShmplU+uS9f1veS9/tfxr5XJanqoR4hgE0idgFTvWkljtIZ6sRInXUgQ0BkiDpPXJ2xIHBw8edPPmzfOvN5EIlEBYs2ZNS10/S2HFCPFkIUUcCKRLwCp2rCWw2kM8WYkSryUJqHVCLTaqaDta3kCtOd15QW1HYGVTtq1h7dq1vtVM+VXr2apVq6yntmQ8XVONcyNAAAL5JWAVO9YSWu0hnqxEideyBNTypHFCaoXSu9naB1XCGzZsaL+729uyKdvVggTdokWLiq1MEnuxX6BbLf08H0M85fnqkXcIFAhojKreKhErIJ5ikcQOBE4R0IrUatVRl15p0AKSGngdOyxdurRi65HGK2l9KlX+6pbTsgLKA6E2AlohnZan2pgRGwKpEbCKHWu+rfZoebISJV7LE9AMPAkVrbBdKpZ2796dSSWsil22S4MWr1QrmETTmDFjzhBypXH5Xp2AxNPkyZOrR+IoBCCQNAGr2LEWwmoP8WQlSjwIOOe7xPS+PAmoBQsWeCbqOtNK3M8880w0Rmpdks3ScVZ6Z1x4NQotTd1HLfFUy5iy7qeIBQhAIDYBq9ixpmu1h3iyEiUeBE4ROHr0qH/hsIRMGJM0ffp09+STT0ZjJFuyGYL69JWeKnxCHAJaJBTxFIclViDQKAJWsWPNn9Ue4slKlHgQKCGgmXDqwtMYKK0HtXz5cv8+uJIo3fqqtZhkUy1QoaVr+/bt3bLJyeUE1HKIeCpnwhYE8kbAKnas5bLaQzxZiRIPAu0IaD2lsFr3smXL/GKU7aJ0eVMzSLTApVqb9Gn1d+91GWSVEyWe9H5DAgQgkF8CVrFjLaHVHuLJSpR4EKhAQK820eBttUBpjFKsIFtaFVzCqVVfnxKLZUd26LbriAz7IZAfAlaxYy2R1R7iyUqUeBDogIDWfgotRDGEjmwEe5XWleogG+yukcDChQvptquRGdEhkBoBq9ix5ttqD/FkJUo8CFQhELrY1I3X3SAbEk+ySciOgMQT3XbZ8cUyBOpBwCp2rHmx2kM8WYkSr0jg6IQbHR8YWH2g6DiJfZF4mjBhQmK5IjsQgEAtBKxix2rTag/xZCVKvCIBa6VJPASWfCDVoNfaIJ5SvTrkCwI2AlaxY7PmnNUe4slKlHhFAogiRFEtPlB0nMS+aIkJxFNiF4XsQKBGAlaxYzVrtYd4shIlXpFALRUncRFaRcdJ7AviKbELQnYg0AUCVrFjNW21h3iyEiVekQCCCEFUiw8UHSexLxJP48ePTyxXZAcCEKiFgFXsWG1a7SGerESJVyRQS8VJXIRW0XES+6KXOyOeErsoZAcCNRKwih2rWas9xJOVKPGKBBBECKJafKDoOIl9Wbp0KeIpsWtCdiBQKwGr2LHatdpDPFmJEq9IoJaKk7gIraLjJPYF8ZTYBSE7EOgCAavYsZq22kM8WYkSr0gAQYQgqsUHio6T2Bd1240bNy6xXJEdCECgFgJWsWO1abWHeLISJV6RQC0VJ3ERWkXHSewLLU+JXRCyA4EuELCKHatpqz3Ek5Uo8YoEEERdF0TjPzvAffM9/d2GW66tuEr74XE3+OM/+tDFFY/HYH9kfCGNH/79RZmlUZrPouMk9uXee++l5Smxa0J2IFArAavYsdq12kM8WYkSr0igtGJM+fvq/73Gfe2dFzqJhVTy+eY/7Ova2trcgm9cUTFPB8fc4C67oId7ybVnVTweoxyHxt3g83DpeT0yS6M0n0XHSezLsmXLEE+JXROyA4FaCVjFjtWu1R7iyUqUeEUCpRVjyt8/9YbzvUhQa04q+exMPNUjn4ingitLPI0dO7bo13yBAATyR2DmzJn+lSqxco54ikUSO2cQqEcFv2/U9e7mN57vrr+0pzund5u76fre7tbPDyiKoLe+7Bx342W93KafF7q/JJC0/fLn9fZx/vqmvq53rzYvnrR/5M2XFs8tzf+9373K/ckL+7jzzm5zr35BH/c/H7q4rKVq1M2Xuj+49izXt3ebt//Ft13g9o8uiLHdI673+97+8nPcjK9c7p5/RS+/PfYzA3y33Gte2Mdd0b+H+/b7+rsg4IJ4mvLFy9wbb+rrzu/b5l7xvN5uzf9d4/P39NhCOf74d/v47XGfHeBt/uLjl7jv/t1F7qqLevp8TvvyZcXyqGVNx553eS93bp9COR78wdXF478edb374J/1cxee0+bLcte/XUHLk3Pu/vvvRzydcXezAwL5ImAVO9ZSWe3R8mQlSrwigVLxkdX3N7200L31oqvPcmpBkihQd9dtXyqIBokpba/7SUF0tG9N+a/3X+RFl+J87i0XuIX/eWVRTIQ8a9xRn15trmePNvePrz/PvfL5fbzNEZ8qCK1hn7zUb0vgfPpN53txJHvvf00/b0siStsSSC+8speTWNL2Jef1cH/x+2e7N760r+vVo5DvZd+7yp8TxNO1l/T0dn7/6rP8OX94Y0H0qdtONtR1p3yGPPzR7/T2QjKkcXG/tqLIU1l1zmtfdLYXf1f27+Eu6tfm9o683tv4wlsvKNr8zJvOd9dd2tNvt3q33X333Yd4Kt7VfIFAPglYxY61dFZ7iCcrUeIVCQTxkdX/+753la/cJULCeCW1AEkgvOr5hRaZzsST8nb5hT38OcFG+/wGUfEvb7vAi4wnBl3n/vIlZzsJDMW9YUBBZMz+emF8klpwJLSUD7V4BaGj7cXfKoizay4unBNshDT++wOFwdlBPIXjshFayNb++JqizSCehp8ScAPO7+EOjCm0eN10XUFw3fudgiAL5dz4s0IrnAaCK08DP36JL4dsaXvJtwt5nPSFy/x2q4un5cuXI56KdzVfIJBPAlaxYy2d1R7iyUqUeEUC7UVI7O2h/1wQSmp9CrYlLCQA+p/b5vfFEE/qNpPNMZ853R0Y0lO3oY7pE1pwdCykq66vIJ7OPqvNqeVLx4NNdctpO7QcffwF+9x9AAAgAElEQVT15/ntIJ7UtRfSCjYl0oLN9uLpXa88txj/H/68n8+XuiL3jDidz5fd2Nvpo+5D5fvzbyl0MYZyqExKU8JP+xBPiKfiTc0XCOSUgFXsWItntYd4shIlXpFAqPSz+v+zj13iK/d3lwiGLQMLFX6/s8vF06Onxgo9Ney6MwRBaJHpqOVJ3VwSEWqJaV+WYE+tQhqHFI6r5UvnTP/Xy88QOorzjlec44/P+49Ca5WWJlD89uJJ5webGvOkOLO+dqbN0PL0yTcUWsN0jr4rvsTTjqGFcqtF7KvvvLDsM/Hzl7ldwwvi6qyepwXetsFnsgp5yeJ/0XES+0LLU2IXhOxAoAsErGLHatpqD/FkJUq8IoEsKthSm3P/vTCgWd1mYX/oalIrjfa94VSrURA+U/7lzK6oIJ7UmhPslP4PLThff9eF/rjGMH3gT/v58U2Kp25DiZQwXkkiSq1M2vfYT87sYtM5VvH0jb/t79OUsNOAeNl8+H+uPkOQdSaelKbGZOn8MP5L5QiD2nU8jBcLg8gl3BS/1VueNGB8zJgxRb/mCwQgkD8CVrFjLZnVHuLJSpR4RQKqkLP8aGaaZripgv/o685zGsCtmWTaVjeY0tasOG1roPZ33tffSVSpdUUDqUPeQnfY9z94UXE2Wzim/4u+daW3oS4ydRWqdUg23/vqQhfZf7y7v9/WYO4Jnxvg3vZHhVYlDQTX+e272LSvM/Gkc5WGBnVrTJJmwWlbXW2VbFrEU1iS4S0v6+vmfP0Kp5mGGqiumYSy+bevOtenocHm6qIMY6ZKWSleVp+i4yT25YEHHkA8JXZNyA4EaiVgFTtWu1Z7iCcrUeIVCWRVyZbaVcvO615c6FaTuNBYJ4mg0AWncTtarqDHqZlpGi8kEaRWlmDn5/94SbFVR1P5w/7S/xIwEhFKQzPv1FWori7F0QBtLU0QWoYkznRcA8t1vCviSbPwlNbgT1ziBZS+a7ZeGHDe3qZFPO0cdr0XfGEwu4SY7Idyrv/pNU6zFpWWlisY/ekBvkylrELcLP4XHSexLw8++CDiKbFrQnYgUCsBq9ix2rXaQzxZiRKvSCCLCrYjm+p+2npKrFSKI+FQaX/Yp0HSYaB02Ffpv9IoHdtUGkeCbfMvri0OCi891t3vQYh1147OV/63DykIu0r2lFYQn5WOZ7Wv6DiJfZF4GjVqVGK5IjsQgEAtBKxix2rTag/xZCVKvCKBrCpZ7GbXddZItkXHSezLihUr3OjRoxPLFdmBAARqIWAVO1abVnuIJytR4hUJNLIiJu38Cayi4yT2BfGU2AUhOxDoAgGr2LGattpDPFmJEq9IAAGTPwHTyGtWdJzEviCeErsgZAcCXSBgFTtW01Z7iCcrUeIVCTSyIibt/Am3ouMk9kXiaeTIkYnliuxAAAK1ELCKHatNqz3Ek5Uo8YoEEDD5EzCNvGZFx0nsy8qVKxkwntg1ITsQqJWAVexY7VrtIZ6sRIlXJNDIipi08yfcio6T2BeJJ1qeErsoZAcCNRKwih2rWas9xJOVKPGKBBAw+RMwjbxmRcdJ7MvDDz9My1Ni14TsQKBWAlaxY7VrtYd4shIlXpFAIyti0s6fcCs6TmJfEE+JXRCyA4EuELCKHatpqz3Ek5Uo8SBQhcDgwYPd7Nmzq8TgUGoEVq1aRctTaheF/ECgRgJWsWM1a7WHeLISJR4EOiAwbtw4N3DgQHfixIkOYrA7RQKPPPKIGzFiRIpZI08QgICRgFXsGM05qz3Ek5Uo8SDQjsDGjRvd8OHDfQV8/PjxdkfZTJ3A6tWrEU+pXyTyB4FOCFjFTidmioet9hBPRWR8gYCNwNq1a/0LZdVVt2TJElqcbNiSi4V4Su6SkCEI1Exg5syZvrWo5hM7OAHx1AEYdkOgKwSOHTvmFi1a5IYNG+aGDBniFixY4LSPkF8CEk8sVZDf60fOISACVrFjpWW1R8uTlSjxWpLA+vXr3aRJk9ygQYP8S2QffPDBluTQjIWm5akZryplajUCVrFj5WK1h3iyEiVeyxDYs2eP/zWjFiZ9Zs2a5fbt29cy5W+Vgj766KOMeWqVi005m5aAVexYAVjtIZ6sRInX1ASOHj3qFi5c6CtTtTJNnjzZrVu3rqnL3OqFW7NmjR/w3+ocKD8E8kzAKnasZbTaQzxZiRKv6QicPHnS6eWwWmpAgmns2LHugQceYAB4013pygXSwH+WKqjMhr0QyAsBq9ixlsdqD/FkJUq8piGwZcsWd9ttt/m1mbTUwD333OOOHDnSNOWjIDYCiCcbJ2JBIGUCVrFjLYPVHuLJSpR4uSagdZgWL17su2m0xMCMGTPc9u3bc10mMt89AnTbdY8fZ0MgBQJWsWPNq9Ue4slKlHi5JLBjxw7fyhRmy6mbjgABEdBMSrU8EiAAgfwSsIodawmt9hBPVqLEyw0BjWXS2KVRo0b5sUzTpk1zO3fuzE3+yWh9CDz22GN+3a76pEYqEIBAFgSsYseattUe4slKlHjJE9C4Ja02q245tSiw+nfyl6yhGVTLkxY9JUAAAvklYBU71hJa7SGerESJlyyBAwcOOLUuqWtu4sSJTgPCCRDojICWoqDbrjNKHIdA2gSsYsdaCqs9xJOVKPGSIyDRNGXKFC+atAq4FrckQMBKgJYnKyniQSBdAlaxYy2B1R7iyUqUeMkQ0Mw5ObhamqZOner279+fTN7ISH4IbNiwgW67/FwucgqBigSsYqfiyRV2Wu0hnirAY1e6BLTcgMY0aUFLBoGne53ykLNf/epXiKc8XCjyCIEqBKxip4qJskNWe4inMmxspEpASw5ofIo+miVFgEB3CWzcuNENHTq0u2Y4HwIQaCABq9ixZtFqD/FkJUq8zAgcPnzYacxSpaBlB+bNm+e76ObOnVspCvsg0CUCiKcuYeMkCCRFwCp2rJm22kM8WYkSLzMCGnsigdQ+7Nu3z7c06f1jankiQCAmgc2bN9NtFxMotiDQAAJWsWPNmtUe4slKlHiZEVi6dKlbtWpVmX3NhNKA8DvvvLNsPxsQiEVA4oluu1g0sQOBxhCwih1r7qz2EE9WosTLjICWG9i9e3fRvha3HDhwoBs5cqTTzDoCBLIgoPXAWCQzC7LYhED9CFjFjjVHVnuIJytR4mVC4MSJE74C09gmhQULFnjhNHr0aHfs2LFM0sQoBERA4omWJ3wBAvkmYBU71lJa7SGerESJlwmBJ5980k2fPt3b1rgntThJOB09ejST9DAKgUBA4mnIkCFhk/8QgEAOCcyaNcvNmDEjWs4RT9FQYihLAitXrnTLly93Wr9JY5zUVafZdwQIZE1g69attDxlDRn7EMiYgFXsWLNhtUfLk5Uo8TIhoF8Ny5Yt88JJs+oOHjyYSToYhUB7AhJPtDy1p8I2BPJFwCp2rKWy2kM8WYkSLxMCGrCrFietGs5rVjJBjNEOCDz++OOIpw7YsBsCeSFgFTvW8ljtIZ6sRIkXnYDEksY46aM1nQgQqCeBJ554gm67egInLQhkQMAqdqxJW+0hnqxEiRedgLrpJJzUAkCAQL0JbNu2zbd41jtd0oMABOIRsIoda4pWe4gnK9EI8d70422ODwysPhDB5TBRhcD27dvptqvCh0MQyAMBq9ixlsVqD/FkJRohnrXSJB4CSz5AyJYA4ilbvliHQD0IWMWONS9We4gnK9EI8RBFiKJafCCCy2GiCgHEUxU4HIJATghYxY61OFZ7iCcr0Qjxaqk4iYvQiuBymKhCAPFUBQ6HIJATAlaxYy2O1R7iyUo0QjwEEYKoFh+I4HKYqEJg586dDBivwodDEMgDAavYsZbFag/xZCUaIV4tFSdxEVoRXA4TVQhIPLFIZhVAHIJADghYxY61KFZ7iCcr0QjxEEQIolp8IILLYaIKAcRTFTgcgkBOCFjFjrU4VnuIJyvRCPFqqTiJi9CK4HKYqEKAbrsqcDgEgZwQsIoda3Gs9hBPVqIR4iGIEES1+EAEl8NEFQK7du1izFMVPhyCQB4IWMWOtSxWe4gnK9EI8WqpOImL0IrgcpioQgDxVAUOhyCQEwJWsWMtjtUe4slKNEI8BNGZgujNP97m3vnz7ay8XmH1+Qguh4kqBPbs2UPLUxU+HIJAHghYxY61LFZ7iCcr0QjxEE+nxdPfDXnSzVtz2B08+qx79uRzbtX2Y+5/5uxDRJWIqAguh4kqBPbu3Yt4qsKHQxDIAwGr2LGWxWoP8WQlGiEe4um0eJrx8CFPdMFjR9yIpQfcoWPPuueee859ctxOBNQpARXB5TBRhYBangYNGlQlBocgAIHUCVjFjrUcVnuIJyvRCPFaSTy9/ZbtbtrKQ+6pAyfcb46fdBt2HXffvmOvF0bqqpu64mk359HD7i0/KQgqiSiFH8w+3fr033ftc5t2H3fHnjnpntz/jJv0y6fd2245LcCanWcEl8NEFQKIpypwOASBnBCwih1rcaz2EE9WohHiNXtlX1q++zf/xhN7fO9xd/tDh9zR4yf99jem7zmjZUmCaOfBE/74p8cXWp5+OGef3z7825NehD3x62f89vy1R844vzTdZvruC8yfzAjs27ePbrvM6GIYAvUhYBU71txY7SGerEQjxGumir1aWW4et9PTOnD02aLQUSuSwqNP/ra4Tzbe+tNtbvkpofXA5t8Uj+04UBBL/zplt9/3N7dscyeefc6dfO4594GhTxbjVctH3o9FcDlMVCEg8US3XRVAHIJADgjMnDnTSfDECoinWCQj2sl7ZW7NvwZ+K6j1KZzzDyN2+H1P/+a0oJJwum/TUb9//c7funf9ojDrTl1+Gv+kgeTv+NnpmXjq+lP4ym0FQRVsN+t/X1j+ZEZg//79tDxlRhfDEKgPAavYsebGao+WJyvRCPGatZJvX64fz/+1p7Vw/ekuNs2uUzj625NeUGms070bC8JJLU+lIkkiSuH4ieeKY6KUhlqtFL4+7cyuv/Z5aIZtX1j+ZEbgwIEDtDxlRhfDEKgPAavYsebGag/xZCUaIV4zVOiWMnx58m5PS11vIf63Zu7x+9R6pH0j7z3gtyWcwqDxEFf/1eWncPOpMVCKo4HjCh8evqNot/ScZvvuC8ufzAggnjJDi2EI1I2AVexYM2S1h3iyEo0Qr9kq947Ko9l0miWncOeqw+77s/e57fsLY5g0EFytUL89URBCEk9a7yl8NDZKdkcvK4grded95469Za1UHaXbbPsjuBwmqhA4ePAgLU9V+HAIAnkgYBU71rJY7SGerEQjxGu2yr1aedQ6tHLrMT9uSeg01mnwov1eGGktp46CZubJ7tt+us0vTaBlDhSeOfGcUzfgewe1xmBxMSBkS+DQoUOIp2wRYx0CmROwih1rRqz2EE9WohHiVRMbzXpMyxC8d3D3BM/7hzxZsWuvWZmFckVwOUxUIYB4qgKHQxDICQGr2LEWx2oP8WQlGiFeqBT53zoLXXbnWkdwOUxUIYB4qgKHQxDICQGr2LEWx2oP8WQlGiFedypSzm09wRXB5TBRhcCRI0fotqvCh0MQyAMBq9ixlsVqD/FkJRohHgKo9QRQd655BJfDRBUCiKcqcDgEgZwQsIoda3Gs9hBPVqIR4nWnIuXc1hNeEVwOE1UIHD582A0cOLBKDA5BAAKpE7CKHWs5rPYQT1aiEeIhgFpPAHXnmkdwOUxUIXD06FG67arw4RAE8kDAKnasZbHaQzxZiUaI152KlHNbT3hFcDlMVCEg8UTLUxVAHIJADghYxY61KFZ7iCcr0QjxEECtJ4C6c80juBwmqhA4duwYLU9V+HAIAnkgYBU71rJY7SGerEQjxOtORcq5rSe8IrgcJqoQkHii5akKIA5BIAcErGLHWhSrPcSTlSjxMiFgddRMEsdoSxOg5amlLz+FbxICsesQqz3EU5M4UF6LYXXUvJaPfKdL4Pjx43TbpXt5yBkETARi1yFWe4gn0+UhUlYErI6aVfrYbV0CiKfWvfaUvHkIxK5DrPYQT83jQ7ksidVRc1k4Mp00gRMnTtDylPQVInMQ6JxA7DrEag/x1Pm1IUaGBKyOmmEWMN2iBBBPLXrhKXZTEYhdh1jtIZ6ayo3yVxiro+avZOQ4dQKIp9SvEPmDQOcEYtchVnuIp86vDTEyJGB11AyzgOkWJYB4atELT7GbisDMmTOd6pFYwVonIZ5iEcdOlwhYHbVLxjkJAlUInDx5kjFPVfhwCAJ5IBC7DrHaQzzlwTuaOI9WR21iBBStQQQQTw0CT7IQiEggdh1itYd4ingRMVU7Aauj1m6ZMyDQOYFBgwZ1HokYEIBAsgRi1yFWe4inZF2iNTJmddTWoEEp602A17PUmzjpQSAugdh1iNUe4inudcRajQSsjlqjWaJDwESAlicTJiJBIFkCsesQqz3EU7Iu0RoZszpqa9CglPUmgHiqN3HSg0BcArHrEKs9xFPc64i1GglYHbVGs0SHgImAxJMGjhMgAIF8Eohdh1jtIZ7y6S9Nk2urozZNgSlIUgQQT0ldDjIDgZoJxK5DrPYQTzVfKk6IScDqqDHTxBYEAgGJJy2WSYAABPJJIHYdYrWHeMqnvzRNrq2O2jQFpiBJEUA8JXU5yAwEaiYQuw6x2kM81XypOCEmAaujxkwTWxAIBBBPgQT/IZBPArHrEKs9xFM+/aVpcm111KYpMAVJigDiKanLQWYgUDOB2HWI1R7iqeZLxQndJbBp0yb30EMPeTOljqp9OkaAQL0ISDwdP368XsmRDgQgEJlAaR0Sw7TVHuIpBm1s1ETgwIEDbty4cf6cUkfVPh0jQKBeBBBP9SJNOhDIhkBpHRIjBas9xFMM2tiomUAQSsFRSwVVzcY4AQJdJCDxdOzYsS6ezWkQgECjCYQ6JFY+rPYQT7GIY6cmAosXL3arV692wVH1XfsIEKgnAcRTPWmTFgTiEwh1SCzLVnuIp1jEsVMTgS1btrg777yzKJ70XfsIEKgnAcRTPWmTFgTiE7CKHWvKVnuIJytR4kUloEG6w4YNczNnznQzZszw3xm4GxUxxgwEBg4c6I4ePWqISRQIQCBFAlaxY8271R7iyUqUeNEJ3H777U6fadOm+f/RE8AgBDohgHjqBBCHIZA4AavYsRbDag/xZCVKvOgEVqxY4SZPnuwmTpzoVq5cGd0+BiHQGQF129Hy1BkljkMgXQKzZs3yvRexcoh4ikUSO5kR2L17txsyZIj/6DsBAvUmoJanw4cP1ztZ0oMABCIRsIoda3JWe7Q8WYkSLxMCqrz0IUCgEQTU8nTkyJFGJE2aEIBABAJWsWNNymoP8WQlSrxMCIwYMcKNHj06E9sYhUBnBBBPnRHiOATSJmAVO9ZSWO0hnqxEI8R7+/Yljg8MrD4QweUw0QkBiadDhw51EovDEIBAqgSsYseaf6s9xJOVaIR41kqTeAgs+QAhewKIp+wZk8L/b+88gOUqznx/hbJUQoAEQgQJEY0xlCiiyTbISzKyd41tnr2Lcw5le50zXr99a3udsJ9ACCUEKCeUkIRQACUkBIqAslgVAlESj1AulcvVr/4tznC50qW/mdtzps/M71RNzczpPl93/07P9P98nSBQTQJWsWPNg9Ue4slKNEI8RBGiqJw6EKHKYSJAQOLplVdeCcQiGAIQSJWAVexY82+1h3iyEo0Qr5yGk7gIrQhVDhMBAoinACCCIZA4AavYsRbDag/xZCUaIR6CCEFUTh2IUOUwESAg8aRNqTkgAIFiErCKHWvprPYQT1aiEeKV03ASF6EVocphIkAA8RQARDAEEidgFTvWYljtIZ6sRCPEQxAhiMqpAxGqHCYCBLTG2L59+wKxCIYABFIlYBU71vxb7SGerEQjxCun4SQuQitClcNEgMDdd9+NeAowIhgCKROwih1rGaz2EE9WohHiIYgQROXUgQhVDhMBAuq2e+mllwKxCIYABFIlYBU71vxb7SGerEQjxCun4SQuQitClcNEgIA8T3v37g3EIhgCEEiVgFXsWPNvtYd4shKNEK8eBNH7Hxntzv7+591l9/83q6VXecX4CFUOEwECEk94ngKQCIZAwgSsYsdaBKs9xJOVaIR49SCeLvzLz11TU5Mb8Ol/LoR4um7xA+7Mb33KDd61qBD5bV5HIlQ5TAQIIJ4CgAiGQOIErGLHWgyrPcSTlWiEeM0bxqJ+Lpp4OvWzt3qxN3jnQsRThDpcbyYknvbs2VNvxaI8EGgYAlaxYwVitYd4shKNEK+IgunaBaPdUQPPdu17dHN9rrvMnfef33mb5+nkj97guvY/0V32wO9d5+OPdad96TYvUj743Dx36ududV369XXtunR2Pc8901089D9KAubkWw9ed+Wkv7jeV1zg2nXu5HoOfJeTpyjjFLIx8L++69Me+Jvvla455fYP+3NXzxjqjnvfpa6pYwefX+Xxwjt/VoqXpZHye4Qqh4kAAcRTABDBEEicgFXsWIthtYd4shKNEC/lhvpweVNXV9f+J3jx0evSge7EDw9y7Xv28N9P+dTBbjsJKnXj9XjXqV4onfPTr3qB0mfQ5QfPnzXAyftzRNfO/vulI/+PDz/u/e/13zv16eX63Xazv152JKCyvIRsnP3DL3ob7/7xl0vXHH/9lf7cFRPvdMqLhJvsStRdNW1IKV6WRsrvEaocJgIEJJ5eeOGFQCyCIQCBVAlYxY41/1Z7iCcr0QjxUm6oD5e3Kyf/1QuPziccVxIdElASIyXx9IEr/Pe+N17tbtm+wMe7Zs69/lyHY3qWxhpl3X3HXHyuj9PnzetO++LH/fdbtj7imjq099cNenyss9gIiSeVSeJM+WXMU4QKXIcmhg4diniqw/tKkRqHgFXsWIlY7SGerEQjxDucQEn53AV/+okXHhI6WT7f84uv+3MtxdPA3/2gFOf8P/744HWDLi+dkyCSiJHnSrYy8XTRkF+W4hx5zhk+zuXj/+QsNhBPESplg5tAPDV4BaD4hScwffp0J8ET60A8xSIZ0U4mQIryPvC33/di5oTB15YEznn/+9v+XEvxpLFLWbk0FklCqfl11z851Z87oluXt4mn947+bem6oy84x8e57ME/OIuNTDyd/YMvlGz0vvJCb0PddsoPnqeIFbgOTSGe6vCmUqSGImAVO1YoVnt4nqxEI8TLxEVR3t9732+9EOl+er+SOOn38Zv8uUPE0+S/luJcMeHPPo7GS2VlvWTYr/05DRzXuczz9K5//6z/rm61bHzStQvHOIuN8//wI2/zxA9d522o2zAbW9VSPN2y7WCXYpafIrxHqHKYCBDQmKfdu3cHYhEMAQikSsAqdqz5t9pDPFmJRohXhAa7eR5vfm6uO6J7Vy9QTv/y/3Ln/Pxrbw0Yv/3DbxNBGh+VXatlAY589+n+uv6fHOwu+PNPXbcBJ/nv6gpUvEw8aYaeuvxO+sj1PjwTahYb16+a7K+R6DrrO5/xs/Y69z3Wn7ti/J99OhJr8oIp74MeG1vKY5bXlN8jVDlMBAggngKACIZA4gSsYsdaDKs9xJOVaIR4KTfUreXtorvvKHlzepw1oNSdJg+UrslEUHPxpPODlo5zva+6yAuXbKyTBEw2cDu77tw7vuk69ent40lIXT39rpLACdlQOmd+83bX4agjXVOnDu6Mr33SDfjMR7wtec0UrmUMMo9W81l5Ckv9FaHKYSJAQN12zz//fCAWwRCAQKoErGLHmn+rPcSTlWiEeKk31q3lb/COR92N62ZWJDY+uGW+u+Gp6Ydcm4mnTHTd8PShcbL8tGajebjiZN9bvmu9KL1ank/9e4Qqh4kAAcRTABDBEEicgFXsWIthtYd4shKNEC/1xjrP/LUUT3mmXZS0IlQ5TAQIIJ4CgAiGQOIErGLHWgyrPcSTlWiEeEVptPPIp1YY79j7aHf1Q3cXziOUBx+lwVF9Aoin6jMmBQhUk4BV7FjzYLWHeLISjRAvr0aXdNIfz2S5RxGqHCYCBDRgfNeuXYFYBEMAAqkSsIoda/6t9hBPVqIR4lkaTOLUh/CJcR8jVDlMBAjcc889bufOnYFYBEMAAqkSsIoda/6t9hBPVqIR4sVoULHROOIqQpXDRICAuu22b98eiEUwBCCQKgGr2LHm32oP8WQlGiEewqdxhE+Mex2hymEiQADxFABEMAQSJ2AVO9ZiWO0hnqxEI8SL0aBio3EEWIQqh4kAAYmnHTt2BGIRDAEIpErAKnas+bfaQzxZiUaIh/BpHOET415HqHKYCBDQmCfEUwASwRBImIBV7FiLYLWHeLISJV5VCFgralUSx2jDE5Dnadu2bQ3PAQAQKCqB2G2I1R7iqag1pk7yba2odVJcipEYAXmeEE+J3RSyA4EyCMRuQ6z2EE9l3CSixidgrajxU8YiBJyTeNqyZQsoIACBghKI3YZY7SGeClph6iXb1opaL+WlHGkRQDyldT/IDQTKJRC7DbHaQzyVe6eIH5WAtaJGTRRjEHiTwLBhw9zWrVvhAQEIFJTA9OnTndqRWIe1TUI8xSKOnYoIWCtqRca5CAIBAvI8bd68ORCLYAhAIFUCsdsQqz3EU6o1okHyZa2oDYKDYuZMAPGUM3CSg0BkArHbEKs9xFPkG4m58ghYK2p5VokNARsBxJONE7EgkCqB2G2I1R7iKdUa0SD5slbUBsFBMXMmoDFPzz77bM6pkhwEIBCLQOw2xGoP8RTrDmKnIgLWilqRcS6CQICAxNNzzz0XiEUwBCCQKoHYbYjVHuIp1RrRIPmyVtQGwUExcyYg8fTMM8/knCrJQQACsQjEbkOs9hBPse4gdioiYK2oFRnnIggECNx7771u06ZNgVgEQwACqRKI3YZY7SGeUq0RDZIva0VtEBwUM2cCiKecgZMcBCITiN2GWO0hniLfSMyVR8BaUcuzSmwI2AjQbWfjRCwIpEqARTJTvTPkq6oEEE9VxZiqA8QAACAASURBVIvxAAGJp40bNwZiEQwBCKRKIHYbYrWH5ynVGtEg+bJW1AbBQTFzJjB8+HDEU87MSQ4CMQnEbkOs9hBPMe8itsomYK2oZRvmAggYCGjM0/r16w0xiQIBCKRIIHYbYrWHeEqxNjRQnqwVtYGQUNQcCcjztGHDhhxTJCkIQCAmgdhtiNUe4inmXcRW2QSsFbVsw1wAAQMBxJMBElEgkDCB2G2I1R7iKeFKUa9Z27Jli3vyySd98ZpXVJ1TGAcE8iKAeMqLNOlAoDoEmrchMVKw2kM8xaCNjbII7N+/340ZM8Zf07yi6pzCOCCQFwHGPOVFmnQgUB0CzduQGClY7SGeYtDGRtkEMqGUVdTmgqpsY1wAgQoJyPO0bt26Cq/mMghAoNYEsjYkVj6s9hBPsYhjpywCixYtcmvXrnVZRdVnneOAQJ4EJJ5U9zggAIFiEmCRzGLeN3JdIYFt27a5mTNnlsSTPuscBwTyJDBixAjEU57ASQsCkQlkD+CxzFrt4XmKRRw7ZRE4cOCA0+rOemqYNm2a/6xzHBDIkwCepzxpkxYE4hOwih1rylZ7iCcrUeJFJzBlyhSn1+TJk/179AQwCIEAAYmnp556KhCLYAhAIFUCVrFjzb/VHuLJSpR40QmsWrXKjR8/3o0dO9atXr06un0MQiBEAPEUIkQ4BNImYBU71lJY7SGerESJF53Aiy++6IYOHepf+swBgbwJaMzT008/nXeypAcBCEQiYBU71uSs9hBPVqLEqwqBIUOGOL04IFALAiNHjkQ81QI8aUIgEgGr2LEmZ7WHeLISJV5VCKjbZNSoUVWxjVEIhAhIPK1ZsyYUjXAIQCBRAlaxY82+1R7iyUo0QrwPPb/Y8YKBtQ5EqHKYCBBAPAUAEQyBxAlYxY61GFZ7iCcr0QjxrI0m8RBYqgMc1SegMU9MVqg+Z1KAQLUIzJgxwy93E8s+4ikWyYh2EEWIonLqQMSqh6lWCMjzhHhqBQ6nIVAAAlaxYy2K1R6eJyvRCPHKaTiJi9CKUOUwESAgz5OWzOCAAASKScAqdqyls9pDPFmJRoiHIEIQlVMHIlQ5TAQIIJ4CgAiGQOIErGLHWgyrPcSTlWiEeOU0nMRFaEWocpgIENBMTzxPAUgEQyBhAlaxYy2C1R7iyUo0QjwEEYKonDoQocphIkAA8RQARDAEEidgFTvWYljtIZ6sRCPEK6fhJC5CK0KVw0SAgAaMP/HEE4FYBEMAAqkSsIoda/6t9hBPVqIR4iGIEETl1IEIVQ4TAQKIpwAggiGQOAGr2LEWw2oP8WQlGiFeOQ0ncRFaEaocJgIERo8e7VauXBmIRTAEIJAqAdZ5SvXORMxXIwqif1o50Q383Q/cuf/xLTd450JWWC9jlfmIVQ9TrRBAPLUChtMQKAgBq6fIWhyrPTxPVqIR4jWaeLr5mTmuXaeOrqmpyfU4a4C7ZfsCd93iB9yZ3/qUG7xrEUIqIKQiVDlMBAhIPK1YsSIQi2AIQCBVAlaxY82/1R7iyUo0QrxGE08X3/NrL5xOvvWGklA69bO3+nN4ocLdkhGqHCYCBCSeli1bFohFMAQgkCoBq9ix5t9qD/FkJRohXtHE01VT/687+aM3uE59eruu/U90/T9xi7vhqeklIXTtwjHuuPdd6jocdaTr2Oso12fQ5W7QY2N9+Pl//LHr2PtoL5Ta9+jmrz/2mktcU8cO/pzsXXjnz9xFd93hwwb+9vvujK//q+twTE/X69KB7gPLJ7iL7r7DdRtwkjtq4LvcZQ/+4a10F4x2/T5+k+vc91h35DlnuHf/6Evug8/N8+HqHpTts7//ef9dHq4+H7jCn7v6obtLNopwLyJUOUwECNx3331u+fLlgVgEQwACqRKwih1r/q32EE9WohHiFaHBzvJ487MPuyO6dXGdjjvGnfPzr/mutqYj2rkTPzzIC5Ab1kxzR3Tv6oVQ35vf546//ir/WSLqpk1z3JVT/ur6XHeZP9fzPWe40798m3v3j7/s2nXp7M+d9qXb3FXThrgL/vSTg3HOPdP1PO8sL4jUzSdR1qVfX9frvQN9uD5neTv6gnP8ubN/+KVSGrKj8A9ume+6n97PNXVo765bdL87//c/9HElArPri/IeocphIkAA8RQARDAEEidgFTvWYljtIZ6sRCPEK0qjrXxKeEjEyAt008bZXnhcNf0ud83sYf7zGV/7pA8/5d8+VBIlmYB6zy+/6c9d+Jef+zgDPv0vpTid+vTy57IxT5l46nLy8W7wjkfd1TOG+nClrfSUF4XpuwafKy8D/+u7XnQp7NoFo32YvFoZX3mYFP+YS8/znqzOxx9bKkMWpwjvEaocJgIEEE8BQARDIHECVrFjLYbVHuLJSjRCvCI02FkeJW66ndbvoJDp2MH1uux8955ffsNpELjiHHfte31Y5vHRubN/+EV/rv+/DvZxyhFPmUdL3W8SPu06d/JiSnbVHahzV4z/s7erQefv/slXfHdc5pnqdurJJfGkazJxp+sue+D3bwtTeBFeEaocJgIEJJ6WLl0aiEUwBCCQKgGr2LHm32oP8WQlGiFeERrs5nm8ce1D7vSvfMIdefZpXrxIiKhrTcKq95UX+nMaFJ5dI4+T4mg8ks6VI54GfOYjJTuyofFSmV11C+qcxJPGXDW1P8J3J571nc84dd0prKV4Ou0LH/PnFXbx0F+VbGU2i/AeocphIkBA4okB4wFIBEMgYQKs85TwzYmVtSI02M3zeOP6maWB2Ooy63numV6QyPNzyu0f9p9P/+onS8JE3iOJFQka2Xkn8XTLtgU+TtZtZxVP5/z0qwfTeHNA+BUT7/Tfu55yYikfV07+qz937DUXO3UTahB684HuzcuY8udY9Q47rROQeHr88cdbj0AIBCCQNAGrp8haCKs9PE9WohHipdxQt8xbNm6o703X+IHdl4//08FuvPZHuJs2zHLvf2S0a2rXzrXv2cOd9+tvu7O+/Rnf1aZB5hpMLnuHE0+ZANMgdM3MK1c8ZfGPufhcd8mwX/vZdu2P7ObT1jitm5+b62fWqdsvm7EnQdf3xqtL4qplWVP9HqHKYSJAAPEUAEQwBBInYBU71mJY7SGerEQjxEu1kW4tXxpXpKUCJD6aOnVwvS8/3wuWLP4lw//TdTnp4GBuxenxrlP9LLss/HDiaeBvvleacafZd5kYsnqeNObq2Ksv9nnSEgkX/PmnfjaguvK69j/BaXC68qK8Z/nQzD2dU36yc0V4j1DlMBEgcP/99+N5CjAiGAIpE7CKHWsZrPYQT1aiEeIVocE+XB41w+2WrY+0KjxuXDfTaWmDw117uHMaFJ6ty3S4cMs55Smbsaf4sqcVzC3XFiVOhCqHiQABxFMAEMEQSJyAVexYi2G1h3iyEo0QryiNNvlMYzZehCqHiQABiaclS5YEYhEMAQikSsAqdqz5t9pDPFmJRoiHKElDlBTlPkSocpgIEEA8BQARDIHECVjFjrUYVnuIJyvRCPGK0miTzzREXoQqh4kAgTFjxrjFixcHYhEMAQikSsAqdqz5t9pDPFmJRoiHKElDlBTlPkSocpgIEMDzFABEMAQSJ8A6T4nfoBjZK0qjTT7TEHkx6hw23pkA4umd+RAKgdQJWD1F1nJY7eF5shKNEA9RkoYoKcp9iFDlMBEgIPFEt10AEsEQSJiAVexYi2C1h3iyEo0QryiNNvlMQ+RFqHKYCBCQeFq0aFEgFsEQgECqBKxix5p/qz3Ek5VohHiIkjRESVHuQ4Qqh4kAAcRTABDBEEicgFXsWIthtYd4shIlXlUIWCtqVRLHaMMTeOCBB/A8NXwtAECRCcRuQ6z2EE9FrjV1kHdrRa2DolKEBAlIPC1cuDDBnJElCEDAQiB2G2K1h3iy3B3iVI2AtaJWLQMYbmgCDz74oHv00UcbmgGFh0CRCUyfPt2pHYl1WNskxFMs4tipiIC1olZknIsgECAwduxYxFOAEcEQSJlA7DbEag/xlHKtaIC8WStqA6CgiDUgQLddDaCTJAQiEojdhljtIZ4i3kRMlU/AWlHLt8wVEAgTkHii2y7MiRgQSJVA7DbEag/xlGqNaJB8WStqg+CgmDkToNsuZ+AkB4HIBGK3IVZ7iKfINxJz5RGwVtTyrBIbAjYCiCcbJ2JBIFUCsdsQqz3EU6o1okHyZa2oDYKDYuZMQOJpwYIFOadKchCAQCwCsdsQqz3EU6w7iJ2KCFgrakXGuQgCAQLjxo1zjzzySCAWwRCAQKoEYrchVnuIp1RrRIPky1pRGwQHxcyZAOIpZ+AkB4HIBFjnKTJQzBWDAOKpGPepXnOpbrv58+fXa/EoFwTqnkDsNsRqD89T3VettAtorahpl4LcFZWAPE+Ip6LePfINAedXF5f3KdZhbZMQT7GIY6ciAtaKWpFxLoJAgMD48eMRTwFGBEMgZQKx2xCrPcRTyrWiAfJmragNgIIi1oCAPE/z5s2rQcokCQEIxCAQuw2x2kM8xbh72KiYgLWiVpwAF0LgHQggnt4BDkEQKACB2G2I1R7iqQCVo56zaK2o9cyAstWOgLrt8DzVjj8pQ6CtBGbMmOGmTZvWVjOl661tEuKphIwPtSBgrai1yBtp1j8BeZ4efvjh+i8oJYRAnRKI3YZY7SGe6rRCFaVY1opalPKQz2IRQDwV636RWwi0JBC7DbHaQzy1vBN8rzqBLVu2uCeffNKn07yi6pzCOCCQF4EJEya4uXPn5pUc6UAAApEJNG9DYpi22kM8xaCNjbII7N+/340ZM8Zf07yi6pzCOCCQFwHEU16kSQcC1SHQvA2JkYLVHuIpBm1slE0gE0pZRW0uqMo2xgUQqJAA4qlCcFwGgUQIZG1IrOxY7SGeYhHHTlkEFi1a5NauXVtaHVafdY4DAnkSkHhiwHiexEkLAnEJWMWONVWrPcSTlSjxohLYtm2bmzlzZkk86bPOcUAgTwITJ05kzFOewEkLApEJsFRBZKCYS5vAgQMH3LBhw5z2JNIaHfqscxwQyJOAxNOcOXPyTJK0IACBiASsniJrklZ7eJ6sRIkXncCUKVOcXpMnT/bv0RPAIAQCBBBPAUAEQyBxAlaxYy2G1R7iyUqUeNEJrFq1ymmF57Fjx7rVq1dHt49BCIQITJo0yc2ePTsUjXAIQCBRAlaxY82+1R7iyUqUeNEJvPjii27o0KH+pc8cEMibAOIpb+KkB4G4BKxix5qq1R7iyUqUeFUhMGTIEKcXBwRqQUDddnieakGeNCEQh4BV7FhTs9pDPFmJEq8qBIYPH+5GjRpVFdsYhUCIgMTTrFmzQtEIhwAEEiWgSUcSPLEOxFMskhHtvPHAqY4XDKx1IGLVw1QrBBBPrYDhNAQKQsAqdqzFsdrD82QlGiGetdEkHgJLdYCj+gQ05gnPU/U5kwIEqkXAKnas6VvtIZ6sRCPEQxQhisqpAxGqHCYCBLRMBuIpAIlgCCRMwCp2rEWw2kM8WYlGiFdOw0lchFaEKoeJAAF5nrS6PQcEIFBMAlaxYy2d1R7iyUo0QjwEEYKonDoQocphIkBAnifEUwASwRBImIBV7FiLYLWHeLISjRCvnIaTuAitCFUOEwECiKcAIIIhkDiBbIuvWNlEPMUiGdEOgghBVE4diFj1MNUKAcY8tQKG0xAoCAGr2LEWx2oPz5OVaIR45TScxEVoRahymAgQQDwFABEMgcQJWMWOtRhWe4gnK9EI8RBECKJy6kCEKoeJAAGJpxkzZgRiEQwBCKRKwCp2rPm32kM8WYlGiFdOw0lchFaEKoeJAAHEUwAQwRBInIBV7FiLYbWHeLISjRAPQYQgKqcORKhymAgQmDZtGp6nACOCIZAyAXmO9TuOdSCeYpGMaKechrPe4477dh83+hvHRd+u5hcfO9o98ZuTotutxf2IWPUw1QqBKVOmRN0Xq5VkOA0BCFSJgFXsWJO32sPzZCUaIV4tGuAU03xtzAB3wtHt3OCLu0YVOY/84gTX1NTkRn09viirBccIVQ4TAQKIpwAggiGQOAGr2LEWw2oP8WQlGiFeLRrgaqS55ncnuX8a2MUd073JHdujnbvx/C5u/R9O9kLouTv7uVP7tH+bMJr43T7+3E8+cpRb94eTXb/eR3iR07Vjkz+/+57+7pNXdfef5/2sr3vfOZ1dl45N7oJTO7q1v7fZ/e/be7le3Zu83eOObOduu6JbVGFWDY4hmxGqHCYCBBBPAUAEQyBxAlaxYy2G1R7iyUo0QrxQY1mE8O1D+rkenQ+KlH++pKu75aKuXrBIRO259xS34Y8n++8SPll5Rn7tWH/uSx/o4XT9xy7v5r+f1qe9+9bNPd3eEae46wd28eeOP6qd+9T7urv3nNzhbXZCdh/64fFu4Ckd/TU3nN/F3fnZ3qX0s3wU7T1ClcNEgMDUqVPptgswIhgCKROwih1rGaz2EE9WohHiFa3xPlx+vzu4pxconx/UoyROMgH1u9t7BcWTbC54s3utebfdTRccFE/fvOlIb3f/6AGuwxEHRZqEU0g8ye5Xrz/S541uuwiVtUFMMGC8QW40xaxbAgwYr9tb+1bBDidGinbuhjc9RMO+cmxJPN3x8aO9aPncdT1MIuedxNN9zQaRD+x/0Ps0+yd9TXYRT2/VNT7ZCMjzxDpPNlbEgkCKBKyeImverfbwPFmJRohXNKF0uPy+/5zOXiiN/VafkniSx0kDtW+/pntJ5JzXr0Mp/C+f6+3D1W0nm+8knqZ8//jSdZecfrAbbsaPjjfZRTxFqKQNZgLx1GA3nOLWHQGr2LEW3GoP8WQlGiHe4cRI0c59YVAPL4T+/ZaeJZGTjWH61W1H+3FP7ZqaXKf2Te7/3TfAx9HgbYmrluJJXXVZ+bNuu5/eepQ/9/r9A5wGlOs6DVDXeKqQ3Uw8Df/qW16xzH4R3yNUOUwECNBtFwBEMAQSJ2AVO9ZiWO0hnqxEI8QrYgPeMs+rfnOSFzFHd2tyf/x0L/fjfznKz4zr3rnJDwZX/MvO7ORFz0cv6+a+ceORfhadRFA2Tmrjnw4OKtesuEnf7eNeHH6Ky8STljAY8oXe7hNXdvc2zjqhfUlghexKvCkdzf5beMcJpetalqEo3yNUOUwECMjzpF3ZOSAAgWIS0O+XRTKLee/MuS5Kox3K54Tv9CktNyCxoplxWmMpu05db9lsuUvP6OQmf6+PFzXq1svifPDCg7P02rdr8ssRZOJJSw70Pbqdjy8htaiZCArZbb4MwoXNZvtlaRbt3VyxiFgxAcRTxei4EAJJELB6iqyZtdrD82QlGiFe0RrvUH7/Z2h/99LwU0qCqGX8F4a1Hqa4Wt9JC2bqcyae5v+8r/++867+FdtVvlrmpYjfI1Q5TAQIWP8oA2YIhgAEakQg9m/Yag/xlOMNL2IDnleeW4qnvNJNOZ0cq2bDJiWXv/4sOSAAgWISsIoda+ms9hBPVqIR4qXcUNc6b1phXGOgFv/qre6/Wuep1ulHqHKYCBBAPAUAEQyBxAnE/g0jnhK84bVujEn/1EJ15yVYhesuS/qj1IsDAhAoJgGr2LGWzmoPz5OVaIR4iJdiiZda368IVQ4TAQKapRNzpk4gOYIhAIHIBKxix5qs1R7iyUo0QrxaN8akXyzxFqHKYSJAAPEUAEQwBBInQLdd4jcoRvYQL8USL7W+XzHqHDbemYD+ePE8vTMjQiGQMgGrp8haBqs9PE9WohHi1boxJv1iibcIVQ4TAQLWP8qAGYIhAIEaEYj9G7baQzzleMMRL8USL7W+XzlWzYZNyvpH2bCAKDgEEicQ+zdstYd4SrxiNEL2Zs6c6aZMmdIIRaWMiRFQ3Zs8eXJiuSI7EICAlYDaDv2OYx2yN2vWrKA5xFMQERGqTeCRRx5x48aNq3Yy2IfAIQQeffRRN3bs2EPOcwICECgGAbUd8+fPj5bZ8ePHu3nz5gXtIZ6CiIhQbQJLlixx999/f7WTwT4EDiGwcuVKN3LkyEPOcwICECgGAbUdjz/+eLTMyt7ixYuD9hBPQUREqDaBVatWuVGjRlU7GexD4BACr7zyihsyZMgh5zkBAQgUg8DQoUPdtm3bomVWbdGKFSuC9hBPQUREqDaBDRs2uOHDh1c7GexD4LAE7r77brd9+/bDhnESAhBIl8Df/vY3d9ddd7l//OMf0TKptmjt2rVBe4inICIiVJvACy+84PT0wAGBWhDQANFJkybVImnShAAE2kBAImfYsGFtsHDopffcc4/bunXroQEtziCeWgDha20I6Onhtddeq03ipNrQBJ5//vnoT68NDZTCQyAnAprsMXv27GipyYOltujAgQNBm4inICIi5EHg3nvvdevXr88jKdKAwCEENGj84YcfPuQ8JyAAgTQJZEJnz5490TKoByl141sOxJOFEnGqTkDTTWm8qo6ZBFohsGPHDv/E+cYbb7QSg9MQgEBKBLTEzYgRI6Jmafny5ebJS4inqOgxVikB/RBYb6dSelwXg4AE/AMPPBDDFDYgAIEqEpDXSeNkN23aFDUV7XVpXbAZ8RQVPcYqJbB582YGjVcKj+uiENDMHf0hL126NIo9jEAAAtUhoEUxY3udlFOt8aR1By0H4slCiTi5EFBfs/qcOSBQKwLPPPOMX/dJ7xwQgEB6BF566SXfxV6NtkKDxffu3WsqNOLJhIlIeRDQsvgx9yjKI8+kUX8Eli1b5gXU7t27669wlAgCBSegRSynTZsWvRR6YNIyBdYD8WQlRbyqE1izZg2LZVadMglYCGjgqJ5CtQYZBwQgkAYBjUfSIpYxF8XMSjZ16tSyNglHPGXkeK85gb///e++wXr11VdrnhcyAAGNq6ArmXoAgTQIaMsU/R73799flQxpsc1169aZbSOezKiImAcBzXai6y4P0qRhIaANQrX33erVqy3RiQMBCFSBgPY/lSc45h52zbOpPS5lvxyPFuKpOUE+15yAfhx6uiinEtc802SgrgloLIT+WOfMmVPX5aRwEEiRgMYg6vf37LPPVi17s2bNKnuZEsRT1W4HhisloD7txx57rNLLuQ4C0Qloho9Wwdf06H379kW3j0EIQOBQAlp3SZ5f6wy4Qy3YzuiBXcvllHMgnsqhRdxcCKhvO/Zmj7lknETqmoC8oTNmzPCeUcR9Xd9qCpcAAf3WtO5aNZYkaF48dQlW0t4gnppT5HMSBNRI6UfDWjtJ3A4y0YKAug80pVleKGbjtYDDVwi0kYDGH+m3pR6Iag0Ob55FLX2wcOHC5qdMnxFPJkxEypuAnuwreRrIO5+k15gEJPC1m7vGYmj6NHviNWY9oNRxCaxdu9Z7drWOUx7jXrWpsH7DBw4cKLsgiKeykXFBXgQknhYtWpRXcqQDgbIJvPzyy36gqf6AtbG1ltvggAAEyiOghw/tbaqxR08//XR5F7ch9pgxY5zGVVVyIJ4qocY1uRDIZjlpzzEOCKRMYMeOHX43dv35a5NrRFTKd4u8pUTg8ccf96JJG3Pn6cHdunWr9zpV2r4gnlKqReTlEALaqFErv3JAoAgEJPg1hkKeqLlz57rXXnutCNkmjxDInYDEi2awqodhw4YNuaevcVVaCLfSA/FUKTmuy4WApqhqqmq1FkfLpRAk0nAE1DBI+EtE6Yma+ttwVYACt0Jg165dTt1l8tI++uijrcSq7mltBaZJSW0ZV4V4qu49wnoEAplbt5JBfRGSxwQEKiag2UIPPfSQbyiy9cvo0qsYJxcWmICWHMgeKLSLRKXdZTEQyNuldqUtB+KpLfS4NjcC+tHpCZ4DAkUkoCdcrZSsrgJ5UjWbqNrr1xSRE3muPwJat2/kyJHeC6uVvGspmkRXvz11rbf1QDy1lSDX50JAAwnl5tWCZhwQKDIBiaZJkyb5+qz1orQYIOtFFfmOkveWBLRWk7xL+s/WuCbtEZmCx/W5557zDy8xdglAPLW863xPloB2vNaPUVtlcECgHgisX7/ejR8/3j+VqytBa0dVeyuKeuBGGdIkoLF+2txdY/30Xu6WJ9UslYZ96GGlrd11WR4RTxkJ3gtBQLMjJKBef/31QuSXTELAQkDdelrfRmvdqOHR07q6ONQYcUAgZQJbtmzxC8VqALb+m1VvX3311eSyPHHiRD/mKlbGEE+xSGInNwL6EWjwbVtmSuSWWRKCQJkE1L2xevVqN2HCBD8jSGOk9BSvJ+YUG6Uyi0f0OiCg2aMaOyTBpNfkyZOT8jK1RPzEE094YafuxFgH4ikWSezkSkADEPWj5YBAvRPQeKh58+a50aNHl7r31HBpTSkeIOr97qdRPtWzTZs2+dW4Mw+Txu1pn8fUDwk9eXNje3ERT6nfefJ3WAJ6OtcTubxQHBBoFAKq99r/Sw2Xxm+oUZAXVgvJau2aPFdobhTmjVpOTWzQQq/Zoq8akycPkwZdF+XQUiHqStRM19gH4ik2UezlRkBTXvXD0GwlDgg0IgGJJXXxyROlZRAkpiSqNAh9yZIlDD5vxEpRYZklNDQrTl3E+l/VS2Pw1F0cs7urwuyVfZkeNLIHi7IvNlyAeDJAIkq6BPSDz6Z7p5tLcgaBfAioe0XdeXPmzHH33XdfqRFUN7e8BmoIWV8qn3uRcip68NSWKJrdqTX01BUn4a06o70Z66GOSATqoaJaXduIp5RrOHkzEZCA0o+/0t2xTYkQCQIFJaClDzRgVh5aNY5ZQ6mncg1K1xYZGg/CCv4FvcGBbEs8bN++3d9neZLU/SahpBmduv/yUNaDWGqOQcJJ9buadRrx1Jw4nwtLAAFV2FtHxmtAQBsWa+yUPFRqaLLxU+qqkZdKjaoGqT/11FN0/dXg/lSSpESS9o1bvny5F8raP675fZWH6eGHH/aeSXVp1euhnSgkDKu9kjniqV5rUAOWSwJKPxr9adTzn0MD3lqKnBOB3bt3+1X8JarkpdDTu7wU2VgqY4zIsQAADbxJREFU/ba0V5+8VRJfis9vLaeb82YyL7/8sp/5Jo+RvInNu93kVdQA7ylTpniPUqN5FDWBSJ61PCZOIJ7yrfekVmUC+iNX14T+9FkTp8qwMd8wBNQYaZaVGmx1j8tbpQHq8lRJWOldjZYacs0ElIdDXYVqvNVtiMCyVRV5jySONm7c6B577DEvjiRis6VZmrOWkNWYHt2TRhNJh6OZedryWkAZ8XS4u8C5whPQk5f+0NkzrPC3kgIUgIC2TFKDrwHp2tNMs/3kAcm6jTLvlX6TerDRA466V+Q50QBlbR6rdYR27Njht1/Kw3OQB1aJITXme/bs8YtIam/OhQsX+nLLS6IGXzyycWgZJ3nQJUQ1yF98NKNy586dVR3DkwePaqQhYS5eWrpGvPM6EE95kSad3AnoT0p/Rvrj4YAABGpLQJ5gCQB190lkaQ0heU7kWZHQkoiQ2JLAUkOYCQl913mFa6FQiQoJL3m49JCkbkQJNnm7tH3TokWLvH0JMv32tSemXtpHUC/NMmv+ys5LvGmmosK0VY6EjsYPyQOk/xKJGOVZ248oTeVdAkj5lxiUd0jet5ZCSOXQOZVBcR588EEvitQ1Kq+RxpVJNGrYAUd5BDR2Tx5Q8c/bu4l4Ku9eEbtgBPTHqD9f/cnm+VRSMExkFwJJEpDXRt5j7Z8mAbRy5Uq/FpGEjKbZSzSpG1EeGg1yl5BRl6I8OhJaalgluvSSd0Kv7Hv2np3P3nVe10nQqVGWLdmUYFMaEkz6P5HXTHnQ+C+JQS1SKvGlmW3yxFV7wHKSNyzHTO3bt88LUt2TWhyIp1pQJ81cCWiBNz3x6U9R4wk4IAABCECguAQ0/k4PxRKvtToQT7UiT7q5E9BTqroD1G3AAQEIQAACxSMgr6O6QtWlWssD8VRL+qSdOwGNZ9ATi1y9uNVzx0+CEIAABCoioP9rjXfT2DEtkVHrA/FU6ztA+rkT0MBVjWHQIE6No+CAAAQgAIF0CWjcm/6v9b9dzVXDyyGAeCqHFnHrioBm08j9q2nVeKHq6tZSGAhAoE4IaEC+/qf1ntKBeErpbpCX3AloqmvmhdL0ZA4IQAACEKg9AU3u0UQfddNt27at9hlqkQPEUwsgfG1MAppmLLewpiZrQTsOCEAAAhCoDYHFixd7b5OWoUh1iRnEU23qBqkmSECLrGnxO7mI9Z5K33qCqMgSBCAAgegEtFCoHmDlbdKWMykfiKeU7w55qwkBLXCnH7Bm5Wl/Lg4IQAACEKgeAXmXtHq7Hly1cnveq4VXUjLEUyXUuKYhCGg9KD0BaXFN7dvFAQEIQAACcQloF4jsf3bXrl1xjVfRGuKpinAxXXwCeiLSvlbyQmm7B+1BxQEBCEAAAm0joJ0fNFlH/63a3qZoB+KpaHeM/NaEgNzI2nhUK5RroTatO8IBAQhAAALlEdBYUm2urC467UlY1GViEE/l3XdiNzgB/dA1A0Q/fG0Uiohq8ApB8SEAARMBefHnz5/vPU0aU/r888+brks1EuIp1TtDvpImoFXKp06d6kWUdl2nOy/p20XmIACBGhJYtmyZF00jRoxwmzdvrmFO4iWNeIrHEksNSOCNN95w2nA4GxP1zDPPNCAFigwBCEDgUAKrV692w4YN8wPC621DdsTTofebMxAom4DGRGm3by20qaerlStXlm2DCyAAAQjUAwENANcMOr2WL19eD0U6pAyIp0OQcAIClRNQv75Wx9XTloTU7NmznbaA4YAABCBQzwT0AKn95/S/d++99zrtHVrPB+Kpnu8uZaspAXXhaWZeNrh8586dNc0PiUMAAhCITUBDF7TApYYuyOuudZsa4UA8NcJdpow1JbBv3z6/3Yv+XLTRpVzaRVhBt6bQSBwCEEiagGbLTZgwwT8c6iGxXgaCW6EjnqykiAeBNhKQYJJw0tOZvFH640lxt/A2FpPLIQCBOiag7jg9BOo/TDOOX3755ToubetFQzy1zoYQCFSNwJ49e/x6UfJGaXyU1j8p6mJxVYOEYQhAIAkCWg1ciwRn/1ca19no3nPEUxJVk0w0MoE1a9b4jYj1JKc1ozRTr9H/mBq5PlB2CKRAQJNf5GXSgpbaWUFbqWzatCmFrCWRB8RTEreBTEDAuddff917oLQRsYTU2LFjXb2tjcJ9hgAE0iagsUzaNkX/QZo1pxl0GhTO8XYCiKe38+AbBJIgsHfvXr//k9ZJkat80qRJ7tlnn00ib2QCAhCoLwL79+/369RJLMnLpP+bXbt21VchI5cG8RQZKOYgEJuAngS1n57WT5GQ0kBzeaTkVueAAAQgUAkBeboXLlxYGvytIQPqpuN/xUYT8WTjRCwIJEFAQmrGjBl+kLnc6hqHsGLFCsZIJXF3yAQE0iagSSlLlixxo0eP9h4mjWdaunSpO3DgQNoZTzB3iKcEbwpZgoCFwEsvveRnwGiMlFzt+kPUFjHq8uOAAAQgIAJaSkD/C6NGjfL/E3qXgGIcU9vqB+Kpbfy4GgJJEJALXn+I2YrmGiulcQvq3mPmXhK3iExAIDcCO3bs8BuWawxTNotXa8yxHEq8W4B4iscSSxBIhoC2hnnooYf8bBn9eWZeqd27dyeTRzICAQjEISBRpPFKGg/J2Mg4TENWEE8hQoRDoOAEXn31Vb9ZscZHacC5Xvq8aNEiuvgKfm/JfuMS2Lp1q/cuZUub6H3WrFnsWpBTlUA85QSaZCCQCgENOteK5lkXn55Ux40b55YtW4aYSuUmkQ8ItCCgXQm0snfz3608TfI40R3XAlYOXxFPOUAmCQikTED762nrBXXtqYtPL83C0VPshg0bmImT8s0jb3VLQF3sWkqgucdYywlo8LeEFEdtCSCeasuf1CGQHIEXXnjBDz7XU6323ZOY0ru+a1C6wjkgAIF4BLS2krrhtJq3BFLWvZ6JJXmLOdIigHhK636QGwgkR0BrwKxfv97Nnj27tAeflkbQlGetOaUZfXQbJHfbyFDCBHbu3OnHHDZ/QNEM2QcffNB7m5jYkfDNezNriKf07xE5hEByBLTGlMZITZw4sTSjT3/+Gjulp2dtIIqgSu62kaEaEJCnVr8VLR0yYsQIv9aSPEvyKumBRA8m/FZqcGPamCTiqY0AuRwCEHB+LSktjzB37lz/9Jx196mRkIdq2rRpTuvMbN++ne0fqDB1S2Dfvn3uiSeecFOnTi1te5ItFaKlQ9asWeM3AK9bAA1UMMRTA91sigqBvAlorMby5cv9mlMahK6ZfWpM5KXSrKGZM2f62ULyZHFAoCgEtPyHJlPIyyrvqzxKelBQ3dZniaeVK1f61b2LUibyWR4BxFN5vIgNAQi0kYDGUG3evNmP+VDDM3LkyFLDo7Vq1PWnGUVPPfWUH5zORqVtBM7lFRPQrDZ5izQbVfUyW1NJY/7kXdUYJT0AyNvERIqKMRfyQsRTIW8bmYZA/RHQFjPr1q3zDdXYsWPf9jSvp3qJLDVgWkJB3izNTmJ/rvqrB3mXSOJcA7gzD6k8olm3c+ZJ0sDuefPm+ckR2iuOAwKIJ+oABCCQNAHtzafuv9WrV/sGTN4qrUmlrj81bnppDy8NwNXYKq2NIxFGV2DStzW3zGkwtsSRPEgLFizwXWpaO6l5V5u6kzU2b/Lkyd4jqgkPCPPcblEhE0I8FfK2kWkIQCAjoEG6Gzdu9KsvT58+3S8qmHWvSFipYdR3eRQkvDTDSetVaYkFNaryeHEUl4BEsu6/JiTIKykvkYRQc+9R5rmUR1N1RAJb919LArBxdnHvfS1zjniqJX3ShgAEqkpA46skkJ5++mkvrtS4asq4vFSZ50HjVzKRJQ+WBraPHz/er2GlAcHa/kJjtOiuqeqtKhnXPZMgEnN5iyR0NYtTg7DVbav7IzGcTT6QMJJQ0nmJY8VdsWKFv/6VV14p2eUDBGISQDzFpIktCECgkATUYGvAr9bc0dgXDRCeMmWK92JJZKlxzmZTSWjps7oN1Yir0VY3kESZpqPrWm26rAZc3g2NzZLtRvJwyZuj8u7du9d3uUoIqSt16dKlfl9FLa4qD5FErMayieXh+CpMHkPFlcdI447kYRJXMcVrVMifW11kGvFUF7eRQkAAAnkRkDdD3T0SBJoRKLGlbiB1B6qBV0MvMaVxWRJXEgaZl0TCKxNfOidPl+JIoCm+hIJe6l6S90uCTONwNJZLs7qUhsSZxu5IoElIaAFGecfkXZOo0Euf5bXRODGF6aWp8xJ0yq9EjK7V67HHHvNeOW06K5vytmUveXEkdJS+vDry/EjwKK8SNsp/Vj6Jn8yL17KciqMySmjKhuypHEpT+RRLzWxjsci8ajHptJUA4qmtBLkeAhCAQBkENBBZQkEbMsvTJQEmcSNhIzEjASNxJC+LxFImXuQJywSMxJUEWiZkJEz0khDLxJjETXZeY4AkePSSgMleEmqyoZc+y6am3+tdIkdCUOJNeZgzZ45fQkKCR3mV6FH+5VnTgH51a7722mssglpGXSBqcQkgnop778g5BCAAAQhAAAI1IIB4qgF0koQABCAAAQhAoLgEEE/FvXfkHAIQgAAEIACBGhBAPNUAOklCAAIQgAAEIFBcAoin4t47cg4BCEAAAhCAQA0IIJ5qAJ0kIQABCEAAAhAoLgHEU3HvHTmHAAQgAAEIQKAGBBBPNYBOkhCAAAQgAAEIFJfA/wcNJlRyZ9YBawAAAABJRU5ErkJggg==)"
      ]
    },
    {
      "cell_type": "code",
      "metadata": {
        "id": "a8tLfX7vyZY2"
      },
      "source": [
        "import torch\n",
        "import torch.nn as nn\n",
        "\n",
        "class RNN(nn.Module):\n",
        "    def __init__(self, input_size, hidden_size, output_size):\n",
        "        super(RNN, self).__init__()\n",
        "        self.hidden_size = hidden_size\n",
        "\n",
        "        self.i2h = nn.Linear(n_categories + input_size + hidden_size, hidden_size)\n",
        "        self.i2o = nn.Linear(n_categories + input_size + hidden_size, output_size)\n",
        "        self.o2o = nn.Linear(hidden_size + output_size, output_size)\n",
        "        self.dropout = nn.Dropout(0.1)\n",
        "        self.softmax = nn.LogSoftmax(dim=1)\n",
        "\n",
        "    def forward(self, category, input, hidden):\n",
        "        input_combined = torch.cat((category, input, hidden), 1)\n",
        "        hidden = self.i2h(input_combined)\n",
        "        output = self.i2o(input_combined)\n",
        "        output_combined = torch.cat((hidden, output), 1)\n",
        "        output = self.o2o(output_combined)\n",
        "        output = self.dropout(output)\n",
        "        output = self.softmax(output)\n",
        "        return output, hidden\n",
        "\n",
        "    def initHidden(self):\n",
        "        return torch.zeros(1, self.hidden_size)"
      ],
      "execution_count": 4,
      "outputs": []
    },
    {
      "cell_type": "markdown",
      "metadata": {
        "id": "GyPa0N1myZY6"
      },
      "source": [
        "訓練\n",
        "=====\n",
        "訓練の用意\n",
        "-----\n",
        "最初に、`(category, line)`という形式のペアをランダムに取得する、補助関数を作成します。\n"
      ]
    },
    {
      "cell_type": "code",
      "metadata": {
        "id": "Um5XhUvTyZY7"
      },
      "source": [
        "import random\n",
        "\n",
        "# Random item from a list\n",
        "def randomChoice(l):\n",
        "    return l[random.randint(0, len(l) - 1)]\n",
        "\n",
        "# Get a random category and random line from that category\n",
        "def randomTrainingPair():\n",
        "    category = randomChoice(all_categories)\n",
        "    line = randomChoice(category_lines[category])\n",
        "    return category, line"
      ],
      "execution_count": 5,
      "outputs": []
    },
    {
      "cell_type": "markdown",
      "metadata": {
        "id": "2fSNVpC2yZY-"
      },
      "source": [
        "各学習ステップのネットワークへの入力は\n",
        "\n",
        " `(category, current letter, hidden state)`という形式になり、\n",
        " \n",
        " 出力は`(next letter, next hidden state)`という形式になります。\n",
        "\n",
        "したがって、各学習セットごとに、カテゴリ、入力文字セット、出力/正解文字セットが必要となります。\n",
        "\n"
      ]
    },
    {
      "cell_type": "markdown",
      "metadata": {
        "id": "GIhU9PMCevv6"
      },
      "source": [
        "各学習ステップでは現在の文字から次の文字を予測しています。\r\n",
        "\r\n",
        "そのため、文字のペアはその行における連続している二文字をグループ化したものです。 \r\n",
        "\r\n",
        "例えば、`\"ABCD<EOS>\"`という行の場合、(\"A\", \"B\"), (\"B\", \"C\"), (\"C\", \"D\"), (\"D\", \"EOS\")を作成します。\r\n",
        "\r\n",
        "（日本語訳注：EOSは文の終わりを意味しており、End Of Sequenceの略称です。）\r\n",
        "\r\n",
        "<br>\r\n",
        "\r\n",
        "![image.png](data:image/png;base64,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)"
      ]
    },
    {
      "cell_type": "markdown",
      "metadata": {
        "id": "CORaZyaO0uqN"
      },
      "source": [
        "カテゴリのテンソルは、サイズ`<1 x n_categories>`の[ワンホットテンソル](https://en.wikipedia.org/wiki/One-hot)です。\n",
        "\n",
        "ネットワークを学習させる際には、学習ステップごとに、このようなテンソルをネットワークに投入することになります。\n",
        "\n"
      ]
    },
    {
      "cell_type": "markdown",
      "metadata": {
        "id": "x_B0lWASe5Xu"
      },
      "source": [
        "\r\n",
        "カテゴリのテンソルをワンホットテンソルに変換してネットワークに毎ステップ投入する手法は、ネットワーク設計の選択肢の一つです。\r\n",
        "\r\n",
        "したがって、例えば初期の隠れた状態やネットワーク上の他のパートに、初めからカテゴリの情報を含めておくこともできます。\r\n",
        "\r\n",
        "<br>\r\n",
        "\r\n",
        "（日本語訳注：こうすれば、毎ステップ同じものを入力するというムダを省く作戦をとることができます。ですが本チュートリアルは分かりやすさを重視して、毎ステップ、同じカテゴリテンソルを入力する作戦を使用しています）。\r\n",
        "\r\n",
        "\r\n"
      ]
    },
    {
      "cell_type": "code",
      "metadata": {
        "id": "RlGyD26wyZY_"
      },
      "source": [
        "# One-hot vector for category\n",
        "def categoryTensor(category):\n",
        "    li = all_categories.index(category)\n",
        "    tensor = torch.zeros(1, n_categories)\n",
        "    tensor[0][li] = 1\n",
        "    return tensor\n",
        "\n",
        "# One-hot matrix of first to last letters (not including EOS) for input\n",
        "def inputTensor(line):\n",
        "    tensor = torch.zeros(len(line), 1, n_letters)\n",
        "    for li in range(len(line)):\n",
        "        letter = line[li]\n",
        "        tensor[li][0][all_letters.find(letter)] = 1\n",
        "    return tensor\n",
        "\n",
        "# LongTensor of second letter to end (EOS) for target\n",
        "def targetTensor(line):\n",
        "    letter_indexes = [all_letters.find(line[li]) for li in range(1, len(line))]\n",
        "    letter_indexes.append(n_letters - 1) # EOS\n",
        "    return torch.LongTensor(letter_indexes)"
      ],
      "execution_count": 6,
      "outputs": []
    },
    {
      "cell_type": "markdown",
      "metadata": {
        "id": "w7quJ3Z9yZZD"
      },
      "source": [
        "ここで、訓練中に使える便利な補助関数として、`randomTrainingExample`を作成します。\n",
        "\n",
        "これは、`(category、line)`という形式のランダムなペアを取得し、それを`(category、input、target)`という形式のテンソルに変換する関数です。"
      ]
    },
    {
      "cell_type": "code",
      "metadata": {
        "id": "cir_f2uOyZZE"
      },
      "source": [
        "# Make category, input, and target tensors from a random category, line pair\n",
        "def randomTrainingExample():\n",
        "    category, line = randomTrainingPair()\n",
        "    category_tensor = categoryTensor(category)\n",
        "    input_line_tensor = inputTensor(line)\n",
        "    target_line_tensor = targetTensor(line)\n",
        "    return category_tensor, input_line_tensor, target_line_tensor"
      ],
      "execution_count": 7,
      "outputs": []
    },
    {
      "cell_type": "markdown",
      "metadata": {
        "id": "iYiw-gv4yZZI"
      },
      "source": [
        "ネットワークの訓練\n",
        "-----\n",
        "ネットワークの最後の出力だけを使う分類タスクとは異なり、各文字を入力するステップごとに予測を実施しているので、ステップごとに損失を計算します。\n",
        "\n",
        "autogradの機能を使えば、これらのステップごとの損失を単純に合計し、最後にまとめて誤差逆伝播（バックプロパゲーション）を実行することができます。"
      ]
    },
    {
      "cell_type": "code",
      "metadata": {
        "id": "K_4Q-_soyZZJ"
      },
      "source": [
        "criterion = nn.NLLLoss()\n",
        "\n",
        "learning_rate = 0.0005\n",
        "\n",
        "def train(category_tensor, input_line_tensor, target_line_tensor):\n",
        "    target_line_tensor.unsqueeze_(-1)\n",
        "    hidden = rnn.initHidden()\n",
        "\n",
        "    rnn.zero_grad()\n",
        "\n",
        "    loss = 0\n",
        "\n",
        "    for i in range(input_line_tensor.size(0)):\n",
        "        output, hidden = rnn(category_tensor, input_line_tensor[i], hidden)\n",
        "        l = criterion(output, target_line_tensor[i])\n",
        "        loss += l\n",
        "\n",
        "    loss.backward()\n",
        "\n",
        "    for p in rnn.parameters():\n",
        "        p.data.add_(p.grad.data, alpha=-learning_rate)\n",
        "\n",
        "    return output, loss.item() / input_line_tensor.size(0)"
      ],
      "execution_count": 8,
      "outputs": []
    },
    {
      "cell_type": "markdown",
      "metadata": {
        "id": "vGEHD8RVyZZM"
      },
      "source": [
        "訓練にかかる時間を追跡するために、`timeSince(timestamp)`関数を追加し、大まかな訓練時間を出力します。"
      ]
    },
    {
      "cell_type": "code",
      "metadata": {
        "id": "nFivSGtZyZZN"
      },
      "source": [
        "import time\n",
        "import math\n",
        "\n",
        "def timeSince(since):\n",
        "    now = time.time()\n",
        "    s = now - since\n",
        "    m = math.floor(s / 60)\n",
        "    s -= m * 60\n",
        "    return '%dm %ds' % (m, s)"
      ],
      "execution_count": 10,
      "outputs": []
    },
    {
      "cell_type": "markdown",
      "metadata": {
        "id": "xWtEyrswyZZQ"
      },
      "source": [
        "訓練はこれまでと同じ流れです。 \n",
        "\n",
        "関数`train`を何度も呼び出して数分待ち、現在の訓練時間と損失を`print_every`のタイミングごとにprint文で出力します。\n",
        "\n",
        "また、後で結果をプロットするために、`plot_every`ごとの平均損失を`all_losses`変数に保存します。"
      ]
    },
    {
      "cell_type": "code",
      "metadata": {
        "id": "EuOdt8WHyZZR",
        "colab": {
          "base_uri": "https://localhost:8080/"
        },
        "outputId": "0ae71ca4-9201-46f5-d905-d46e60286d55"
      },
      "source": [
        "rnn = RNN(n_letters, 128, n_letters)\n",
        "\n",
        "n_iters = 100000\n",
        "print_every = 5000\n",
        "plot_every = 500\n",
        "all_losses = []\n",
        "total_loss = 0 # Reset every plot_every iters\n",
        "\n",
        "start = time.time()\n",
        "\n",
        "for iter in range(1, n_iters + 1):\n",
        "    output, loss = train(*randomTrainingExample())\n",
        "    total_loss += loss\n",
        "\n",
        "    if iter % print_every == 0:\n",
        "        print('%s (%d %d%%) %.4f' % (timeSince(start), iter, iter / n_iters * 100, loss))\n",
        "\n",
        "    if iter % plot_every == 0:\n",
        "        all_losses.append(total_loss / plot_every)\n",
        "        total_loss = 0"
      ],
      "execution_count": 11,
      "outputs": [
        {
          "output_type": "stream",
          "text": [
            "0m 19s (5000 5%) 3.3347\n",
            "0m 39s (10000 10%) 2.9646\n",
            "0m 58s (15000 15%) 2.3657\n",
            "1m 18s (20000 20%) 2.3177\n",
            "1m 39s (25000 25%) 2.2173\n",
            "1m 58s (30000 30%) 1.6923\n",
            "2m 18s (35000 35%) 2.9754\n",
            "2m 37s (40000 40%) 3.2261\n",
            "2m 56s (45000 45%) 2.4086\n",
            "3m 15s (50000 50%) 3.0966\n",
            "3m 34s (55000 55%) 2.9898\n",
            "3m 53s (60000 60%) 1.9365\n",
            "4m 12s (65000 65%) 1.4048\n",
            "4m 31s (70000 70%) 3.1194\n",
            "4m 50s (75000 75%) 2.8236\n",
            "5m 9s (80000 80%) 2.2389\n",
            "5m 28s (85000 85%) 2.2428\n",
            "5m 47s (90000 90%) 2.1723\n",
            "6m 6s (95000 95%) 3.1677\n",
            "6m 25s (100000 100%) 2.3632\n"
          ],
          "name": "stdout"
        }
      ]
    },
    {
      "cell_type": "markdown",
      "metadata": {
        "id": "T6A9H_jDyZZV"
      },
      "source": [
        "損失のプロット\n",
        "-----\n",
        "`all_losses`変数にある、損失の履歴をプロットすると、ネットワークが学習していく様子が分かります。"
      ]
    },
    {
      "cell_type": "code",
      "metadata": {
        "id": "nI2m2U2DyZZV",
        "colab": {
          "base_uri": "https://localhost:8080/",
          "height": 282
        },
        "outputId": "7606b3e6-9fe1-43c1-ded5-74155934a4e8"
      },
      "source": [
        "import matplotlib.pyplot as plt\n",
        "import matplotlib.ticker as ticker\n",
        "\n",
        "plt.figure()\n",
        "plt.plot(all_losses)"
      ],
      "execution_count": 12,
      "outputs": [
        {
          "output_type": "execute_result",
          "data": {
            "text/plain": [
              "[<matplotlib.lines.Line2D at 0x7fcf965b49e8>]"
            ]
          },
          "metadata": {
            "tags": []
          },
          "execution_count": 12
        },
        {
          "output_type": "display_data",
          "data": {
            "image/png": "[encoded data removed]",
            "text/plain": [
              "<Figure size 432x288 with 1 Axes>"
            ]
          },
          "metadata": {
            "tags": [],
            "needs_background": "light"
          }
        }
      ]
    },
    {
      "cell_type": "markdown",
      "metadata": {
        "id": "jk8aEAwBinEZ"
      },
      "source": [
        "（日本語訳追記）\r\n",
        "\r\n",
        "[1] 上記の結果は実行の度に変わります。\r\n",
        "\r\n",
        "[2] 今回は検証のデータセットを用意していないので、過学習する恐れがあります。\r\n"
      ]
    },
    {
      "cell_type": "markdown",
      "metadata": {
        "id": "32NSNwaxyZZZ"
      },
      "source": [
        "ネットワークから苗字をサンプリング\n",
        "=====\n",
        "（日本語訳注：ここでいう「サンプリング」とは、ネットワークに苗字を生成させることを指しています。）\n"
      ]
    },
    {
      "cell_type": "markdown",
      "metadata": {
        "id": "EMwl4rX4i3_z"
      },
      "source": [
        "\r\n",
        "苗字をサンプリング（収集、生成）するために、ネットワークに文字を入力し、次の文字が何かを推論させ、それを次の文字として入力し、EOSトークンが出現するまで繰り返します。\r\n",
        "\r\n",
        "- 入力カテゴリ、一番目の文字、空の隠れ状態を格納するためのテンソルを作成する\r\n",
        "- 一番目の文字を使って、文字列`output_name`を作成する\r\n",
        "- 出力される文字列の長さが最大値になるまで、以下を行う\r\n",
        "\t- 現在の文字をネットワークに投入する\r\n",
        "\t- 最も確率が高い文字を予測結果をもとに、次の文字と、次の隠れ状態を取得する\r\n",
        "\t- 文字がEOSの場合はここでストップする\r\n",
        "\t- EOS以外の文字の場合は、文字を`output_name`に追加して処理を継続する\r\n",
        "- 最終的な出力結果として、苗字を返す"
      ]
    },
    {
      "cell_type": "markdown",
      "metadata": {
        "id": "DsHMmfs904Ub"
      },
      "source": [
        "---\n",
        "【注釈】\n",
        "\n",
        "苗字の一文字目を明示的に与えるという方法以外に、「文頭」を意味する特殊なトークンを入力し、ネットワークに一文字目から推論させる方法も考えられます。\n",
        "\n",
        "---"
      ]
    },
    {
      "cell_type": "code",
      "metadata": {
        "id": "iYzAem3TyZZZ",
        "colab": {
          "base_uri": "https://localhost:8080/"
        },
        "outputId": "3dcf8e24-f075-4a5f-f21d-041f2d99e590"
      },
      "source": [
        "max_length = 20\n",
        "\n",
        "# Sample from a category and starting letter\n",
        "def sample(category, start_letter='A'):\n",
        "    with torch.no_grad():  # no need to track history in sampling\n",
        "        category_tensor = categoryTensor(category)\n",
        "        input = inputTensor(start_letter)\n",
        "        hidden = rnn.initHidden()\n",
        "\n",
        "        output_name = start_letter\n",
        "\n",
        "        for i in range(max_length):\n",
        "            output, hidden = rnn(category_tensor, input[0], hidden)\n",
        "            topv, topi = output.topk(1)\n",
        "            topi = topi[0][0]\n",
        "            if topi == n_letters - 1:\n",
        "                break\n",
        "            else:\n",
        "                letter = all_letters[topi]\n",
        "                output_name += letter\n",
        "            input = inputTensor(letter)\n",
        "\n",
        "        return output_name\n",
        "\n",
        "# Get multiple samples from one category and multiple starting letters\n",
        "def samples(category, start_letters='ABC'):\n",
        "    for start_letter in start_letters:\n",
        "        print(sample(category, start_letter))\n",
        "\n",
        "samples('Russian', 'RUS')\n",
        "\n",
        "samples('German', 'GER')\n",
        "\n",
        "samples('Spanish', 'SPA')\n",
        "\n",
        "samples('Chinese', 'CHI')"
      ],
      "execution_count": 13,
      "outputs": [
        {
          "output_type": "stream",
          "text": [
            "Rovako\n",
            "Uovakovov\n",
            "Sharikov\n",
            "Gerter\n",
            "Erin\n",
            "Rong\n",
            "Santa\n",
            "Pare\n",
            "Artan\n",
            "Chou\n",
            "Han\n",
            "Iun\n"
          ],
          "name": "stdout"
        }
      ]
    },
    {
      "cell_type": "code",
      "metadata": {
        "id": "1uTfmxCB1lwr",
        "colab": {
          "base_uri": "https://localhost:8080/"
        },
        "outputId": "01da62c4-ef66-44e4-b57f-78ff4a1b1ce9"
      },
      "source": [
        "# （日本語訳注：） せっかくなので、日本語の場合もやってみましょう\n",
        "samples('Japanese', 'YTSOMTS')\n",
        "\n",
        "# 日本語の結果は微妙ですね・・・（他の英語系言語と同じネットワークなので、完璧な生成は無理があると思います・・・）\n"
      ],
      "execution_count": 16,
      "outputs": [
        {
          "output_type": "stream",
          "text": [
            "Yani\n",
            "Taki\n",
            "Saki\n",
            "Oaka\n",
            "Maki\n",
            "Tamaka\n",
            "Saki\n"
          ],
          "name": "stdout"
        }
      ]
    },
    {
      "cell_type": "markdown",
      "metadata": {
        "id": "hQCNs4rnyZZc"
      },
      "source": [
        "演習\n",
        "=====\n",
        "- 本チュートリアルとは異なる、カテゴリ -> 行 を予測するデータセットで試してみてください。例えば以下のようなものが考えられます。\n",
        "\t- フィクションの物語 -> キャラクター名\n",
        "\t- スピーチの一部 -> 単語\n",
        "\t- 国 → 都市\n",
        "- 一番目の文字を明示的に与えなくてもサンプリングができるように、「文頭」トークンを使用するパターンを実装してみてください。\n",
        "- ネットワークのサイズをさらに大きくするか、ネットワークの構造を改善することで、より良い結果を得られるよう工夫してみてください。例えば以下のような方法が考えられます。\n",
        "\t- `nn.LSTM` と `nn.GRU` レイヤーを試す\n",
        "\t- これらのRNNを組み合わせ、さらに高次元なネットワークを構築する\n",
        "\n",
        "\n"
      ]
    }
  ]
}