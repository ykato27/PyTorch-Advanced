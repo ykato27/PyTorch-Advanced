{
  "nbformat": 4,
  "nbformat_minor": 0,
  "metadata": {
    "kernelspec": {
      "display_name": "Python 3",
      "language": "python",
      "name": "python3"
    },
    "language_info": {
      "codemirror_mode": {
        "name": "ipython",
        "version": 3
      },
      "file_extension": ".py",
      "mimetype": "text/x-python",
      "name": "python",
      "nbconvert_exporter": "python",
      "pygments_lexer": "ipython3",
      "version": "3.6.8"
    },
    "colab": {
      "name": "3_5_text_sentiment_ngrams_tutorial_jp.ipynb",
      "provenance": [],
      "collapsed_sections": [],
      "toc_visible": true
    },
    "accelerator": "GPU"
  },
  "cells": [
    {
      "cell_type": "markdown",
      "metadata": {
        "id": "au8pgkrOR2HT"
      },
      "source": [
        "「TorchTextを使用したテキスト分類」\n",
        "======\n",
        "【原題】Text Classification with TorchText\n",
        "\n",
        "【元URL】https://pytorch.org/tutorials/beginner/text_sentiment_ngrams_tutorial.html\n",
        "\n",
        "【翻訳】電通国際情報サービスISID AIトランスフォーメーションセンター　御手洗 拓真\n",
        "\n",
        "【日付】2020年11月02日\n",
        "\n",
        "【チュトーリアル概要】\n",
        "\n",
        "TorchTextを使用し、テキスト分類モデルを構築します。"
      ]
    },
    {
      "cell_type": "markdown",
      "metadata": {
        "id": "EeCyAX-7xFNY"
      },
      "source": [
        "（日本語訳注：2020-11-02時点において、Google Colaboratoryのデフォルトtorchtextはv0.3であり、text_classificationがimportができないため、日本語版チュートリアルでは最初にtorchtextの最新バージョンv0.8を指定してインストールするセルを追加しています。<br>インストールを実行した後は、それを有効にするために、**1度、ランダイムを再起動**してください。上部メニューの「ランタイム」→「ランタイムを再起動」）"
      ]
    },
    {
      "cell_type": "code",
      "metadata": {
        "id": "_4T90G1VxMLu",
        "colab": {
          "base_uri": "https://localhost:8080/"
        },
        "outputId": "417c2b22-326e-412f-9b73-b59f7f927b34"
      },
      "source": [
        "!pip install torchtext==0.8.0"
      ],
      "execution_count": 1,
      "outputs": [
        {
          "output_type": "stream",
          "text": [
            "Requirement already satisfied: torchtext==0.8.0 in /usr/local/lib/python3.6/dist-packages (0.8.0)\n",
            "Requirement already satisfied: numpy in /usr/local/lib/python3.6/dist-packages (from torchtext==0.8.0) (1.18.5)\n",
            "Requirement already satisfied: tqdm in /usr/local/lib/python3.6/dist-packages (from torchtext==0.8.0) (4.41.1)\n",
            "Requirement already satisfied: torch in /usr/local/lib/python3.6/dist-packages (from torchtext==0.8.0) (1.7.0+cu101)\n",
            "Requirement already satisfied: requests in /usr/local/lib/python3.6/dist-packages (from torchtext==0.8.0) (2.23.0)\n",
            "Requirement already satisfied: future in /usr/local/lib/python3.6/dist-packages (from torch->torchtext==0.8.0) (0.16.0)\n",
            "Requirement already satisfied: dataclasses in /usr/local/lib/python3.6/dist-packages (from torch->torchtext==0.8.0) (0.8)\n",
            "Requirement already satisfied: typing-extensions in /usr/local/lib/python3.6/dist-packages (from torch->torchtext==0.8.0) (3.7.4.3)\n",
            "Requirement already satisfied: idna<3,>=2.5 in /usr/local/lib/python3.6/dist-packages (from requests->torchtext==0.8.0) (2.10)\n",
            "Requirement already satisfied: certifi>=2017.4.17 in /usr/local/lib/python3.6/dist-packages (from requests->torchtext==0.8.0) (2020.12.5)\n",
            "Requirement already satisfied: urllib3!=1.25.0,!=1.25.1,<1.26,>=1.21.1 in /usr/local/lib/python3.6/dist-packages (from requests->torchtext==0.8.0) (1.24.3)\n",
            "Requirement already satisfied: chardet<4,>=3.0.2 in /usr/local/lib/python3.6/dist-packages (from requests->torchtext==0.8.0) (3.0.4)\n"
          ],
          "name": "stdout"
        }
      ]
    },
    {
      "cell_type": "markdown",
      "metadata": {
        "id": "-GPNQkmF2lVb"
      },
      "source": [
        "TorchTextによるテキストの分類 \n",
        "=============================\n",
        "\n",
        "本のチュートリアルでは、`torchtext `に含まれている、以下のような、テキスト分類用データセットの使い方を説明します。\n",
        "\n",
        "```\n",
        "-   AG_NEWS\n",
        "-   SogouNews\n",
        "-   DBpedia\n",
        "-   YelpReviewPolarity\n",
        "-   YelpReviewFull\n",
        "-   YahooAnswers\n",
        "-   AmazonReviewPolarity\n",
        "-   AmazonReviewFull\n",
        "```\n",
        "\n"
      ]
    },
    {
      "cell_type": "markdown",
      "metadata": {
        "id": "y4XGZr1LaS6l"
      },
      "source": [
        "本チュートリアルでは、`TextClassification`データセットの`AG_NEWS`を使用し、教師あり学習の分類アルゴリズムを訓練する方法について解説します。\r\n",
        "\r\n"
      ]
    },
    {
      "cell_type": "markdown",
      "metadata": {
        "id": "AEHx4ULOkCzs"
      },
      "source": [
        "\n",
        "ngramsを使ってデータを読み込む \n",
        "------------------------\n",
        "\n",
        "bag-of-ngramsで作成した特徴量を使うことで、文章における、局所的な単語の順番に関する情報（の一部）を得ることができます。\n",
        "\n",
        "実際は、バイグラムまたはトリグラムが利用されることが多いです。\n",
        "\n",
        "これらを利用することで、1つの単語だけを使用した特徴量よりも、多くの情報を単語のグループから得ることができます。\n",
        "\n",
        "具体的例を以下に示します。\n",
        "\n",
        "```\n",
        "\"load data with ngrams\"\n",
        "バイグラムの結果: \"load data\", \"data with\", \"with ngrams\"\n",
        "トリグラムの結果: \"load data with\", \"data with ngrams\"\n",
        "```\n",
        "\n",
        "（日本語訳注： 上記は、\"load data with ngrams\"という1文をバイグラム、もしくはトリグラムとして読み込んだ結果を表示しています。\n",
        "\n",
        "バイグラムで読み込んだ場合、2つの単語を1セットとして切り出し、トリグラムで読み込んだ場合は、3つの単語を1セットとして切り出します。\n",
        "\n",
        "その際、切り出しは被りが生まれるように1単語ずつずらすのが一般的です。）\n"
      ]
    },
    {
      "cell_type": "markdown",
      "metadata": {
        "id": "GotbpISJm0zd"
      },
      "source": [
        "\n",
        "\n",
        "`TextClassification `のDatasetクラスは、ngramsメソッドをサポートしています。\n",
        "\n",
        "例えば`ngrams`を2に設定することで、`datasets`から取得される例文は、単一単語のリストにバイグラムの文字列を加えたものになります。"
      ]
    },
    {
      "cell_type": "code",
      "metadata": {
        "id": "pdsmAqKL2lVR"
      },
      "source": [
        "%matplotlib inline"
      ],
      "execution_count": 2,
      "outputs": []
    },
    {
      "cell_type": "code",
      "metadata": {
        "id": "V_RuH_mynN7d"
      },
      "source": [
        "import torch\n",
        "import torchtext\n",
        "from torchtext.datasets import text_classification"
      ],
      "execution_count": 3,
      "outputs": []
    },
    {
      "cell_type": "code",
      "metadata": {
        "id": "PZEpCx462lVd",
        "colab": {
          "base_uri": "https://localhost:8080/"
        },
        "outputId": "a65fe474-b7ca-4da9-cebe-4f6877959db0"
      },
      "source": [
        "NGRAMS = 2\n",
        "import os\n",
        "if not os.path.isdir('./.data'):\n",
        "\tos.mkdir('./.data')\n",
        "train_dataset, test_dataset = text_classification.DATASETS['AG_NEWS'](\n",
        "    root='./.data', ngrams=NGRAMS, vocab=None)\n",
        "BATCH_SIZE = 16\n",
        "device = torch.device(\"cuda\" if torch.cuda.is_available() else \"cpu\")"
      ],
      "execution_count": 4,
      "outputs": [
        {
          "output_type": "stream",
          "text": [
            "ag_news_csv.tar.gz: 11.8MB [00:00, 182MB/s]\n",
            "120000lines [00:06, 18408.87lines/s]\n",
            "120000lines [00:15, 7897.54lines/s]\n",
            "7600lines [00:00, 8132.30lines/s]\n"
          ],
          "name": "stderr"
        }
      ]
    },
    {
      "cell_type": "markdown",
      "metadata": {
        "id": "2EZEYTHl2lVl"
      },
      "source": [
        "モデルの定義 \n",
        "------------\n",
        "\n",
        "モデルは、[EmbeddingBag](https://pytorch.org/docs/stable/nn.html?highlight=embeddingbag#torch.nn.EmbeddingBag)レイヤーと、線形レイヤーの大きく二つの部分で構成されています（下図参照）。\n",
        "\n",
        "<br>\n",
        "\n",
        "\n",
        "`nn.EmbeddingBag`は、「bag」ごとに埋め込みベクトルの平均値を計算してくれます。\n",
        "\n",
        "各テキストは異なる長さです。\n",
        "\n",
        "`nn.EmbeddingBag`では各テキストの長さをオフセットに保存しているので、わざわざパディングを実施する必要はありません。\n",
        "\n",
        "<br>\n",
        "\n",
        "さらに、`nn.EmbeddingBag`は、埋め込み全体の平均をすぐに計算できるので、テンソルのシーケンスを処理する、速度とメモリ効率を向上させることができます。\n"
      ]
    },
    {
      "cell_type": "markdown",
      "metadata": {
        "id": "YHdS6Ye2yHMu"
      },
      "source": [
        "![image.png](data:image/png;base64,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)"
      ]
    },
    {
      "cell_type": "code",
      "metadata": {
        "id": "LI9qloAM2lVo"
      },
      "source": [
        "import torch.nn as nn\n",
        "import torch.nn.functional as F\n",
        "class TextSentiment(nn.Module):\n",
        "    def __init__(self, vocab_size, embed_dim, num_class):\n",
        "        super().__init__()\n",
        "        self.embedding = nn.EmbeddingBag(vocab_size, embed_dim, sparse=True)\n",
        "        self.fc = nn.Linear(embed_dim, num_class)\n",
        "        self.init_weights()\n",
        "\n",
        "    def init_weights(self):\n",
        "        initrange = 0.5\n",
        "        self.embedding.weight.data.uniform_(-initrange, initrange)\n",
        "        self.fc.weight.data.uniform_(-initrange, initrange)\n",
        "        self.fc.bias.data.zero_()\n",
        "\n",
        "    def forward(self, text, offsets):\n",
        "        embedded = self.embedding(text, offsets)\n",
        "        return self.fc(embedded)"
      ],
      "execution_count": 5,
      "outputs": []
    },
    {
      "cell_type": "markdown",
      "metadata": {
        "id": "SEiDvaos2lVv"
      },
      "source": [
        "インスタンスの初期化\n",
        "----------------------\n",
        "\n",
        "`AG_NEWS`データセットには以下の4つのラベルがあるため、クラス数は4になります。\n",
        "\n",
        "```\n",
        "1 : 国際関連\n",
        "2 : スポーツ \n",
        "3 : ビジネス \n",
        "4 : 科学技術\n",
        "```\n",
        "\n",
        "vocabオブジェクトのサイズは、vocabオブジェクト（単語とngramsから構成）、の長さと同じです。\n",
        "\n",
        "また、クラスの数はラベルの数と同じになるため、AG\\_NEWSの場合は4つです。"
      ]
    },
    {
      "cell_type": "code",
      "metadata": {
        "id": "tcWXY_4-2lVy"
      },
      "source": [
        "VOCAB_SIZE = len(train_dataset.get_vocab())\n",
        "EMBED_DIM = 32\n",
        "NUN_CLASS = len(train_dataset.get_labels())\n",
        "model = TextSentiment(VOCAB_SIZE, EMBED_DIM, NUN_CLASS).to(device)"
      ],
      "execution_count": 6,
      "outputs": []
    },
    {
      "cell_type": "markdown",
      "metadata": {
        "id": "9_g_KWMz2lV7"
      },
      "source": [
        "バッチ生成に使用される関数 \n",
        "--------------------------\n",
        "\n",
        "エントリ（日本語訳注：一件ずつのテキストデータのこと）の長さはそれぞれ異なるので、カスタム関数`generate_batch()`を使用してデータのバッチとオフセットを生成します。\n",
        "\n",
        "この関数は、`torch.utils.data.DataLoader `の`collate_fn `に渡されます。\n"
      ]
    },
    {
      "cell_type": "markdown",
      "metadata": {
        "id": "QtJQmOT0bYAA"
      },
      "source": [
        "`collate_fn`への入力は`batch_size`のサイズを持つテンソルのリストで、`collate_fn`関数はそれらをミニバッチとしてまとめます。\r\n",
        "\r\n",
        "ここでは、`collate_fn` がトップレベルの defとして宣言されていることに注意してください。\r\n",
        "\r\n",
        "これにより、各ワーカー（Google Colaboratoryの全セル）でこの関数が利用できるようになります。\r\n"
      ]
    },
    {
      "cell_type": "markdown",
      "metadata": {
        "id": "4YaAn6YRqc3C"
      },
      "source": [
        "\n",
        "\n",
        "元のバッチデータに含まれていたテキストはリストに格納されます。\n",
        "\n",
        "そして1つのテンソルに結合されて、`NN.EmbeddingBag`に入力されます。\n",
        "\n",
        "<br>\n",
        "\n",
        "ここで、`offsets`は、テキストテンソル内における個々のシーケンスの先頭のインデックスを表しています。\n",
        "\n",
        "すなわち、`offsets`は個々のシーケンスの区切りを示すテンソルとなります。\n",
        "\n",
        "<br>\n",
        "\n",
        "\n",
        "`Label`は、個々のテキスト項目のラベルを保存したテンソルです。"
      ]
    },
    {
      "cell_type": "code",
      "metadata": {
        "id": "tFTJD67039s0"
      },
      "source": [
        "from torch.utils.data import DataLoader\n",
        "def generate_batch(batch):\n",
        "    label = torch.tensor([entry[0] for entry in batch])\n",
        "    text = [entry[1] for entry in batch]\n",
        "    offsets = [0] + [len(entry) for entry in text]\n",
        "    # torch.Tensor.cumsumはdimで指定されたの要素の累積和を返します。\n",
        "    # torch.Tensor([1.0, 2.0, 3.0]).cumsum(dim=0)\n",
        "\n",
        "    offsets = torch.tensor(offsets[:-1]).cumsum(dim=0)\n",
        "    text = torch.cat(text)\n",
        "    return text, offsets, label"
      ],
      "execution_count": 7,
      "outputs": []
    },
    {
      "cell_type": "code",
      "metadata": {
        "id": "kSIdolkSHX57",
        "colab": {
          "base_uri": "https://localhost:8080/"
        },
        "outputId": "98f179cf-8e7f-4b57-8cbf-0f64e4fda0f6"
      },
      "source": [
        "# 日本語訳注：offsetsの動作例\n",
        "offsets_example = torch.Tensor([1.0, 2.0, 3.0, 4.0])\n",
        "offsets_example[:-1].cumsum(dim=0)"
      ],
      "execution_count": 8,
      "outputs": [
        {
          "output_type": "execute_result",
          "data": {
            "text/plain": [
              "tensor([1., 3., 6.])"
            ]
          },
          "metadata": {
            "tags": []
          },
          "execution_count": 8
        }
      ]
    },
    {
      "cell_type": "markdown",
      "metadata": {
        "id": "9YN4aIA72lWL"
      },
      "source": [
        "モデル訓練と結果評価の関数を定義\n",
        "------------------------------------------------------\n",
        "\n",
        "[`torch.utils.data.DataLoader`](https://pytorch.org/docs/stable/data.html?highlight=dataloader#torch.utils.data.DataLoader)は、PyTorchユーザーにおすすめのツールです。\n",
        "\n",
        "`DataLoader`を使うことで、データの読み込みを簡単に並列化することができます。\n",
        "\n",
        "(このツールのチュートリアルは[こちら](https://pytorch.org/tutorials/beginner/data_loading_tutorial.html)）<br>\n",
        "\n",
        "<br>\n",
        "\n",
        "ここでは`DataLoader`を使用して、`AG_NEWS`データセットをロードし、訓練や検証のためにモデルデータをモデルに送ります。"
      ]
    },
    {
      "cell_type": "code",
      "metadata": {
        "id": "N-Qs4ItF2lWO"
      },
      "source": [
        "from torch.utils.data import DataLoader\n",
        "\n",
        "def train_func(sub_train_):\n",
        "\n",
        "    # モデル訓練\n",
        "    train_loss = 0\n",
        "    train_acc = 0\n",
        "    data = DataLoader(sub_train_, batch_size=BATCH_SIZE, shuffle=True,\n",
        "                      collate_fn=generate_batch)\n",
        "    for i, (text, offsets, cls) in enumerate(data):\n",
        "        optimizer.zero_grad()\n",
        "        text, offsets, cls = text.to(device), offsets.to(device), cls.to(device)\n",
        "        output = model(text, offsets)\n",
        "        loss = criterion(output, cls)\n",
        "        train_loss += loss.item()\n",
        "        loss.backward()\n",
        "        optimizer.step()\n",
        "        train_acc += (output.argmax(1) == cls).sum().item()\n",
        "\n",
        "    # 学習率の更新\n",
        "    scheduler.step()\n",
        "\n",
        "    return train_loss / len(sub_train_), train_acc / len(sub_train_)\n",
        "\n",
        "\n",
        "def test(data_):\n",
        "    loss = 0\n",
        "    acc = 0\n",
        "    data = DataLoader(data_, batch_size=BATCH_SIZE, collate_fn=generate_batch)\n",
        "    for text, offsets, cls in data:\n",
        "        text, offsets, cls = text.to(device), offsets.to(device), cls.to(device)\n",
        "        with torch.no_grad():\n",
        "            output = model(text, offsets)\n",
        "            loss = criterion(output, cls)\n",
        "            loss += loss.item()\n",
        "            acc += (output.argmax(1) == cls).sum().item()\n",
        "\n",
        "    return loss / len(data_), acc / len(data_)"
      ],
      "execution_count": 9,
      "outputs": []
    },
    {
      "cell_type": "markdown",
      "metadata": {
        "id": "17Te5Axl2lWZ"
      },
      "source": [
        "データセットを分割し、モデルを実行 \n",
        "----------------------------------\n",
        "\n",
        "元の`AG_NEWS`データには検証用データセットがありません。\n",
        "\n",
        "そこで、学習データセットを訓練データセットと検証用データセットに分割します。\n",
        "\n",
        "分割率は0.95（訓練）と0.05（検証）とします。\n",
        "\n",
        "\n",
        "ここでは、PyTorchの中心的ライブラリから、\n",
        "[torch.utils.data.dataset.random_split](https://pytorch.org/docs/stable/data.html?highlight=random_split#torch.utils.data.random_split)関数を使用します。\n",
        "\n"
      ]
    },
    {
      "cell_type": "markdown",
      "metadata": {
        "id": "1w6WAjGUu5dl"
      },
      "source": [
        "損失関数として使用している[`CrossEntropyLoss`](https://pytorch.org/docs/stable/nn.html?highlight=crossentropyloss#torch.nn.CrossEntropyLoss)は、`nn.LogSoftmax()`と`nn.NLLLoss()`を1つのクラスにまとめたものです。\n",
        "\n",
        "クラス数がC個の分類問題を学習する際に、この2つの計算をまとめて実施してくれるため便利です。\n",
        "\n",
        "<br>\n",
        "\n",
        "[`SGD`](https://pytorch.org/docs/stable/_modules/torch/optim/sgd.html)は確率的勾配降下法が実装されており、オプティマイザとして利用します。\n",
        "\n",
        "初期学習率は4.0に設定されています。\n",
        "\n",
        "ここでは[`StepLR`](https://pytorch.org/docs/master/_modules/torch/optim/lr_scheduler.html#StepLR)を用いて、エポック単位で学習率を調整しています。"
      ]
    },
    {
      "cell_type": "code",
      "metadata": {
        "id": "heS6YIM-2lWa",
        "colab": {
          "base_uri": "https://localhost:8080/"
        },
        "outputId": "9261a852-8cb3-4b35-bd13-4e5b2aef5451"
      },
      "source": [
        "import time\n",
        "from torch.utils.data.dataset import random_split\n",
        "N_EPOCHS = 5\n",
        "min_valid_loss = float('inf')\n",
        "\n",
        "criterion = torch.nn.CrossEntropyLoss().to(device)\n",
        "optimizer = torch.optim.SGD(model.parameters(), lr=4.0)\n",
        "scheduler = torch.optim.lr_scheduler.StepLR(optimizer, 1, gamma=0.9)\n",
        "\n",
        "train_len = int(len(train_dataset) * 0.95)\n",
        "sub_train_, sub_valid_ = \\\n",
        "    random_split(train_dataset, [train_len, len(train_dataset) - train_len])\n",
        "\n",
        "for epoch in range(N_EPOCHS):\n",
        "\n",
        "    start_time = time.time()\n",
        "    train_loss, train_acc = train_func(sub_train_)\n",
        "    valid_loss, valid_acc = test(sub_valid_)\n",
        "\n",
        "    secs = int(time.time() - start_time)\n",
        "    mins = secs / 60\n",
        "    secs = secs % 60\n",
        "\n",
        "    print('Epoch: %d' %(epoch + 1), \" | time in %d minutes, %d seconds\" %(mins, secs))\n",
        "    print(f'\\tLoss: {train_loss:.4f}(train)\\t|\\tAcc: {train_acc * 100:.1f}%(train)')\n",
        "    print(f'\\tLoss: {valid_loss:.4f}(valid)\\t|\\tAcc: {valid_acc * 100:.1f}%(valid)')"
      ],
      "execution_count": 10,
      "outputs": [
        {
          "output_type": "stream",
          "text": [
            "Epoch: 1  | time in 0 minutes, 9 seconds\n",
            "\tLoss: 0.0261(train)\t|\tAcc: 84.7%(train)\n",
            "\tLoss: 0.0003(valid)\t|\tAcc: 90.1%(valid)\n",
            "Epoch: 2  | time in 0 minutes, 9 seconds\n",
            "\tLoss: 0.0119(train)\t|\tAcc: 93.7%(train)\n",
            "\tLoss: 0.0003(valid)\t|\tAcc: 91.1%(valid)\n",
            "Epoch: 3  | time in 0 minutes, 9 seconds\n",
            "\tLoss: 0.0069(train)\t|\tAcc: 96.5%(train)\n",
            "\tLoss: 0.0003(valid)\t|\tAcc: 90.7%(valid)\n",
            "Epoch: 4  | time in 0 minutes, 9 seconds\n",
            "\tLoss: 0.0039(train)\t|\tAcc: 98.1%(train)\n",
            "\tLoss: 0.0004(valid)\t|\tAcc: 90.6%(valid)\n",
            "Epoch: 5  | time in 0 minutes, 9 seconds\n",
            "\tLoss: 0.0023(train)\t|\tAcc: 99.0%(train)\n",
            "\tLoss: 0.0004(valid)\t|\tAcc: 90.9%(valid)\n"
          ],
          "name": "stdout"
        }
      ]
    },
    {
      "cell_type": "markdown",
      "metadata": {
        "id": "rNhOtcuu2lWf"
      },
      "source": [
        "GPU上でモデルを実行すると、以下のような情報が出力されます（結果は、実行の度に多少変化します）。\n",
        "\n",
        "Epoch: 1 \\| time in 0 minutes, 11 seconds\n",
        "\n",
        "```\n",
        "       Loss: 0.0263(train)     |       Acc: 84.5%(train)\n",
        "       Loss: 0.0001(valid)     |       Acc: 89.0%(valid)\n",
        "```\n",
        "\n",
        "Epoch: 2 \\| time in 0 minutes, 10 seconds\n",
        "\n",
        "```\n",
        "       Loss: 0.0119(train)     |       Acc: 93.6%(train)\n",
        "       Loss: 0.0000(valid)     |       Acc: 89.6%(valid)\n",
        "```\n",
        "\n",
        "Epoch: 3 \\| time in 0 minutes, 9 seconds\n",
        "\n",
        "```\n",
        "       Loss: 0.0069(train)     |       Acc: 96.4%(train)\n",
        "       Loss: 0.0000(valid)     |       Acc: 90.5%(valid)\n",
        "```\n",
        "\n",
        "Epoch: 4 \\| time in 0 minutes, 11 seconds\n",
        "\n",
        "```\n",
        "       Loss: 0.0038(train)     |       Acc: 98.2%(train)\n",
        "       Loss: 0.0000(valid)     |       Acc: 90.4%(valid)\n",
        "```\n",
        "\n",
        "Epoch: 5 \\| time in 0 minutes, 11 seconds\n",
        "\n",
        "```\n",
        "       Loss: 0.0022(train)     |       Acc: 99.0%(train)\n",
        "       Loss: 0.0000(valid)     |       Acc: 91.0%(valid)\n",
        "```\n",
        "\n"
      ]
    },
    {
      "cell_type": "markdown",
      "metadata": {
        "id": "sx3zJ0pa2lWg"
      },
      "source": [
        "テストデータセットでモデルを評価\n",
        "------------------------------------\n",
        "\n",
        "\n"
      ]
    },
    {
      "cell_type": "code",
      "metadata": {
        "id": "nHVYZHOv2lWh",
        "colab": {
          "base_uri": "https://localhost:8080/"
        },
        "outputId": "8425e64b-1da2-4e18-8b03-9876f26db384"
      },
      "source": [
        "print('Checking the results of test dataset...')\n",
        "test_loss, test_acc = test(test_dataset)\n",
        "print(f'\\tLoss: {test_loss:.4f}(test)\\t|\\tAcc: {test_acc * 100:.1f}%(test)')"
      ],
      "execution_count": 11,
      "outputs": [
        {
          "output_type": "stream",
          "text": [
            "Checking the results of test dataset...\n",
            "\tLoss: 0.0003(test)\t|\tAcc: 90.0%(test)\n"
          ],
          "name": "stdout"
        }
      ]
    },
    {
      "cell_type": "markdown",
      "metadata": {
        "id": "7oWqgXFD2lWp"
      },
      "source": [
        "テストデータセットに対する分類結果を確認しましょう。\n",
        "\n",
        "以下のような情報が出力されます。\n",
        "\n",
        "       Loss: 0.0237(test)      |       Acc: 90.5%(test)\n",
        "\n",
        "\n"
      ]
    },
    {
      "cell_type": "markdown",
      "metadata": {
        "id": "TgeMOZlp2lWq"
      },
      "source": [
        "適当なニュースでテスト \n",
        "------------------------\n",
        "\n",
        "今までのベストモデルを使って、ゴルフニュースのデータセットに対する分類を試してみましょう。\n",
        "\n",
        "\n",
        "`AG_NEWS`データセットのラベル情報は[こちら](https://pytorch.org/text/datasets.html?highlight=ag_news#torchtext.datasets.AG_NEWS)で確認できます。"
      ]
    },
    {
      "cell_type": "code",
      "metadata": {
        "id": "vIlE_z1p2lWs",
        "colab": {
          "base_uri": "https://localhost:8080/"
        },
        "outputId": "b347049a-10bf-4505-f094-1dea766bf4d9"
      },
      "source": [
        "import re\n",
        "from torchtext.data.utils import ngrams_iterator\n",
        "from torchtext.data.utils import get_tokenizer\n",
        "\n",
        "ag_news_label = {1 : \"World\",\n",
        "                 2 : \"Sports\",\n",
        "                 3 : \"Business\",\n",
        "                 4 : \"Sci/Tec\"}\n",
        "\n",
        "\n",
        "def predict(text, model, vocab, ngrams):\n",
        "    tokenizer = get_tokenizer(\"basic_english\")\n",
        "    with torch.no_grad():\n",
        "        text = torch.tensor([vocab[token]\n",
        "                            for token in ngrams_iterator(tokenizer(text), ngrams)])\n",
        "        output = model(text, torch.tensor([0]))\n",
        "        return output.argmax(1).item() + 1\n",
        "\n",
        "\n",
        "ex_text_str = \"MEMPHIS, Tenn. – Four days ago, Jon Rahm was \\\n",
        "    enduring the season’s worst weather conditions on Sunday at The \\\n",
        "    Open on his way to a closing 75 at Royal Portrush, which \\\n",
        "    considering the wind and the rain was a respectable showing. \\\n",
        "    Thursday’s first round at the WGC-FedEx St. Jude Invitational \\\n",
        "    was another story. With temperatures in the mid-80s and hardly any \\\n",
        "    wind, the Spaniard was 13 strokes better in a flawless round. \\\n",
        "    Thanks to his best putting performance on the PGA Tour, Rahm \\\n",
        "    finished with an 8-under 62 for a three-stroke lead, which \\\n",
        "    was even more impressive considering he’d never played the \\\n",
        "    front nine at TPC Southwind.\"\n",
        "\n",
        "\n",
        "vocab = train_dataset.get_vocab()\n",
        "model = model.to(\"cpu\")\n",
        "\n",
        "print(\"This is a %s news\" %ag_news_label[predict(ex_text_str, model, vocab, 2)])\n",
        "\n",
        "# 日本語訳注：上記はゴルフ関連の記事文章なので、Sportsに分類されて欲しいです。"
      ],
      "execution_count": 13,
      "outputs": [
        {
          "output_type": "stream",
          "text": [
            "This is a Sports news\n"
          ],
          "name": "stdout"
        }
      ]
    },
    {
      "cell_type": "markdown",
      "metadata": {
        "id": "YGqosL-k2lW3"
      },
      "source": [
        "本チュートリアルに掲載されているコードは[こちらのGitHub](https://github.com/pytorch/text/tree/master/examples/text_classification)でも公開されています。 "
      ]
    }
  ]
}