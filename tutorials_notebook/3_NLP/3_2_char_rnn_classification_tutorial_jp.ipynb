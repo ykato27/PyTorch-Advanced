{
  "nbformat": 4,
  "nbformat_minor": 0,
  "metadata": {
    "kernelspec": {
      "display_name": "Python 3",
      "language": "python",
      "name": "python3"
    },
    "language_info": {
      "codemirror_mode": {
        "name": "ipython",
        "version": 3
      },
      "file_extension": ".py",
      "mimetype": "text/x-python",
      "name": "python",
      "nbconvert_exporter": "python",
      "pygments_lexer": "ipython3",
      "version": "3.6.8"
    },
    "colab": {
      "name": "3_2_char_rnn_classification_tutorial_jp.ipynb",
      "provenance": [],
      "collapsed_sections": [],
      "toc_visible": true
    }
  },
  "cells": [
    {
      "cell_type": "markdown",
      "metadata": {
        "id": "Jkt5F2W9p-CN"
      },
      "source": [
        "「文字単位RNNによる名前（苗字）の生成」\n",
        "===============================================================\n",
        "【原題】NLP FROM SCRATCH: CLASSIFYING NAMES WITH A CHARACTER-LEVEL RNN\n",
        "\n",
        "【原著】[Sean Robertson](https://github.com/spro/practical-pytorch)\n",
        "\n",
        "【元URL】https://pytorch.org/tutorials/intermediate/char_rnn_classification_tutorial.html\n",
        "\n",
        "【翻訳】電通国際情報サービスISID AIトランスフォーメーションセンター　御手洗 拓真\n",
        "\n",
        "【日付】2020年10月24日\n",
        "\n",
        "【チュトーリアル概要】\n",
        "\n",
        "名前（苗字）のスペルから、その名前が属する言語を判定するモデルを、文字レベルで処理を実施するRNNを使用して構築します。\n",
        "\n",
        "\n",
        "---\n"
      ]
    },
    {
      "cell_type": "markdown",
      "metadata": {
        "id": "j8tqUBiRpzGr"
      },
      "source": [
        "\n",
        "本チュートリアルでは、単語をクラス分類をする、文字レベルの基本的なRNN（リカレント・ニューラル・ネットワーク）の構築と学習を行います。\n",
        "\n",
        "本チュートリアルと、これに続く2つのチュートリアルでは、ゼロから自然言語処理モデルを作るためのデータ前処理方法を紹介しています。\n",
        "\n",
        "\n"
      ]
    },
    {
      "cell_type": "markdown",
      "metadata": {
        "id": "jiLTydPO8gTE"
      },
      "source": [
        "特に本チュートリアでは、自然言語処理モデリング用のデータ処理について、基礎から理解できるようになることを目指しています。\r\n",
        "\r\n",
        "したがって、`torchtext`で提供されているような便利なデータ処理の関数はここでは使用しません。\r\n",
        "\r\n",
        "\r\n"
      ]
    },
    {
      "cell_type": "markdown",
      "metadata": {
        "id": "UTxHzIrV8oKj"
      },
      "source": [
        "文字レベルのRNNでは、各単語を単なる文字の羅列として扱います。そして各ステップごとに、後に続く文字の予測結果と「隠れ状態」を出力し、前の隠れ状態を次のステップへと送ります。\r\n",
        "\r\n",
        "（日本語訳注：ここでの「ステップ」は1文字単位の処理です。例えば、「ゼロから作成するNLP」なら、ステップ1：「ゼ」→ステップ2：「ロ」→ステップ3：「か」となります）\r\n",
        "\r\n"
      ]
    },
    {
      "cell_type": "markdown",
      "metadata": {
        "id": "pBe_QY9P816d"
      },
      "source": [
        "具体的には、この後、18の言語における数千件の苗字データを使って、苗字のスペルからその苗字がどの言語に属するか判定するモデルを構築します。\r\n",
        "（日本語訳注：以下は、実際に苗字が属する言語を予測している例です）\r\n",
        "::\r\n",
        "\r\n",
        "    $ python predict.py Hinton\r\n",
        "    (-0.47) Scottish\r\n",
        "    (-1.52) English\r\n",
        "    (-3.57) Irish\r\n",
        "\r\n",
        "    $ python predict.py Schmidhuber\r\n",
        "    (-0.19) German\r\n",
        "    (-2.48) Czech\r\n",
        "    (-2.68) Dutch\r\n",
        "\r\n",
        "\r\n",
        "（日本語訳注：上記の結果は、言語の左側にある数値が0に近いほど、その言語の苗字である確率が高いことを示し、マイナス方向に大きくなるほど、その言語の苗字である確率が低いことを示します。）\r\n",
        "\r\n",
        "\r\n"
      ]
    },
    {
      "cell_type": "markdown",
      "metadata": {
        "id": "2EnohI-T9AsA"
      },
      "source": [
        "**本チュートリアルに取り掛かる際の推奨記事:**\r\n",
        "\r\n",
        "本チュートリアルでは、PyTorchとPythonがインストール済みであり、また読者がテンソルについて理解していることを想定しています。\r\n",
        "\r\n",
        "\r\n",
        "-  https://pytorch.org/ PyTorchのインストールガイドです\r\n",
        "-  [DEEP LEARNING WITH PYTORCH: A 60 MINUTE BLITZ](https://pytorch.org/tutorials/beginner/deep_learning_60min_blitz.html) は、PyTorchを始める方向けの記事です（日本語訳では、「PyTorch入門」で提供）\r\n",
        "-  [LEARNING PYTORCH WITH EXAMPLES](https://pytorch.org/tutorials/intermediate/char_rnn_classification_tutorial.html) は、PyTorchをより広く・深く理解する方向けの記事です（日本語訳では、「PyTorch入門」で提供）\r\n",
        "-  [PyTorch for Former Torch Users](https://pytorch.org/tutorials/beginner/former_torchies_tutorial.html) は、PyTorchの前身であるLua Torchユーザー向けの記事です\r\n",
        "\r\n",
        "\r\n"
      ]
    },
    {
      "cell_type": "markdown",
      "metadata": {
        "id": "hpjmGH-h9Wp-"
      },
      "source": [
        "\r\n",
        "\r\n",
        "RNNの概要と仕組みを理解するにあたっては、以下の記事がおすすめです。\r\n",
        "\r\n",
        "-  [The Unreasonable Effectiveness of Recurrent Neural\r\n",
        "   Networks](https://karpathy.github.io/2015/05/21/rnn-effectiveness/)\r\n",
        "   には実例が豊富です。\r\n",
        "-  [Understanding LSTM\r\n",
        "   Networks](https://colah.github.io/posts/2015-08-Understanding-LSTMs/)\r\n",
        "   はLSTMに関する記事ですが、RNNの一般的な理解にとっても有益です。\r\n",
        "\r\n",
        "<br>\r\n",
        "\r\n",
        "（日本語訳注：RNNを理解するにあたって、個人的に役立った日本語の記事を以下に記載します\r\n",
        "\r\n",
        "- [再帰型ニューラルネットワークの「基礎の基礎」を理解する](https://www.imagazine.co.jp/%E5%86%8D%E5%B8%B0%E5%9E%8B%E3%83%8B%E3%83%A5%E3%83%BC%E3%83%A9%E3%83%AB%E3%83%8D%E3%83%83%E3%83%88%E3%83%AF%E3%83%BC%E3%82%AF%E3%81%AE%E3%80%8C%E5%9F%BA%E7%A4%8E%E3%81%AE%E5%9F%BA%E7%A4%8E%E3%80%8D/)\r\n",
        "- [リカレントニューラルネットワーク（RNN）の基礎](https://qiita.com/_oshiritantei/items/3494590a92c609cf0e50)\r\n",
        "\r\n"
      ]
    },
    {
      "cell_type": "markdown",
      "metadata": {
        "id": "1dodQKca9xh4"
      },
      "source": [
        "\r\n",
        "\r\n",
        "データの準備\r\n",
        "==================\r\n",
        "\r\n",
        "---\r\n",
        "\r\n",
        "【注釈】\r\n",
        "\r\n",
        "データを[ここ](https://download.pytorch.org/tutorial/data.zip)からダウンロードし、カレント・ディレクトリに展開してください\r\n",
        "\r\n",
        "（日本語訳注：日本語版の本チュートリアルでは自動的にファイルをダウンロードして使用可能にするセルを冒頭に追加しています）\r\n",
        "\r\n",
        "---\r\n",
        "\r\n",
        "<br>\r\n",
        "\r\n",
        "`data/names` ディレクトリには、18個のテキストファイルが、”[言語名].text”という名称で格納されています。\r\n",
        "\r\n",
        "各ファイルには苗字のリストが格納されおり、一行が一つの苗字となっています。\r\n",
        "\r\n",
        "また、ほとんどの苗字はローマ字になっています（ただし、文字コードをUnicodeから ASCIIに変換する必要があります）\r\n"
      ]
    },
    {
      "cell_type": "code",
      "metadata": {
        "id": "EmYX_JPupzGf"
      },
      "source": [
        "%matplotlib inline"
      ],
      "execution_count": 1,
      "outputs": []
    },
    {
      "cell_type": "code",
      "metadata": {
        "id": "P43gM9zhjA_G"
      },
      "source": [
        "# 日本語訳注：サンプルデータをダウンロードし、zipファイルを解凍するセルを追加\n",
        "import os\n",
        "import subprocess\n",
        "import zipfile\n",
        "if os.path.exists('./data'):\n",
        "  print(\"./dat/ already exists\")\n",
        "else:\n",
        "  subprocess.run(\"wget https://download.pytorch.org/tutorial/data.zip\",shell=True, check=True)\n",
        "  with zipfile.ZipFile(\"./data.zip\") as zipfile:\n",
        "    zipfile.extractall(\".\")"
      ],
      "execution_count": 2,
      "outputs": []
    },
    {
      "cell_type": "code",
      "metadata": {
        "id": "bmaA-Ib5aen1",
        "colab": {
          "base_uri": "https://localhost:8080/"
        },
        "outputId": "648c05f9-02c3-4e17-c508-f3c7065e9c4c"
      },
      "source": [
        "# 日本語訳注：サンプルデータをダウンロードし、zipファイルを解凍するセルを追加\n",
        "!ls"
      ],
      "execution_count": 3,
      "outputs": [
        {
          "output_type": "stream",
          "text": [
            "data  data.zip\tsample_data\n"
          ],
          "name": "stdout"
        }
      ]
    },
    {
      "cell_type": "code",
      "metadata": {
        "id": "MaCsOe1NpzGt",
        "colab": {
          "base_uri": "https://localhost:8080/"
        },
        "outputId": "d930578e-31c0-48d9-9676-0913ae4e86db"
      },
      "source": [
        "from __future__ import unicode_literals, print_function, division\n",
        "from io import open\n",
        "import glob\n",
        "import os\n",
        "\n",
        "def findFiles(path): return glob.glob(path)\n",
        "\n",
        "print(findFiles('data/names/*.txt'))\n",
        "\n",
        "import unicodedata\n",
        "import string\n",
        "\n",
        "all_letters = string.ascii_letters + \" .,;'\"\n",
        "n_letters = len(all_letters)\n",
        "\n",
        "# Turn a Unicode string to plain ASCII, thanks to https://stackoverflow.com/a/518232/2809427\n",
        "def unicodeToAscii(s):\n",
        "    return ''.join(\n",
        "        c for c in unicodedata.normalize('NFD', s)\n",
        "        if unicodedata.category(c) != 'Mn'\n",
        "        and c in all_letters\n",
        "    )\n",
        "\n",
        "print(unicodeToAscii('Ślusàrski'))\n",
        "\n",
        "# Build the category_lines dictionary, a list of names per language\n",
        "category_lines = {}\n",
        "all_categories = []\n",
        "\n",
        "# Read a file and split into lines\n",
        "def readLines(filename):\n",
        "    lines = open(filename, encoding='utf-8').read().strip().split('\\n')\n",
        "    return [unicodeToAscii(line) for line in lines]\n",
        "\n",
        "for filename in findFiles('data/names/*.txt'):\n",
        "    category = os.path.splitext(os.path.basename(filename))[0]\n",
        "    all_categories.append(category)\n",
        "    lines = readLines(filename)\n",
        "    category_lines[category] = lines\n",
        "\n",
        "n_categories = len(all_categories)"
      ],
      "execution_count": 4,
      "outputs": [
        {
          "output_type": "stream",
          "text": [
            "['data/names/Irish.txt', 'data/names/Spanish.txt', 'data/names/Scottish.txt', 'data/names/Vietnamese.txt', 'data/names/Japanese.txt', 'data/names/French.txt', 'data/names/Korean.txt', 'data/names/English.txt', 'data/names/Chinese.txt', 'data/names/Dutch.txt', 'data/names/German.txt', 'data/names/Arabic.txt', 'data/names/Italian.txt', 'data/names/Greek.txt', 'data/names/Russian.txt', 'data/names/Czech.txt', 'data/names/Portuguese.txt', 'data/names/Polish.txt']\n",
            "Slusarski\n"
          ],
          "name": "stdout"
        }
      ]
    },
    {
      "cell_type": "markdown",
      "metadata": {
        "id": "7aw1SdoCpzG1"
      },
      "source": [
        "これで、各カテゴリ (言語) を行 (苗字） のリストにマッピングした、辞書型変数 `category_line`を作成できました。\n",
        "\n",
        "また、上記コードでは、後で参照できるように、`all_categories` (言語のリスト) と `n_categories`（言語の数）という変数も用意しています。\n",
        "\n",
        "\n"
      ]
    },
    {
      "cell_type": "code",
      "metadata": {
        "id": "a5gBffoNpzG2",
        "colab": {
          "base_uri": "https://localhost:8080/"
        },
        "outputId": "4c8adb73-ebb6-480b-fee8-2d49efe393c8"
      },
      "source": [
        "print(category_lines['Italian'][:5])"
      ],
      "execution_count": 5,
      "outputs": [
        {
          "output_type": "stream",
          "text": [
            "['Abandonato', 'Abatangelo', 'Abatantuono', 'Abate', 'Abategiovanni']\n"
          ],
          "name": "stdout"
        }
      ]
    },
    {
      "cell_type": "markdown",
      "metadata": {
        "id": "k5fT9KzopzG_"
      },
      "source": [
        "苗字データのテンソルへの変換\n",
        "--------------------------\n",
        "\n",
        "これですべての苗字を辞書型変数として整理することができました。\n",
        "\n",
        "次にこの苗字データをPyTorch上で扱うために、データの形式をテンソルに変換します。\n",
        "\n"
      ]
    },
    {
      "cell_type": "markdown",
      "metadata": {
        "id": "wZyROtvY-Zh6"
      },
      "source": [
        "\r\n",
        "\r\n",
        "一つの文字は、`<1 x n_letters>`サイズの、 \"ワンホットベクトル \"を使って表現されます。\r\n",
        "\r\n",
        "ワンホットベクトルは、表現したい文字のインデックス（=位置）にのみ1が格納され、それ以外のインデックス（＝位置）は0で埋められたベクトルです。\r\n",
        "\r\n",
        "例えば、\"b\"という文字であれば、`\"b\" =<0 1 0 0 0 ...>`という形で表現します。\r\n",
        "\r\n",
        "（日本語訳注 ：\"b\"は、ローマ字では二番目の文字であるため、二番目のみ1でそれ以外は0のベクトルで表現されます。\"c\"なら、ローマ字の3番目なので、`\"c\" =<0 0 1 0 0 ...>`という形式で表現されます。）\r\n",
        "\r\n",
        "\r\n"
      ]
    },
    {
      "cell_type": "markdown",
      "metadata": {
        "id": "0fCHLObF-bpR"
      },
      "source": [
        "\r\n",
        "単語を作るためには、これらを2次元の行列 `<line_length x 1 x n_letters>` に結合します。\r\n",
        "\r\n",
        "（日本語訳注 ：例えば、\"abc\"という単語であれば、\r\n",
        "`\"abc\" =<1 0 0 0 0 ...>, <0 1 0 0 0 ...>, <0 0 1 0 0 ...>`のように表現されるイメージです。）\r\n",
        "\r\n",
        "<br>\r\n",
        "\r\n",
        "`line_length`と`n_letters`の間にある余分に見える1次元は、バッチサイズです。\r\n",
        "\r\n",
        "この次元は、PyTorchではデータをすべてバッチとして処理する仕様のため、必要となります。\r\n",
        "\r\n",
        "ここでは、バッチサイズは1としています。"
      ]
    },
    {
      "cell_type": "code",
      "metadata": {
        "id": "sgB2oy6vpzHB",
        "colab": {
          "base_uri": "https://localhost:8080/"
        },
        "outputId": "2bd4a027-3eec-4d7e-8809-9ed6f4aef914"
      },
      "source": [
        "import torch\n",
        "\n",
        "# Find letter index from all_letters, e.g. \"a\" = 0\n",
        "def letterToIndex(letter):\n",
        "    return all_letters.find(letter)\n",
        "\n",
        "# Just for demonstration, turn a letter into a <1 x n_letters> Tensor\n",
        "def letterToTensor(letter):\n",
        "    tensor = torch.zeros(1, n_letters)\n",
        "    tensor[0][letterToIndex(letter)] = 1\n",
        "    return tensor\n",
        "\n",
        "# Turn a line into a <line_length x 1 x n_letters>,\n",
        "# or an array of one-hot letter vectors\n",
        "def lineToTensor(line):\n",
        "    tensor = torch.zeros(len(line), 1, n_letters)\n",
        "    for li, letter in enumerate(line):\n",
        "        tensor[li][0][letterToIndex(letter)] = 1\n",
        "    return tensor\n",
        "\n",
        "print(letterToTensor('J'))\n",
        "\n",
        "print(lineToTensor('Jones').size())"
      ],
      "execution_count": 6,
      "outputs": [
        {
          "output_type": "stream",
          "text": [
            "tensor([[0., 0., 0., 0., 0., 0., 0., 0., 0., 0., 0., 0., 0., 0., 0., 0., 0., 0.,\n",
            "         0., 0., 0., 0., 0., 0., 0., 0., 0., 0., 0., 0., 0., 0., 0., 0., 0., 1.,\n",
            "         0., 0., 0., 0., 0., 0., 0., 0., 0., 0., 0., 0., 0., 0., 0., 0., 0., 0.,\n",
            "         0., 0., 0.]])\n",
            "torch.Size([5, 1, 57])\n"
          ],
          "name": "stdout"
        }
      ]
    },
    {
      "cell_type": "markdown",
      "metadata": {
        "id": "eSQw5pn0pzHI"
      },
      "source": [
        "ネットワークの構築\n",
        "====================\n",
        "\n",
        "autograd（自動勾配計算モジュール）ができる前は、Torchでリカレント・ニューラルネットワークを作成する際には、学習ステップごとにネットワーク内のレイヤーのパラメータの情報を取得する必要がありました。\n",
        "\n",
        "以前はレイヤー側が隠れ状態や勾配の情報を保持しており、レイヤーごとにパラメータ更新の記述が必要だったためです。\n",
        "\n"
      ]
    },
    {
      "cell_type": "markdown",
      "metadata": {
        "id": "vibJ6DFk_FpL"
      },
      "source": [
        "しかし現在では、テンソルの計算グラフ自体が、隠れ状態や勾配の情報を全て保持しています。\r\n",
        "\r\n",
        "これは、RNNを非常に「シンプルな」方法で（=通常の順伝播モジュールとして）実装できることを意味します。\r\n",
        "\r\n",
        "このRNNモジュールは、inputデータと隠れ状態（hidden）に対し適用される2つの線形レイヤーと、出力の後にLogSoftmaxレイヤーがあるだけのものです（以下のコードはほとんどが、[the PyTorch for Torch users チュートリアル](https://pytorch.org/tutorials/beginner/former_torchies/nn_tutorial.html#example-2-recurrent-net)からコピー）。"
      ]
    },
    {
      "cell_type": "markdown",
      "metadata": {
        "id": "d9U5LrW-A3KA"
      },
      "source": [
        "![image.png](data:image/png;base64,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)"
      ]
    },
    {
      "cell_type": "code",
      "metadata": {
        "id": "2fy_PUa-pzHJ"
      },
      "source": [
        "import torch.nn as nn\n",
        "\n",
        "class RNN(nn.Module):\n",
        "    def __init__(self, input_size, hidden_size, output_size):\n",
        "        super(RNN, self).__init__()\n",
        "\n",
        "        self.hidden_size = hidden_size\n",
        "\n",
        "        self.i2h = nn.Linear(input_size + hidden_size, hidden_size)\n",
        "        self.i2o = nn.Linear(input_size + hidden_size, output_size)\n",
        "        self.softmax = nn.LogSoftmax(dim=1)\n",
        "\n",
        "    def forward(self, input, hidden):\n",
        "        combined = torch.cat((input, hidden), 1)\n",
        "        hidden = self.i2h(combined)\n",
        "        output = self.i2o(combined)\n",
        "        output = self.softmax(output)\n",
        "        return output, hidden\n",
        "\n",
        "    def initHidden(self):\n",
        "        return torch.zeros(1, self.hidden_size)\n",
        "\n",
        "n_hidden = 128\n",
        "rnn = RNN(n_letters, n_hidden, n_categories)"
      ],
      "execution_count": 7,
      "outputs": []
    },
    {
      "cell_type": "markdown",
      "metadata": {
        "id": "QDJrphGupzHR"
      },
      "source": [
        "このネットワークのステップを実行するには、入力データ（ここでは、現在の文字のテンソル）と、一つ前の文字の隠れ状態（最初はゼロで初期化）を渡す必要があります。\n",
        "\n",
        "実際に実行すると、出力（各言語の確率）と、次のステップでの予測の際に与えるRNNの隠れ状態を取得することができます。"
      ]
    },
    {
      "cell_type": "code",
      "metadata": {
        "id": "Ur3kLK4GpzHS"
      },
      "source": [
        "input = letterToTensor('A')\n",
        "hidden =torch.zeros(1, n_hidden)\n",
        "\n",
        "output, next_hidden = rnn(input, hidden)"
      ],
      "execution_count": 8,
      "outputs": []
    },
    {
      "cell_type": "markdown",
      "metadata": {
        "id": "3q0xSbiWpzHe"
      },
      "source": [
        "計算効率上、学習ステップごとに新しいテンソルを作成することは避けたいです。\n",
        "\n",
        "そこで`letterToTensor`の代わりに、`lineToTensor`を使用し、まず一度単語のテンソルを作成します。\n",
        "\n",
        "そしてスライスを使い、単語のテンソルから各文字のテンソルを取得します。\n",
        "\n",
        "さらに効率的にするために、単語ではなく、バッチのテンソルを事前に計算しておく方法もあります。"
      ]
    },
    {
      "cell_type": "code",
      "metadata": {
        "id": "BbszeqLVpzHg",
        "colab": {
          "base_uri": "https://localhost:8080/"
        },
        "outputId": "bb434197-bc9b-40c4-eedb-eefdbca314d9"
      },
      "source": [
        "input = lineToTensor('Albert')\n",
        "hidden = torch.zeros(1, n_hidden)\n",
        "\n",
        "output, next_hidden = rnn(input[0], hidden)\n",
        "print(output)"
      ],
      "execution_count": 9,
      "outputs": [
        {
          "output_type": "stream",
          "text": [
            "tensor([[-2.8191, -3.0024, -2.9294, -2.9166, -2.9610, -2.8136, -2.9389, -2.8667,\n",
            "         -2.9246, -2.9772, -2.8215, -2.9794, -2.7854, -2.9931, -2.8219, -2.8293,\n",
            "         -2.8027, -2.8902]], grad_fn=<LogSoftmaxBackward>)\n"
          ],
          "name": "stdout"
        }
      ]
    },
    {
      "cell_type": "markdown",
      "metadata": {
        "id": "58cQSadTpzHo"
      },
      "source": [
        "ご覧のように、出力は`<1 x n_categories>`のテンソルとなり、各項目はそのカテゴリ（苗字の言語）に対する尤度です（0に近いほどそのカテゴリに属する可能性が高くなります）。"
      ]
    },
    {
      "cell_type": "markdown",
      "metadata": {
        "id": "7uh0DOOjpzHq"
      },
      "source": [
        "訓練\n",
        "========\n",
        "訓練の準備\n",
        "----------------------\n",
        "\n",
        "訓練に入る前に、いくつかの補助関数（ヘルパー関数）を作る必要があります。\n",
        "\n",
        "一つ目は、ネットワークの出力を解釈するための関数です。\n",
        "\n",
        "テンソルにおける最大値のインデックスを得るために`Tensor.topk`を使うことができます。\n",
        "\n",
        "\n",
        "\n"
      ]
    },
    {
      "cell_type": "code",
      "metadata": {
        "id": "DeAE-wVopzHs",
        "colab": {
          "base_uri": "https://localhost:8080/"
        },
        "outputId": "7c8c3172-ed9e-4d90-9ead-498f1ab3d322"
      },
      "source": [
        "def categoryFromOutput(output):\n",
        "    top_n, top_i = output.topk(1)\n",
        "    category_i = top_i[0].item()\n",
        "    return all_categories[category_i], category_i\n",
        "\n",
        "print(categoryFromOutput(output))"
      ],
      "execution_count": 10,
      "outputs": [
        {
          "output_type": "stream",
          "text": [
            "('Italian', 12)\n"
          ],
          "name": "stdout"
        }
      ]
    },
    {
      "cell_type": "markdown",
      "metadata": {
        "id": "PBUXhu4OpzH0"
      },
      "source": [
        "また、訓練用にデータの具体例（苗字とその言語）を簡単に取得して、提示する関数もあると便利です。"
      ]
    },
    {
      "cell_type": "code",
      "metadata": {
        "id": "7C2GY2u1pzH1",
        "colab": {
          "base_uri": "https://localhost:8080/"
        },
        "outputId": "6503f0ea-95a9-4fc5-d1b3-b427497a4da7"
      },
      "source": [
        "import random\n",
        "\n",
        "def randomChoice(l):\n",
        "    return l[random.randint(0, len(l) - 1)]\n",
        "\n",
        "def randomTrainingExample():\n",
        "    category = randomChoice(all_categories)\n",
        "    line = randomChoice(category_lines[category])\n",
        "    category_tensor = torch.tensor([all_categories.index(category)], dtype=torch.long)\n",
        "    line_tensor = lineToTensor(line)\n",
        "    return category, line, category_tensor, line_tensor\n",
        "\n",
        "for i in range(10):\n",
        "    category, line, category_tensor, line_tensor = randomTrainingExample()\n",
        "    print('category =', category, '/ line =', line)"
      ],
      "execution_count": 11,
      "outputs": [
        {
          "output_type": "stream",
          "text": [
            "category = Greek / line = Horiatis\n",
            "category = English / line = Travers\n",
            "category = Vietnamese / line = Mach\n",
            "category = Arabic / line = Boutros\n",
            "category = Arabic / line = Amari\n",
            "category = Greek / line = Galanopoulos\n",
            "category = Irish / line = Delaney\n",
            "category = Irish / line = Murphy\n",
            "category = Portuguese / line = Almeida\n",
            "category = Chinese / line = Shi\n"
          ],
          "name": "stdout"
        }
      ]
    },
    {
      "cell_type": "markdown",
      "metadata": {
        "id": "lZAeeCgwpzH9"
      },
      "source": [
        "ネットワークの訓練\n",
        "----------------------\n",
        "\n",
        "このネットワークの訓練に必要なプロセスは、多くの正解付きデータ（アノテーション付きの教師データ）を入力して推論させ、推論結果の良否をフィードバックすることです。\n",
        "\n",
        "RNNの最後の層は`nn.LogSoftmax`なので、対応する損失関数は`nn.NLLLoss`となります。"
      ]
    },
    {
      "cell_type": "code",
      "metadata": {
        "id": "GNiw9irJpzH_"
      },
      "source": [
        "criterion = nn.NLLLoss()"
      ],
      "execution_count": 12,
      "outputs": []
    },
    {
      "cell_type": "markdown",
      "metadata": {
        "id": "oI01-cVWpzIG"
      },
      "source": [
        "訓練のループは以下に示す順番で進みます。\n",
        "\n",
        "- 入力テンソルと正解テンソルを作成\n",
        "- 初期の隠れ状態（値はゼロ）の作成\n",
        "- それぞれの文字を読み込み、\n",
        "  - 次の文字のために隠れ状態を保持\n",
        "- 最終出力を正解と比較\n",
        "- 誤差逆伝播\n",
        "- 出力と損失を返す"
      ]
    },
    {
      "cell_type": "code",
      "metadata": {
        "id": "6b7olM4hpzII"
      },
      "source": [
        "learning_rate = 0.005 # If you set this too high, it might explode. If too low, it might not learn\n",
        "\n",
        "def train(category_tensor, line_tensor):\n",
        "    hidden = rnn.initHidden()\n",
        "\n",
        "    rnn.zero_grad()\n",
        "\n",
        "    for i in range(line_tensor.size()[0]):\n",
        "        output, hidden = rnn(line_tensor[i], hidden)\n",
        "\n",
        "    loss = criterion(output, category_tensor)\n",
        "    loss.backward()\n",
        "\n",
        "    # Add parameters' gradients to their values, multiplied by learning rate\n",
        "    for p in rnn.parameters():\n",
        "        p.data.add_(p.grad.data, alpha=-learning_rate)\n",
        "\n",
        "    return output, loss.item()"
      ],
      "execution_count": 13,
      "outputs": []
    },
    {
      "cell_type": "markdown",
      "metadata": {
        "id": "MhllMzCPpzIR"
      },
      "source": [
        "あとは、大量のサンプルデータを使用して訓練ループを実行するだけです。\n",
        "\n",
        "`train`関数は出力と損失の両方を返すので、推論結果を表示したり、プロットするために損失を求めることができます。\n",
        "\n",
        "数千のデータがあるので、`print_every`で、指定したイテレーションごとに損失の平均を求め、print文で出力します。"
      ]
    },
    {
      "cell_type": "code",
      "metadata": {
        "id": "WtCdvYwEpzIX",
        "colab": {
          "base_uri": "https://localhost:8080/"
        },
        "outputId": "d0c70ac7-c042-46d3-e0ad-3614d2e3c755"
      },
      "source": [
        "import time\n",
        "import math\n",
        "\n",
        "n_iters = 100000\n",
        "print_every = 5000\n",
        "plot_every = 1000\n",
        "\n",
        "\n",
        "\n",
        "# Keep track of losses for plotting\n",
        "current_loss = 0\n",
        "all_losses = []\n",
        "\n",
        "def timeSince(since):\n",
        "    now = time.time()\n",
        "    s = now - since\n",
        "    m = math.floor(s / 60)\n",
        "    s -= m * 60\n",
        "    return '%dm %ds' % (m, s)\n",
        "\n",
        "start = time.time()\n",
        "\n",
        "for iter in range(1, n_iters + 1):\n",
        "    category, line, category_tensor, line_tensor = randomTrainingExample()\n",
        "    output, loss = train(category_tensor, line_tensor)\n",
        "    current_loss += loss\n",
        "\n",
        "    # Print iter number, loss, name and guess\n",
        "    if iter % print_every == 0:\n",
        "        guess, guess_i = categoryFromOutput(output)\n",
        "        correct = '✓' if guess == category else '✗ (%s)' % category\n",
        "        print('%d %d%% (%s) %.4f %s / %s %s' % (iter, iter / n_iters * 100, timeSince(start), loss, line, guess, correct))\n",
        "\n",
        "    # Add current loss avg to list of losses\n",
        "    if iter % plot_every == 0:\n",
        "        all_losses.append(current_loss / plot_every)\n",
        "        current_loss = 0"
      ],
      "execution_count": 14,
      "outputs": [
        {
          "output_type": "stream",
          "text": [
            "5000 5% (0m 7s) 2.2349 Than / Vietnamese ✓\n",
            "10000 10% (0m 15s) 2.3117 Valencia / Dutch ✗ (Spanish)\n",
            "15000 15% (0m 22s) 1.2544 Chew / Vietnamese ✗ (Chinese)\n",
            "20000 20% (0m 29s) 1.6015 Flann / Irish ✓\n",
            "25000 25% (0m 37s) 0.6343 Yau / Chinese ✓\n",
            "30000 30% (0m 45s) 1.8334 D arcy / Portuguese ✗ (English)\n",
            "35000 35% (0m 52s) 1.8176 Newberry / Dutch ✗ (English)\n",
            "40000 40% (0m 59s) 0.0354 Cuidightheach / Irish ✓\n",
            "45000 45% (1m 7s) 0.9912 Truong / Vietnamese ✓\n",
            "50000 50% (1m 14s) 1.4406 Pechinkin / Irish ✗ (Russian)\n",
            "55000 55% (1m 22s) 1.0419 Murray / Scottish ✓\n",
            "60000 60% (1m 30s) 2.1059 Paiser / Arabic ✗ (Czech)\n",
            "65000 65% (1m 37s) 3.2693 De leon / Scottish ✗ (Spanish)\n",
            "70000 70% (1m 45s) 3.1688 Deeb / German ✗ (Arabic)\n",
            "75000 75% (1m 52s) 1.7740 Stanek / Czech ✗ (Polish)\n",
            "80000 80% (1m 59s) 1.8736 Mcneil / Scottish ✗ (Irish)\n",
            "85000 85% (2m 7s) 1.8543 Moreau / Arabic ✗ (French)\n",
            "90000 90% (2m 14s) 0.2078 To / Vietnamese ✓\n",
            "95000 95% (2m 22s) 0.8826 Kasuse / Japanese ✓\n",
            "100000 100% (2m 29s) 0.2436 Maalouf / Arabic ✓\n"
          ],
          "name": "stdout"
        }
      ]
    },
    {
      "cell_type": "markdown",
      "metadata": {
        "id": "hgyOvpDepzIe"
      },
      "source": [
        "結果のプロット\n",
        "--------------------\n",
        "\n",
        "`all_losses`から過去の損失をプロットすると、ネットワーク学習の様子がわかります"
      ]
    },
    {
      "cell_type": "code",
      "metadata": {
        "id": "zFlvEC3UpzIg",
        "colab": {
          "base_uri": "https://localhost:8080/",
          "height": 282
        },
        "outputId": "1fb9bdb8-33d7-4307-9235-36dd4452197a"
      },
      "source": [
        "import matplotlib.pyplot as plt\n",
        "import matplotlib.ticker as ticker\n",
        "\n",
        "plt.figure()\n",
        "plt.plot(all_losses)"
      ],
      "execution_count": 15,
      "outputs": [
        {
          "output_type": "execute_result",
          "data": {
            "text/plain": [
              "[<matplotlib.lines.Line2D at 0x7f316bc53da0>]"
            ]
          },
          "metadata": {
            "tags": []
          },
          "execution_count": 15
        },
        {
          "output_type": "display_data",
          "data": {
            "image/png": "[encoded data removed]",
            "text/plain": [
              "<Figure size 432x288 with 1 Axes>"
            ]
          },
          "metadata": {
            "tags": [],
            "needs_background": "light"
          }
        }
      ]
    },
    {
      "cell_type": "markdown",
      "metadata": {
        "id": "KMuLT7UJpzIl"
      },
      "source": [
        "結果の評価\n",
        "======================\n",
        "\n",
        "ネットワークが各カテゴリ（言語）に対して、どの程度の性能を発揮しているのかを確認するために、実際の言語（=行）ごとに、ネットワークの推論結果がどの言語だったのか（列）を示す、混同行列（confusion matrix）を作成します。\n",
        "\n",
        "混同行列を計算するために、`evaluate()`関数を用いて多くのサンプルを入力としてネットワークを実行しますが、この`evaluate()`関数は、逆伝播を実行しない`train()`関数と同義です。\n"
      ]
    },
    {
      "cell_type": "code",
      "metadata": {
        "id": "NBQblphOpzIm",
        "colab": {
          "base_uri": "https://localhost:8080/",
          "height": 320
        },
        "outputId": "eff91516-9c46-45bc-ad7d-5f8b1a0d93d5"
      },
      "source": [
        "# Keep track of correct guesses in a confusion matrix\n",
        "confusion = torch.zeros(n_categories, n_categories)\n",
        "n_confusion = 10000\n",
        "\n",
        "# Just return an output given a line\n",
        "def evaluate(line_tensor):\n",
        "    hidden = rnn.initHidden()\n",
        "\n",
        "    for i in range(line_tensor.size()[0]):\n",
        "        output, hidden = rnn(line_tensor[i], hidden)\n",
        "\n",
        "    return output\n",
        "\n",
        "# Go through a bunch of examples and record which are correctly guessed\n",
        "for i in range(n_confusion):\n",
        "    category, line, category_tensor, line_tensor = randomTrainingExample()\n",
        "    output = evaluate(line_tensor)\n",
        "    guess, guess_i = categoryFromOutput(output)\n",
        "    category_i = all_categories.index(category)\n",
        "    confusion[category_i][guess_i] += 1\n",
        "\n",
        "# Normalize by dividing every row by its sum\n",
        "for i in range(n_categories):\n",
        "    confusion[i] = confusion[i] / confusion[i].sum()\n",
        "\n",
        "# Set up plot\n",
        "fig = plt.figure()\n",
        "ax = fig.add_subplot(111)\n",
        "cax = ax.matshow(confusion.numpy())\n",
        "fig.colorbar(cax)\n",
        "\n",
        "# Set up axes\n",
        "ax.set_xticklabels([''] + all_categories, rotation=90)\n",
        "ax.set_yticklabels([''] + all_categories)\n",
        "\n",
        "# Force label at every tick\n",
        "ax.xaxis.set_major_locator(ticker.MultipleLocator(1))\n",
        "ax.yaxis.set_major_locator(ticker.MultipleLocator(1))\n",
        "\n",
        "# sphinx_gallery_thumbnail_number = 2\n",
        "plt.show()"
      ],
      "execution_count": 16,
      "outputs": [
        {
          "output_type": "display_data",
          "data": {
            "image/png": "[encoded data removed]",
            "text/plain": [
              "<Figure size 432x288 with 2 Axes>"
            ]
          },
          "metadata": {
            "tags": [],
            "needs_background": "light"
          }
        }
      ]
    },
    {
      "cell_type": "markdown",
      "metadata": {
        "id": "Vtqgpbi_pzIu"
      },
      "source": [
        "斜めの軸の点の明るさから、どの言語で推測結果に間違いが多いか分かります\n",
        "\n",
        "（日本語訳注：点が暗いほどその言語に対する予測結果は間違いが多く、明るいほど正解が多いことを示しています）。\n",
        "\n",
        "例えば、ギリシャ語では非常に良く、英語では非常に悪いようです（これはおそらく、英語の苗字は他の言語との重複が多いためでしょう）。"
      ]
    },
    {
      "cell_type": "markdown",
      "metadata": {
        "id": "kiw-xW2cpzIw"
      },
      "source": [
        "ユーザーが入力した苗字に対する推論実行\n",
        "---------------------\n",
        "\n",
        "\n"
      ]
    },
    {
      "cell_type": "code",
      "metadata": {
        "id": "dRX3HAOPpzIz",
        "colab": {
          "base_uri": "https://localhost:8080/"
        },
        "outputId": "5b3ed277-e8e3-4929-864c-31fd1fed8a53"
      },
      "source": [
        "def predict(input_line, n_predictions=3):\n",
        "    print('\\n> %s' % input_line)\n",
        "    with torch.no_grad():\n",
        "        output = evaluate(lineToTensor(input_line))\n",
        "\n",
        "        # Get top N categories\n",
        "        topv, topi = output.topk(n_predictions, 1, True)\n",
        "        predictions = []\n",
        "\n",
        "        for i in range(n_predictions):\n",
        "            value = topv[0][i].item()\n",
        "            category_index = topi[0][i].item()\n",
        "            print('(%.2f) %s' % (value, all_categories[category_index]))\n",
        "            predictions.append([value, all_categories[category_index]])\n",
        "\n",
        "predict('Dovesky')\n",
        "predict('Jackson')\n",
        "predict('Satoshi')"
      ],
      "execution_count": 17,
      "outputs": [
        {
          "output_type": "stream",
          "text": [
            "\n",
            "> Dovesky\n",
            "(-0.45) Czech\n",
            "(-1.34) Russian\n",
            "(-3.16) English\n",
            "\n",
            "> Jackson\n",
            "(-0.12) Scottish\n",
            "(-2.57) English\n",
            "(-4.16) Russian\n",
            "\n",
            "> Satoshi\n",
            "(-0.92) Italian\n",
            "(-2.06) Arabic\n",
            "(-2.34) Czech\n"
          ],
          "name": "stdout"
        }
      ]
    },
    {
      "cell_type": "code",
      "metadata": {
        "colab": {
          "base_uri": "https://localhost:8080/"
        },
        "id": "Mu565CeSDOl0",
        "outputId": "19c6e1b9-d587-41ed-dbec-e1cfdfbaae51"
      },
      "source": [
        "# 日本語訳追記：[1] 上記の結果は実行の度に変わります。[2] 今回は検証のデータセットを用意していないので、過学習する恐れがあります。\r\n",
        "\r\n",
        "# 田中で試す\r\n",
        "predict('Tanaka')\r\n"
      ],
      "execution_count": 20,
      "outputs": [
        {
          "output_type": "stream",
          "text": [
            "\n",
            "> Tanaka\n",
            "(-0.42) Japanese\n",
            "(-1.61) Polish\n",
            "(-2.71) Czech\n"
          ],
          "name": "stdout"
        }
      ]
    },
    {
      "cell_type": "markdown",
      "metadata": {
        "id": "mf1hmfSCpzI_"
      },
      "source": [
        "[in the Practical PyTorch repo](https://github.com/spro/practical-pytorch/tree/master/char-rnn-classification)にあるスクリプトの最終バージョンでは、上記のコードをいくつかのファイルに分割しています。\n",
        "\n",
        "- `data.py` (データファイルのロード)\n",
        "- `model.py` (RNNの定義)\n",
        "- `train.py` (トレーニングの実行)\n",
        "- `predict.py` (コマンドライン引数で `predict()` の実行)\n",
        "- `server.py` (bottle.pyを用いたJSON APIとしての推論結果提供)\n",
        "\n",
        "ネットワークを訓練して保存するには `train.py` を実行してください。\n",
        "\n",
        "予測結果を表示するには、名前を付けて `predict.py` を実行してください。\n",
        "\n",
        "```:cmd\n",
        "    $ python predict.py Hazaki\n",
        "    (-0.42) Japanese\n",
        "    (-1.39) Polish\n",
        "    (-3.51) Czech\n",
        "```\n",
        "\n",
        "`server.py`を実行し、 http://localhost:5533/Yournameto にアクセスして予測結果のJSONを取得してください。\n",
        "\n"
      ]
    },
    {
      "cell_type": "markdown",
      "metadata": {
        "id": "NAiefSPTpzJA"
      },
      "source": [
        "演習\n",
        "=========\n",
        "\n",
        "- 本チュートリアルで使ったデータとは異なる、行 -> カテゴリ を判定するデータセットで試してみてください。例えば、以下などです。\n",
        "\n",
        "   - 任意の単語 -> 言語\n",
        "   - 下の名前 -> 性別\n",
        "   - キャラクター名 -> 著者\n",
        "   - ページタイトル -> ブログまたはウェブページ\n",
        "\n",
        "- ネットワークを大きくしたり、またはネットワークの構造を改善したりして、さらに良い結果を目指してください。例えば、以下のような改善が考えられます。\n",
        "\n",
        "   - より多くの線形レイヤーを追加\n",
        "   - `nn.LSTM` と `nn.GRU` のレイヤーを試す\n",
        "   - 上記のような複数の`RNN`を、組み合わせた高次元のネットワークを試す\n",
        "\n"
      ]
    }
  ]
}