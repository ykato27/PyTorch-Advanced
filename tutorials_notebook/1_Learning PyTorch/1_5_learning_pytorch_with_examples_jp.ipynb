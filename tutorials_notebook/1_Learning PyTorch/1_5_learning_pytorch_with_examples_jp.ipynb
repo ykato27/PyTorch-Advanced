{
  "nbformat": 4,
  "nbformat_minor": 0,
  "metadata": {
    "colab": {
      "name": "1_5_learning_pytorch_with_examples_jp.ipynb",
      "provenance": [],
      "collapsed_sections": [],
      "toc_visible": true
    },
    "kernelspec": {
      "name": "python3",
      "display_name": "Python 3"
    },
    "accelerator": "GPU"
  },
  "cells": [
    {
      "cell_type": "markdown",
      "metadata": {
        "id": "2UbJrC7Fq43T"
      },
      "source": [
        "「例題を用いた、PyTorchの各要素の解説」\n",
        "===============================================================\n",
        "【原題】LEARNING PYTORCH WITH EXAMPLES\n",
        "\n",
        "【原著】[Justin Johnson](https://github.com/jcjohnson/pytorch-examples)\n",
        "\n",
        "\n",
        "【元URL】https://pytorch.org/tutorials/beginner/pytorch_with_examples.html\n",
        "\n",
        "【翻訳】電通国際情報サービスISID AIトランスフォーメーションセンター　徳原 光\n",
        "\n",
        "【日付】2020年11月18日\n",
        "\n",
        "【チュトーリアル概要】\n",
        "\n",
        "「2層から構成される全結合型のReLUネットワーク」の訓練を、Numpyのみを用いて実装するところから始め、徐々にPyTorchの各要素を追加していき、最終的にPyTorchでのニューラルネットワークを訓練例を実装します。\n",
        "\n",
        "\n",
        "---\n"
      ]
    },
    {
      "cell_type": "markdown",
      "metadata": {
        "id": "bnHSn2XH3W6W"
      },
      "source": [
        "本チュートリアルではPyTorch の基本的な概念を、簡単に完結するサンプル例を用いて解説します。\n",
        "\n",
        "PyTorch の中心となる特徴は以下の2つです。\n",
        "\n",
        "- Numpyの配列に似ているが、GPU上で動作可能なn次元Tensor(テンソル)\n",
        "- ニューラルネットワークの構築と訓練のための自動微分機能\n",
        "\n"
      ]
    },
    {
      "cell_type": "markdown",
      "metadata": {
        "id": "f30Sc-524e3u"
      },
      "source": [
        "実行例として、全結合型のReLUネットワークを使用します。\n",
        "\n",
        "このネットワークは一層の隠れ層を持ち、勾配降下法によりネットワークの出力と正しい出力のユークリッド距離を最小にすることで、ランダムなデータに適合するように訓練されます。\n",
        "\n",
        "<br>\n",
        "（日本語訳注：ReLUはノードの出力を計算する活性化関数の一種で、ノード入力する値の合計値が負の場合は0を出力し、正の場合は合計値をそのまま出力します。）\n"
      ]
    },
    {
      "cell_type": "markdown",
      "metadata": {
        "id": "_fuMejj88aQ1"
      },
      "source": [
        "**参考**\n",
        "\n",
        "<a href=\"#scrollTo=8iQZmemr-X5O\">本ページの最後に</a>、本チュートリアルで解説するPyTorchの各要素について、個別例を掲載しています。\n",
        "\n"
      ]
    },
    {
      "cell_type": "markdown",
      "metadata": {
        "id": "HmG1TUXpApuQ"
      },
      "source": [
        "Tensors（テンソル）\n",
        "===============================\n"
      ]
    },
    {
      "cell_type": "markdown",
      "metadata": {
        "id": "jE8CcHTqk0Yo"
      },
      "source": [
        "\n",
        "ウォーミングアップ：Numpy\n",
        "-----------------\n",
        "\n",
        "PyTorchを紹介する前に、まずはNumpyを使ってネットワークを実装します。\n"
      ]
    },
    {
      "cell_type": "markdown",
      "metadata": {
        "id": "wCcEI7Ov1Pv5"
      },
      "source": [
        "Numpyはn次元の配列オブジェクトとそれらの配列を操作するための様々な関数を用意しています。\n",
        "\n",
        "Numpyは科学計算の一般的なフレームワークですが、計算グラフやディープラーニング、勾配の解析については対応していません。\n",
        "\n",
        "ですが、Numpyを使用することで簡単に、ネットワークを介する順方向と逆方向のパスを手動で実装でき、2層のネットワークにランダムなデータを学習させることができます。\n",
        "\n",
        "<br>\n",
        "（日本語訳注：計算グラフとは、ニューラルネットワークでの演算に関する、変数や計算処理を「ノード」と「エッジ」によりグラフとして定義したものです。）\n"
      ]
    },
    {
      "cell_type": "code",
      "metadata": {
        "id": "JmAoUyDFEj52",
        "colab": {
          "base_uri": "https://localhost:8080/"
        },
        "outputId": "22f20997-6a5e-407a-8605-c7ce33ad4f46"
      },
      "source": [
        "# -*- coding: utf-8 -*-\n",
        "import numpy as np\n",
        "\n",
        "# N：バッチサイズ         D_in：入力層の次元数\n",
        "# H：隠れ層の次元数       D_out： 出力層の次元数\n",
        "N, D_in, H, D_out = 64, 1000, 100, 10\n",
        "\n",
        "# 乱数により入力データと目標となる出力データを生成\n",
        "x = np.random.randn(N, D_in)\n",
        "y = np.random.randn(N, D_out)\n",
        "\n",
        "# 乱数による重みの初期化\n",
        "w1 = np.random.randn(D_in, H)\n",
        "w2 = np.random.randn(H, D_out)\n",
        "\n",
        "learning_rate = 1e-6\n",
        "for t in range(500):\n",
        "    # 順伝播： 予測値yの計算\n",
        "    h = x.dot(w1)\n",
        "    h_relu = np.maximum(h, 0)\n",
        "    y_pred = h_relu.dot(w2)\n",
        "\n",
        "    # 損失の計算と表示\n",
        "    loss = np.square(y_pred - y).sum()\n",
        "    if t % 100 == 99:\n",
        "        print(t, loss)\n",
        "\n",
        "    # 逆伝搬：損失に対するW1とw2の勾配の計算\n",
        "    grad_y_pred = 2.0 * (y_pred - y)\n",
        "    grad_w2 = h_relu.T.dot(grad_y_pred)\n",
        "    grad_h_relu = grad_y_pred.dot(w2.T)\n",
        "    grad_h = grad_h_relu.copy()\n",
        "    grad_h[h < 0] = 0\n",
        "    grad_w1 = x.T.dot(grad_h)\n",
        "\n",
        "    # 重みの更新\n",
        "    w1 -= learning_rate * grad_w1\n",
        "    w2 -= learning_rate * grad_w2"
      ],
      "execution_count": 2,
      "outputs": [
        {
          "output_type": "stream",
          "text": [
            "99 595.2286394490034\n",
            "199 2.2796256148503877\n",
            "299 0.012407668371458822\n",
            "399 7.459388200494001e-05\n",
            "499 4.804021841854132e-07\n"
          ],
          "name": "stdout"
        }
      ]
    },
    {
      "cell_type": "markdown",
      "metadata": {
        "id": "bVPdj06YGoBr"
      },
      "source": [
        "日本語訳注：はじめ大きかった損失が学習を行うことで限りなく0に近づきます。\n",
        "\n",
        "学習後のネットワークの出力を確認すると、最初にランダムに定義した正解データとほぼ一致することが分かります。"
      ]
    },
    {
      "cell_type": "code",
      "metadata": {
        "id": "CnP0MYLEGnhW",
        "colab": {
          "base_uri": "https://localhost:8080/"
        },
        "outputId": "737bbfe5-e12b-452f-bc43-84ac665007af"
      },
      "source": [
        "#日本語訳追記：\n",
        "#学習前の重みを定義（前の学習で使用された重みの初期値とは異なります）\n",
        "w1_unlearned = np.random.randn(D_in, H)\n",
        "w2_unlearned = np.random.randn(H, D_out)\n",
        "\n",
        "#学習前の出力を算出\n",
        "h = x.dot(w1_unlearned)\n",
        "h_relu = np.maximum(h, 0)\n",
        "y_pred = h_relu.dot(w2_unlearned)\n",
        "print(f\"学習前出力：{np.round(y_pred[0], decimals=2)}\")\n",
        "\n",
        "#学習によって得られた重みで出力を算出\n",
        "h = x.dot(w1)\n",
        "h_relu = np.maximum(h, 0)\n",
        "y_pred = h_relu.dot(w2)\n",
        "print(f\"学習後出力：{np.round(y_pred[0], decimals=2)}\")\n",
        "\n",
        "#目的の出力yとの比較\n",
        "print(f\"目的の出力：{np.round(y[0], decimals=2)}\")\n"
      ],
      "execution_count": 3,
      "outputs": [
        {
          "output_type": "stream",
          "text": [
            "学習前出力：[  98.13  356.58   24.84  -88.57  361.59  -55.75 -129.95  -61.94   24.65\n",
            "  206.73]\n",
            "学習後出力：[ 0.51 -0.75  0.59  1.51 -0.76 -0.67 -0.42 -0.14  0.31 -2.07]\n",
            "目的の出力：[ 0.51 -0.75  0.59  1.51 -0.76 -0.67 -0.42 -0.14  0.31 -2.07]\n"
          ],
          "name": "stdout"
        }
      ]
    },
    {
      "cell_type": "markdown",
      "metadata": {
        "id": "23IA9ve4OivB"
      },
      "source": [
        "PyTorch: Tensors\n",
        "--------------------------------------\n",
        "Numpyは素晴らしいフレームワークですが、GPUを利用した数値計算の高速化をすることができません。\n",
        "\n",
        "近年のディープニューラルネットワークの場合、GPUの利用することで50倍以上の高速化が実現できます。\n",
        "\n",
        "残念ながら現代のディープラーニングを扱うには、Numpyでは十分と言えません。"
      ]
    },
    {
      "cell_type": "markdown",
      "metadata": {
        "id": "_ewGPmQu4Yel"
      },
      "source": [
        "ここで、PyTorch の最も基本的な概念である**Tensor**を紹介します。\n",
        "\n",
        "PyTorch のTensorは、概念的には Numpy 配列に対応するものです。\n",
        "\n",
        "Tensorはn次元の配列であり、PyTorchではこれらのTensorを操作するための様々な関数を用意しています。\n",
        "\n",
        "裏側では、PyTorchのTensorは計算グラフの構築、勾配の追跡を行っています。\n",
        "\n",
        "また科学計算の汎用的なツールとしても、Tensorは役立ちます。\n"
      ]
    },
    {
      "cell_type": "markdown",
      "metadata": {
        "id": "-EXtqjCWDwt2"
      },
      "source": [
        "Numpy とは異なり、PyTorch tenosrはGPUを利用して数値計算を高速化することができます。\n",
        "\n",
        "簡単に専用のデータ型に変換するだけで、PyTorch TensorをGPU上で操作することができます。"
      ]
    },
    {
      "cell_type": "markdown",
      "metadata": {
        "id": "6ha6YvlJDy3J"
      },
      "source": [
        "ここではPyTorch Tensorsを使って、2層のネットワークにランダムデータを学習させています。\n",
        "\n",
        "先ほどのNumpyの例のように、ネットワークを通して学習させるために、手動でネットワークを介する順伝播と逆伝播の経路を実装する必要があります："
      ]
    },
    {
      "cell_type": "code",
      "metadata": {
        "id": "J4VRTqW0bYyx",
        "colab": {
          "base_uri": "https://localhost:8080/"
        },
        "outputId": "33070962-67d6-418c-fd5f-19ca25366d14"
      },
      "source": [
        "# -*- coding: utf-8 -*-\n",
        "import torch\n",
        "\n",
        "\n",
        "dtype = torch.float\n",
        "device = torch.device(\"cpu\")\n",
        "# device = torch.device(\"cuda:0\") # GPUで実行する場合はコメントアウトを解除してください。\n",
        "\n",
        "# N：バッチサイズ         D_in：入力層の次元数\n",
        "# H：隠れ層の次元数       D_out： 出力層の次元数\n",
        "N, D_in, H, D_out = 64, 1000, 100, 10\n",
        "\n",
        "# 乱数により入力データと目標となる出力データを生成\n",
        "x = torch.randn(N, D_in, device=device, dtype=dtype)\n",
        "y = torch.randn(N, D_out, device=device, dtype=dtype)\n",
        "\n",
        "# 乱数による重みの初期化\n",
        "w1 = torch.randn(D_in, H, device=device, dtype=dtype)\n",
        "w2 = torch.randn(H, D_out, device=device, dtype=dtype)\n",
        "\n",
        "learning_rate = 1e-6\n",
        "for t in range(500):\n",
        "    # 順伝播： 予測値yの計算\n",
        "    h = x.mm(w1)\n",
        "    h_relu = h.clamp(min=0)\n",
        "    y_pred = h_relu.mm(w2)\n",
        "\n",
        "    # 損失の計算と表示\n",
        "    loss = (y_pred - y).pow(2).sum().item()\n",
        "    if t % 100 == 99:\n",
        "        print(t, loss)\n",
        "\n",
        "   # 逆伝搬：損失に対するW1とw2の勾配の計算\n",
        "    grad_y_pred = 2.0 * (y_pred - y)\n",
        "    grad_w2 = h_relu.t().mm(grad_y_pred)\n",
        "    grad_h_relu = grad_y_pred.mm(w2.t())\n",
        "    grad_h = grad_h_relu.clone()\n",
        "    grad_h[h < 0] = 0\n",
        "    grad_w1 = x.t().mm(grad_h)\n",
        "\n",
        "    # 確率的勾配降下法による重みの更新\n",
        "    w1 -= learning_rate * grad_w1\n",
        "    w2 -= learning_rate * grad_w2"
      ],
      "execution_count": 4,
      "outputs": [
        {
          "output_type": "stream",
          "text": [
            "99 729.8086547851562\n",
            "199 3.817234992980957\n",
            "299 0.03243345022201538\n",
            "399 0.0005787887494079769\n",
            "499 7.290346547961235e-05\n"
          ],
          "name": "stdout"
        }
      ]
    },
    {
      "cell_type": "markdown",
      "metadata": {
        "id": "uFETa5Nsxx34"
      },
      "source": [
        "Autograd（自動微分）\n",
        "==========="
      ]
    },
    {
      "cell_type": "markdown",
      "metadata": {
        "id": "Wn5WlsivcMWu"
      },
      "source": [
        "PyTorch: Tensorとautograd\n",
        "----------------\n",
        "さきほどの実装例では、ニューラルネットワークの順伝播の経路（関数）と逆伝播の経路（関数）の両方を、手で実装しなければなりませんでした。\n",
        "\n",
        "逆伝播を手動で実装する作業は、小さな2層ネットワークでは大した問題ではありませんが、大規模で複雑なネットワークではたちまち困難となります。\n",
        "\n"
      ]
    },
    {
      "cell_type": "markdown",
      "metadata": {
        "id": "8OPyKUVSTO9K"
      },
      "source": [
        "ありがたいことに、[自動微分の機能](https://en.wikipedia.org/wiki/Automatic_differentiation)を使用すれば、ニューラルネットワークの逆伝播の経路における計算を自動化することが可能です。\n",
        "\n",
        "PyTorch の autograd パッケージはまさにこの機能を提供しています。\n",
        "\n"
      ]
    },
    {
      "cell_type": "markdown",
      "metadata": {
        "id": "JDrp688aSLbZ"
      },
      "source": [
        "autogradを使用する場合、まず計算グラフでネットワークの順伝搬の経路を定義します。\n",
        "\n",
        "計算グラフのノードにはTensorが対応し、エッジは入力Tensorから出力Tensorを算出する関数になります。\n",
        "\n",
        "このグラフを逆伝播することで、勾配を簡単に計算することができます。\n"
      ]
    },
    {
      "cell_type": "markdown",
      "metadata": {
        "id": "-q-4ak2c9XXX"
      },
      "source": [
        "この説明は複雑に聞こえますが、実際にはとても簡単に使用することができます。\n",
        "\n",
        "各Tensorは計算グラフのノードを表します。\n",
        "\n",
        "xが属性パラメータに``x.requires_grad=True``を持つTensorの場合、x.gradはとあるスカラー値に対するxの勾配を（また異なる）Tensorで保持しています。\n",
        "\n"
      ]
    },
    {
      "cell_type": "markdown",
      "metadata": {
        "id": "J8VWCfV998Dn"
      },
      "source": [
        "PyTorch Tensorsとautogradを使い2層のネットワークを実装ししましょう。\n",
        "\n",
        "PyTorch Tensorsとautogradを使用すれば、逆伝播の経路を手動で定義する必要がなくなります。"
      ]
    },
    {
      "cell_type": "code",
      "metadata": {
        "id": "RCnPi_79d-o8",
        "colab": {
          "base_uri": "https://localhost:8080/"
        },
        "outputId": "3801fbc7-671d-4b7f-8ee3-af8b490ea1d4"
      },
      "source": [
        "# -*- coding: utf-8 -*-\n",
        "import torch\n",
        "\n",
        "dtype = torch.float\n",
        "device = torch.device(\"cpu\")\n",
        "# device = torch.device(\"cuda:0\")  \n",
        "# GPUで実行する場合はコメントアウトを解除してください。\n",
        "# torch.backends.cuda.matmul.allow_tf32 = False  \n",
        "# GPUで実行する場合はコメントアウトを解除してください。\n",
        "\n",
        "# 上の行でTensorFloat32を無効にしています。\n",
        "# TensorFloat32を用いると精度を犠牲にして、ネットワークの高速化を図ることができます。\n",
        "# TensorFloat32は多くのモデルにおいて有効ですが、このチュートリアルで取り扱う簡易的な\n",
        "# モデルでは、精度が下がることが原因で損失が収束しないという問題が発生します。\n",
        "# 詳細については、以下を参照してください：\n",
        "# https://pytorch.org/docs/stable/notes/cuda.html#tensorfloat-32-tf32-on-ampere-devices\n",
        "\n",
        "# N：バッチサイズ         D_in：入力層の次元数\n",
        "# H：隠れ層の次元数       D_out： 出力層の次元数\n",
        "N, D_in, H, D_out = 64, 1000, 100, 10\n",
        "\n",
        "# 乱数により入力データと目標となる出力データを保持するTensorを生成\n",
        "# 逆伝播の際にこのTensorに対する勾配を計算する必要がない場合は、\n",
        "# requires_grad=Falseを指定します。\n",
        "# 日本語訳注：デフォルトではrequires_gradはFalseが設定されています。\n",
        "x = torch.randn(N, D_in, device=device, dtype=dtype)\n",
        "y = torch.randn(N, D_out, device=device, dtype=dtype)\n",
        "\n",
        "# 乱数による重みを表すTensorの定義\n",
        "# 逆伝播の際、このTensorに対する勾配を計算する場合は、requires_grad=Trueを指定します\n",
        "w1 = torch.randn(D_in, H, device=device, dtype=dtype, requires_grad=True)\n",
        "w2 = torch.randn(H, D_out, device=device, dtype=dtype, requires_grad=True)\n",
        "\n",
        "learning_rate = 1e-6\n",
        "for t in range(500):\n",
        "    # 順伝播： Tensorの演算を利用して予測結果yの算出\n",
        "    # ここはTensorsを使用した順伝播の計算と全く同じ操作ですが、逆伝播の経路を手動で\n",
        "    # 定義していないので、順伝播の途中の値を保持しておく必要はありません。\n",
        "    y_pred = x.mm(w1).clamp(min=0).mm(w2)\n",
        "\n",
        "    # Tensorを用いた損失の計算と表示\n",
        "    # 損失は形状[1,]のTensorになります。\n",
        "    # loss.item() は損失を表すTensorの持つ値をスカラー値で返します\n",
        "    loss = (y_pred - y).pow(2).sum()\n",
        "    if t % 100 == 99:\n",
        "        print(t, loss.item())\n",
        "\n",
        "    # autograd を使用して逆伝播の計算をします。\n",
        "    # backward()によりrequires_gradにTrueが設定されているすべてのTensorに対して、\n",
        "    # 損失の勾配を計算を行います。これにより、w1.gradとw2.gradはそれぞれw1とw2に\n",
        "    # 対する損失の勾配を保持するTensorになります。\n",
        "    loss.backward()\n",
        "\n",
        "    # 確率的勾配降下法を使って手動で重みを更新します。\n",
        "    # 重みには requires_gradにTrue が設定されていますが、ここではautogradによる\n",
        "    # 追跡を避ける必要があるので、torch.no_grad()のブロック内で実行します。\n",
        "    # 別の方法としては、weight.dataとweight.grad.dataを利用する方法があります。\n",
        "    # tensor.dataはtensorと保存領域を共有するTensorを返しますが、履歴は追跡されません。\n",
        "    # torch.optim.SGDを利用して追跡を回避することも可能です。\n",
        "    with torch.no_grad():\n",
        "        w1 -= learning_rate * w1.grad\n",
        "        w2 -= learning_rate * w2.grad\n",
        "\n",
        "        # 重みの更新後、手動で勾配を0に初期化\n",
        "        w1.grad.zero_()\n",
        "        w2.grad.zero_()"
      ],
      "execution_count": 5,
      "outputs": [
        {
          "output_type": "stream",
          "text": [
            "99 574.0633544921875\n",
            "199 5.216662406921387\n",
            "299 0.08640798926353455\n",
            "399 0.002048665890470147\n",
            "499 0.0001755372795742005\n"
          ],
          "name": "stdout"
        }
      ]
    },
    {
      "cell_type": "markdown",
      "metadata": {
        "id": "7YBvN_AM_cv8"
      },
      "source": [
        "PyTorch: 新しいautograd関数の定義\n",
        "------------\n",
        "\n",
        "実際のところautograde演算子は、Tensor上で動作する2つの関数を備えています。\n",
        "\n",
        "**forward（順伝播）関数**は、入力のTensorから出力のTensorを計算します。\n",
        "\n",
        "**backward（逆伝播）関数**は、とあるスカラー値の出力Tensorの勾配を受け取り、同じスカラー値に対応する入力Tensorの勾配を計算します。\n",
        "\n",
        "\n",
        "\n",
        "\n",
        "\n"
      ]
    },
    {
      "cell_type": "markdown",
      "metadata": {
        "id": "47kSwY7yESY0"
      },
      "source": [
        "PyTorchでは、``torch.autograd.Function``を継承したサブクラスを定義し``forward``、``backward``を実装することで、簡単に独自のautograd演算子を定義することができます。\n",
        "\n",
        "インスタンスを構築して関数のように呼び出し、入力データを含むTensorを渡すことで、新しく独自に定義したautograd 演算子を使用することができます。\n",
        "\n",
        "以下の例では、ReLUの非線形性を利用するために独自にautograd関数を定義し、使用することで2層ネットワークを実装します："
      ]
    },
    {
      "cell_type": "code",
      "metadata": {
        "id": "mZEtA2kQI_Ia",
        "colab": {
          "base_uri": "https://localhost:8080/"
        },
        "outputId": "2ee9cf54-d940-4696-ba0f-71d1ef582919"
      },
      "source": [
        "# -*- coding: utf-8 -*-\n",
        "import torch\n",
        "\n",
        "\n",
        "class MyReLU(torch.autograd.Function):\n",
        "    \"\"\"\n",
        "    torch.autograd.Functionをサブクラス化し、Tensors上で動作する順伝播経路と\n",
        "    逆伝播経路を定義することで、独自のautograd Functionsを実装することができます。\n",
        "    \"\"\"\n",
        "\n",
        "    @staticmethod\n",
        "    def forward(ctx, input):\n",
        "        \"\"\"\n",
        "        順伝播の経路では入力を含むTensorを受け取り、出力を含むTensorを返します。 \n",
        "        ctxは逆伝播の際に必要な情報を格納するコンテキストオブジェクトです。\n",
        "        ctx.save_for_backwardメソッドを使用して、任意のオブジェクトを一時的に保持し、\n",
        "        逆伝播時に使用することができます。\n",
        "        \"\"\"\n",
        "        ctx.save_for_backward(input)\n",
        "        return input.clamp(min=0)\n",
        "\n",
        "    @staticmethod\n",
        "    def backward(ctx, grad_output):\n",
        "        \"\"\"\n",
        "        逆伝播の経路では、出力に対する損失の勾配を含むTensorを受け取り、\n",
        "        入力に対する損失の勾配を計算する必要があります。\n",
        "        \"\"\"\n",
        "        input, = ctx.saved_tensors\n",
        "        grad_input = grad_output.clone()\n",
        "        grad_input[input < 0] = 0\n",
        "        return grad_input\n",
        "\n",
        "\n",
        "dtype = torch.float\n",
        "device = torch.device(\"cpu\")\n",
        "# device = torch.device(\"cuda:0\")  \n",
        "# GPUで実行する場合はコメントアウトを解除してください。\n",
        "# torch.backends.cuda.matmul.allow_tf32 = False  \n",
        "# GPUで実行する場合はコメントアウトを解除してください。\n",
        "\n",
        "# 上の行でTensorFloat32を無効にします。\n",
        "# TensorFloat32を用いると精度を犠牲にして、ネットワークの高速化を図ることができます。\n",
        "# TensorFloat32は多くのモデルにおいて有効ですが、このチュートリアルで取り扱う簡易的な\n",
        "# モデルでは、精度が下がることが原因で損失が収束しないという問題が発生します。\n",
        "# 詳細については、以下を参照してください：\n",
        "# https://pytorch.org/docs/stable/notes/cuda.html#tensorfloat-32-tf32-on-ampere-devices\n",
        "\n",
        "# N：バッチサイズ         D_in：入力層の次元数\n",
        "# H：隠れ層の次元数       D_out： 出力層の次元数\n",
        "N, D_in, H, D_out = 64, 1000, 100, 10\n",
        "\n",
        "# 乱数により入力データと目標となる出力データを表すTensorを生成\n",
        "x = torch.randn(N, D_in, device=device, dtype=dtype)\n",
        "y = torch.randn(N, D_out, device=device, dtype=dtype)\n",
        "\n",
        "# 乱数による重みを表すTensorの定義\n",
        "w1 = torch.randn(D_in, H, device=device, dtype=dtype, requires_grad=True)\n",
        "w2 = torch.randn(H, D_out, device=device, dtype=dtype, requires_grad=True)\n",
        "\n",
        "learning_rate = 1e-6\n",
        "for t in range(500):\n",
        "    # 関数を適用するには、Function.applyメソッドを用います。\n",
        "    # reluと命名しておきます。\n",
        "    relu = MyReLU.apply\n",
        "\n",
        "    # 順伝播：独自のautograd操作を用いてReLUの出力を算出することで予想結果yを計算します。\n",
        "    y_pred = relu(x.mm(w1)).mm(w2)\n",
        "\n",
        "    # 損失の計算と表示\n",
        "    loss = (y_pred - y).pow(2).sum()\n",
        "    if t % 100 == 99:\n",
        "        print(t, loss.item())\n",
        "\n",
        "    # autogradを利用して逆伝播を実施\n",
        "    loss.backward()\n",
        "\n",
        "    # 確率的勾配降下法を用いた重みの更新\n",
        "    with torch.no_grad():\n",
        "        w1 -= learning_rate * w1.grad\n",
        "        w2 -= learning_rate * w2.grad\n",
        "\n",
        "        # 重みの更新後、手動で勾配を0に初期化\n",
        "        w1.grad.zero_()\n",
        "        w2.grad.zero_()"
      ],
      "execution_count": 6,
      "outputs": [
        {
          "output_type": "stream",
          "text": [
            "99 573.1611328125\n",
            "199 3.8259620666503906\n",
            "299 0.04694724082946777\n",
            "399 0.0009570475667715073\n",
            "499 9.914684778777882e-05\n"
          ],
          "name": "stdout"
        }
      ]
    },
    {
      "cell_type": "markdown",
      "metadata": {
        "id": "UHEbta9bawO1"
      },
      "source": [
        "nnモジュール\n",
        "===========================\n",
        "\n",
        "\n",
        "\n"
      ]
    },
    {
      "cell_type": "markdown",
      "metadata": {
        "id": "nJxhPq_WyNJA"
      },
      "source": [
        "PyTorch：nn\n",
        "-------------\n",
        "\n",
        "複雑な演算子を定義し自動的に導関数を得るには、計算グラフとautogradは非常に強力な手法と言えます。\n",
        "\n",
        "しかしながら、大規模なニューラルネットワークを実装する場合は、autogradをそのまま利用するのは少し細かすぎて、面倒かもしれません。\n"
      ]
    },
    {
      "cell_type": "markdown",
      "metadata": {
        "id": "4BWmIfD-d6ih"
      },
      "source": [
        "ニューラルネットワークを構築する際、**レイヤー**に演算処理を組み込むことがよくあります。\n",
        "\n",
        "このレイヤー内には**学習可能なパラメータ**を持ち、訓練中に最適化されるものもあります。"
      ]
    },
    {
      "cell_type": "markdown",
      "metadata": {
        "id": "HxC21Mp5h90l"
      },
      "source": [
        "TensorFlowでは、[Keras](https://github.com/keras-team/keras)や[TensorFlow-Slim](https://github.com/tensorflow/models/tree/master/research/slim)、[TFLearn](http://tflearn.org/)のようなパッケージが、ニューラルネットワークの構築に有用な計算グラフそのものを高レベルに抽象化しています。"
      ]
    },
    {
      "cell_type": "markdown",
      "metadata": {
        "id": "8Qu5TiGVlE-M"
      },
      "source": [
        "PyTorchでは、`nn`パッケージが同じ機能を提供しています。\n",
        "\n",
        "`nn`パッケージは、ニューラルネットワークのレイヤーとほぼ同等な、**モジュールのセット**を定義しています。\n",
        "\n",
        "モジュールは入力Tensorを受け取り、出力Tensorを計算しますが、学習可能なパラメータを含むTensorなどの内部状態を保持していることもあります。\n",
        "\n",
        "また`nn`パッケージは、通常ニューラルネットワークを訓練する際に使われる便利な損失関数のセットを定義しています。\n",
        "\n",
        "\n"
      ]
    },
    {
      "cell_type": "markdown",
      "metadata": {
        "id": "hG3h6nUOoWcZ"
      },
      "source": [
        "\n",
        "\n",
        "以下の例では、nnパッケージを使用して 2 層ネットワークを実装しています：\n",
        "\n"
      ]
    },
    {
      "cell_type": "code",
      "metadata": {
        "id": "D5LfcvSvpKBK",
        "colab": {
          "base_uri": "https://localhost:8080/"
        },
        "outputId": "da430cca-dabe-43b4-b3fa-c9d1de4ce8fc"
      },
      "source": [
        "# -*- coding: utf-8 -*-\n",
        "import torch\n",
        "\n",
        "# N：バッチサイズ         D_in：入力層の次元数\n",
        "# H：隠れ層の次元数       D_out： 出力層の次元数\n",
        "N, D_in, H, D_out = 64, 1000, 100, 10\n",
        "\n",
        "# 乱数により入力データと目標となる出力データを表すTensorを生成\n",
        "x = torch.randn(N, D_in)\n",
        "y = torch.randn(N, D_out)\n",
        "\n",
        "# nnパッケージを利用し、レイヤーの連なりとしてモデルを定義します。\n",
        "# nn.Sequentialは他のモジュールを並べて保持することで、それぞれのモジュールを順番に\n",
        "# 実行し、出力を得ます。各Linearモジュールは線形関数を使用して入力から出力を計算し、\n",
        "# 重みとバイアスを内部のTensorで保持します。\n",
        "model = torch.nn.Sequential(\n",
        "    torch.nn.Linear(D_in, H),\n",
        "    torch.nn.ReLU(),\n",
        "    torch.nn.Linear(H, D_out),\n",
        ")\n",
        "\n",
        "# nnパッケージには、一般的な損失関数が含まれています。\n",
        "# 今回は損失関数として平均二乗誤差（MSE）を使用します。\n",
        "loss_fn = torch.nn.MSELoss(reduction='sum')\n",
        "\n",
        "learning_rate = 1e-4\n",
        "for t in range(500):\n",
        "    # 順伝播: モデルを流れる入力xから予測値yを計算します。\n",
        "    # Pythonのモジュールオブジェクトは__call__演算子をオーバーライドするため、\n",
        "    # 関数のように呼び出すことができます。これにより、入力データのTensorを\n",
        "    # モジュールに渡すことで、出力データのTensorを得ることができます。\n",
        "    y_pred = model(x)\n",
        "\n",
        "    # 損失の計算と表示\n",
        "    # 損失関数にyの予測値と正解の値を持つTensorを渡すことで損失を持つTenosrを\n",
        "    # 得ることができます。\n",
        "    loss = loss_fn(y_pred, y)\n",
        "    if t % 100 == 99:\n",
        "        print(t, loss.item())\n",
        "\n",
        "    # 逆伝播の前に勾配を0に初期化\n",
        "    model.zero_grad()\n",
        "\n",
        "    # 逆伝播: モデルの学習可能なすべてのパラメータに対して損失の勾配を計算\n",
        "    # 内部では、requires_grad=TrueとなっているすべてのTensorにそれぞれのモデルのパラメータが\n",
        "    # 保持されているので、モデルが持つ学習可能なパラメータの勾配をすべて計算することできます。\n",
        "    loss.backward()\n",
        "\n",
        "    # 確率的勾配降下法を用いた重みの更新\n",
        "    # 各々のパラメータはTensorなので、これまでと同じ方法で勾配を参照することができます。\n",
        "    with torch.no_grad():\n",
        "        for param in model.parameters():\n",
        "            param -= learning_rate * param.grad"
      ],
      "execution_count": 7,
      "outputs": [
        {
          "output_type": "stream",
          "text": [
            "99 2.750652313232422\n",
            "199 0.03932018205523491\n",
            "299 0.0010913192527368665\n",
            "399 4.720408105640672e-05\n",
            "499 2.65761468654091e-06\n"
          ],
          "name": "stdout"
        }
      ]
    },
    {
      "cell_type": "markdown",
      "metadata": {
        "id": "ZhXar3c3p3S3"
      },
      "source": [
        "PyTorch: optim\n",
        "---------------------------\n",
        "\n",
        "ここまで、学習可能なパラメータを保持しているTensorを手動で演算することでモデルの重みを更新してきました\n",
        "\n",
        "（autogradによる計算履歴の追加を避けるために、``torch.no_grad()``や``.data``を使用しました）。\n",
        "\n",
        "<br>\n",
        "\n",
        "このような手法は確率的勾配降下法のようなシンプルな最適化アルゴリズムではそれほど負担になりませんが、実際にはAdaGrad、RMSProp、Adamなどのより高度なオプティマイザーを使ってニューラルネットワークを訓練することがよくあります。"
      ]
    },
    {
      "cell_type": "markdown",
      "metadata": {
        "id": "XB3SysFIsRax"
      },
      "source": [
        "PyTorchの``optim``パッケージは最適化アルゴリズムの手続きを抽象化し、一般的に使用されている、各種最適化アルゴリズムを用意しています。"
      ]
    },
    {
      "cell_type": "markdown",
      "metadata": {
        "id": "5mkJ-xTBtGWE"
      },
      "source": [
        "以下の例では、`nn`パッケージを使用して以前と同様にモデルを定義しますが、`optim`パッケージが提供するAdamアルゴリズムを使用してモデルを最適化します："
      ]
    },
    {
      "cell_type": "code",
      "metadata": {
        "id": "TEKxgAnat1Cg",
        "colab": {
          "base_uri": "https://localhost:8080/"
        },
        "outputId": "8a1414fb-3519-419d-d882-da2678797905"
      },
      "source": [
        "import torch\n",
        "\n",
        "# N：バッチサイズ         D_in：入力層の次元数\n",
        "# H：隠れ層の次元数       D_out： 出力層の次元数\n",
        "N, D_in, H, D_out = 64, 1000, 100, 10\n",
        "\n",
        "# 乱数により入力データと目標となる出力データを表すTensorを生成\n",
        "x = torch.randn(N, D_in)\n",
        "y = torch.randn(N, D_out)\n",
        "\n",
        "# nnパッケージを用いてモデルと損失関数を定義\n",
        "model = torch.nn.Sequential(\n",
        "    torch.nn.Linear(D_in, H),\n",
        "    torch.nn.ReLU(),\n",
        "    torch.nn.Linear(H, D_out),\n",
        ")\n",
        "loss_fn = torch.nn.MSELoss(reduction='sum')\n",
        "\n",
        "# optimパッケージを使用して、モデルの重みを更新するオプティマイザを定義します。\n",
        "# ここではAdamを使用します。optimパッケージには他にも多くの最適化アルゴリズムが存在ます。\n",
        "# Adamのコンストラクタの最初の引数により、オプティマイザがどのTensorを更新するか指定できます。\n",
        "learning_rate = 1e-4\n",
        "optimizer = torch.optim.Adam(model.parameters(), lr=learning_rate)\n",
        "for t in range(500):\n",
        "    # 順伝播:入力xから予測値yをモデルで算出します。。\n",
        "    y_pred = model(x)\n",
        "\n",
        "    # 損失の計算と表示\n",
        "    loss = loss_fn(y_pred, y)\n",
        "    if t % 100 == 99:\n",
        "        print(t, loss.item())\n",
        "\n",
        "    # 逆伝播に入る前に、更新されることになる変数（モデルの学習可能な重み）の勾配を\n",
        "    # optimaizerを使用して0に初期化します。\n",
        "    # これは、デフォルトで.backward()が呼び出される度に勾配がバッファに蓄積されるため\n",
        "    # 必要になる操作です（上書きされるわけではない）。\n",
        "    # 詳しくはtorch.autograd.backwardのドキュメントを参照してください。\n",
        "    optimizer.zero_grad()\n",
        "\n",
        "    # 逆伝播：モデルのパラメータに対応する損失の勾配を計算\n",
        "    loss.backward()\n",
        "\n",
        "    # オプティマイザのstep関数を呼び出すことでパラメータを更新\n",
        "    optimizer.step()\n"
      ],
      "execution_count": 8,
      "outputs": [
        {
          "output_type": "stream",
          "text": [
            "99 76.77259826660156\n",
            "199 1.5349969863891602\n",
            "299 0.022764280438423157\n",
            "399 0.0002311780262971297\n",
            "499 1.3200049124861835e-06\n"
          ],
          "name": "stdout"
        }
      ]
    },
    {
      "cell_type": "markdown",
      "metadata": {
        "id": "TnWSPGssuRRI"
      },
      "source": [
        "PyTorch: nn Modulesの改変\n",
        "---------------------------------------\n",
        "\n",
        "場合によっては、既存のモジュールにある一連の演算処理よりも、複雑なモデルを使用したいケースがあるかもしれません。\n",
        "\n",
        "そのような場合には、`nn.Module`をサブクラス化し、他のモジュールやTensor上の他のautograd操作を利用して入力Tensorから出力Tensorを生成する`forward`メソッドを定義することで、ユーザー独自のモジュールを改変、構築することができます。"
      ]
    },
    {
      "cell_type": "markdown",
      "metadata": {
        "id": "Bd80bFu-wP0a"
      },
      "source": [
        "以下の例では、2 層ネットワークをカスタムモジュールのサブクラスとして実装しています："
      ]
    },
    {
      "cell_type": "code",
      "metadata": {
        "id": "IT5Tx9sfwS-B",
        "colab": {
          "base_uri": "https://localhost:8080/"
        },
        "outputId": "b4537411-48d9-4df0-c6a1-c60a08fcae8e"
      },
      "source": [
        "# -*- coding: utf-8 -*-\n",
        "import torch\n",
        "\n",
        "\n",
        "class TwoLayerNet(torch.nn.Module):\n",
        "    def __init__(self, D_in, H, D_out):\n",
        "        \"\"\"\n",
        "        コンストラクタにより2つのnn.Linearモジュールをインスタンスとし定義し\n",
        "        それらをメンバ変数に割り当てます。\n",
        "        \"\"\"\n",
        "        super(TwoLayerNet, self).__init__()\n",
        "        self.linear1 = torch.nn.Linear(D_in, H)\n",
        "        self.linear2 = torch.nn.Linear(H, D_out)\n",
        "\n",
        "    def forward(self, x):\n",
        "        \"\"\"\n",
        "        forward関数は入力データのTensorを受け入れ、出力データのTensorを返します。\n",
        "        Tensorの任意の演算子と同様に、コンストラクタで定義されたモジュールを使用できます。\n",
        "        \"\"\"\n",
        "        h_relu = self.linear1(x).clamp(min=0)\n",
        "        y_pred = self.linear2(h_relu)\n",
        "        return y_pred\n",
        "\n",
        "\n",
        "# N：バッチサイズ         D_in：入力層の次元数\n",
        "# H：隠れ層の次元数       D_out： 出力層の次元数\n",
        "N, D_in, H, D_out = 64, 1000, 100, 10\n",
        "\n",
        "# 乱数により入力データと目標となる出力データを表すTensorを生成\n",
        "x = torch.randn(N, D_in)\n",
        "y = torch.randn(N, D_out)\n",
        "\n",
        "# 上で定義したクラスをインスタンス化してモデルを構築\n",
        "model = TwoLayerNet(D_in, H, D_out)\n",
        "\n",
        "# 損失関数とオプティマイザを定義します。\n",
        "# model.parameters()を呼び出すことで、モデルのメンバ変数である2つのnnn.Linearモジュールの\n",
        "# 学習可能なパラメータをSGDのコンストラクタの引数として渡すことができます。\n",
        "criterion = torch.nn.MSELoss(reduction='sum')\n",
        "optimizer = torch.optim.SGD(model.parameters(), lr=1e-4)\n",
        "for t in range(500):\n",
        "    # 順伝播:入力xから予測値yをモデルで算出します。\n",
        "    y_pred = model(x)\n",
        "\n",
        "    # 損失の計算と表示\n",
        "    loss = criterion(y_pred, y)\n",
        "    if t % 100 == 99:\n",
        "        print(t, loss.item())\n",
        "\n",
        "    # 勾配を0に初期化し、逆伝播を実行することで重みを更新\n",
        "    optimizer.zero_grad()\n",
        "    loss.backward()\n",
        "    optimizer.step()"
      ],
      "execution_count": 9,
      "outputs": [
        {
          "output_type": "stream",
          "text": [
            "99 2.5520431995391846\n",
            "199 0.045577406883239746\n",
            "299 0.0014395791804417968\n",
            "399 5.797167614218779e-05\n",
            "499 2.7120522645418532e-06\n"
          ],
          "name": "stdout"
        }
      ]
    },
    {
      "cell_type": "markdown",
      "metadata": {
        "id": "s2aXf05gw3Dk"
      },
      "source": [
        "PyTorch: Control Flow + Weight Sharing\n",
        "-----------------------------------------------\n",
        "\n",
        "動的グラフと重みの共有の実例として、非常に奇妙なモデルを実装してみます。\n",
        "\n",
        "以下のネットワークは全結合型のReLUネットワークであり、順伝播の実装において1から4の乱数を生成し、その乱数の数だけ隠れ層を並べます。\n",
        "\n",
        "そして、すべての隠れ層で同じ重みを使用して計算し、一番最後に配置された隠れ層への入力が算出されます。\n",
        "\n"
      ]
    },
    {
      "cell_type": "markdown",
      "metadata": {
        "id": "JGxfIcOX3oum"
      },
      "source": [
        "繰り返し処理を実装するために通常のPythonの制御フローを使用することが可能です。\n",
        "\n",
        "さらに、順伝播の経路を定義する際に同じモジュールを複数回再利用するので、中間の隠れ層の間で重みが共有されます。"
      ]
    },
    {
      "cell_type": "markdown",
      "metadata": {
        "id": "u3qXgxk14fxj"
      },
      "source": [
        "このようなモデルは、nnジュールのサブクラスとして簡単に実装することができます:\n"
      ]
    },
    {
      "cell_type": "code",
      "metadata": {
        "id": "0VOpXQBm4kp2",
        "colab": {
          "base_uri": "https://localhost:8080/"
        },
        "outputId": "cd1dacf4-bb64-43f5-d32b-2d3332365153"
      },
      "source": [
        "# -*- coding: utf-8 -*-\n",
        "import random\n",
        "import torch\n",
        "\n",
        "\n",
        "class DynamicNet(torch.nn.Module):\n",
        "    def __init__(self, D_in, H, D_out):\n",
        "        \"\"\"\n",
        "        コンストラクタにより、順伝播で使用する3層のnn.Linearのインスタンスを定義します。\n",
        "        \"\"\"\n",
        "        super(DynamicNet, self).__init__()\n",
        "        self.input_linear = torch.nn.Linear(D_in, H)\n",
        "        self.middle_linear = torch.nn.Linear(H, H)\n",
        "        self.output_linear = torch.nn.Linear(H, D_out)\n",
        "\n",
        "    def forward(self, x):\n",
        "        \"\"\"\n",
        "        順伝播の経路の実装では、ランダムに0から3までの値を選択し、\n",
        "        その数だけ中間層のモジュールを再利用することで、隠れ層の出力を計算します。\n",
        "\n",
        "        それぞれの順伝播の経路を表す計算グラフは動的に変化するので、\n",
        "        繰り返しや、条件分岐といったPythonの標準的なフロー制御を利用して\n",
        "        順伝播の経路を定義することができます。\n",
        "\n",
        "        この結果から確認できるように、計算グラフを定義する際に、問題なく何度も同じ\n",
        "        モジュールを使いまわすことができるのは、一度しかモジュールを利用することが\n",
        "        できなったLua Torchから大きく改善したところと言えます。\n",
        "        \"\"\"\n",
        "        h_relu = self.input_linear(x).clamp(min=0)\n",
        "        for _ in range(random.randint(0, 4)):\n",
        "            h_relu = self.middle_linear(h_relu).clamp(min=0)\n",
        "        y_pred = self.output_linear(h_relu)\n",
        "        return y_pred\n",
        "\n",
        "\n",
        "# N：バッチサイズ         D_in：入力層の次元数\n",
        "# H：隠れ層の次元数       D_out： 出力層の次元数\n",
        "N, D_in, H, D_out = 64, 1000, 100, 10\n",
        "\n",
        "# 乱数により入力データと目標となる出力データを表すTensorを生成\n",
        "x = torch.randn(N, D_in)\n",
        "y = torch.randn(N, D_out)\n",
        "\n",
        "# 上で定義したクラスをインスタンス化してモデルを構築します。\n",
        "model = DynamicNet(D_in, H, D_out)\n",
        "\n",
        "# 損失関数とオプティマイザを定義します。\n",
        "# この奇妙なモデルを通常の確率勾配降下法で訓練するのは難しいので、モーメンタムを使用します。\n",
        "criterion = torch.nn.MSELoss(reduction='sum')\n",
        "optimizer = torch.optim.SGD(model.parameters(), lr=1e-4, momentum=0.9)\n",
        "for t in range(500):\n",
        "    # 順伝播:入力xから予測値yをモデルで算出します。\n",
        "    y_pred = model(x)\n",
        "\n",
        "    # 損失の計算と表示\n",
        "    loss = criterion(y_pred, y)\n",
        "    if t % 100 == 99:\n",
        "        print(t, loss.item())\n",
        "\n",
        "    # 勾配を0に初期化し、逆伝播を実行することで重みを更新します\n",
        "    optimizer.zero_grad()\n",
        "    loss.backward()\n",
        "    optimizer.step()\n"
      ],
      "execution_count": 10,
      "outputs": [
        {
          "output_type": "stream",
          "text": [
            "99 23.979511260986328\n",
            "199 15.366857528686523\n",
            "299 2.112053871154785\n",
            "399 20.67656707763672\n",
            "499 0.6824043989181519\n"
          ],
          "name": "stdout"
        }
      ]
    },
    {
      "cell_type": "markdown",
      "metadata": {
        "id": "8iQZmemr-X5O"
      },
      "source": [
        "*実行例*\n",
        "=========================\n",
        "\n",
        "本チュートリアルで実施してきた、各実行例は以下からひとつずつ確認できます。"
      ]
    },
    {
      "cell_type": "markdown",
      "metadata": {
        "id": "eGX0vaX27Uft"
      },
      "source": [
        "Tensors\n",
        "\n",
        "[WARM-UP: NUMPY](https://pytorch.org/tutorials/beginner/examples_tensor/two_layer_net_numpy.html#sphx-glr-beginner-examples-tensor-two-layer-net-numpy-py)\n",
        "\n",
        "[PYTORCH: TENSORS](https://pytorch.org/tutorials/beginner/examples_tensor/two_layer_net_tensor.html)\n",
        "\n",
        "\n"
      ]
    },
    {
      "cell_type": "markdown",
      "metadata": {
        "id": "XJ2kVW0X2Dbz"
      },
      "source": [
        "Autograd\n",
        "\n",
        "[PYTORCH: TENSORS AND AUTOGRAD](https://pytorch.org/tutorials/beginner/examples_autograd/two_layer_net_autograd.html)\n",
        "\n",
        "[PYTORCH: DEFINING NEW AUTOGRAD FUNCTIONS](https://pytorch.org/tutorials/beginner/examples_autograd/two_layer_net_custom_function.html#sphx-glr-beginner-examples-autograd-two-layer-net-custom-function-py)\n",
        "\n",
        "[TENSORFLOW: STATIC GRAPHS](https://pytorch.org/tutorials/beginner/examples_autograd/tf_two_layer_net.html)\n",
        "\n"
      ]
    },
    {
      "cell_type": "markdown",
      "metadata": {
        "id": "4xyuQgct2Fo7"
      },
      "source": [
        "nn module\n",
        "\n",
        "\n",
        "[PYTORCH: NN](https://pytorch.org/tutorials/beginner/examples_nn/two_layer_net_nn.html)\n",
        "\n",
        "[PYTORCH: OPTIM](https://pytorch.org/tutorials/beginner/examples_nn/two_layer_net_optim.html)\n",
        "\n",
        "[PYTORCH: CUSTOM NN MODULES](https://pytorch.org/tutorials/beginner/examples_nn/two_layer_net_module.html)\n",
        "\n",
        "[PYTORCH: CONTROL FLOW + WEIGHT SHARING](https://pytorch.org/tutorials/beginner/examples_nn/dynamic_net.html)\n"
      ]
    }
  ]
}